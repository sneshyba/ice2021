{
 "cells": [
  {
   "cell_type": "code",
   "execution_count": 1,
   "metadata": {},
   "outputs": [],
   "source": [
    "# Generic imports\n",
    "from mpl_toolkits.mplot3d import Axes3D\n",
    "import numpy as np\n",
    "import matplotlib.pyplot as plt\n",
    "import PIL\n",
    "import f90nml\n",
    "import sys\n",
    "sys.path.append('../../../')\n",
    "\n",
    "# Local imports\n",
    "import imagestuff as ims"
   ]
  },
  {
   "cell_type": "code",
   "execution_count": 2,
   "metadata": {},
   "outputs": [],
   "source": [
    "%matplotlib inline"
   ]
  },
  {
   "cell_type": "code",
   "execution_count": 3,
   "metadata": {},
   "outputs": [],
   "source": [
    "# Parameters\n",
    "ABCDangle_deg = 15.0\n",
    "theta = ABCDangle_deg*np.pi/180"
   ]
  },
  {
   "cell_type": "code",
   "execution_count": 6,
   "metadata": {},
   "outputs": [
    {
     "name": "stdout",
     "output_type": "stream",
     "text": [
      "SEMimages/case3.0-A.bmp\n",
      "SEMimages/case3.0-B.bmp\n",
      "SEMimages/case3.0-C.bmp\n",
      "SEMimages/case3.0-D.bmp\n",
      "Filename, dx and dy SEMimages/case3.0-D.bmp 0.9921875 0.9921875\n"
     ]
    }
   ],
   "source": [
    "# Read the input dataset, including spacing in micrometers\n",
    "imageroot = 'case3.0'\n",
    "dx,dy,cA,cB,cC,cD,Filename = ims.getc2('', 'SEMimages/', imageroot,'D')\n",
    "print(\"Filename, dx and dy\", Filename, dx, dy)"
   ]
  },
  {
   "cell_type": "code",
   "execution_count": 7,
   "metadata": {},
   "outputs": [
    {
     "name": "stdout",
     "output_type": "stream",
     "text": [
      "30\n",
      "nboxes = 3\n",
      "[530 530 790]\n",
      "[530 230 480]\n"
     ]
    },
    {
     "ename": "OSError",
     "evalue": "cannot open resource",
     "output_type": "error",
     "traceback": [
      "\u001b[1;31m---------------------------------------------------------------------------\u001b[0m",
      "\u001b[1;31mOSError\u001b[0m                                   Traceback (most recent call last)",
      "\u001b[1;32m~\\AppData\\Local\\Temp/ipykernel_9720/432919180.py\u001b[0m in \u001b[0;36m<module>\u001b[1;34m\u001b[0m\n\u001b[0;32m     44\u001b[0m     \u001b[0mny1\u001b[0m \u001b[1;33m=\u001b[0m \u001b[0mny1list\u001b[0m\u001b[1;33m[\u001b[0m\u001b[0mi\u001b[0m\u001b[1;33m]\u001b[0m\u001b[1;33m\u001b[0m\u001b[1;33m\u001b[0m\u001b[0m\n\u001b[0;32m     45\u001b[0m     \u001b[0mny2\u001b[0m \u001b[1;33m=\u001b[0m \u001b[0mny2list\u001b[0m\u001b[1;33m[\u001b[0m\u001b[0mi\u001b[0m\u001b[1;33m]\u001b[0m\u001b[1;33m\u001b[0m\u001b[1;33m\u001b[0m\u001b[0m\n\u001b[1;32m---> 46\u001b[1;33m     \u001b[0mims\u001b[0m\u001b[1;33m.\u001b[0m\u001b[0mmyrectanglelabel\u001b[0m\u001b[1;33m(\u001b[0m\u001b[0mdraw\u001b[0m\u001b[1;33m,\u001b[0m\u001b[1;33m(\u001b[0m\u001b[0mnx1\u001b[0m\u001b[1;33m,\u001b[0m\u001b[0mny1\u001b[0m\u001b[1;33m)\u001b[0m\u001b[1;33m,\u001b[0m\u001b[1;33m(\u001b[0m\u001b[0mnx2\u001b[0m\u001b[1;33m,\u001b[0m\u001b[0mny2\u001b[0m\u001b[1;33m)\u001b[0m\u001b[1;33m,\u001b[0m\u001b[0mlabellist\u001b[0m\u001b[1;33m[\u001b[0m\u001b[0mi\u001b[0m\u001b[1;33m]\u001b[0m\u001b[1;33m)\u001b[0m\u001b[1;33m\u001b[0m\u001b[1;33m\u001b[0m\u001b[0m\n\u001b[0m\u001b[0;32m     47\u001b[0m \u001b[0mplt\u001b[0m\u001b[1;33m.\u001b[0m\u001b[0mfigure\u001b[0m\u001b[1;33m(\u001b[0m\u001b[1;33m)\u001b[0m\u001b[1;33m\u001b[0m\u001b[1;33m\u001b[0m\u001b[0m\n\u001b[0;32m     48\u001b[0m \u001b[0mplt\u001b[0m\u001b[1;33m.\u001b[0m\u001b[0mtitle\u001b[0m\u001b[1;33m(\u001b[0m\u001b[0mimageroot\u001b[0m\u001b[1;33m)\u001b[0m\u001b[1;33m\u001b[0m\u001b[1;33m\u001b[0m\u001b[0m\n",
      "\u001b[1;32m~\\Desktop\\GitHub\\ice2021\\crystals\\2023-07-03\\case3.0 (calibration)\\../../..\\imagestuff.py\u001b[0m in \u001b[0;36mmyrectanglelabel\u001b[1;34m(draw, a, b, label)\u001b[0m\n\u001b[0;32m    147\u001b[0m \u001b[1;31m# Graphics functions\u001b[0m\u001b[1;33m\u001b[0m\u001b[1;33m\u001b[0m\u001b[0m\n\u001b[0;32m    148\u001b[0m \u001b[1;32mdef\u001b[0m \u001b[0mmyrectanglelabel\u001b[0m\u001b[1;33m(\u001b[0m\u001b[0mdraw\u001b[0m\u001b[1;33m,\u001b[0m\u001b[0ma\u001b[0m\u001b[1;33m,\u001b[0m\u001b[0mb\u001b[0m\u001b[1;33m,\u001b[0m\u001b[0mlabel\u001b[0m\u001b[1;33m=\u001b[0m\u001b[1;34m''\u001b[0m\u001b[1;33m)\u001b[0m\u001b[1;33m:\u001b[0m\u001b[1;33m\u001b[0m\u001b[1;33m\u001b[0m\u001b[0m\n\u001b[1;32m--> 149\u001b[1;33m     \u001b[0mfnt\u001b[0m \u001b[1;33m=\u001b[0m \u001b[0mImageFont\u001b[0m\u001b[1;33m.\u001b[0m\u001b[0mtruetype\u001b[0m\u001b[1;33m(\u001b[0m\u001b[1;34m'Keyboard.ttf'\u001b[0m\u001b[1;33m,\u001b[0m \u001b[1;36m24\u001b[0m\u001b[1;33m)\u001b[0m\u001b[1;33m\u001b[0m\u001b[1;33m\u001b[0m\u001b[0m\n\u001b[0m\u001b[0;32m    150\u001b[0m     \u001b[0mwidth\u001b[0m \u001b[1;33m=\u001b[0m \u001b[1;36m4\u001b[0m\u001b[1;33m\u001b[0m\u001b[1;33m\u001b[0m\u001b[0m\n\u001b[0;32m    151\u001b[0m     \u001b[0mdraw\u001b[0m\u001b[1;33m.\u001b[0m\u001b[0mline\u001b[0m\u001b[1;33m(\u001b[0m\u001b[1;33m(\u001b[0m\u001b[1;33m(\u001b[0m\u001b[0ma\u001b[0m\u001b[1;33m[\u001b[0m\u001b[1;36m0\u001b[0m\u001b[1;33m]\u001b[0m\u001b[1;33m,\u001b[0m\u001b[0ma\u001b[0m\u001b[1;33m[\u001b[0m\u001b[1;36m1\u001b[0m\u001b[1;33m]\u001b[0m\u001b[1;33m)\u001b[0m\u001b[1;33m,\u001b[0m\u001b[1;33m(\u001b[0m\u001b[0ma\u001b[0m\u001b[1;33m[\u001b[0m\u001b[1;36m0\u001b[0m\u001b[1;33m]\u001b[0m\u001b[1;33m,\u001b[0m\u001b[0mb\u001b[0m\u001b[1;33m[\u001b[0m\u001b[1;36m1\u001b[0m\u001b[1;33m]\u001b[0m\u001b[1;33m)\u001b[0m\u001b[1;33m,\u001b[0m\u001b[1;33m(\u001b[0m\u001b[0mb\u001b[0m\u001b[1;33m[\u001b[0m\u001b[1;36m0\u001b[0m\u001b[1;33m]\u001b[0m\u001b[1;33m,\u001b[0m\u001b[0mb\u001b[0m\u001b[1;33m[\u001b[0m\u001b[1;36m1\u001b[0m\u001b[1;33m]\u001b[0m\u001b[1;33m)\u001b[0m\u001b[1;33m,\u001b[0m\u001b[1;33m(\u001b[0m\u001b[0mb\u001b[0m\u001b[1;33m[\u001b[0m\u001b[1;36m0\u001b[0m\u001b[1;33m]\u001b[0m\u001b[1;33m,\u001b[0m\u001b[0ma\u001b[0m\u001b[1;33m[\u001b[0m\u001b[1;36m1\u001b[0m\u001b[1;33m]\u001b[0m\u001b[1;33m)\u001b[0m\u001b[1;33m,\u001b[0m\u001b[1;33m(\u001b[0m\u001b[0ma\u001b[0m\u001b[1;33m[\u001b[0m\u001b[1;36m0\u001b[0m\u001b[1;33m]\u001b[0m\u001b[1;33m,\u001b[0m\u001b[0ma\u001b[0m\u001b[1;33m[\u001b[0m\u001b[1;36m1\u001b[0m\u001b[1;33m]\u001b[0m\u001b[1;33m)\u001b[0m\u001b[1;33m)\u001b[0m\u001b[1;33m,\u001b[0m\u001b[0mwidth\u001b[0m\u001b[1;33m=\u001b[0m\u001b[0mwidth\u001b[0m\u001b[1;33m)\u001b[0m\u001b[1;33m\u001b[0m\u001b[1;33m\u001b[0m\u001b[0m\n",
      "\u001b[1;32m~\\anaconda3\\lib\\site-packages\\PIL\\ImageFont.py\u001b[0m in \u001b[0;36mtruetype\u001b[1;34m(font, size, index, encoding, layout_engine)\u001b[0m\n\u001b[0;32m    853\u001b[0m \u001b[1;33m\u001b[0m\u001b[0m\n\u001b[0;32m    854\u001b[0m     \u001b[1;32mtry\u001b[0m\u001b[1;33m:\u001b[0m\u001b[1;33m\u001b[0m\u001b[1;33m\u001b[0m\u001b[0m\n\u001b[1;32m--> 855\u001b[1;33m         \u001b[1;32mreturn\u001b[0m \u001b[0mfreetype\u001b[0m\u001b[1;33m(\u001b[0m\u001b[0mfont\u001b[0m\u001b[1;33m)\u001b[0m\u001b[1;33m\u001b[0m\u001b[1;33m\u001b[0m\u001b[0m\n\u001b[0m\u001b[0;32m    856\u001b[0m     \u001b[1;32mexcept\u001b[0m \u001b[0mOSError\u001b[0m\u001b[1;33m:\u001b[0m\u001b[1;33m\u001b[0m\u001b[1;33m\u001b[0m\u001b[0m\n\u001b[0;32m    857\u001b[0m         \u001b[1;32mif\u001b[0m \u001b[1;32mnot\u001b[0m \u001b[0misPath\u001b[0m\u001b[1;33m(\u001b[0m\u001b[0mfont\u001b[0m\u001b[1;33m)\u001b[0m\u001b[1;33m:\u001b[0m\u001b[1;33m\u001b[0m\u001b[1;33m\u001b[0m\u001b[0m\n",
      "\u001b[1;32m~\\anaconda3\\lib\\site-packages\\PIL\\ImageFont.py\u001b[0m in \u001b[0;36mfreetype\u001b[1;34m(font)\u001b[0m\n\u001b[0;32m    850\u001b[0m \u001b[1;33m\u001b[0m\u001b[0m\n\u001b[0;32m    851\u001b[0m     \u001b[1;32mdef\u001b[0m \u001b[0mfreetype\u001b[0m\u001b[1;33m(\u001b[0m\u001b[0mfont\u001b[0m\u001b[1;33m)\u001b[0m\u001b[1;33m:\u001b[0m\u001b[1;33m\u001b[0m\u001b[1;33m\u001b[0m\u001b[0m\n\u001b[1;32m--> 852\u001b[1;33m         \u001b[1;32mreturn\u001b[0m \u001b[0mFreeTypeFont\u001b[0m\u001b[1;33m(\u001b[0m\u001b[0mfont\u001b[0m\u001b[1;33m,\u001b[0m \u001b[0msize\u001b[0m\u001b[1;33m,\u001b[0m \u001b[0mindex\u001b[0m\u001b[1;33m,\u001b[0m \u001b[0mencoding\u001b[0m\u001b[1;33m,\u001b[0m \u001b[0mlayout_engine\u001b[0m\u001b[1;33m)\u001b[0m\u001b[1;33m\u001b[0m\u001b[1;33m\u001b[0m\u001b[0m\n\u001b[0m\u001b[0;32m    853\u001b[0m \u001b[1;33m\u001b[0m\u001b[0m\n\u001b[0;32m    854\u001b[0m     \u001b[1;32mtry\u001b[0m\u001b[1;33m:\u001b[0m\u001b[1;33m\u001b[0m\u001b[1;33m\u001b[0m\u001b[0m\n",
      "\u001b[1;32m~\\anaconda3\\lib\\site-packages\\PIL\\ImageFont.py\u001b[0m in \u001b[0;36m__init__\u001b[1;34m(self, font, size, index, encoding, layout_engine)\u001b[0m\n\u001b[0;32m    209\u001b[0m                         \u001b[0mload_from_bytes\u001b[0m\u001b[1;33m(\u001b[0m\u001b[0mf\u001b[0m\u001b[1;33m)\u001b[0m\u001b[1;33m\u001b[0m\u001b[1;33m\u001b[0m\u001b[0m\n\u001b[0;32m    210\u001b[0m                     \u001b[1;32mreturn\u001b[0m\u001b[1;33m\u001b[0m\u001b[1;33m\u001b[0m\u001b[0m\n\u001b[1;32m--> 211\u001b[1;33m             self.font = core.getfont(\n\u001b[0m\u001b[0;32m    212\u001b[0m                 \u001b[0mfont\u001b[0m\u001b[1;33m,\u001b[0m \u001b[0msize\u001b[0m\u001b[1;33m,\u001b[0m \u001b[0mindex\u001b[0m\u001b[1;33m,\u001b[0m \u001b[0mencoding\u001b[0m\u001b[1;33m,\u001b[0m \u001b[0mlayout_engine\u001b[0m\u001b[1;33m=\u001b[0m\u001b[0mlayout_engine\u001b[0m\u001b[1;33m\u001b[0m\u001b[1;33m\u001b[0m\u001b[0m\n\u001b[0;32m    213\u001b[0m             )\n",
      "\u001b[1;31mOSError\u001b[0m: cannot open resource"
     ]
    }
   ],
   "source": [
    "# Show the image\n",
    "im = PIL.Image.open(Filename)\n",
    "draw = PIL.ImageDraw.Draw(im)\n",
    "filla = 200\n",
    "fillb = 30\n",
    "fillc = 10\n",
    "scale = 200\n",
    "linewidth = 10\n",
    "\n",
    "# Specifying the input boxes\n",
    "Boxesfile = 'Boxes.nml'\n",
    "Boxes=f90nml.read(Boxesfile) # Reads the locations of the boxes\n",
    "nx1list=Boxes['Boxes']['nx1list']\n",
    "ny1list=Boxes['Boxes']['ny1list']\n",
    "labellist=Boxes['Boxes']['labellist']\n",
    "boxsize=Boxes['Boxes']['boxsize']; print (boxsize)\n",
    "\n",
    "# Specifying the input crystal vectors\n",
    "xtlvecsfile = 'Xtlvecs.nml'\n",
    "xtlvecs=f90nml.read(xtlvecsfile) # Reads the Euler angles specifying the orientation of the crystal\n",
    "xorigin=xtlvecs['Xtlvecs']['xorigin']\n",
    "yorigin=xtlvecs['Xtlvecs']['yorigin']\n",
    "avec=xtlvecs['Xtlvecs']['avec']; avec = np.matrix(avec).T\n",
    "bvec=xtlvecs['Xtlvecs']['bvec']; bvec = np.matrix(bvec).T\n",
    "cvec=xtlvecs['Xtlvecs']['cvec']; cvec = np.matrix(cvec).T\n",
    "\n",
    "# Draw the vectors\n",
    "linea = [xorigin,yorigin,xorigin+avec[0]*scale,yorigin+avec[1]*scale]\n",
    "lineb = [xorigin,yorigin,xorigin+bvec[0]*scale,yorigin+bvec[1]*scale]\n",
    "linec = [xorigin,yorigin,xorigin+cvec[0]*scale,yorigin+cvec[1]*scale]\n",
    "draw.line(linea, fill=filla,width=linewidth)\n",
    "draw.line(lineb, fill=fillb,width=linewidth)\n",
    "draw.line(linec, fill=fillc,width=linewidth)\n",
    "\n",
    "# Packaging these values for subsequent use\n",
    "nboxes = len(nx1list); print (\"nboxes =\", nboxes)\n",
    "nx2list = np.array(nx1list)+boxsize; print(nx2list)\n",
    "ny2list = np.array(ny1list)+boxsize; print(ny2list)\n",
    "\n",
    "# Show the boxes\n",
    "for i in range(nboxes):\n",
    "    nx1 = nx1list[i]\n",
    "    nx2 = nx2list[i]\n",
    "    ny1 = ny1list[i]\n",
    "    ny2 = ny2list[i]\n",
    "    ims.myrectanglelabel(draw,(nx1,ny1),(nx2,ny2),labellist[i])\n",
    "plt.figure()    \n",
    "plt.title(imageroot)\n",
    "\n",
    "# Calculate and show the basal normal\n",
    "ndvec = -cvec; print ('unit normal basal facet =\\n',ndvec)\n",
    "dboxcenterx = nx1list[2]\n",
    "dboxcentery = ny1list[2]\n",
    "scaledcenterxterm = (dboxcenterx+ndvec[0]*scale).item()\n",
    "scaledcenteryterm = (dboxcentery+ndvec[1]*scale).item()\n",
    "lined_disp = list(np.squeeze([dboxcenterx,dboxcentery,scaledcenterxterm,scaledcenteryterm]).astype(int))\n",
    "draw.line(lined_disp, fill=fillc,width=linewidth)\n",
    "\n",
    "# Calculate and show the prismatic normal associated with vector a\n",
    "navec = np.matrix(np.cross(cvec.T,avec.T)).T\n",
    "print ('unit normal a-pyramidal facet =\\n',navec)\n",
    "aboxcenterx = nx1list[0]\n",
    "aboxcentery = ny1list[0]\n",
    "scaledcenterxterm = (aboxcenterx+navec[0]*scale).item()\n",
    "scaledcenteryterm = (aboxcentery+navec[1]*scale).item()\n",
    "linea_disp = list(np.squeeze([aboxcenterx,aboxcentery,scaledcenterxterm,scaledcenteryterm]).astype(int))\n",
    "draw.line(linea_disp, fill=filla,width=5)\n",
    "# print ('unit normal a-prismatic facet =\\n',navec)\n",
    "# scalednavecxterm = (xorigin+navec[0]*scale).item()\n",
    "# scalednavecyterm = (yorigin+navec[1]*scale).item()\n",
    "# linea_disp = list(np.squeeze([xorigin,yorigin,scalednavecxterm,scalednavecyterm]).astype(int))\n",
    "# draw.line(linea_disp, fill=filla,width=2)\n",
    "\n",
    "# Calculate and show the prismatic normal associated with vector b\n",
    "nbvec = np.matrix(np.cross(bvec.T,cvec.T)).T\n",
    "print ('unit normal b-prismatic facet =\\n',nbvec)\n",
    "bboxcenterx = nx1list[1]\n",
    "bboxcentery = ny1list[1]\n",
    "scaledbvecxterm = (bboxcenterx+nbvec[0]*scale).item()\n",
    "scaledbvecyterm = (bboxcentery+nbvec[1]*scale).item()\n",
    "lineb_disp = list(np.squeeze([bboxcenterx,bboxcentery,scaledbvecxterm,scaledbvecyterm]).astype(int))\n",
    "draw.line(lineb_disp, fill=fillb,width=2)\n",
    "\n",
    "# Calculate and show the pyramidal normal associated with vector a\n",
    "# Rot28 = ims.myrotation_matrix(avec,-28)\n",
    "# navec = Rot28*navec\n",
    "# print ('unit normal a-pyramidal facet =\\n',navec)\n",
    "# aboxcenterx = nx1list[0]\n",
    "# aboxcentery = ny1list[0]\n",
    "# scaledcenterxterm = (aboxcenterx+navec[0]*scale).item()\n",
    "# scaledcenteryterm = (aboxcentery+navec[1]*scale).item()\n",
    "# linea_disp = list(np.squeeze([aboxcenterx,aboxcentery,scaledcenterxterm,scaledcenteryterm]).astype(int))\n",
    "# draw.line(linea_disp, fill=filla,width=2)\n",
    "\n",
    "# Calculate and show the pyramidal normal associated with vector b\n",
    "# Rot28 = ims.myrotation_matrix(bvec,28)\n",
    "# nbvec = Rot28*nbvec\n",
    "# print ('unit normal b-pyramidal facet =\\n',nbvec)\n",
    "# bboxcenterx = nx1list[1]\n",
    "# bboxcentery = ny1list[1]\n",
    "# scaledbvecxterm = (bboxcenterx+nbvec[0]*scale).item()\n",
    "# scaledbvecyterm = (bboxcentery+nbvec[1]*scale).item()\n",
    "# lineb_disp = list(np.squeeze([bboxcenterx,bboxcentery,scaledbvecxterm,scaledbvecyterm]).astype(int))\n",
    "# draw.line(lineb_disp, fill=fillb,width=2)\n",
    "\n",
    "# Finish up\n",
    "plt.imshow(im,cmap = 'Greys_r', vmin = 0,vmax = 255)\n",
    "plt.grid(True)"
   ]
  },
  {
   "cell_type": "code",
   "execution_count": 16,
   "metadata": {},
   "outputs": [],
   "source": [
    "# For each detector, get s-values\n",
    "sAa, sBa, sCa, sDa = ims.mygets(navec,theta)\n",
    "sAb, sBb, sCb, sDb = ims.mygets(nbvec,theta)\n",
    "sAd, sBd, sCd, sDd = ims.mygets(ndvec,theta)\n",
    "slistA = np.squeeze(np.array([sAa, sAb, sAd]))\n",
    "slistB = np.squeeze(np.array([sBa, sBb, sBd]))\n",
    "slistC = np.squeeze(np.array([sCa, sCb, sCd]))\n",
    "slistD = np.squeeze(np.array([sDa, sDb, sDd]))\n",
    "\n",
    "# # For each detector, get s-values\n",
    "# sAa, sBa, sCa, sDa = ims.mygets(navec,theta)\n",
    "# sAb, sBb, sCb, sDb = ims.mygets(nbvec,theta)\n",
    "# sAd, sBd, sCd, sDd = ims.mygets(ndvec,theta)\n",
    "# slistA = np.squeeze(np.array([sAa, sAb, sAd]))\n",
    "# slistB = np.squeeze(np.array([sBa, sBb, sBd]))\n",
    "# slistC = np.squeeze(np.array([sCa, sCb, sCd]))\n",
    "# slistD = np.squeeze(np.array([sDa, sDb, sDd]))\n",
    "\n",
    "# Extract the observed intensities\n",
    "cA_obs = []\n",
    "cB_obs = []\n",
    "cC_obs = []\n",
    "cD_obs = []\n",
    "for isegment in range(nboxes):\n",
    "    nx1=nx1list[isegment]; nx2=nx2list[isegment] \n",
    "    ny1=ny1list[isegment]; ny2=ny2list[isegment]\n",
    "    cA_obs.append(np.mean(cA[ny1:ny2,nx1:nx2].astype('float')))\n",
    "    cB_obs.append(np.mean(cB[ny1:ny2,nx1:nx2].astype('float')))\n",
    "    cC_obs.append(np.mean(cC[ny1:ny2,nx1:nx2].astype('float')))\n",
    "    cD_obs.append(np.mean(cD[ny1:ny2,nx1:nx2].astype('float')))"
   ]
  },
  {
   "cell_type": "code",
   "execution_count": 17,
   "metadata": {
    "scrolled": false
   },
   "outputs": [
    {
     "name": "stdout",
     "output_type": "stream",
     "text": [
      "pA = -155.5756094000673 , 150.6528764938363\n",
      "pB = -36.514403398738224 , 94.89029652089665\n",
      "pC = -46.61353923599524 , 80.58732178713574\n",
      "pD = -231.28455150980432 , 102.50776787405492\n"
     ]
    },
    {
     "data": {
      "text/plain": [
       "Text(0.5, 1.0, 'case2.0')"
      ]
     },
     "execution_count": 17,
     "metadata": {},
     "output_type": "execute_result"
    },
    {
     "data": {
      "image/png": "[encoded data removed]",
      "text/plain": [
       "<Figure size 640x480 with 1 Axes>"
      ]
     },
     "metadata": {},
     "output_type": "display_data"
    }
   ],
   "source": [
    "# See what the A-D detector parameters look like graphically\n",
    "plt.figure()\n",
    "markersize = 10\n",
    "plt.plot(slistA,cA_obs,'or',markersize=15)\n",
    "plt.plot(slistB,cB_obs,'<b',markersize=15)\n",
    "plt.plot(slistC,cC_obs,'sy',markersize=15)\n",
    "plt.plot(slistD,cD_obs,'>g',markersize=15)\n",
    "plt.legend(['A', 'B', 'C', 'D'],loc='upper left')\n",
    "plt.plot(slistA[0],cA_obs[0],'k*')\n",
    "plt.plot(slistA[1],cA_obs[1],'kx')\n",
    "plt.plot(slistA[2],cA_obs[2],'k+')\n",
    "plt.plot(slistB[0],cB_obs[0],'k*')\n",
    "plt.plot(slistB[1],cB_obs[1],'kx')\n",
    "plt.plot(slistB[2],cB_obs[2],'k+')\n",
    "plt.plot(slistC[0],cC_obs[0],'k*')\n",
    "plt.plot(slistC[1],cC_obs[1],'kx')\n",
    "plt.plot(slistC[2],cC_obs[2],'k+')\n",
    "plt.plot(slistD[0],cD_obs[0],'k*')\n",
    "plt.plot(slistD[1],cD_obs[1],'kx')\n",
    "plt.plot(slistD[2],cD_obs[2],'k+')\n",
    "plt.grid()\n",
    "srange = [-.6,.6]\n",
    "plt.xlim(srange)\n",
    "plt.xlabel('$s$')\n",
    "plt.ylabel('$c_{obs}$')\n",
    "\n",
    "\n",
    "# Fitting\n",
    "maxorder = 1\n",
    "order = min(len(slistA)-1,maxorder)\n",
    "pA = np.polyfit(slistA,cA_obs,order); print('pA =', pA[0], ',', pA[1])\n",
    "pB = np.polyfit(slistB,cB_obs,order); print('pB =', pB[0], ',', pB[1])\n",
    "pC = np.polyfit(slistC,cC_obs,order); print('pC =', pC[0], ',', pC[1])\n",
    "pD = np.polyfit(slistD,cD_obs,order); print('pD =', pD[0], ',', pD[1])\n",
    "s_theory = np.linspace(srange[0],srange[1])\n",
    "cA_theory = np.polyval(pA,s_theory)\n",
    "cB_theory = np.polyval(pB,s_theory)\n",
    "cC_theory = np.polyval(pC,s_theory)\n",
    "cD_theory = np.polyval(pD,s_theory)\n",
    "plt.plot(s_theory,cA_theory,'-r',linewidth=2)\n",
    "plt.plot(s_theory,cB_theory,'--b',linewidth=2)\n",
    "plt.plot(s_theory,cC_theory,'-.y',linewidth=2)\n",
    "plt.plot(s_theory,cD_theory,':g',linewidth=2)\n",
    "plt.title(imageroot)"
   ]
  },
  {
   "cell_type": "code",
   "execution_count": 18,
   "metadata": {},
   "outputs": [],
   "source": [
    "# Save the calibration file\n",
    "Calibrationfile = 'Calibration.nml'\n",
    "cfile = open(Calibrationfile,'w')\n",
    "cfile.write('&Calibration\\n')\n",
    "cfile.write('   '+'pA = '+str(pA[0])+',  '+str(pA[1])+'\\n')\n",
    "cfile.write('   '+'pB = '+str(pB[0])+',  '+str(pB[1])+'\\n')\n",
    "cfile.write('   '+'pC = '+str(pC[0])+',  '+str(pC[1])+'\\n')\n",
    "cfile.write('   '+'pD = '+str(pD[0])+',  '+str(pD[1])+'\\n')\n",
    "cfile.write('/ \\n')\n",
    "cfile.close()"
   ]
  },
  {
   "cell_type": "code",
   "execution_count": 19,
   "metadata": {},
   "outputs": [],
   "source": [
    "#cA exploring how images are organized\n",
    "# cArow0= cA[0,:]\n",
    "# cBcolumn0=cB[:,300]\n",
    "# print(np.shape(cA))\n",
    "# plt.figure()\n",
    "# plt.title('column0')\n",
    "# plt.plot(cBcolumn0)\n",
    "# plt.grid(True)\n",
    "# plt.figure()\n",
    "# plt.title('row0')\n",
    "# plt.plot(cArow0)"
   ]
  },
  {
   "cell_type": "code",
   "execution_count": null,
   "metadata": {},
   "outputs": [],
   "source": []
  }
 ],
 "metadata": {
  "kernelspec": {
   "display_name": "Python 3 (ipykernel)",
   "language": "python",
   "name": "python3"
  },
  "language_info": {
   "codemirror_mode": {
    "name": "ipython",
    "version": 3
   },
   "file_extension": ".py",
   "mimetype": "text/x-python",
   "name": "python",
   "nbconvert_exporter": "python",
   "pygments_lexer": "ipython3",
   "version": "3.9.7"
  }
 },
 "nbformat": 4,
 "nbformat_minor": 1
}
