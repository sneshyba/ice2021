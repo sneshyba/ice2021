{
 "cells": [
  {
   "cell_type": "code",
   "execution_count": 1,
   "id": "e6478eaa",
   "metadata": {},
   "outputs": [],
   "source": [
    "import numpy as np\n",
    "import matplotlib.pylab as plt\n",
    "from pint import UnitRegistry; AssignQuantity = UnitRegistry().Quantity"
   ]
  },
  {
   "cell_type": "markdown",
   "id": "307e016e",
   "metadata": {},
   "source": [
    "The calculation below is based on the retrieval of segment2 in this folder"
   ]
  },
  {
   "cell_type": "code",
   "execution_count": 13,
   "id": "39188fec",
   "metadata": {},
   "outputs": [
    {
     "name": "stdout",
     "output_type": "stream",
     "text": [
      "peak_to_peak 75.69015788066504\n",
      "horizontal 37.84507894033252\n",
      "angle 10.47925714519423 degree\n"
     ]
    }
   ],
   "source": [
    "peak_to_peak = ((51-106)**2+(20-72)**2)**.5; print('peak_to_peak',peak_to_peak)\n",
    "run = peak_to_peak/2; print('horizontal',run)\n",
    "rise = 7\n",
    "slope = run + 1j*rise\n",
    "angle = AssignQuantity(np.angle(slope),'radian')\n",
    "angle.ito('degree')\n",
    "print('angle',angle)"
   ]
  },
  {
   "cell_type": "code",
   "execution_count": null,
   "id": "06c6cbb5",
   "metadata": {},
   "outputs": [],
   "source": []
  }
 ],
 "metadata": {
  "kernelspec": {
   "display_name": "Python 3 (ipykernel)",
   "language": "python",
   "name": "python3"
  },
  "language_info": {
   "codemirror_mode": {
    "name": "ipython",
    "version": 3
   },
   "file_extension": ".py",
   "mimetype": "text/x-python",
   "name": "python",
   "nbconvert_exporter": "python",
   "pygments_lexer": "ipython3",
   "version": "3.10.8"
  }
 },
 "nbformat": 4,
 "nbformat_minor": 5
}
