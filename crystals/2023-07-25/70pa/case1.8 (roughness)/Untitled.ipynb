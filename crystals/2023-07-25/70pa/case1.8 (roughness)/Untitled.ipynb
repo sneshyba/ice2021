{
 "cells": [
  {
   "cell_type": "code",
   "execution_count": 3,
   "id": "71d8038a",
   "metadata": {},
   "outputs": [],
   "source": [
    "import numpy as np"
   ]
  },
  {
   "cell_type": "code",
   "execution_count": 12,
   "id": "ef7eb89d",
   "metadata": {},
   "outputs": [
    {
     "name": "stdout",
     "output_type": "stream",
     "text": [
      "[  0   1   4   9  16  25  36  49  64  81 100 121 144 169 196   0   0   0\n",
      "   0   0]\n"
     ]
    }
   ],
   "source": [
    "j_list = np.array([j for j in range(20)])\n",
    "j2_list = np.array(j_list)**2\n",
    "j2_list[-5:-1] = 0\n",
    "j2_list[-1] = 0\n",
    "print(j2_list)"
   ]
  },
  {
   "cell_type": "code",
   "execution_count": null,
   "id": "f49613c9",
   "metadata": {},
   "outputs": [],
   "source": []
  }
 ],
 "metadata": {
  "kernelspec": {
   "display_name": "Python 3 (ipykernel)",
   "language": "python",
   "name": "python3"
  },
  "language_info": {
   "codemirror_mode": {
    "name": "ipython",
    "version": 3
   },
   "file_extension": ".py",
   "mimetype": "text/x-python",
   "name": "python",
   "nbconvert_exporter": "python",
   "pygments_lexer": "ipython3",
   "version": "3.10.8"
  }
 },
 "nbformat": 4,
 "nbformat_minor": 5
}
