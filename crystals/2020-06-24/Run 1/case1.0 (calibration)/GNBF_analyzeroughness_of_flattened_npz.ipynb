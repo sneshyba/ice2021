{
 "cells": [
  {
   "cell_type": "code",
   "execution_count": 34,
   "metadata": {},
   "outputs": [],
   "source": [
    "import numpy as np\n",
    "import matplotlib.pyplot as plt\n",
    "from mpl_toolkits.mplot3d import axes3d\n",
    "import os\n",
    "from sys import platform\n",
    "from importlib import reload\n",
    "import sys\n",
    "import reliability\n",
    "from reliability.Fitters import Fit_Weibull_2P\n",
    "import scipy.optimize as optimization\n",
    "sys.path.append('../../../..')\n",
    "\n",
    "import stlstuff as sls\n",
    "import imagestuff as ims\n",
    "import statstuff as sts\n",
    "import retrievestuff as rs"
   ]
  },
  {
   "cell_type": "code",
   "execution_count": 35,
   "metadata": {},
   "outputs": [],
   "source": [
    "%matplotlib notebook"
   ]
  },
  {
   "cell_type": "markdown",
   "metadata": {},
   "source": [
    "The next cell has parameters that might change from crystal to crystal"
   ]
  },
  {
   "cell_type": "code",
   "execution_count": 36,
   "metadata": {},
   "outputs": [
    {
     "name": "stdout",
     "output_type": "stream",
     "text": [
      "Segments2_compr_flat_filt.npz\n"
     ]
    }
   ],
   "source": [
    "# Loading in the compressed data\n",
    "Segmentname = 'Segments2'\n",
    "Flattenedfilename = Segmentname+'_compr_flat_filt.npz'; print(Flattenedfilename)\n",
    "\n",
    "# Histogram accumulation\n",
    "accumlist = [0,1,2] # Segment indexing starts at 0 for the upper-left, down, then across\n",
    "\n",
    "# Parameters for binning\n",
    "Z2minforhist = 0.0\n",
    "Z2maxforhist = .07\n",
    "Z2offset = 0.0001\n",
    "nbins_max = 5\n",
    "levels = 3"
   ]
  },
  {
   "cell_type": "code",
   "execution_count": 37,
   "metadata": {},
   "outputs": [],
   "source": [
    "# # Loading in the compressed data\n",
    "# Segmentname = 'Segments1'\n",
    "# Flattenedfilename = Segmentname+'_compr_flat_filt.npz'; print(Flattenedfilename)\n",
    "\n",
    "# # Histogram accumulation\n",
    "# accumlist = [12,13,14,15,16,17,18,19] # all\n",
    "\n",
    "# # Parameters for binning\n",
    "# Z2minforhist = 0.0\n",
    "# Z2maxforhist = .011\n",
    "# Z2offset = 0.0001\n",
    "# nbins_max = 8\n",
    "# levels = 3"
   ]
  },
  {
   "cell_type": "code",
   "execution_count": 38,
   "metadata": {},
   "outputs": [],
   "source": [
    "# # Loading in the compressed data\n",
    "# Segmentname = 'Segments2'\n",
    "# Flattenedfilename = Segmentname+'_compr_flat_filt.npz'; print(Flattenedfilename)\n",
    "\n",
    "# # Histogram accumulation\n",
    "# accumlist = [] # all\n",
    "\n",
    "# # Parameters for binning\n",
    "# Z2minforhist = 0.0\n",
    "# Z2maxforhist = .25\n",
    "# Z2offset = 0.001\n",
    "# nbins_max = 8\n",
    "# levels = 3"
   ]
  },
  {
   "cell_type": "code",
   "execution_count": 39,
   "metadata": {},
   "outputs": [
    {
     "name": "stdout",
     "output_type": "stream",
     "text": [
      "Segments2_compr_flat_filt_roughness.jpg\n"
     ]
    },
    {
     "ename": "FileNotFoundError",
     "evalue": "[Errno 2] No such file or directory: 'Segments2_compr_flat_filt.npz'",
     "output_type": "error",
     "traceback": [
      "\u001b[0;31m---------------------------------------------------------------------------\u001b[0m",
      "\u001b[0;31mFileNotFoundError\u001b[0m                         Traceback (most recent call last)",
      "\u001b[0;32m<ipython-input-39-e422d4f277e6>\u001b[0m in \u001b[0;36m<module>\u001b[0;34m\u001b[0m\n\u001b[1;32m      1\u001b[0m \u001b[0;31m# Derivative names\u001b[0m\u001b[0;34m\u001b[0m\u001b[0;34m\u001b[0m\u001b[0;34m\u001b[0m\u001b[0m\n\u001b[1;32m      2\u001b[0m \u001b[0mRoughnessfilename\u001b[0m \u001b[0;34m=\u001b[0m \u001b[0mFlattenedfilename\u001b[0m\u001b[0;34m[\u001b[0m\u001b[0;36m0\u001b[0m\u001b[0;34m:\u001b[0m\u001b[0;34m-\u001b[0m\u001b[0;36m4\u001b[0m\u001b[0;34m]\u001b[0m\u001b[0;34m+\u001b[0m\u001b[0;34m'_roughness.jpg'\u001b[0m\u001b[0;34m;\u001b[0m \u001b[0mprint\u001b[0m\u001b[0;34m(\u001b[0m\u001b[0mRoughnessfilename\u001b[0m\u001b[0;34m)\u001b[0m\u001b[0;34m\u001b[0m\u001b[0;34m\u001b[0m\u001b[0m\n\u001b[0;32m----> 3\u001b[0;31m \u001b[0mflattenedfile\u001b[0m \u001b[0;34m=\u001b[0m \u001b[0mnp\u001b[0m\u001b[0;34m.\u001b[0m\u001b[0mload\u001b[0m\u001b[0;34m(\u001b[0m\u001b[0mFlattenedfilename\u001b[0m\u001b[0;34m)\u001b[0m\u001b[0;34m\u001b[0m\u001b[0;34m\u001b[0m\u001b[0m\n\u001b[0m\u001b[1;32m      4\u001b[0m \u001b[0mxgridtot\u001b[0m \u001b[0;34m=\u001b[0m \u001b[0mflattenedfile\u001b[0m\u001b[0;34m[\u001b[0m\u001b[0;34m'xgridtot'\u001b[0m\u001b[0;34m]\u001b[0m\u001b[0;34m\u001b[0m\u001b[0;34m\u001b[0m\u001b[0m\n\u001b[1;32m      5\u001b[0m \u001b[0mygridtot\u001b[0m \u001b[0;34m=\u001b[0m \u001b[0mflattenedfile\u001b[0m\u001b[0;34m[\u001b[0m\u001b[0;34m'ygridtot'\u001b[0m\u001b[0;34m]\u001b[0m\u001b[0;34m\u001b[0m\u001b[0;34m\u001b[0m\u001b[0m\n",
      "\u001b[0;32m/usr/local/lib/python3.6/dist-packages/numpy/lib/npyio.py\u001b[0m in \u001b[0;36mload\u001b[0;34m(file, mmap_mode, allow_pickle, fix_imports, encoding)\u001b[0m\n\u001b[1;32m    420\u001b[0m         \u001b[0mown_fid\u001b[0m \u001b[0;34m=\u001b[0m \u001b[0;32mFalse\u001b[0m\u001b[0;34m\u001b[0m\u001b[0;34m\u001b[0m\u001b[0m\n\u001b[1;32m    421\u001b[0m     \u001b[0;32melse\u001b[0m\u001b[0;34m:\u001b[0m\u001b[0;34m\u001b[0m\u001b[0;34m\u001b[0m\u001b[0m\n\u001b[0;32m--> 422\u001b[0;31m         \u001b[0mfid\u001b[0m \u001b[0;34m=\u001b[0m \u001b[0mopen\u001b[0m\u001b[0;34m(\u001b[0m\u001b[0mos_fspath\u001b[0m\u001b[0;34m(\u001b[0m\u001b[0mfile\u001b[0m\u001b[0;34m)\u001b[0m\u001b[0;34m,\u001b[0m \u001b[0;34m\"rb\"\u001b[0m\u001b[0;34m)\u001b[0m\u001b[0;34m\u001b[0m\u001b[0;34m\u001b[0m\u001b[0m\n\u001b[0m\u001b[1;32m    423\u001b[0m         \u001b[0mown_fid\u001b[0m \u001b[0;34m=\u001b[0m \u001b[0;32mTrue\u001b[0m\u001b[0;34m\u001b[0m\u001b[0;34m\u001b[0m\u001b[0m\n\u001b[1;32m    424\u001b[0m \u001b[0;34m\u001b[0m\u001b[0m\n",
      "\u001b[0;31mFileNotFoundError\u001b[0m: [Errno 2] No such file or directory: 'Segments2_compr_flat_filt.npz'"
     ]
    }
   ],
   "source": [
    "# Derivative names\n",
    "Roughnessfilename = Flattenedfilename[0:-4]+'_roughness.jpg'; print(Roughnessfilename)\n",
    "flattenedfile = np.load(Flattenedfilename)\n",
    "xgridtot = flattenedfile['xgridtot']\n",
    "ygridtot = flattenedfile['ygridtot']\n",
    "zgridtot = flattenedfile['zgridtot']\n",
    "nsegments = (len(xgridtot)); print(nsegments)\n",
    "\n",
    "# This folder\n",
    "cwd = os.getcwd(); i = cwd.index('crystals'); case_and_folder = cwd[i+9:]; print(case_and_folder)"
   ]
  },
  {
   "cell_type": "code",
   "execution_count": null,
   "metadata": {},
   "outputs": [],
   "source": [
    "# Histogram accumulation\n",
    "if len(accumlist)==0:\n",
    "    accumlist = [i for i in range(nsegments)]\n",
    "plotthisone = accumlist\n",
    "print('Accumulating segments', accumlist)\n",
    "print('Plotting segments', plotthisone)\n",
    "\n",
    "# Parameters for binning\n",
    "print('Z2 ranging from', Z2minforhist, 'to', Z2maxforhist)\n",
    "print('Max number of bins specified is', nbins_max)\n",
    "Ntot = np.size(zgridtot[0]) # Just using the first one for a size estimate\n",
    "nbins_sturges = int(1+3.3*np.log10(Ntot)); print('Sturges rule says maxbins =', nbins_sturges)\n",
    "nbins = np.min([nbins_max,nbins_sturges]); print('Using nbins = ', nbins)\n",
    "Z2bins = np.linspace(Z2minforhist,Z2maxforhist,nbins); #print(Z2bins)\n",
    "Z2theory = np.linspace(Z2minforhist,Z2maxforhist,50); Z2theory=Z2theory[1:] # This is for Weibull plots\n",
    "print('Using levels =', levels, 'for uncertainty analysis')\n"
   ]
  },
  {
   "cell_type": "code",
   "execution_count": null,
   "metadata": {},
   "outputs": [],
   "source": [
    "# Arrays for accumulating \n",
    "counts_list = []\n",
    "meanZ2_list = []\n",
    "Z2flat_list = []\n",
    "\n",
    "# First-guess for Weibull fitting (sigma2W, etaW)\n",
    "x0 = np.array([.1,.9])\n",
    "\n",
    "# This suppresses warnings when lots of graphics windows are open\n",
    "import matplotlib\n",
    "matplotlib.rc('figure', max_open_warning = 0)\n",
    "\n",
    "# This is for when we want to show or suppress intermediate graphics and other output\n",
    "Show_intermediate_graphics = False\n",
    "\n",
    "# Looping over segments\n",
    "for isegment in range(nsegments):\n",
    "\n",
    "    # Pull out the next segment\n",
    "    sollast = zgridtot[isegment]\n",
    "    xgrid = xgridtot[isegment] \n",
    "    ygrid = ygridtot[isegment]\n",
    "    Ny, Nx = np.shape(sollast); #print(sollast.shape)\n",
    "    Ntot = np.size(sollast)\n",
    "    dx = xgrid[0,1]-xgrid[0,0]; #print('dx =', dx)\n",
    "    dy = ygrid[1,0]-ygrid[0,0]; #print('dy =', dy)\n",
    "\n",
    "    # Get the probability distribution in Z2\n",
    "    counts, bins, meanZ2, Z2flat, error = rs.getrhoofz2(sollast,dx,dy,Z2bins=Z2bins,levels=levels)\n",
    "    print('meanZ2 = ', meanZ2)\n",
    "    print('statsigma = ', np.sqrt(meanZ2))\n",
    "\n",
    "    # Plot if we want\n",
    "    if isegment in plotthisone:\n",
    "        \n",
    "        # Reporting\n",
    "        print('')\n",
    "        print('****Working on segment', isegment)\n",
    "        \n",
    "        # Graph the surface\n",
    "        if Show_intermediate_graphics:\n",
    "            fig1 = plt.figure()\n",
    "            ax = fig1.add_subplot(111, projection='3d')\n",
    "            ax.plot_surface(xgrid, ygrid, sollast)\n",
    "            title = Flattenedfilename+' #'+str(isegment)\n",
    "            ax.set_xlabel('x')\n",
    "            ax.set_ylabel('y')\n",
    "            ax.set_zlabel('z')\n",
    "            ax.set_title(title)\n",
    "            ax.view_init(azim=-120,elev=22)\n",
    "        \n",
    "        # Normalize the distribution function, report stats\n",
    "        integral_rho = np.trapz(counts, bins)\n",
    "        print ('std dev of height = ', np.std(sollast))\n",
    "        print('integral = ', integral_rho)\n",
    "        counts = counts/integral_rho\n",
    "        error = error/integral_rho\n",
    "\n",
    "        # This is for calculating the errors in fitting (and graphing)\n",
    "        countsplus = counts+error; #print(countsplus)\n",
    "        countsminus = counts**2/countsplus; print(countsminus)\n",
    "\n",
    "        # Graph the probability\n",
    "        if Show_intermediate_graphics:\n",
    "            plt.figure()\n",
    "            plt.semilogy(bins, counts, 'ok')\n",
    "            plt.semilogy(bins, countsplus, '+k')\n",
    "            plt.semilogy(bins, countsminus,'+k')\n",
    "            plt.title(title)\n",
    "            plt.xlabel(r'$Z^{2}$')\n",
    "            plt.ylabel(r'$\\rho$')\n",
    "            plt.grid(True)\n",
    "\n",
    "        # Eliminate entries greater than a threshold (not sure if this is necessary)\n",
    "        ikeep = np.argwhere(Z2flat < Z2maxforhist)\n",
    "        Z2flat_new = np.squeeze(Z2flat[ikeep])\n",
    "\n",
    "        # Attempt a best-fit based on the raw data\n",
    "        analysis = Fit_Weibull_2P(failures=Z2flat_new,show_probability_plot=False)\n",
    "        etaW = analysis.beta; #print('analysis.beta=',analysis.beta)\n",
    "        sigma2W = analysis.alpha; #print('analysis.alpha=',analysis.alpha)\n",
    "        sigmaW = np.sqrt(sigma2W)\n",
    "        print('Based on raw data: sigmaW, etaW = ', sigmaW, etaW)\n",
    "        \n",
    "        # Attempt a best-fit based on the bins\n",
    "        errors = np.log(countsplus/counts); #print(errors)\n",
    "        solution, solutionerror = optimization.curve_fit(sts.logWeibull, bins+Z2offset, np.log(counts),x0,sigma=errors)\n",
    "        etaW = solution[1]\n",
    "        sigma2W = solution[0]\n",
    "        sigmaW = np.sqrt(sigma2W)\n",
    "        print('Based on bins: sigmaW, etaW = ', sigmaW, etaW)\n",
    "        \n",
    "        # Graph the best-fit probability\n",
    "        myWeibull = sts.Weibull(Z2theory,sigma2W,etaW)\n",
    "        if Show_intermediate_graphics:\n",
    "            plt.semilogy(Z2theory, myWeibull, 'b',label = 'Weibull with $\\sigma_w$ =' + str(sigmaW)[0:5] + ' $\\eta_w$ =' + str(etaW)[0:5])\n",
    "            plt.legend()\n",
    "        \n",
    "    # Accumulate if we want\n",
    "    if isegment in accumlist:\n",
    "        counts_list.append(counts)\n",
    "        meanZ2_list.append(meanZ2)\n",
    "        Z2flat_list.append(Z2flat)"
   ]
  },
  {
   "cell_type": "code",
   "execution_count": null,
   "metadata": {},
   "outputs": [],
   "source": [
    "# Sum up the accumulated information\n",
    "Z2flat_total = []\n",
    "for i in Z2flat_list:\n",
    "    for j in i:\n",
    "        Z2flat_total.append(j)\n",
    "Z2flat_total = np.array(Z2flat_total)\n",
    "Z2flat_new = np.squeeze(Z2flat_total)\n",
    "\n",
    "# Get the probability distribution in Z2\n",
    "counts, bins, meanZ2, error = rs.getrhoofz2flat(Z2flat,nbins,Z2bins,levels)\n",
    "print('meanZ2 = ', meanZ2)\n",
    "print('statsigma = ', np.sqrt(meanZ2))\n",
    "\n",
    "# Normalize the distribution function\n",
    "integral_rho = np.trapz(counts, bins)\n",
    "print('integral = ', integral_rho)\n",
    "counts = counts/integral_rho\n",
    "error = error/integral_rho\n",
    "countsplus = counts+error; #print(countsplus)\n",
    "countsminus = counts**2/countsplus; #print(countsminus)\n",
    "\n",
    "# Attempt a best-fit based on the raw data\n",
    "plt.figure()\n",
    "analysis = Fit_Weibull_2P(failures=Z2flat_new)\n",
    "etaW = analysis.beta; print('analysis.beta=',analysis.beta)\n",
    "sigma2W = analysis.alpha; print('analysis.alpha=',analysis.alpha)\n",
    "sigmaW = np.sqrt(sigma2W)\n",
    "print('Based on raw data: sigmaW, etaW = ', sigmaW, etaW)"
   ]
  },
  {
   "cell_type": "code",
   "execution_count": null,
   "metadata": {},
   "outputs": [],
   "source": [
    "# Attempt a best-fit based on the bins\n",
    "errors = np.log(countsplus/counts); #print(errors)\n",
    "solution, solutionerror = optimization.curve_fit(sts.logWeibull, bins+Z2offset, np.log(counts),x0,sigma=errors)\n",
    "etaW = solution[1]\n",
    "sigma2W = solution[0]\n",
    "sigmaW = np.sqrt(sigma2W)\n",
    "print('Based on bins: sigmaW, etaW = ', sigmaW, etaW)"
   ]
  },
  {
   "cell_type": "code",
   "execution_count": null,
   "metadata": {},
   "outputs": [],
   "source": [
    "# Graph the probability\n",
    "plt.figure()\n",
    "fontsize = 14\n",
    "plt.rcParams.update({'font.size': fontsize})\n",
    "plt.semilogy(bins, counts, 'ok')\n",
    "plt.semilogy(bins, countsplus, '+k')\n",
    "plt.semilogy(bins, countsminus,'+k')\n",
    "plt.title(case_and_folder + ', ' + Segmentname)\n",
    "plt.xlabel(r'$Z^{2}$')\n",
    "plt.ylabel(r'$\\rho$')\n",
    "plt.grid(True)\n",
    "\n",
    "# Graph the best-fit probability\n",
    "myWeibull = sts.Weibull(Z2theory,sigma2W,etaW)\n",
    "plt.semilogy(Z2theory, myWeibull, 'b', \\\n",
    "             label = 'Weibull with $\\sigma_w$ =' + str(sigmaW)[0:5] + ', $\\eta_w$ =' + str(etaW)[0:5])\n",
    "plt.legend(fontsize=fontsize)"
   ]
  },
  {
   "cell_type": "code",
   "execution_count": null,
   "metadata": {},
   "outputs": [],
   "source": [
    "# Save the roughness figure\n",
    "plt.savefig(Roughnessfilename)"
   ]
  },
  {
   "cell_type": "code",
   "execution_count": null,
   "metadata": {},
   "outputs": [],
   "source": []
  }
 ],
 "metadata": {
  "kernelspec": {
   "display_name": "Python 3",
   "language": "python",
   "name": "python3"
  },
  "language_info": {
   "codemirror_mode": {
    "name": "ipython",
    "version": 3
   },
   "file_extension": ".py",
   "mimetype": "text/x-python",
   "name": "python",
   "nbconvert_exporter": "python",
   "pygments_lexer": "ipython3",
   "version": "3.6.9"
  }
 },
 "nbformat": 4,
 "nbformat_minor": 2
}
