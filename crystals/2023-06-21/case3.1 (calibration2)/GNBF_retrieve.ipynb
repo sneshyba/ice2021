{
 "cells": [
  {
   "cell_type": "markdown",
   "metadata": {},
   "source": [
    "This code is designed to retrieve surface information from input A-D image files and given instrument response parameters"
   ]
  },
  {
   "cell_type": "code",
   "execution_count": 1,
   "metadata": {},
   "outputs": [
    {
     "name": "stdout",
     "output_type": "stream",
     "text": [
      "CUDA not available.\n"
     ]
    }
   ],
   "source": [
    "# Generic imports\n",
    "from mpl_toolkits.mplot3d import Axes3D\n",
    "import numpy as np\n",
    "import matplotlib.pyplot as plt\n",
    "import PIL\n",
    "import copy\n",
    "from scipy.interpolate import griddata\n",
    "from scipy.special import gamma\n",
    "import scipy.optimize as optimization\n",
    "import os\n",
    "\n",
    "# Reloading\n",
    "from importlib import reload\n",
    "\n",
    "# Local imports\n",
    "import sys\n",
    "sys.path.append('../../../')\n",
    "import imagestuff as ims\n",
    "import retrievestuff as rs\n",
    "import f90nml\n",
    "import gradstuff as gds\n",
    "import statstuff as sts"
   ]
  },
  {
   "cell_type": "code",
   "execution_count": 2,
   "metadata": {},
   "outputs": [],
   "source": [
    "%matplotlib tk"
   ]
  },
  {
   "cell_type": "code",
   "execution_count": 3,
   "metadata": {},
   "outputs": [
    {
     "name": "stdout",
     "output_type": "stream",
     "text": [
      "/Users/nesh/Documents/Repositories/ice2021/crystals/2023-06-21/case3.1 (calibration2)\n",
      "2023-06-21/case3.1 (calibration2)\n"
     ]
    }
   ],
   "source": [
    "# Specify the file we want to analyze (and output file name)\n",
    "pwd = os.getcwd()\n",
    "print(pwd)\n",
    "startpos = pwd.find('crystals/')\n",
    "case = pwd[startpos+9:]; print(case)\n",
    "Segmentnamelistroot = 'Segments3'\n",
    "imageroot = 'case3.1'\n",
    "Calibrationfile = 'Calibration.nml'"
   ]
  },
  {
   "cell_type": "code",
   "execution_count": 4,
   "metadata": {},
   "outputs": [
    {
     "name": "stdout",
     "output_type": "stream",
     "text": [
      "Segments3_retrieved.npz\n",
      "Segments3_roughness.jpg\n",
      "Segments3_roughness.txt\n"
     ]
    }
   ],
   "source": [
    "# Derivative names\n",
    "Compressedfilename = Segmentnamelistroot+'_retrieved.npz'; print (Compressedfilename)\n",
    "Roughnessfile = Segmentnamelistroot+'_roughness.jpg'; print(Roughnessfile)\n",
    "Roughnessdatafile = Segmentnamelistroot+'_roughness.txt'; print(Roughnessdatafile)"
   ]
  },
  {
   "cell_type": "code",
   "execution_count": 5,
   "metadata": {},
   "outputs": [],
   "source": [
    "# These are derivative names\n",
    "Segmentnamelist = Segmentnamelistroot+'.nml'\n",
    "Segmentfile = Segmentnamelist\n",
    "SEMSegmentjpgfile =  Segmentnamelistroot+'.jpg'\n",
    "Retrievedjpgfile =   Segmentnamelistroot+'_retrieved.jpg'\n",
    "Compressedfilename = Segmentnamelistroot+'_retrieved'"
   ]
  },
  {
   "cell_type": "code",
   "execution_count": 6,
   "metadata": {},
   "outputs": [
    {
     "name": "stdout",
     "output_type": "stream",
     "text": [
      "SEMimages/case3.1-A.bmp\n",
      "SEMimages/case3.1-B.bmp\n",
      "SEMimages/case3.1-C.bmp\n",
      "SEMimages/case3.1-D.bmp\n",
      "Filename, dx and dy SEMimages/case3.1-D.bmp 1.2402339999999998 1.2402339999999998\n"
     ]
    }
   ],
   "source": [
    "# Read the input dataset, including spacing in micrometers\n",
    "dx,dy,cA,cB,cC,cD,Filename = ims.getc2('', 'SEMimages/', imageroot)\n",
    "print(\"Filename, dx and dy\", Filename, dx, dy)"
   ]
  },
  {
   "cell_type": "code",
   "execution_count": 7,
   "metadata": {
    "scrolled": true
   },
   "outputs": [],
   "source": [
    "# Extract the desired segments\n",
    "Segments=f90nml.read(Segmentfile) #reads the file at a given path\n",
    "nysegments=Segments['Segments']['nysegments']\n",
    "nxsegments=Segments['Segments']['nxsegments']\n",
    "nacross=Segments['Segments']['nacross']\n",
    "ndown=Segments['Segments']['ndown']\n",
    "nxstart=Segments['Segments']['nxstart']\n",
    "ny1start=Segments['Segments']['ny1start']\n",
    "ny2start = ny1start+ndown \n",
    "nx1list = []; nx2list = []\n",
    "ny1list = []; ny2list = []\n",
    "for ix in range(nxsegments):\n",
    "    nx1start = nxstart+ix*nacross; nx2start = nxstart+(ix+1)*nacross \n",
    "    for i in range(nysegments):\n",
    "        nx1list.append(nx1start); nx2list.append(nx2start)\n",
    "        ny1list.append(ny1start+i*ndown); ny2list.append(ny2start+i*ndown)\n",
    "nsegments = nxsegments*nysegments"
   ]
  },
  {
   "cell_type": "code",
   "execution_count": 8,
   "metadata": {
    "scrolled": false
   },
   "outputs": [
    {
     "name": "stdout",
     "output_type": "stream",
     "text": [
      "Benchmark score for random signals = 5.177212046292261\n",
      "Correlation of detectors A-D for each segment\n",
      "for segment  0\n",
      "nx= 61\n",
      "ny= 61\n",
      "0 1 -12.913327244382186\n",
      "0 2 -19.684794520258446\n",
      "0 3 3.1895552352587098\n",
      "1 2 12.157464622358075\n",
      "1 3 -16.754483377518195\n",
      "2 3 3.6683139973786547\n",
      "Correlation score = 31.723675784796\n",
      "\n"
     ]
    }
   ],
   "source": [
    "# Display\n",
    "im = PIL.Image.open(Filename)\n",
    "\n",
    "# Set up sub-grids in case of multiple segments\n",
    "nyxgrid = []\n",
    "for i in range(nsegments):\n",
    "    nyxgridi = [ (y, x) for y in range(ny1list[i], ny2list[i]+1) for x in range(nx1list[i], nx2list[i]+1) ]\n",
    "    nyxgrid.append(nyxgridi)\n",
    "\n",
    "# Add the segments to the image\n",
    "draw = PIL.ImageDraw.Draw(im)\n",
    "for i in range(nsegments):\n",
    "    nx1 = nx1list[i]\n",
    "    nx2 = nx2list[i]\n",
    "    ny1 = ny1list[i]\n",
    "    ny2 = ny2list[i]\n",
    "    ims.myrectangle(draw,(nx1,ny1),(nx2,ny2),5)\n",
    "\n",
    "# What's the random expectation of information content\n",
    "print('Benchmark score for random signals =', sts.randomcorrelation(nacross,ndown)*100*3)\n",
    "    \n",
    "# Loop to evaluate the information content in each segment\n",
    "print('Correlation of detectors A-D for each segment')\n",
    "for isegment in range(nsegments):\n",
    "    \n",
    "    print('for segment ', isegment)\n",
    "    nx1=nx1list[isegment]; nx2=nx2list[isegment]; nx = nx2-nx1+1; print('nx=',nx)\n",
    "    ny1=ny1list[isegment]; ny2=ny2list[isegment]; ny = ny2-ny1+1; print('ny=',ny)\n",
    "    cAseg = cA[ny1:ny2,nx1:nx2]; #cAsegmean = np.mean(cAseg); print('<cA> =',cAsegmean)\n",
    "    cBseg = cB[ny1:ny2,nx1:nx2]; #cBsegmean = np.mean(cBseg); print('<cB> =',cBsegmean)\n",
    "    cCseg = cC[ny1:ny2,nx1:nx2]; #cCsegmean = np.mean(cCseg); print('<cC> =',cCsegmean)\n",
    "    cDseg = cD[ny1:ny2,nx1:nx2]; #cDsegmean = np.mean(cDseg); print('<cD> =',cDsegmean)\n",
    "    cseg = [cAseg,cBseg,cCseg,cDseg]\n",
    "    infoscore = sts.getinfoscore(cseg)\n",
    "    print('Correlation score =', infoscore)\n",
    "    print('')\n",
    "\n",
    "    # Show what the detectors see\n",
    "    plt.figure()\n",
    "    plt.subplot(334); plt.imshow(np.asarray(cAseg), cmap = 'Greys_r', vmin = 0, vmax = 255); plt.title(str(isegment)+' A')\n",
    "    plt.subplot(338); plt.imshow(np.asarray(cBseg), cmap = 'Greys_r', vmin = 0, vmax = 255); plt.title(str(isegment)+' B')\n",
    "    plt.subplot(336); plt.imshow(np.asarray(cCseg), cmap = 'Greys_r', vmin = 0, vmax = 255); plt.title(str(isegment)+' C')\n",
    "    plt.subplot(332); plt.imshow(np.asarray(cDseg), cmap = 'Greys_r', vmin = 0, vmax = 255); plt.title(str(isegment)+' D')\n",
    "\n",
    "# Show it\n",
    "plt.figure()\n",
    "plt.imshow(np.asarray(im), cmap = 'Greys_r', vmin = 0, vmax = 255)\n",
    "plt.title(imageroot)\n",
    "\n",
    "# Save a copy\n",
    "im.save(SEMSegmentjpgfile)"
   ]
  },
  {
   "cell_type": "code",
   "execution_count": 9,
   "metadata": {},
   "outputs": [
    {
     "name": "stdout",
     "output_type": "stream",
     "text": [
      "Calibration.nml\n"
     ]
    }
   ],
   "source": [
    "# Read and unpack the calibration data\n",
    "\n",
    "# Just echo input data files  \n",
    "print(Calibrationfile)\n",
    "\n",
    "# Extract\n",
    "Calibration=f90nml.read(Calibrationfile) #reads the file at a given path\n",
    "pA=Calibration['Calibration']['pA']\n",
    "pB=Calibration['Calibration']['pB']\n",
    "pC=Calibration['Calibration']['pC']\n",
    "pD=Calibration['Calibration']['pD']"
   ]
  },
  {
   "cell_type": "code",
   "execution_count": 10,
   "metadata": {},
   "outputs": [],
   "source": [
    "# Set up a grid of surface normal vectors and the backscatter response on them\n",
    "nptsx = 103\n",
    "nptsy = 101\n",
    "nxmid = int(nptsx/2); #print nxmid\n",
    "nymid = int(nptsy/2); #print nymid\n",
    "nmax = 5\n",
    "nxi = np.linspace(-nmax,nmax,nptsx); dnx = nxi[1]-nxi[0]\n",
    "nyi = np.linspace(-nmax,nmax,nptsy); dny = nyi[1]-nyi[0]\n",
    "nxigrid,nyigrid = np.meshgrid(nxi,nyi)\n",
    "theta = 15*np.pi/180\n",
    "sA = (-nxigrid*np.sin(theta)+np.cos(theta)-1)/(1+nxigrid**2+nyigrid**2)**.5\n",
    "sB = (-nyigrid*np.sin(theta)+np.cos(theta)-1)/(1+nxigrid**2+nyigrid**2)**.5\n",
    "sC = (+nxigrid*np.sin(theta)+np.cos(theta)-1)/(1+nxigrid**2+nyigrid**2)**.5\n",
    "sD = (+nyigrid*np.sin(theta)+np.cos(theta)-1)/(1+nxigrid**2+nyigrid**2)**.5\n",
    "\n",
    "# Set up the grids     \n",
    "BSgridA = np.polyval(pA,sA)\n",
    "BSgridB = np.polyval(pB,sB)\n",
    "BSgridC = np.polyval(pC,sC)\n",
    "BSgridD = np.polyval(pD,sD)"
   ]
  },
  {
   "cell_type": "code",
   "execution_count": 11,
   "metadata": {},
   "outputs": [
    {
     "data": {
      "text/plain": [
       "(101, 103)"
      ]
     },
     "execution_count": 11,
     "metadata": {},
     "output_type": "execute_result"
    }
   ],
   "source": [
    "# Generating the response function for each detector\n",
    "BSgridN = [BSgridA, BSgridB, BSgridC, BSgridD]\n",
    "BSgridL = ['A', 'B', 'C', 'D']\n",
    "BSmax = 150 # this for display purposes\n",
    "nxigrid.shape"
   ]
  },
  {
   "cell_type": "code",
   "execution_count": 12,
   "metadata": {},
   "outputs": [],
   "source": [
    "# Set up interpolators for detector responses\n",
    "Arule, Brule, Crule, Drule, \\\n",
    "KAxrule, KAyrule, KBxrule, KByrule, KCxrule, KCyrule, KDxrule, KDyrule =\\\n",
    "rs.setupdetectorresponse2(BSgridA, BSgridB, BSgridC, BSgridD, nxi, nyi, dnx, dny)"
   ]
  },
  {
   "cell_type": "code",
   "execution_count": 13,
   "metadata": {},
   "outputs": [],
   "source": [
    "# Create a blank slate\n",
    "solution = np.zeros(cA.shape)"
   ]
  },
  {
   "cell_type": "code",
   "execution_count": 14,
   "metadata": {},
   "outputs": [],
   "source": [
    "# Generic retrieval parameters\n",
    "maxiter = 5\n",
    "tolerance = 10"
   ]
  },
  {
   "cell_type": "code",
   "execution_count": 15,
   "metadata": {},
   "outputs": [
    {
     "name": "stdout",
     "output_type": "stream",
     "text": [
      "Std deviation in input signal is 5.0\n",
      "Std deviation in a priori is 15.0\n"
     ]
    }
   ],
   "source": [
    "# Create the a priori/solution set, and the uncertainty set\n",
    "    \n",
    "# Define the variance in the observations (BS units^2)\n",
    "#noiseamp = 5.0\n",
    "noiseamp = 25.0\n",
    "print('Std deviation in input signal is', noiseamp**.5)\n",
    "\n",
    "# Define parameters determining the variance in the a priori (microns^2)\n",
    "apriorivar0 = 225.0\n",
    "\n",
    "print('Std deviation in a priori is', apriorivar0**.5)\n",
    "\n",
    "# Create the initial a priori variance\n",
    "apriorivar = np.ones(cA.shape)*apriorivar0\n",
    "\n",
    "# Create the initial a priori set\n",
    "aprioriset = np.zeros(cA.shape)"
   ]
  },
  {
   "cell_type": "code",
   "execution_count": 16,
   "metadata": {
    "scrolled": false
   },
   "outputs": [
    {
     "name": "stdout",
     "output_type": "stream",
     "text": [
      "\n",
      "Segment: 0 ( 1 of 1 )\n",
      "for 790 385\n",
      "Observed intensities (detector B):\n",
      "mean, max, min = 61.41583333333333 73.0 52.0\n",
      "<diff>, std(diff), di2 = 2.053909777340761 9.74585453418878 47367.27531262313\n",
      "<diff>, std(diff), di2 = -1.2760558253248666 3.7576426197885753 164.25928682209448\n",
      "<diff>, std(diff), di2 = -1.4516008482271223 3.606251854285869 0.3713992656377985\n"
     ]
    }
   ],
   "source": [
    "# Loop to retrieve each segment\n",
    "reload(rs)\n",
    "for isegment in range(nsegments):\n",
    "    \n",
    "    # Choose the particular location of the dataset to analyze\n",
    "    nx1=nx1list[isegment]; nx2=nx2list[isegment]; nx = nx2-nx1+1\n",
    "    ny1=ny1list[isegment]; ny2=ny2list[isegment]; ny = ny2-ny1+1\n",
    "\n",
    "    # Construct gradients\n",
    "    Ny_unscaled, Nx_unscaled = gds.makeNxNy(ny,nx)\n",
    "    Ny = Ny_unscaled/dy\n",
    "    Nx = -Nx_unscaled/dx #fixing x inversion\n",
    "    \n",
    "    # Number of observations\n",
    "    nobs = (nx-1)*(ny-1)*4\n",
    "\n",
    "    # Number of desired points (heights)\n",
    "    nzpts = ny*nx-1\n",
    "    \n",
    "    # Extract the a priori variance\n",
    "    vartemp = apriorivar[ny1:ny2+1,nx1:nx2+1]\n",
    "    #vartemp_long = np.reshape(vartemp,nzpts+1,0) # This appears to have been deprecated\n",
    "    vartemp_long = vartemp.flatten(order='C')\n",
    "    Sa = np.diag(vartemp_long[:-1]); #print \"apriorivar\", shape(Sa)\n",
    "    \n",
    "    # Extract the starting z\n",
    "    settemp = solution[ny1:ny2+1,nx1:nx2+1]\n",
    "    #settemp_long = np.reshape(settemp,nzpts+1,0)\n",
    "    settemp_long = settemp.flatten(order='C')\n",
    "    settemp_longminus1 = settemp_long[:-1]\n",
    "    z_start = np.matrix(settemp_longminus1).T; #print \"aprioriset\", shape(z_start)\n",
    "    z_start = z_start*0.0; #print \"aprioriset\", shape(z_start)\n",
    "\n",
    "    # Construct the variance in observation + model\n",
    "    Se = np.matrix(np.eye(nobs))*noiseamp # Variance in observation + model (c)\n",
    "\n",
    "    # Do the retrieval\n",
    "    print('')\n",
    "    print(\"Segment:\", isegment, '(', isegment+1, \"of\", nsegments, ')')\n",
    "    print(\"for\", nx1, ny1)\n",
    "    z_retrieved = rs.retrievesegment(\\\n",
    "        nx1,ny1,nx2,ny2,cA,cB,cC,cD,\\\n",
    "        Sa,Se,z_start,maxiter,tolerance,\\\n",
    "        Nx,Ny,\\\n",
    "        Arule, Brule, Crule, Drule,\\\n",
    "        KAxrule, KAyrule, \\\n",
    "        KBxrule, KByrule, \\\n",
    "        KCxrule, KCyrule, \\\n",
    "        KDxrule, KDyrule)\n",
    "    \n",
    "    if isegment == 0:\n",
    "        solution[ny1:ny2+1,nx1:nx2+1] = copy.copy(z_retrieved)\n",
    "    else:\n",
    "        nextsolution = np.zeros(cA.shape)\n",
    "        nextsolution[ny1:ny2+1,nx1:nx2+1] = copy.copy(z_retrieved)\n",
    "        overlap = []\n",
    "        for i in range(isegment):\n",
    "            nextoverlap = list( set(nyxgrid[i])&set(nyxgrid[isegment]) )\n",
    "            overlap = overlap + nextoverlap\n",
    "            Noverlap = len(overlap); \n",
    "        print(\"Noverlap =\", Noverlap)\n",
    "        diff = 0.0\n",
    "        for j in range(Noverlap):\n",
    "            diff += nextsolution[overlap[j]] - solution[overlap[j]]\n",
    "        diffavg = diff/Noverlap\n",
    "        z_retrieved -= diffavg\n",
    "        solution[ny1:ny2+1,nx1:nx2+1] = copy.copy(z_retrieved)"
   ]
  },
  {
   "cell_type": "code",
   "execution_count": 17,
   "metadata": {
    "scrolled": false
   },
   "outputs": [
    {
     "name": "stdout",
     "output_type": "stream",
     "text": [
      "60\n",
      "60\n"
     ]
    }
   ],
   "source": [
    "# Show the reconstructed surface\n",
    "nx1tot = min(nx1list)\n",
    "nx2tot = max(nx2list)\n",
    "ny1tot = min(ny1list)\n",
    "ny2tot = max(ny2list)\n",
    "nxtot = nx2tot-nx1tot; print (nxtot)\n",
    "nytot = ny2tot-ny1tot; print (nytot)\n",
    "ymaxtot = (nytot-1)*dy; xmaxtot = (nxtot-1)*dx\n",
    "\n",
    "surf_ytot = np.linspace(0,ymaxtot,nytot); #print surf_ytot[1]-surf_ytot[0]; \n",
    "surf_xtot = np.linspace(0,xmaxtot,nxtot); #print surf_xtot[1]-surf_xtot[0]; \n",
    "surf_xgridtot, surf_ygridtot = np.meshgrid(surf_xtot,surf_ytot)\n",
    "settemp = solution[ny1tot:ny2tot,nx1tot:nx2tot]\n",
    "\n",
    "fig = plt.figure()\n",
    "ax = fig.add_subplot(111, projection='3d')\n",
    "ax.plot_surface(surf_xgridtot, surf_ygridtot, settemp, rstride=2,cstride=2)\n",
    "ax.invert_yaxis() # invert y axis (this fixes the right-hand-oriented vs left-hand-oriented system)\n",
    "ax.set_xlabel('x')\n",
    "ax.set_ylabel('y')\n",
    "ax.set_zlabel('z')\n",
    "ax.set_title(imageroot)\n",
    "ax.view_init(azim=-120,elev=22)"
   ]
  },
  {
   "cell_type": "code",
   "execution_count": 18,
   "metadata": {},
   "outputs": [
    {
     "name": "stdout",
     "output_type": "stream",
     "text": [
      "saving Segments3_retrieved\n"
     ]
    }
   ],
   "source": [
    "# Save this data\n",
    "\n",
    "#save an image\n",
    "fig.savefig(Retrievedjpgfile)\n",
    "\n",
    "\n",
    "print(\"saving\", Compressedfilename)\n",
    "np.savez_compressed(Compressedfilename, \\\n",
    "                    surfaceroot=imageroot, \\\n",
    "                    imageroot=imageroot, \\\n",
    "                    nx1list=nx1list, \\\n",
    "                    nx2list=nx2list, \\\n",
    "                    ny1list=ny1list, \\\n",
    "                    ny2list=ny2list, \\\n",
    "                    pA=pA, \\\n",
    "                    pB=pB, \\\n",
    "                    pC=pC, \\\n",
    "                    pD=pD, \\\n",
    "                    sA=sA, \\\n",
    "                    sB=sB, \\\n",
    "                    sC=sC, \\\n",
    "                    sD=sD, \\\n",
    "                    nxi=nxi, \\\n",
    "                    nyi=nyi, \\\n",
    "                    dnx=dnx, \\\n",
    "                    dny=dny, \\\n",
    "                    solution=solution)"
   ]
  },
  {
   "cell_type": "code",
   "execution_count": null,
   "metadata": {},
   "outputs": [],
   "source": []
  }
 ],
 "metadata": {
  "kernelspec": {
   "display_name": "Python 3 (ipykernel)",
   "language": "python",
   "name": "python3"
  },
  "language_info": {
   "codemirror_mode": {
    "name": "ipython",
    "version": 3
   },
   "file_extension": ".py",
   "mimetype": "text/x-python",
   "name": "python",
   "nbconvert_exporter": "python",
   "pygments_lexer": "ipython3",
   "version": "3.10.9"
  }
 },
 "nbformat": 4,
 "nbformat_minor": 1
}
