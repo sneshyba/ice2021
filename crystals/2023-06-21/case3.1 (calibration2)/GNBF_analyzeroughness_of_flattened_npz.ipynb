{
 "cells": [
  {
   "cell_type": "code",
   "execution_count": 45,
   "metadata": {},
   "outputs": [],
   "source": [
    "# Generic imports\n",
    "import numpy as np\n",
    "import matplotlib.pyplot as plt\n",
    "from mpl_toolkits.mplot3d import axes3d\n",
    "import os\n",
    "from sys import platform\n",
    "from importlib import reload\n",
    "import sys\n",
    "import scipy.optimize as optimization\n",
    "sys.path.append('../../..')\n",
    "import plotly.graph_objects as go\n",
    "from plotly.offline import iplot\n",
    "\n",
    "# Local imports\n",
    "import stlstuff as sls\n",
    "import imagestuff as ims\n",
    "import statstuff as sts\n",
    "import retrievestuff as rs"
   ]
  },
  {
   "cell_type": "code",
   "execution_count": 46,
   "metadata": {},
   "outputs": [],
   "source": [
    "%matplotlib inline"
   ]
  },
  {
   "cell_type": "markdown",
   "metadata": {},
   "source": [
    "The next cell has parameters that might change from crystal to crystal"
   ]
  },
  {
   "cell_type": "code",
   "execution_count": 47,
   "metadata": {},
   "outputs": [
    {
     "name": "stdout",
     "output_type": "stream",
     "text": [
      "Segments4_compr_flat_filt.npz\n"
     ]
    }
   ],
   "source": [
    "# Loading in the compressed data\n",
    "Segmentname = 'Segments4'\n",
    "Flattenedfilename = Segmentname+'_compr_flat_filt.npz'; print(Flattenedfilename)\n",
    "\n",
    "# Histogram accumulation: indexing starts at 0 for the upper-left, down, then across. Set to [] for all segments\n",
    "accumlist = [] \n",
    "\n",
    "# Parameters for binning\n",
    "Z2minforhist = 0.0\n",
    "Z2maxforhist = .03\n",
    "Z2offset = 0.0001\n",
    "nbins_max = 5\n",
    "levels = 3"
   ]
  },
  {
   "cell_type": "code",
   "execution_count": 48,
   "metadata": {},
   "outputs": [
    {
     "name": "stdout",
     "output_type": "stream",
     "text": [
      "Segments4_compr_flat_filt_roughness.jpg\n",
      "Segments4_compr_flat_filt.npz\n",
      "1\n",
      "2023-06-21/case3.1 (calibration2)\n"
     ]
    }
   ],
   "source": [
    "# Derivative names\n",
    "Roughnessfilename = Flattenedfilename[0:-4]+'_roughness.jpg'; print(Roughnessfilename)\n",
    "flattenedfile = np.load(Flattenedfilename); print(Flattenedfilename)\n",
    "xgridtot = flattenedfile['xgridtot']\n",
    "ygridtot = flattenedfile['ygridtot']\n",
    "zgridtot = flattenedfile['zgridtot']\n",
    "nsegments = (len(xgridtot)); print(nsegments)\n",
    "\n",
    "# This folder\n",
    "cwd = os.getcwd(); i = cwd.index('crystals'); case_and_folder = cwd[i+9:]; print(case_and_folder)"
   ]
  },
  {
   "cell_type": "code",
   "execution_count": 49,
   "metadata": {},
   "outputs": [
    {
     "name": "stdout",
     "output_type": "stream",
     "text": [
      "Accumulating segments [0]\n",
      "Plotting segments [0]\n",
      "Z2 ranging from 0.0 to 0.03\n",
      "Max number of bins specified is 5\n",
      "Sturges rule says maxbins = 12\n",
      "Using nbins =  5\n",
      "Using levels = 3 for uncertainty analysis\n"
     ]
    }
   ],
   "source": [
    "# Histogram accumulation\n",
    "if len(accumlist)==0:\n",
    "    accumlist = [i for i in range(nsegments)]\n",
    "plotthisone = accumlist\n",
    "print('Accumulating segments', accumlist)\n",
    "print('Plotting segments', plotthisone)\n",
    "\n",
    "# Parameters for binning\n",
    "print('Z2 ranging from', Z2minforhist, 'to', Z2maxforhist)\n",
    "print('Max number of bins specified is', nbins_max)\n",
    "Ntot = np.size(zgridtot[0]) # Just using the first one for a size estimate\n",
    "nbins_sturges = int(1+3.3*np.log10(Ntot)); print('Sturges rule says maxbins =', nbins_sturges)\n",
    "nbins = np.min([nbins_max,nbins_sturges]); print('Using nbins = ', nbins)\n",
    "Z2bins = np.linspace(Z2minforhist,Z2maxforhist,nbins); #print(Z2bins)\n",
    "Z2theory = np.linspace(Z2minforhist,Z2maxforhist,50); Z2theory=Z2theory[1:] # This is for Weibull plots\n",
    "print('Using levels =', levels, 'for uncertainty analysis')"
   ]
  },
  {
   "cell_type": "code",
   "execution_count": 50,
   "metadata": {
    "scrolled": false
   },
   "outputs": [
    {
     "name": "stdout",
     "output_type": "stream",
     "text": [
      "Original =  2754\n",
      "4 0 689 [624  60   3   2]\n",
      "4 1 689 [620  64   3   2]\n",
      "4 2 688 [629  52   7   0]\n",
      "4 3 688 [612  71   3   2]\n",
      "ilevelp = 4\n",
      "ilevelp, t = 4 2.7764451051977987\n",
      "meanZ2 =  0.0032471401822185193\n",
      "statsigma =  0.05698368347359198\n",
      "\n",
      "****Working on segment 0\n",
      "std dev of height =  0.17151612209035946\n",
      "integral =  0.004108115468409586\n",
      "error =  [3.05279641 3.37152197 0.85010611 0.42505305]\n"
     ]
    },
    {
     "data": {
      "application/vnd.plotly.v1+json": {
       "config": {
        "linkText": "Export to plot.ly",
        "plotlyServerURL": "https://plot.ly",
        "showLink": false
       },
       "data": [
        {
         "marker": {
          "color": "blue"
         },
         "mode": "markers",
         "type": "scatter",
         "x": [
          0,
          0.0075,
          0.015,
          0.0225
         ],
         "y": [
          5.392009138371486,
          3.0833695364687337,
          0.34656992208053766,
          -0.6342593309311884
         ]
        },
        {
         "marker": {
          "color": "black"
         },
         "mode": "markers",
         "type": "scatter",
         "x": [
          0,
          0.0075,
          0.015,
          0.0225
         ],
         "y": [
          5.40581225856851,
          3.226977467784412,
          0.8172720562702357,
          -0.045644861843470635
         ]
        },
        {
         "marker": {
          "color": "black"
         },
         "mode": "markers",
         "type": "scatter",
         "x": [
          0,
          0.0075,
          0.015,
          0.0225
         ],
         "y": [
          5.3782060181744615,
          2.9397616051530555,
          -0.12413221210916024,
          -1.2228738000189059
         ]
        }
       ],
       "layout": {
        "template": {
         "data": {
          "bar": [
           {
            "error_x": {
             "color": "#2a3f5f"
            },
            "error_y": {
             "color": "#2a3f5f"
            },
            "marker": {
             "line": {
              "color": "#E5ECF6",
              "width": 0.5
             },
             "pattern": {
              "fillmode": "overlay",
              "size": 10,
              "solidity": 0.2
             }
            },
            "type": "bar"
           }
          ],
          "barpolar": [
           {
            "marker": {
             "line": {
              "color": "#E5ECF6",
              "width": 0.5
             },
             "pattern": {
              "fillmode": "overlay",
              "size": 10,
              "solidity": 0.2
             }
            },
            "type": "barpolar"
           }
          ],
          "carpet": [
           {
            "aaxis": {
             "endlinecolor": "#2a3f5f",
             "gridcolor": "white",
             "linecolor": "white",
             "minorgridcolor": "white",
             "startlinecolor": "#2a3f5f"
            },
            "baxis": {
             "endlinecolor": "#2a3f5f",
             "gridcolor": "white",
             "linecolor": "white",
             "minorgridcolor": "white",
             "startlinecolor": "#2a3f5f"
            },
            "type": "carpet"
           }
          ],
          "choropleth": [
           {
            "colorbar": {
             "outlinewidth": 0,
             "ticks": ""
            },
            "type": "choropleth"
           }
          ],
          "contour": [
           {
            "colorbar": {
             "outlinewidth": 0,
             "ticks": ""
            },
            "colorscale": [
             [
              0,
              "#0d0887"
             ],
             [
              0.1111111111111111,
              "#46039f"
             ],
             [
              0.2222222222222222,
              "#7201a8"
             ],
             [
              0.3333333333333333,
              "#9c179e"
             ],
             [
              0.4444444444444444,
              "#bd3786"
             ],
             [
              0.5555555555555556,
              "#d8576b"
             ],
             [
              0.6666666666666666,
              "#ed7953"
             ],
             [
              0.7777777777777778,
              "#fb9f3a"
             ],
             [
              0.8888888888888888,
              "#fdca26"
             ],
             [
              1,
              "#f0f921"
             ]
            ],
            "type": "contour"
           }
          ],
          "contourcarpet": [
           {
            "colorbar": {
             "outlinewidth": 0,
             "ticks": ""
            },
            "type": "contourcarpet"
           }
          ],
          "heatmap": [
           {
            "colorbar": {
             "outlinewidth": 0,
             "ticks": ""
            },
            "colorscale": [
             [
              0,
              "#0d0887"
             ],
             [
              0.1111111111111111,
              "#46039f"
             ],
             [
              0.2222222222222222,
              "#7201a8"
             ],
             [
              0.3333333333333333,
              "#9c179e"
             ],
             [
              0.4444444444444444,
              "#bd3786"
             ],
             [
              0.5555555555555556,
              "#d8576b"
             ],
             [
              0.6666666666666666,
              "#ed7953"
             ],
             [
              0.7777777777777778,
              "#fb9f3a"
             ],
             [
              0.8888888888888888,
              "#fdca26"
             ],
             [
              1,
              "#f0f921"
             ]
            ],
            "type": "heatmap"
           }
          ],
          "heatmapgl": [
           {
            "colorbar": {
             "outlinewidth": 0,
             "ticks": ""
            },
            "colorscale": [
             [
              0,
              "#0d0887"
             ],
             [
              0.1111111111111111,
              "#46039f"
             ],
             [
              0.2222222222222222,
              "#7201a8"
             ],
             [
              0.3333333333333333,
              "#9c179e"
             ],
             [
              0.4444444444444444,
              "#bd3786"
             ],
             [
              0.5555555555555556,
              "#d8576b"
             ],
             [
              0.6666666666666666,
              "#ed7953"
             ],
             [
              0.7777777777777778,
              "#fb9f3a"
             ],
             [
              0.8888888888888888,
              "#fdca26"
             ],
             [
              1,
              "#f0f921"
             ]
            ],
            "type": "heatmapgl"
           }
          ],
          "histogram": [
           {
            "marker": {
             "pattern": {
              "fillmode": "overlay",
              "size": 10,
              "solidity": 0.2
             }
            },
            "type": "histogram"
           }
          ],
          "histogram2d": [
           {
            "colorbar": {
             "outlinewidth": 0,
             "ticks": ""
            },
            "colorscale": [
             [
              0,
              "#0d0887"
             ],
             [
              0.1111111111111111,
              "#46039f"
             ],
             [
              0.2222222222222222,
              "#7201a8"
             ],
             [
              0.3333333333333333,
              "#9c179e"
             ],
             [
              0.4444444444444444,
              "#bd3786"
             ],
             [
              0.5555555555555556,
              "#d8576b"
             ],
             [
              0.6666666666666666,
              "#ed7953"
             ],
             [
              0.7777777777777778,
              "#fb9f3a"
             ],
             [
              0.8888888888888888,
              "#fdca26"
             ],
             [
              1,
              "#f0f921"
             ]
            ],
            "type": "histogram2d"
           }
          ],
          "histogram2dcontour": [
           {
            "colorbar": {
             "outlinewidth": 0,
             "ticks": ""
            },
            "colorscale": [
             [
              0,
              "#0d0887"
             ],
             [
              0.1111111111111111,
              "#46039f"
             ],
             [
              0.2222222222222222,
              "#7201a8"
             ],
             [
              0.3333333333333333,
              "#9c179e"
             ],
             [
              0.4444444444444444,
              "#bd3786"
             ],
             [
              0.5555555555555556,
              "#d8576b"
             ],
             [
              0.6666666666666666,
              "#ed7953"
             ],
             [
              0.7777777777777778,
              "#fb9f3a"
             ],
             [
              0.8888888888888888,
              "#fdca26"
             ],
             [
              1,
              "#f0f921"
             ]
            ],
            "type": "histogram2dcontour"
           }
          ],
          "mesh3d": [
           {
            "colorbar": {
             "outlinewidth": 0,
             "ticks": ""
            },
            "type": "mesh3d"
           }
          ],
          "parcoords": [
           {
            "line": {
             "colorbar": {
              "outlinewidth": 0,
              "ticks": ""
             }
            },
            "type": "parcoords"
           }
          ],
          "pie": [
           {
            "automargin": true,
            "type": "pie"
           }
          ],
          "scatter": [
           {
            "fillpattern": {
             "fillmode": "overlay",
             "size": 10,
             "solidity": 0.2
            },
            "type": "scatter"
           }
          ],
          "scatter3d": [
           {
            "line": {
             "colorbar": {
              "outlinewidth": 0,
              "ticks": ""
             }
            },
            "marker": {
             "colorbar": {
              "outlinewidth": 0,
              "ticks": ""
             }
            },
            "type": "scatter3d"
           }
          ],
          "scattercarpet": [
           {
            "marker": {
             "colorbar": {
              "outlinewidth": 0,
              "ticks": ""
             }
            },
            "type": "scattercarpet"
           }
          ],
          "scattergeo": [
           {
            "marker": {
             "colorbar": {
              "outlinewidth": 0,
              "ticks": ""
             }
            },
            "type": "scattergeo"
           }
          ],
          "scattergl": [
           {
            "marker": {
             "colorbar": {
              "outlinewidth": 0,
              "ticks": ""
             }
            },
            "type": "scattergl"
           }
          ],
          "scattermapbox": [
           {
            "marker": {
             "colorbar": {
              "outlinewidth": 0,
              "ticks": ""
             }
            },
            "type": "scattermapbox"
           }
          ],
          "scatterpolar": [
           {
            "marker": {
             "colorbar": {
              "outlinewidth": 0,
              "ticks": ""
             }
            },
            "type": "scatterpolar"
           }
          ],
          "scatterpolargl": [
           {
            "marker": {
             "colorbar": {
              "outlinewidth": 0,
              "ticks": ""
             }
            },
            "type": "scatterpolargl"
           }
          ],
          "scatterternary": [
           {
            "marker": {
             "colorbar": {
              "outlinewidth": 0,
              "ticks": ""
             }
            },
            "type": "scatterternary"
           }
          ],
          "surface": [
           {
            "colorbar": {
             "outlinewidth": 0,
             "ticks": ""
            },
            "colorscale": [
             [
              0,
              "#0d0887"
             ],
             [
              0.1111111111111111,
              "#46039f"
             ],
             [
              0.2222222222222222,
              "#7201a8"
             ],
             [
              0.3333333333333333,
              "#9c179e"
             ],
             [
              0.4444444444444444,
              "#bd3786"
             ],
             [
              0.5555555555555556,
              "#d8576b"
             ],
             [
              0.6666666666666666,
              "#ed7953"
             ],
             [
              0.7777777777777778,
              "#fb9f3a"
             ],
             [
              0.8888888888888888,
              "#fdca26"
             ],
             [
              1,
              "#f0f921"
             ]
            ],
            "type": "surface"
           }
          ],
          "table": [
           {
            "cells": {
             "fill": {
              "color": "#EBF0F8"
             },
             "line": {
              "color": "white"
             }
            },
            "header": {
             "fill": {
              "color": "#C8D4E3"
             },
             "line": {
              "color": "white"
             }
            },
            "type": "table"
           }
          ]
         },
         "layout": {
          "annotationdefaults": {
           "arrowcolor": "#2a3f5f",
           "arrowhead": 0,
           "arrowwidth": 1
          },
          "autotypenumbers": "strict",
          "coloraxis": {
           "colorbar": {
            "outlinewidth": 0,
            "ticks": ""
           }
          },
          "colorscale": {
           "diverging": [
            [
             0,
             "#8e0152"
            ],
            [
             0.1,
             "#c51b7d"
            ],
            [
             0.2,
             "#de77ae"
            ],
            [
             0.3,
             "#f1b6da"
            ],
            [
             0.4,
             "#fde0ef"
            ],
            [
             0.5,
             "#f7f7f7"
            ],
            [
             0.6,
             "#e6f5d0"
            ],
            [
             0.7,
             "#b8e186"
            ],
            [
             0.8,
             "#7fbc41"
            ],
            [
             0.9,
             "#4d9221"
            ],
            [
             1,
             "#276419"
            ]
           ],
           "sequential": [
            [
             0,
             "#0d0887"
            ],
            [
             0.1111111111111111,
             "#46039f"
            ],
            [
             0.2222222222222222,
             "#7201a8"
            ],
            [
             0.3333333333333333,
             "#9c179e"
            ],
            [
             0.4444444444444444,
             "#bd3786"
            ],
            [
             0.5555555555555556,
             "#d8576b"
            ],
            [
             0.6666666666666666,
             "#ed7953"
            ],
            [
             0.7777777777777778,
             "#fb9f3a"
            ],
            [
             0.8888888888888888,
             "#fdca26"
            ],
            [
             1,
             "#f0f921"
            ]
           ],
           "sequentialminus": [
            [
             0,
             "#0d0887"
            ],
            [
             0.1111111111111111,
             "#46039f"
            ],
            [
             0.2222222222222222,
             "#7201a8"
            ],
            [
             0.3333333333333333,
             "#9c179e"
            ],
            [
             0.4444444444444444,
             "#bd3786"
            ],
            [
             0.5555555555555556,
             "#d8576b"
            ],
            [
             0.6666666666666666,
             "#ed7953"
            ],
            [
             0.7777777777777778,
             "#fb9f3a"
            ],
            [
             0.8888888888888888,
             "#fdca26"
            ],
            [
             1,
             "#f0f921"
            ]
           ]
          },
          "colorway": [
           "#636efa",
           "#EF553B",
           "#00cc96",
           "#ab63fa",
           "#FFA15A",
           "#19d3f3",
           "#FF6692",
           "#B6E880",
           "#FF97FF",
           "#FECB52"
          ],
          "font": {
           "color": "#2a3f5f"
          },
          "geo": {
           "bgcolor": "white",
           "lakecolor": "white",
           "landcolor": "#E5ECF6",
           "showlakes": true,
           "showland": true,
           "subunitcolor": "white"
          },
          "hoverlabel": {
           "align": "left"
          },
          "hovermode": "closest",
          "mapbox": {
           "style": "light"
          },
          "paper_bgcolor": "white",
          "plot_bgcolor": "#E5ECF6",
          "polar": {
           "angularaxis": {
            "gridcolor": "white",
            "linecolor": "white",
            "ticks": ""
           },
           "bgcolor": "#E5ECF6",
           "radialaxis": {
            "gridcolor": "white",
            "linecolor": "white",
            "ticks": ""
           }
          },
          "scene": {
           "xaxis": {
            "backgroundcolor": "#E5ECF6",
            "gridcolor": "white",
            "gridwidth": 2,
            "linecolor": "white",
            "showbackground": true,
            "ticks": "",
            "zerolinecolor": "white"
           },
           "yaxis": {
            "backgroundcolor": "#E5ECF6",
            "gridcolor": "white",
            "gridwidth": 2,
            "linecolor": "white",
            "showbackground": true,
            "ticks": "",
            "zerolinecolor": "white"
           },
           "zaxis": {
            "backgroundcolor": "#E5ECF6",
            "gridcolor": "white",
            "gridwidth": 2,
            "linecolor": "white",
            "showbackground": true,
            "ticks": "",
            "zerolinecolor": "white"
           }
          },
          "shapedefaults": {
           "line": {
            "color": "#2a3f5f"
           }
          },
          "ternary": {
           "aaxis": {
            "gridcolor": "white",
            "linecolor": "white",
            "ticks": ""
           },
           "baxis": {
            "gridcolor": "white",
            "linecolor": "white",
            "ticks": ""
           },
           "bgcolor": "#E5ECF6",
           "caxis": {
            "gridcolor": "white",
            "linecolor": "white",
            "ticks": ""
           }
          },
          "title": {
           "x": 0.05
          },
          "xaxis": {
           "automargin": true,
           "gridcolor": "white",
           "linecolor": "white",
           "ticks": "",
           "title": {
            "standoff": 15
           },
           "zerolinecolor": "white",
           "zerolinewidth": 2
          },
          "yaxis": {
           "automargin": true,
           "gridcolor": "white",
           "linecolor": "white",
           "ticks": "",
           "title": {
            "standoff": 15
           },
           "zerolinecolor": "white",
           "zerolinewidth": 2
          }
         }
        }
       }
      },
      "text/html": [
       "<div>                            <div id=\"f645e4f0-dc6e-4d0f-8433-9de6e491f525\" class=\"plotly-graph-div\" style=\"height:525px; width:100%;\"></div>            <script type=\"text/javascript\">                require([\"plotly\"], function(Plotly) {                    window.PLOTLYENV=window.PLOTLYENV || {};                                    if (document.getElementById(\"f645e4f0-dc6e-4d0f-8433-9de6e491f525\")) {                    Plotly.newPlot(                        \"f645e4f0-dc6e-4d0f-8433-9de6e491f525\",                        [{\"marker\":{\"color\":\"blue\"},\"mode\":\"markers\",\"x\":[0.0,0.0075,0.015,0.0225],\"y\":[5.392009138371486,3.0833695364687337,0.34656992208053766,-0.6342593309311884],\"type\":\"scatter\"},{\"marker\":{\"color\":\"black\"},\"mode\":\"markers\",\"x\":[0.0,0.0075,0.015,0.0225],\"y\":[5.40581225856851,3.226977467784412,0.8172720562702357,-0.045644861843470635],\"type\":\"scatter\"},{\"marker\":{\"color\":\"black\"},\"mode\":\"markers\",\"x\":[0.0,0.0075,0.015,0.0225],\"y\":[5.3782060181744615,2.9397616051530555,-0.12413221210916024,-1.2228738000189059],\"type\":\"scatter\"}],                        {\"template\":{\"data\":{\"barpolar\":[{\"marker\":{\"line\":{\"color\":\"#E5ECF6\",\"width\":0.5},\"pattern\":{\"fillmode\":\"overlay\",\"size\":10,\"solidity\":0.2}},\"type\":\"barpolar\"}],\"bar\":[{\"error_x\":{\"color\":\"#2a3f5f\"},\"error_y\":{\"color\":\"#2a3f5f\"},\"marker\":{\"line\":{\"color\":\"#E5ECF6\",\"width\":0.5},\"pattern\":{\"fillmode\":\"overlay\",\"size\":10,\"solidity\":0.2}},\"type\":\"bar\"}],\"carpet\":[{\"aaxis\":{\"endlinecolor\":\"#2a3f5f\",\"gridcolor\":\"white\",\"linecolor\":\"white\",\"minorgridcolor\":\"white\",\"startlinecolor\":\"#2a3f5f\"},\"baxis\":{\"endlinecolor\":\"#2a3f5f\",\"gridcolor\":\"white\",\"linecolor\":\"white\",\"minorgridcolor\":\"white\",\"startlinecolor\":\"#2a3f5f\"},\"type\":\"carpet\"}],\"choropleth\":[{\"colorbar\":{\"outlinewidth\":0,\"ticks\":\"\"},\"type\":\"choropleth\"}],\"contourcarpet\":[{\"colorbar\":{\"outlinewidth\":0,\"ticks\":\"\"},\"type\":\"contourcarpet\"}],\"contour\":[{\"colorbar\":{\"outlinewidth\":0,\"ticks\":\"\"},\"colorscale\":[[0.0,\"#0d0887\"],[0.1111111111111111,\"#46039f\"],[0.2222222222222222,\"#7201a8\"],[0.3333333333333333,\"#9c179e\"],[0.4444444444444444,\"#bd3786\"],[0.5555555555555556,\"#d8576b\"],[0.6666666666666666,\"#ed7953\"],[0.7777777777777778,\"#fb9f3a\"],[0.8888888888888888,\"#fdca26\"],[1.0,\"#f0f921\"]],\"type\":\"contour\"}],\"heatmapgl\":[{\"colorbar\":{\"outlinewidth\":0,\"ticks\":\"\"},\"colorscale\":[[0.0,\"#0d0887\"],[0.1111111111111111,\"#46039f\"],[0.2222222222222222,\"#7201a8\"],[0.3333333333333333,\"#9c179e\"],[0.4444444444444444,\"#bd3786\"],[0.5555555555555556,\"#d8576b\"],[0.6666666666666666,\"#ed7953\"],[0.7777777777777778,\"#fb9f3a\"],[0.8888888888888888,\"#fdca26\"],[1.0,\"#f0f921\"]],\"type\":\"heatmapgl\"}],\"heatmap\":[{\"colorbar\":{\"outlinewidth\":0,\"ticks\":\"\"},\"colorscale\":[[0.0,\"#0d0887\"],[0.1111111111111111,\"#46039f\"],[0.2222222222222222,\"#7201a8\"],[0.3333333333333333,\"#9c179e\"],[0.4444444444444444,\"#bd3786\"],[0.5555555555555556,\"#d8576b\"],[0.6666666666666666,\"#ed7953\"],[0.7777777777777778,\"#fb9f3a\"],[0.8888888888888888,\"#fdca26\"],[1.0,\"#f0f921\"]],\"type\":\"heatmap\"}],\"histogram2dcontour\":[{\"colorbar\":{\"outlinewidth\":0,\"ticks\":\"\"},\"colorscale\":[[0.0,\"#0d0887\"],[0.1111111111111111,\"#46039f\"],[0.2222222222222222,\"#7201a8\"],[0.3333333333333333,\"#9c179e\"],[0.4444444444444444,\"#bd3786\"],[0.5555555555555556,\"#d8576b\"],[0.6666666666666666,\"#ed7953\"],[0.7777777777777778,\"#fb9f3a\"],[0.8888888888888888,\"#fdca26\"],[1.0,\"#f0f921\"]],\"type\":\"histogram2dcontour\"}],\"histogram2d\":[{\"colorbar\":{\"outlinewidth\":0,\"ticks\":\"\"},\"colorscale\":[[0.0,\"#0d0887\"],[0.1111111111111111,\"#46039f\"],[0.2222222222222222,\"#7201a8\"],[0.3333333333333333,\"#9c179e\"],[0.4444444444444444,\"#bd3786\"],[0.5555555555555556,\"#d8576b\"],[0.6666666666666666,\"#ed7953\"],[0.7777777777777778,\"#fb9f3a\"],[0.8888888888888888,\"#fdca26\"],[1.0,\"#f0f921\"]],\"type\":\"histogram2d\"}],\"histogram\":[{\"marker\":{\"pattern\":{\"fillmode\":\"overlay\",\"size\":10,\"solidity\":0.2}},\"type\":\"histogram\"}],\"mesh3d\":[{\"colorbar\":{\"outlinewidth\":0,\"ticks\":\"\"},\"type\":\"mesh3d\"}],\"parcoords\":[{\"line\":{\"colorbar\":{\"outlinewidth\":0,\"ticks\":\"\"}},\"type\":\"parcoords\"}],\"pie\":[{\"automargin\":true,\"type\":\"pie\"}],\"scatter3d\":[{\"line\":{\"colorbar\":{\"outlinewidth\":0,\"ticks\":\"\"}},\"marker\":{\"colorbar\":{\"outlinewidth\":0,\"ticks\":\"\"}},\"type\":\"scatter3d\"}],\"scattercarpet\":[{\"marker\":{\"colorbar\":{\"outlinewidth\":0,\"ticks\":\"\"}},\"type\":\"scattercarpet\"}],\"scattergeo\":[{\"marker\":{\"colorbar\":{\"outlinewidth\":0,\"ticks\":\"\"}},\"type\":\"scattergeo\"}],\"scattergl\":[{\"marker\":{\"colorbar\":{\"outlinewidth\":0,\"ticks\":\"\"}},\"type\":\"scattergl\"}],\"scattermapbox\":[{\"marker\":{\"colorbar\":{\"outlinewidth\":0,\"ticks\":\"\"}},\"type\":\"scattermapbox\"}],\"scatterpolargl\":[{\"marker\":{\"colorbar\":{\"outlinewidth\":0,\"ticks\":\"\"}},\"type\":\"scatterpolargl\"}],\"scatterpolar\":[{\"marker\":{\"colorbar\":{\"outlinewidth\":0,\"ticks\":\"\"}},\"type\":\"scatterpolar\"}],\"scatter\":[{\"fillpattern\":{\"fillmode\":\"overlay\",\"size\":10,\"solidity\":0.2},\"type\":\"scatter\"}],\"scatterternary\":[{\"marker\":{\"colorbar\":{\"outlinewidth\":0,\"ticks\":\"\"}},\"type\":\"scatterternary\"}],\"surface\":[{\"colorbar\":{\"outlinewidth\":0,\"ticks\":\"\"},\"colorscale\":[[0.0,\"#0d0887\"],[0.1111111111111111,\"#46039f\"],[0.2222222222222222,\"#7201a8\"],[0.3333333333333333,\"#9c179e\"],[0.4444444444444444,\"#bd3786\"],[0.5555555555555556,\"#d8576b\"],[0.6666666666666666,\"#ed7953\"],[0.7777777777777778,\"#fb9f3a\"],[0.8888888888888888,\"#fdca26\"],[1.0,\"#f0f921\"]],\"type\":\"surface\"}],\"table\":[{\"cells\":{\"fill\":{\"color\":\"#EBF0F8\"},\"line\":{\"color\":\"white\"}},\"header\":{\"fill\":{\"color\":\"#C8D4E3\"},\"line\":{\"color\":\"white\"}},\"type\":\"table\"}]},\"layout\":{\"annotationdefaults\":{\"arrowcolor\":\"#2a3f5f\",\"arrowhead\":0,\"arrowwidth\":1},\"autotypenumbers\":\"strict\",\"coloraxis\":{\"colorbar\":{\"outlinewidth\":0,\"ticks\":\"\"}},\"colorscale\":{\"diverging\":[[0,\"#8e0152\"],[0.1,\"#c51b7d\"],[0.2,\"#de77ae\"],[0.3,\"#f1b6da\"],[0.4,\"#fde0ef\"],[0.5,\"#f7f7f7\"],[0.6,\"#e6f5d0\"],[0.7,\"#b8e186\"],[0.8,\"#7fbc41\"],[0.9,\"#4d9221\"],[1,\"#276419\"]],\"sequential\":[[0.0,\"#0d0887\"],[0.1111111111111111,\"#46039f\"],[0.2222222222222222,\"#7201a8\"],[0.3333333333333333,\"#9c179e\"],[0.4444444444444444,\"#bd3786\"],[0.5555555555555556,\"#d8576b\"],[0.6666666666666666,\"#ed7953\"],[0.7777777777777778,\"#fb9f3a\"],[0.8888888888888888,\"#fdca26\"],[1.0,\"#f0f921\"]],\"sequentialminus\":[[0.0,\"#0d0887\"],[0.1111111111111111,\"#46039f\"],[0.2222222222222222,\"#7201a8\"],[0.3333333333333333,\"#9c179e\"],[0.4444444444444444,\"#bd3786\"],[0.5555555555555556,\"#d8576b\"],[0.6666666666666666,\"#ed7953\"],[0.7777777777777778,\"#fb9f3a\"],[0.8888888888888888,\"#fdca26\"],[1.0,\"#f0f921\"]]},\"colorway\":[\"#636efa\",\"#EF553B\",\"#00cc96\",\"#ab63fa\",\"#FFA15A\",\"#19d3f3\",\"#FF6692\",\"#B6E880\",\"#FF97FF\",\"#FECB52\"],\"font\":{\"color\":\"#2a3f5f\"},\"geo\":{\"bgcolor\":\"white\",\"lakecolor\":\"white\",\"landcolor\":\"#E5ECF6\",\"showlakes\":true,\"showland\":true,\"subunitcolor\":\"white\"},\"hoverlabel\":{\"align\":\"left\"},\"hovermode\":\"closest\",\"mapbox\":{\"style\":\"light\"},\"paper_bgcolor\":\"white\",\"plot_bgcolor\":\"#E5ECF6\",\"polar\":{\"angularaxis\":{\"gridcolor\":\"white\",\"linecolor\":\"white\",\"ticks\":\"\"},\"bgcolor\":\"#E5ECF6\",\"radialaxis\":{\"gridcolor\":\"white\",\"linecolor\":\"white\",\"ticks\":\"\"}},\"scene\":{\"xaxis\":{\"backgroundcolor\":\"#E5ECF6\",\"gridcolor\":\"white\",\"gridwidth\":2,\"linecolor\":\"white\",\"showbackground\":true,\"ticks\":\"\",\"zerolinecolor\":\"white\"},\"yaxis\":{\"backgroundcolor\":\"#E5ECF6\",\"gridcolor\":\"white\",\"gridwidth\":2,\"linecolor\":\"white\",\"showbackground\":true,\"ticks\":\"\",\"zerolinecolor\":\"white\"},\"zaxis\":{\"backgroundcolor\":\"#E5ECF6\",\"gridcolor\":\"white\",\"gridwidth\":2,\"linecolor\":\"white\",\"showbackground\":true,\"ticks\":\"\",\"zerolinecolor\":\"white\"}},\"shapedefaults\":{\"line\":{\"color\":\"#2a3f5f\"}},\"ternary\":{\"aaxis\":{\"gridcolor\":\"white\",\"linecolor\":\"white\",\"ticks\":\"\"},\"baxis\":{\"gridcolor\":\"white\",\"linecolor\":\"white\",\"ticks\":\"\"},\"bgcolor\":\"#E5ECF6\",\"caxis\":{\"gridcolor\":\"white\",\"linecolor\":\"white\",\"ticks\":\"\"}},\"title\":{\"x\":0.05},\"xaxis\":{\"automargin\":true,\"gridcolor\":\"white\",\"linecolor\":\"white\",\"ticks\":\"\",\"title\":{\"standoff\":15},\"zerolinecolor\":\"white\",\"zerolinewidth\":2},\"yaxis\":{\"automargin\":true,\"gridcolor\":\"white\",\"linecolor\":\"white\",\"ticks\":\"\",\"title\":{\"standoff\":15},\"zerolinecolor\":\"white\",\"zerolinewidth\":2}}}},                        {\"responsive\": true}                    ).then(function(){\n",
       "                            \n",
       "var gd = document.getElementById('f645e4f0-dc6e-4d0f-8433-9de6e491f525');\n",
       "var x = new MutationObserver(function (mutations, observer) {{\n",
       "        var display = window.getComputedStyle(gd).display;\n",
       "        if (!display || display === 'none') {{\n",
       "            console.log([gd, 'removed!']);\n",
       "            Plotly.purge(gd);\n",
       "            observer.disconnect();\n",
       "        }}\n",
       "}});\n",
       "\n",
       "// Listen for the removal of the full notebook cells\n",
       "var notebookContainer = gd.closest('#notebook-container');\n",
       "if (notebookContainer) {{\n",
       "    x.observe(notebookContainer, {childList: true});\n",
       "}}\n",
       "\n",
       "// Listen for the clearing of the current output cell\n",
       "var outputEl = gd.closest('.output');\n",
       "if (outputEl) {{\n",
       "    x.observe(outputEl, {childList: true});\n",
       "}}\n",
       "\n",
       "                        })                };                });            </script>        </div>"
      ]
     },
     "metadata": {},
     "output_type": "display_data"
    },
    {
     "name": "stdout",
     "output_type": "stream",
     "text": [
      "a_linear_optimized 5.315550992299781\n",
      "b_linear_optimized -287.9912571129732\n",
      "sigmaG 0.05892645952819931\n",
      "a_quadratic_optimized 5.486961758908045\n",
      "b_quadratic_optimized -379.2366070465658\n",
      "c_quadratic_optimized 4443.0758460081615\n",
      "approximate sigmaW 0.05135052330855665\n"
     ]
    },
    {
     "data": {
      "image/png": "[encoded data removed]",
      "text/plain": [
       "<Figure size 640x480 with 1 Axes>"
      ]
     },
     "metadata": {},
     "output_type": "display_data"
    },
    {
     "data": {
      "image/png": "[encoded data removed]",
      "text/plain": [
       "<Figure size 640x480 with 1 Axes>"
      ]
     },
     "metadata": {},
     "output_type": "display_data"
    }
   ],
   "source": [
    "# Arrays for accumulating \n",
    "counts_list = []\n",
    "meanZ2_list = []\n",
    "Z2flat_list = []\n",
    "\n",
    "# First-guess for Weibull fitting (sigma2W, etaW)\n",
    "x0 = np.array([.1,.9])\n",
    "\n",
    "# This suppresses warnings when lots of graphics windows are open\n",
    "import matplotlib\n",
    "matplotlib.rc('figure', max_open_warning = 0)\n",
    "\n",
    "# This is for when we want to show or suppress intermediate graphics and other output\n",
    "Show_intermediate_graphics = True\n",
    "\n",
    "# Looping over segments\n",
    "for isegment in range(nsegments):\n",
    "\n",
    "    # Pull out the next segment\n",
    "    sollast = zgridtot[isegment]\n",
    "    xgrid = xgridtot[isegment] \n",
    "    ygrid = ygridtot[isegment]\n",
    "    Ny, Nx = np.shape(sollast); #print(sollast.shape)\n",
    "    Ntot = np.size(sollast)\n",
    "    dx = xgrid[0,1]-xgrid[0,0]; #print('dx =', dx)\n",
    "    dy = ygrid[1,0]-ygrid[0,0]; #print('dy =', dy)\n",
    "\n",
    "    # Get the probability distribution in Z2\n",
    "    counts, bins, meanZ2, Z2flat, error = rs.getrhoofz2(sollast,dx,dy,Z2bins=Z2bins,levels=levels)\n",
    "    print('meanZ2 = ', meanZ2)\n",
    "    print('statsigma = ', np.sqrt(meanZ2))\n",
    "\n",
    "    # Plot if we want\n",
    "    if isegment in plotthisone:\n",
    "        \n",
    "        # Reporting\n",
    "        print('')\n",
    "        print('****Working on segment', isegment)\n",
    "        \n",
    "        # Graph the surface\n",
    "        if Show_intermediate_graphics:\n",
    "            fig1 = plt.figure()\n",
    "            ax = fig1.add_subplot(111, projection='3d')\n",
    "            ax.plot_surface(xgrid, ygrid, sollast)\n",
    "            title = Flattenedfilename+' #'+str(isegment)\n",
    "            ax.set_xlabel('x')\n",
    "            ax.set_ylabel('y')\n",
    "            ax.set_zlabel('z')\n",
    "            ax.set_title(title)\n",
    "            ax.view_init(azim=-120,elev=22)\n",
    "        \n",
    "        # Normalize the distribution function, report stats\n",
    "        integral_rho = np.trapz(counts, bins)\n",
    "        print ('std dev of height = ', np.std(sollast))\n",
    "        print('integral = ', integral_rho)\n",
    "        counts = counts/integral_rho\n",
    "        error = error/integral_rho\n",
    "        print('error = ', error)\n",
    "\n",
    "        # This is for calculating the errors in fitting (and graphing)\n",
    "        countsplus = counts+error; #print(countsplus)\n",
    "        countsminus = counts**2/countsplus; #print(countsminus)\n",
    "\n",
    "        # Graph the probability\n",
    "        if Show_intermediate_graphics:\n",
    "            \n",
    "            # Using plotly\n",
    "            plot1 = go.Scatter(x=bins, y=np.log(counts), marker=dict(color='blue'),mode='markers')\n",
    "            plot2 = go.Scatter(x=bins, y=np.log(countsplus), marker=dict(color='black'),mode='markers')\n",
    "            plot3 = go.Scatter(x=bins, y=np.log(countsminus), marker=dict(color='black'),mode='markers')\n",
    "            iplot([plot1,plot2,plot3])\n",
    "\n",
    "        # Eliminate entries greater than a threshold (not sure if this is necessary)\n",
    "        ikeep = np.argwhere(Z2flat < Z2maxforhist)\n",
    "        Z2flat_new = np.squeeze(Z2flat[ikeep])\n",
    "\n",
    "        # Specify errors in a log space\n",
    "        errors = countsplus/counts; #print(errors)\n",
    "        \n",
    "        # Do a linear fit\n",
    "        f_linear = lambda x, a, b: a + b*x   # function to fit\n",
    "        solution, corr = optimization.curve_fit(f_linear, bins+Z2offset, np.log(counts), [5, -100], errors)\n",
    "        a_linear_optimized = solution[0]; print('a_linear_optimized', a_linear_optimized)\n",
    "        b_linear_optimized = solution[1]; print('b_linear_optimized', b_linear_optimized)\n",
    "        sigma2G = -1/b_linear_optimized\n",
    "        sigmaG = np.sqrt(sigma2G); print('sigmaG', sigmaG)\n",
    "\n",
    "        # Do a quadratic fit\n",
    "        f_quadratic = lambda x, a, b, c: a + b*x +c*x**2  # function to fit\n",
    "        solution, corr = optimization.curve_fit(f_quadratic, bins+Z2offset, np.log(counts), [5, -100, 0], errors)\n",
    "        a_quadratic_optimized = solution[0]; print('a_quadratic_optimized', a_quadratic_optimized)\n",
    "        b_quadratic_optimized = solution[1]; print('b_quadratic_optimized', b_quadratic_optimized)\n",
    "        c_quadratic_optimized = solution[2]; print('c_quadratic_optimized', c_quadratic_optimized)\n",
    "        sigma2W = -1/b_quadratic_optimized\n",
    "        sigmaW = np.sqrt(sigma2W); print('approximate sigmaW', sigmaW)\n",
    "        \n",
    "        # Calculate the Gaussian fit\n",
    "        myGaussian = sts.Gaussian(Z2theory,sigma2G)\n",
    "        \n",
    "        # Calculate the Weibill fit -- \n",
    "        # Note that this is a kluge: it should be replaced by myWeibull = sts.Weibull(Z2theory,sigma2W,etaW)\n",
    "        myWeibull = np.exp(f_quadratic(Z2theory,a_quadratic_optimized,b_quadratic_optimized,c_quadratic_optimized))\n",
    "\n",
    "        # Graph data with the best-fit probabilities\n",
    "        if Show_intermediate_graphics:\n",
    "            # Using matplotlib\n",
    "            plt.figure()\n",
    "            plt.semilogy(bins, counts, 'ok')\n",
    "            plt.semilogy(bins, countsplus, '+k')\n",
    "            plt.semilogy(bins, countsminus,'+k')\n",
    "            plt.title(title)\n",
    "            plt.xlabel(r'$Z^{2}$')\n",
    "            plt.ylabel(r'$\\rho$')\n",
    "            plt.grid(True)\n",
    "            plt.semilogy(Z2theory, myGaussian, 'b',label = 'Gaussian with $\\sigma_G$ = ' + str(sigmaG)[0:5])\n",
    "            plt.semilogy(Z2theory, myWeibull, 'g--',label = 'Quadratic')\n",
    "            plt.legend()\n",
    "\n",
    "    # Accumulate if we want\n",
    "    if isegment in accumlist:\n",
    "        counts_list.append(counts)\n",
    "        meanZ2_list.append(meanZ2)\n",
    "        Z2flat_list.append(Z2flat)"
   ]
  },
  {
   "cell_type": "code",
   "execution_count": 51,
   "metadata": {},
   "outputs": [
    {
     "name": "stdout",
     "output_type": "stream",
     "text": [
      "Original =  2754\n",
      "4 0 689 [624  60   3   2]\n",
      "4 1 689 [620  64   3   2]\n",
      "4 2 688 [629  52   7   0]\n",
      "4 3 688 [612  71   3   2]\n",
      "ilevelp = 4\n",
      "ilevelp, t = 4 2.7764451051977987\n",
      "meanZ2 =  0.0032471401822185193\n",
      "statsigma =  0.05698368347359198\n",
      "integral =  0.004108115468409586\n"
     ]
    }
   ],
   "source": [
    "# Sum up the accumulated information\n",
    "Z2flat_total = []\n",
    "for i in Z2flat_list:\n",
    "    for j in i:\n",
    "        Z2flat_total.append(j)\n",
    "Z2flat_total = np.array(Z2flat_total)\n",
    "Z2flat_new = np.squeeze(Z2flat_total)\n",
    "\n",
    "# Get the probability distribution in Z2\n",
    "counts, bins, meanZ2, error = rs.getrhoofz2flat(Z2flat,nbins,Z2bins,levels)\n",
    "print('meanZ2 = ', meanZ2)\n",
    "print('statsigma = ', np.sqrt(meanZ2))\n",
    "\n",
    "# Normalize the distribution function\n",
    "integral_rho = np.trapz(counts, bins)\n",
    "print('integral = ', integral_rho)\n",
    "counts = counts/integral_rho\n",
    "error = error/integral_rho\n",
    "countsplus = counts+error; #print(countsplus)\n",
    "countsminus = counts**2/countsplus; #print(countsminus)"
   ]
  },
  {
   "cell_type": "code",
   "execution_count": 52,
   "metadata": {},
   "outputs": [
    {
     "name": "stdout",
     "output_type": "stream",
     "text": [
      "a_linear_optimized 5.315550992299781\n",
      "b_linear_optimized -287.9912571129732\n",
      "sigmaG 0.05892645952819931\n",
      "a_quadratic_optimized 5.486961758908045\n",
      "b_quadratic_optimized -379.2366070465658\n",
      "c_quadratic_optimized 4443.0758460081615\n",
      "approximate sigmaW 0.05135052330855665\n"
     ]
    },
    {
     "data": {
      "text/plain": [
       "<matplotlib.legend.Legend at 0x15381c2b0>"
      ]
     },
     "execution_count": 52,
     "metadata": {},
     "output_type": "execute_result"
    },
    {
     "data": {
      "image/png": "[encoded data removed]",
      "text/plain": [
       "<Figure size 640x480 with 1 Axes>"
      ]
     },
     "metadata": {},
     "output_type": "display_data"
    }
   ],
   "source": [
    "# Specify errors in a log space\n",
    "errors = countsplus/counts; #print(errors)\n",
    "\n",
    "# Do a linear fit\n",
    "f_linear = lambda x, a, b: a + b*x   # function to fit\n",
    "solution, corr = optimization.curve_fit(f_linear, bins+Z2offset, np.log(counts), [5, -100], errors)\n",
    "a_linear_optimized = solution[0]; print('a_linear_optimized', a_linear_optimized)\n",
    "b_linear_optimized = solution[1]; print('b_linear_optimized', b_linear_optimized)\n",
    "sigma2G = -1/b_linear_optimized\n",
    "sigmaG = np.sqrt(sigma2G); print('sigmaG', sigmaG)\n",
    "\n",
    "# Do a quadratic fit\n",
    "f_quadratic = lambda x, a, b, c: a + b*x +c*x**2  # function to fit\n",
    "solution, corr = optimization.curve_fit(f_quadratic, bins+Z2offset, np.log(counts), [5, -100, 0], errors)\n",
    "a_quadratic_optimized = solution[0]; print('a_quadratic_optimized', a_quadratic_optimized)\n",
    "b_quadratic_optimized = solution[1]; print('b_quadratic_optimized', b_quadratic_optimized)\n",
    "c_quadratic_optimized = solution[2]; print('c_quadratic_optimized', c_quadratic_optimized)\n",
    "sigma2W = -1/b_quadratic_optimized\n",
    "sigmaW = np.sqrt(sigma2W); print('approximate sigmaW', sigmaW)\n",
    "\n",
    "# Calculate the Gaussian fit\n",
    "myGaussian = sts.Gaussian(Z2theory,sigma2G)\n",
    "\n",
    "# Calculate the Weibill fit -- \n",
    "# Note that this is a kluge: it should be replaced by myWeibull = sts.Weibull(Z2theory,sigma2W,etaW)\n",
    "myWeibull = np.exp(f_quadratic(Z2theory,a_quadratic_optimized,b_quadratic_optimized,c_quadratic_optimized))\n",
    "\n",
    "# Graph data with the best-fit probabilities\n",
    "plt.figure()\n",
    "plt.semilogy(bins, counts, 'ok')\n",
    "plt.semilogy(bins, countsplus, '+k')\n",
    "plt.semilogy(bins, countsminus,'+k')\n",
    "plt.title(title)\n",
    "plt.xlabel(r'$Z^{2}$')\n",
    "plt.ylabel(r'$\\rho$')\n",
    "plt.grid(True)\n",
    "plt.semilogy(Z2theory, myGaussian, 'b',label = 'Gaussian with $\\sigma_G$ = ' + str(sigmaG)[0:5])\n",
    "plt.semilogy(Z2theory, myWeibull, 'g--',label = 'Quadratic')\n",
    "plt.legend()"
   ]
  },
  {
   "cell_type": "code",
   "execution_count": 53,
   "metadata": {},
   "outputs": [
    {
     "data": {
      "text/plain": [
       "<Figure size 640x480 with 0 Axes>"
      ]
     },
     "metadata": {},
     "output_type": "display_data"
    }
   ],
   "source": [
    "# Save the roughness figure\n",
    "plt.savefig(Roughnessfilename)"
   ]
  },
  {
   "cell_type": "code",
   "execution_count": 54,
   "metadata": {},
   "outputs": [
    {
     "name": "stdout",
     "output_type": "stream",
     "text": [
      "Segments4_z_values.csv\n",
      "Segments4_x_values.csv\n",
      "Segments4_y_values.csv\n",
      "Segments4_Z2_values.csv\n",
      "(1, 55, 52)\n",
      "(2754,)\n",
      "(55, 52)\n",
      "(54, 51)\n"
     ]
    },
    {
     "data": {
      "application/vnd.plotly.v1+json": {
       "config": {
        "plotlyServerURL": "https://plot.ly"
       },
       "data": [
        {
         "type": "surface",
         "x": [
          5.51070463181037,
          6.750938631810369,
          7.991172631810368,
          9.231406631810367,
          10.471640631810368,
          11.711874631810367,
          12.952108631810367,
          14.192342631810366,
          15.432576631810365,
          16.672810631810368,
          17.913044631810365,
          19.153278631810366,
          20.393512631810367,
          21.633746631810364,
          22.873980631810365,
          24.114214631810366,
          25.354448631810364,
          26.594682631810365,
          27.834916631810362,
          29.075150631810363,
          30.315384631810364,
          31.55561863181036,
          32.79585263181036,
          34.03608663181036,
          35.27632063181036,
          36.51655463181036,
          37.75678863181036,
          38.99702263181036,
          40.237256631810354,
          41.477490631810355,
          42.717724631810356,
          43.95795863181036,
          45.19819263181036,
          46.43842663181035,
          47.67866063181035,
          48.91889463181035,
          50.159128631810354,
          51.399362631810355,
          52.63959663181035,
          53.87983063181035,
          55.12006463181035,
          56.36029863181035,
          57.60053263181035,
          58.840766631810354,
          60.08100063181035,
          61.32123463181035,
          62.56146863181035,
          63.80170263181035,
          65.04193663181036,
          66.28217063181035,
          67.52240463181035
         ],
         "y": [
          3.99048647845702,
          5.23072047845702,
          6.470954478457019,
          7.711188478457018,
          8.951422478457019,
          10.191656478457018,
          11.431890478457017,
          12.672124478457016,
          13.912358478457016,
          15.152592478457017,
          16.392826478457017,
          17.633060478457015,
          18.873294478457016,
          20.113528478457013,
          21.353762478457014,
          22.593996478457015,
          23.834230478457012,
          25.074464478457013,
          26.31469847845701,
          27.55493247845701,
          28.795166478457013,
          30.03540047845701,
          31.27563447845701,
          32.515868478457016,
          33.75610247845701,
          34.99633647845701,
          36.23657047845701,
          37.47680447845701,
          38.717038478457006,
          39.95727247845701,
          41.19750647845701,
          42.43774047845701,
          43.67797447845701,
          44.918208478457004,
          46.158442478457005,
          47.398676478457006,
          48.63891047845701,
          49.87914447845701,
          51.119378478457,
          52.359612478457,
          53.599846478457,
          54.840080478457004,
          56.080314478457005,
          57.320548478457006,
          58.560782478457,
          59.801016478457,
          61.041250478457,
          62.281484478457,
          63.521718478457004,
          64.761952478457,
          66.002186478457,
          67.242420478457,
          68.48265447845701,
          69.72288847845701
         ],
         "z": [
          [
           0.014375153844471751,
           0.010756018823149676,
           0.005995764273467574,
           0.005696611232085091,
           0.006727404927872006,
           0.0012195358625296238,
           0.00452746906367862,
           0.00858030675544173,
           0.005061896626976587,
           0.011194161563669947,
           0.0020008665531054313,
           0.002913178367593027,
           0.003307103251946235,
           0.011581005909770058,
           0.009230579348810514,
           0.0035223328026161853,
           0.006063004342896286,
           0.003470175492121393,
           0.0004274580082274969,
           0.0019519516832265191,
           0.0030949001511572784,
           0.012310081507497342,
           0.0069507174648218584,
           0.0015284647345268762,
           0.005812883377148373,
           0.0017519375239848914,
           0.00027972368777522393,
           0.0015933519772432458,
           0.0027512319633316096,
           0.00360361283639048,
           0.0005149668183508784,
           0.001359660899226195,
           0.004848522628820678,
           0.0035178471535138806,
           0.00030803518249522777,
           0.001896810893913393,
           0.00873273603177668,
           0.001811482097868396,
           0.0030125719690179886,
           0.005262189008547633,
           0.003018295252592723,
           0.0031177146683341924,
           0.004782242650673458,
           0.0030886110651819855,
           0.0025107349542453114,
           0.001936822785821129,
           0.0043561181348349964,
           0.0026440351778040704,
           0.013155301039153806,
           0.00017786940986195271,
           0.009534788580064176
          ],
          [
           0.008156492440885642,
           0.006607250459519571,
           0.009937580789008024,
           0.007911022796881516,
           0.00503688808450072,
           0.006207668916691821,
           0.003458835151682602,
           9.62857096836376e-05,
           0.007424804783183416,
           0.013318036461284152,
           0.012324986098917093,
           0.0012907813714840319,
           0.0011325435432931233,
           0.0036624312235700963,
           0.012086683822054033,
           0.004485918289954088,
           0.0013284128139384606,
           0.0007339631773626841,
           4.499577216847581e-05,
           0.0011879870096469529,
           0.002875173536596614,
           0.001075820056450385,
           0.00073957953965617,
           0.001610641225358212,
           0.004588760355478304,
           0.0017563233540964522,
           0.0020144135164964173,
           0.00026977809642839194,
           0.0013287976939824668,
           0.003458969015606038,
           0.0008568785909598658,
           0.0024073482602766936,
           0.006036125470564961,
           0.006355702998875776,
           0.003433300662042869,
           0.001012494728559866,
           0.002968715535304308,
           0.0008372509244074446,
           0.0003919459189212957,
           0.003016773657756732,
           0.001689678174165321,
           0.004390190075500619,
           0.0032614093525661653,
           0.00010024825734774879,
           0.0019103616392936577,
           0.003239619171607889,
           0.0015037792918561462,
           0.0028122552815613437,
           0.013787793613048955,
           0.0015726423689541602,
           0.0038221436276846925
          ],
          [
           0.0008704755661589455,
           0.0004373358732666906,
           0.002285042222004029,
           0.0010698012776652612,
           0.0035649572960907558,
           0.002466000253006509,
           0.003376866007648546,
           0.014468313418177173,
           0.016616388682149406,
           0.0042218320581532175,
           0.0034387960061357027,
           0.0014754785358565643,
           0.0002696302170163295,
           0.01192874979973051,
           0.007674413282992903,
           0.0012536660543685408,
           0.0007565145009781482,
           0.0001670228541000855,
           0.0015940139574938637,
           0.0011519883367421082,
           0.0015404453797744884,
           5.934666001407986e-05,
           0.00039827029124220786,
           0.0015322947279714618,
           0.0024698219198304484,
           0.003152772472283787,
           0.0002513876891736781,
           9.876212130735773e-05,
           0.002180559024878349,
           0.0011525110925177415,
           0.0011084269452443026,
           0.0015655472186459907,
           0.0005726659455759198,
           0.001066784872349044,
           0.0023593863264974074,
           0.0012611930526859763,
           0.0029896080609761047,
           0.0028898679275093557,
           0.00084019385690937,
           0.001802422989382242,
           0.0003376203640360281,
           0.003660812215841072,
           0.005859017738450043,
           0.00047486004620020107,
           0.010101692927624752,
           0.01083369355279338,
           0.002379766902653867,
           0.0015114424097285586,
           0.0069448722636807235,
           0.013126753044567167,
           0.009355145858297668
          ],
          [
           0.0005352122147472971,
           0.000745044775196413,
           0.00033385522100671877,
           3.8152108285951606e-05,
           0.0007903389636476782,
           0.0012507933938667617,
           0.004041473058222361,
           0.006620049585606845,
           0.007863125899221435,
           0.007309693607103868,
           0.0015058508344572169,
           0.002649930474319583,
           0.0006124265238973089,
           0.0031946416253608744,
           0.003488187924372832,
           0.0023534475744673338,
           0.002388678354260559,
           0.0007193050531719612,
           0.0015805872895548988,
           0.0060431253552543,
           0.004967515794815563,
           0.0021059647011279106,
           0.0013108918434854636,
           0.002582472417841456,
           0.0007698236361068497,
           0.002918616603840914,
           0.0005782085287725345,
           0.0005191807482863878,
           0.0009622373349272054,
           0.002703590414719286,
           0.008735515776459446,
           0.007927776970437443,
           0.0066638715435955185,
           0.0017433999472326654,
           9.872934584289528e-05,
           0.0011611893481619727,
           0.0013565336628735094,
           0.0011262832558253636,
           0.0007681508712953307,
           0.0003122373017759078,
           0.000823666542255167,
           0.002759638221356768,
           0.008664081582108614,
           0.0032802124189294703,
           0.004265617952411456,
           0.0055814805844979385,
           0.005015301927254425,
           0.0030376290924344503,
           0.002960767692016664,
           0.004927880742207556,
           0.0023151732963803337
          ],
          [
           0.0024621931540557904,
           0.0029475242498219656,
           0.0011884808004184574,
           0.001005430867975827,
           0.0007250667988696906,
           2.7043876620979554e-05,
           0.0016945829332115872,
           0.007483490834014062,
           0.008296820264065774,
           0.005372216518957707,
           0.005614052179306977,
           0.006409044212106204,
           0.005699871562602563,
           0.0005989150456079776,
           0.001583491211655773,
           0.0001448295051439982,
           0.0027016824511283755,
           0.0006377644192215479,
           0.002244179579860484,
           0.007172677332586496,
           0.002405819340241798,
           0.0022908715981692688,
           0.0003942891789107841,
           0.0017668153628102067,
           0.00032355946516149684,
           0.0010671299624847022,
           0.0003952321483765949,
           0.001202448969952286,
           0.002833991899560364,
           0.001394848967695516,
           0.006485042266753301,
           0.0004128648689232596,
           0.0006669120377643885,
           0.00012364669931126025,
           0.00020415390826383393,
           0.0044086492359438215,
           0.002232042498563844,
           0.0006040459941625484,
           0.0013394711700775508,
           0.00040945506024712015,
           8.171921301809124e-05,
           0.000447173780516785,
           0.005085146800892975,
           0.009479259246221807,
           0.00169828715766918,
           0.0005032489389500498,
           0.0030951257974559834,
           0.0017624484242674723,
           0.003295873122226668,
           5.2605788813379126e-05,
           0.0015607655914858323
          ],
          [
           0.009380164180577775,
           0.008942563669874013,
           0.004104743935121214,
           0.0016640308857405152,
           0.0025058263014410415,
           0.003687768797453497,
           0.00048059415079278867,
           0.003012411511364929,
           0.008568389393062393,
           0.0029176701369139453,
           0.000511945406552781,
           0.002105560664562516,
           0.00945739353184893,
           0.000596734666439358,
           0.0022312232739666645,
           0.004000155183006952,
           0.008804917870107303,
           0.002368091621207609,
           7.526235774166272e-05,
           0.0036888180413387054,
           0.005223794965909437,
           0.0012316531438876183,
           0.0012228695531693928,
           0.00045475704247430735,
           0.00018740964100483375,
           5.363348547644562e-05,
           0.00022861032632570183,
           0.0028526960287578954,
           0.0012495915599940594,
           0.003306157087645575,
           0.007351924183206332,
           0.0008580001837762308,
           0.00990866395486374,
           0.006669143603951746,
           0.004860497923565248,
           0.007732820955586254,
           0.0036344294014941363,
           0.00040238593042542486,
           0.0002761625201238171,
           0.00028275850546326893,
           0.0007977650491612701,
           0.004938321823540158,
           0.002625571772450598,
           0.007948567092422087,
           0.001997174094368324,
           0.005951095927472205,
           0.0037962641909689305,
           0.0006052674830240241,
           0.0009000772243940425,
           0.0004345769103429978,
           0.00025237601924401427
          ],
          [
           0.0030821878459932643,
           5.237041197302273e-05,
           0.005287074880278472,
           0.0005061975932606828,
           0.001195015269786433,
           0.002841781103736484,
           0.005555820837301366,
           0.0010550482408856886,
           0.0009755058182049435,
           0.0019666868650853953,
           0.0008257612640457583,
           0.0014212662790345429,
           0.007732919470858972,
           0.00020356104804940535,
           0.001022356275974554,
           0.008645911194170366,
           0.007001967053583934,
           0.011316311862194403,
           0.00530787566805656,
           0.00040565219988334257,
           0.0001718316560746122,
           1.7809413568544145e-05,
           0.0013154400293899416,
           0.0013263904971755652,
           0.003983689775095238,
           0.0025517095510700343,
           0.003494674323470763,
           0.00045609944277855206,
           0.000664006856341425,
           0.0015543578603438711,
           0.004939430041092597,
           0.0009435437657884494,
           0.010736370270548152,
           0.0015757494413572114,
           0.00235578889062158,
           0.004631164483490246,
           0.004361056911607545,
           0.0013653149956072534,
           0.0013152666239790926,
           0.0006828731082871189,
           0.00081502976399545,
           0.0017723685281768654,
           0.00039149305668298906,
           0.003331234153045103,
           0.004195484562354353,
           0.010507717245080594,
           0.0005805688022130043,
           0.0015805498555801721,
           0.0017910059659387097,
           0.0017110835146578387,
           0.0003344459279849031
          ],
          [
           0.005219781392638467,
           0.0030272740186082867,
           0.007481042266234217,
           0.001649572744513665,
           0.0027272133833071985,
           0.008839731406440126,
           0.007980803003590036,
           0.00369841725762277,
           0.003906536200902994,
           0.0029958799700857126,
           0.005671121923384393,
           0.0012770062546648769,
           0.007712882625117847,
           0.0018095322577394825,
           0.0006906565711907886,
           0.005301140089621965,
           0.00659250687103876,
           0.003951226545287166,
           0.00033697268580803037,
           0.0005292627893180449,
           0.0011931859914882657,
           0.00014893088518584856,
           0.0007674812029726407,
           0.005885389276006833,
           0.0026758631596999352,
           0.00048392879671719494,
           0.0004038397627271742,
           0.0005050821661649911,
           0.0022025369839692795,
           5.555040314194507e-05,
           0.0031002045840819686,
           0.00036031260742723763,
           0.00752150802963521,
           0.000691512601297417,
           0.0046284277342887115,
           0.0004502114417267557,
           0.0006787745756515523,
           0.0003824123555777451,
           0.0033610772126802697,
           0.005805640626469083,
           0.0052225497708281105,
           0.006820194534115085,
           0.0016267826396145796,
           0.0022954262476693015,
           0.0029124161344283167,
           0.0019966425003781103,
           0.009941021588623403,
           0.00456267749156546,
           0.0030474080261971804,
           0.003362761906528828,
           0.002314808220470738
          ],
          [
           0.0008268537855486641,
           0.00010875729570347271,
           0.0036252334089895114,
           0.0005069853486246459,
           0.0010371042333227611,
           0.0009682563098601323,
           0.0009912018971049812,
           0.0016161211669027753,
           0.0036329109508876868,
           0.0011259950602240125,
           0.003924802477986021,
           0.0002608180499135582,
           0.003175864192554347,
           0.0005730516338508353,
           0.00029889602069079423,
           0.0010735491055167824,
           0.006268267135536164,
           0.00014605776264803316,
           0.004286754178137951,
           0.000688982938337011,
           0.0025753775495998632,
           0.000789079756927638,
           0.003993264060889389,
           0.008886027167567801,
           0.00029620779000640675,
           0.004586228800790036,
           0.0010985157897693862,
           0.0007830471231501636,
           0.0018338230023818328,
           0.00040793875596843656,
           0.0019240902856927486,
           0.00027001727865103443,
           0.007157869641558185,
           0.0007404983813975879,
           0.0014809294616358415,
           0.0006641934390166363,
           0.0013450022532680017,
           0.00026499765377466136,
           0.003042641339396484,
           0.002811018573110806,
           0.0021416516521383343,
           0.003944594974991029,
           0.003434375555525231,
           0.002649217594011726,
           0.000514261260732178,
           0.007296896126835897,
           0.0003847693032301375,
           0.0018198256031493817,
           0.0017147797387120282,
           0.006017713878042596,
           0.002645028237154606
          ],
          [
           0.0001990866171643614,
           0.0008452339046674513,
           0.0022672125098297195,
           0.0025862105470252734,
           0.0019793532791598494,
           0.0005355837275017112,
           0.00017031727114590872,
           0.0013743380548853245,
           0.0032335032610606136,
           0.0013831820806087948,
           0.0011557482503191127,
           0.0008426212316795641,
           0.0011588548179079726,
           0.005788089077938293,
           0.005795742839324036,
           0.0038204926432350997,
           0.00036711774713440017,
           0.000830575982089826,
           0.0014640130705183803,
           0.001984765630986948,
           6.764643630190762e-05,
           0.0014691056966599568,
           0.0040210898623016,
           0.0026135608172296663,
           0.00042056215185948395,
           0.0034987544426452973,
           8.745709521605367e-05,
           0.0002558366788619375,
           0.0011753125791467936,
           5.6471199841976296e-05,
           0.0010045410900755105,
           0.0011793071088683714,
           0.003652822109630161,
           0.00026204513854757275,
           0.0019070022171314514,
           0.001967389330346356,
           0.003078732147602365,
           0.002880791263289469,
           0.00100399155699889,
           8.413256109535619e-05,
           0.0010415228762028464,
           0.0037284975667412003,
           0.0033289719010293215,
           0.003697559796305053,
           0.002805962196033499,
           0.00020817536612671863,
           0.004113315081501614,
           0.005549255381071273,
           0.004453358495631352,
           0.0027620262525238667,
           0.004229701520155378
          ],
          [
           0.004474696109045476,
           0.002931087606708245,
           0.0036952648659003633,
           0.005704643911661884,
           0.002678320326546449,
           0.0006213623996294443,
           3.1198123585452834e-05,
           0.00022738575567372643,
           5.359794349506824e-05,
           0.0006667784091521033,
           0.005839011649436081,
           0.004468200225022473,
           0.0045685038468952464,
           0.006264689351269333,
           0.013917173596635666,
           0.010790099745062521,
           0.005291604631139476,
           0.001908012671469966,
           0.0057314056035826745,
           0.0024043283924914563,
           0.0008263448362468179,
           0.003373035604065963,
           0.001409943486346058,
           0.0006634255746642806,
           0.003160142430547466,
           0.004346247912969409,
           0.0030565490631776454,
           9.445183553387235e-05,
           0.0007948776389953257,
           0.000593538789740535,
           0.0027946967680571254,
           0.009596503518152,
           0.0035683448421757586,
           0.0025785175072441154,
           0.0028786363450009336,
           0.0011251909710077658,
           0.0013761171584588052,
           0.00512105391910013,
           0.0016922925622977522,
           0.0021231040930187314,
           0.0005058158019389024,
           0.0015198686574066026,
           0.005268116952962963,
           0.014446236182715351,
           0.006594159426691645,
           0.002080499364671571,
           0.007319412884318096,
           0.011880231025873447,
           0.00379154118779195,
           0.0012093497091671184,
           0.006209152046806082
          ],
          [
           0.0026295436725752184,
           0.0032275298975262146,
           0.012193075434063491,
           0.006549691297922513,
           0.0005184264208845554,
           4.934768219854675e-05,
           0.00013548087072888978,
           9.595709730408579e-05,
           0.0011311535601143436,
           0.005343887896299322,
           0.0048015856445061955,
           0.0018209469782882865,
           0.005678682681345258,
           0.003147731481257224,
           0.005133290441032712,
           0.0017790257106290056,
           0.003347813143166809,
           0.00031131998985389786,
           0.0027213180183210213,
           0.001020238532165288,
           0.005014585582571703,
           0.014072817830323152,
           0.003337661647187868,
           0.0006193413626018093,
           0.0033604973963804498,
           0.0019220264329141144,
           0.006470598566200399,
           0.0007100091886164999,
           0.0017051369937607975,
           0.0023421907596672363,
           0.0004967322738788278,
           0.003957165517352246,
           4.431007866265541e-05,
           0.0010327761911285457,
           0.00017841606184038766,
           0.00033242130765578855,
           0.0010868649192498408,
           0.0005510922962526605,
           1.1343248273681827e-05,
           0.000981581113090741,
           0.0013410840089967653,
           0.004444963802763633,
           0.000669458847787692,
           0.00530222959092882,
           0.0016187753670910154,
           0.0010771937764520218,
           0.007412903606744205,
           0.0074721987240116295,
           0.002580299511617416,
           0.0009154925592620854,
           0.00879716727472831
          ],
          [
           0.001973588010932218,
           0.006653310811566855,
           0.007466589108018102,
           0.0013845934793379289,
           0.0008689915185890637,
           0.00035722018312620495,
           0.00024408191245743477,
           4.2869551769503235e-05,
           0.002603075512591985,
           0.005377791535303633,
           0.0005340260823897868,
           0.0022382243438097255,
           0.002074388807893365,
           0.0016776635297219497,
           0.00309214715282161,
           0.0023469422250900654,
           0.00098477130697789,
           0.002121776361540836,
           0.0023663905419925224,
           0.0004973935533119474,
           0.0008540307480229149,
           0.002908011566412113,
           0.0002633334069215414,
           0.0004430131753669575,
           0.000770751088674982,
           0.00015048655085924878,
           0.004178301695455347,
           0.006957319406206846,
           0.009140322213074448,
           0.011584399199948794,
           0.00562223115142027,
           0.001075563183379246,
           0.0013731872977878591,
           0.003728999562449353,
           0.0011168526144403291,
           0.0018695315012984687,
           0.0033745191074505895,
           0.00884389772351665,
           0.004726825036974951,
           0.0027284876301412707,
           0.0069481043527609525,
           0.011672652693178048,
           0.004997879076303723,
           0.0014445224912023975,
           0.00192839017719222,
           0.0024899837297426824,
           0.0024228251455886913,
           0.0015759353230915024,
           0.0021847521142081983,
           0.00040295787230685165,
           0.004517967256613373
          ],
          [
           0.0015902878492200323,
           0.0008122290088934523,
           0.004802594611995505,
           0.0030528301017668505,
           0.0013466490175793433,
           0.00018688626638765845,
           0.0028639336164144567,
           0.00042794088938465677,
           0.0029373698131908267,
           0.009924663305852998,
           0.0018633742721181666,
           0.0020065198098164093,
           0.001203794449900379,
           0.0032018772242867048,
           0.006452509886516644,
           0.006946114110540336,
           0.006221459768015739,
           0.0036316864740755126,
           0.0058946974464635735,
           0.004034268639498685,
           0.0017770477219765219,
           0.004161642701096263,
           0.0028012670666669823,
           0.0005666187507666814,
           0.00027937960731216286,
           0.00035873031573865763,
           0.004325658847335686,
           0.004230116335254259,
           0.005232955083800224,
           0.010745070344691165,
           0.009281200859873261,
           0.0038871388361514307,
           0.005300557401617668,
           0.007078197069881989,
           0.0006858030867442703,
           0.0003214144620703629,
           0.003567828785821505,
           0.006273500345430045,
           0.000515140421664118,
           0.0033916936999023747,
           0.004861113381224122,
           0.004832799248941269,
           0.0030204242123641127,
           0.0006676334677393657,
           0.00048400619203607805,
           0.0036370787772356597,
           0.0012574208497380232,
           0.0020276292917041413,
           0.004067404584809344,
           0.004723397536588351,
           0.0009179102900194523
          ],
          [
           0.0018802478786095157,
           0.0033003786832709095,
           0.007515519874734094,
           0.008269529613801872,
           0.0046767210511897885,
           0.001236700467084435,
           0.0075051576616941736,
           0.0035946103564402656,
           0.002174483374648049,
           0.007691440185856721,
           0.0036028351930856924,
           0.00479195160770385,
           0.0006646792498007797,
           0.0005143318068459986,
           0.0049020696865306424,
           0.003308230578908328,
           0.003693542261044165,
           0.0008896145478660744,
           0.001987562571868587,
           0.0017491311005604121,
           0.003461517477222221,
           0.0023164809002119728,
           0.0010802638684804938,
           0.0003052506784082167,
           0.0004143566180640228,
           0.0001965413290941741,
           0.0008992531101568677,
           0.0013874162896003414,
           0.0006531085565527578,
           0.0006103146875544577,
           0.005253701863823448,
           0.004452588379763547,
           0.00046320250121716284,
           0.0008792426301378455,
           0.002363545469529628,
           0.002506398873304781,
           0.0005792128243371612,
           0.0029962692865559267,
           0.00502499225630183,
           0.0009558547905523151,
           0.0015259960880937122,
           0.006604273133964527,
           0.007156097709509483,
           0.004330974245722571,
           0.0028783222160679916,
           0.004357477524739988,
           0.0078121903742606955,
           0.0039123895827447705,
           0.0013866740716586693,
           0.008086533229469946,
           0.002368016543647363
          ],
          [
           0.004226195458134265,
           0.00711165910111349,
           0.0008654620345607622,
           0.0004733409208228656,
           0.0007500896878059272,
           0.00031121609252852576,
           0.009746958949475951,
           0.0036842564924787474,
           0.0006520262195924638,
           0.002952987071326039,
           0.0011346409044783313,
           0.002282627804896497,
           0.0008400893116126346,
           0.0007126718546167493,
           0.004900242191081867,
           0.0017966411260426996,
           0.00031671872037913624,
           0.0011206745075986412,
           0.0009920440857336225,
           0.005168506701196209,
           0.0015221678458791615,
           0.0035951842690242087,
           0.00037153135083809927,
           0.0006289088351594013,
           7.952519733460915e-05,
           0.0008398830106787944,
           0.003826311698460391,
           0.004837644119820279,
           0.0025550325995553,
           0.00608582311327714,
           0.011392154992818732,
           0.004039452807196682,
           0.0034631901921827347,
           0.0005278268588803387,
           0.001837757839157397,
           0.004648384624383841,
           0.006047561930941795,
           0.004571232787510956,
           0.00048593695986438477,
           0.0010201439053419388,
           0.00025945971831359103,
           0.002958261064067203,
           0.00022830741228224228,
           0.0033790914278842045,
           0.00105647353405176,
           0.005861820622943529,
           0.0056648705895249755,
           0.004207294229661734,
           0.0013294750342725766,
           0.0016942869235929308,
           0.0010037783366447259
          ],
          [
           0.001510066266224163,
           0.000654277508711518,
           0.003098505809110914,
           0.0019517837237087248,
           0.0015283678117702301,
           0.0006136498488214632,
           0.0057207334020336455,
           0.0020658953557183947,
           0.002364272100807302,
           0.00043524927521909986,
           0.002784807522024084,
           0.008792533047743608,
           0.0084214559072511,
           0.0054864959493877655,
           0.0024997695265267395,
           0.0007153517921104878,
           0.002195405839067051,
           0.012706787602399107,
           0.007328459115222531,
           0.006031994532630664,
           0.0008285980981150423,
           0.006451414788743585,
           0.004390498730588763,
           0.0040070764108789975,
           0.0025019499795662058,
           0.001958204661883316,
           0.004445088493365789,
           0.005209421165997188,
           0.006173188001270253,
           0.0032584961106215163,
           0.003093416846519512,
           0.0013791578056867846,
           0.012001108181561556,
           0.0059151455543217536,
           0.010747743948476692,
           0.027249368773654553,
           0.02126893878296582,
           0.023537843393519012,
           0.016175379453885017,
           0.0056387597868047526,
           0.0027925606868019577,
           0.0020006884974518337,
           0.00023740125947334256,
           0.004728828919376887,
           0.0020772929305918333,
           0.004756795197574361,
           0.0008839001726493291,
           0.0005107254500690454,
           0.0019971560069251093,
           0.0012087176711455116,
           0.00035426002570557315
          ],
          [
           0.001386104045520954,
           0.0016675424399776925,
           0.0008869548324576549,
           0.010873723156274696,
           0.010933425612376618,
           0.004657616763706015,
           0.0004030562889034448,
           0.001523842320058169,
           0.0008404857051984063,
           9.850041272398283e-05,
           0.003402542133095741,
           0.0034121779536325494,
           0.004063977589219843,
           0.0048393990851268364,
           0.00017198871099015622,
           0.0006639919944716465,
           0.001229105892717685,
           0.006695494956976253,
           0.004475633454905808,
           0.011046641678757081,
           0.004550043346872972,
           0.001661411781904262,
           0.003317844382138377,
           0.00325533848577714,
           0.004232271016280169,
           0.0009280261203367193,
           0.0020907581769283295,
           0.0010484637008616009,
           0.0022319644520175266,
           0.0019663509442187123,
           0.0036280416213900716,
           0.0032198390000827805,
           0.013206949093476509,
           0.0003027378031576032,
           0.0006645640127118999,
           0.004877890729227611,
           0.0001365632699739148,
           0.011651833901249076,
           0.02022108498700352,
           0.00859009535224484,
           0.0019608991472611008,
           0.001847341010932624,
           0.0050850403473788035,
           0.008657779535664399,
           0.00042680844477531937,
           0.005465808456437159,
           0.0004049482858327185,
           0.0005442740597349141,
           0.004500784165989644,
           0.003834171154303701,
           0.0009409609532540981
          ],
          [
           0.0015559330348347837,
           0.0024077039781693955,
           0.0012718812138640375,
           0.0030307472319602434,
           0.0023703351610765092,
           0.0015452333055857971,
           0.0011372898794229443,
           0.002809195257820753,
           0.0003832700214483202,
           0.0005603187164526882,
           0.0022973214052968587,
           0.0013044545174411243,
           0.0010373083893204446,
           0.004995719813755663,
           0.0007536691765965347,
           0.0008571720558622521,
           0.0027136598545816136,
           0.003277766214760659,
           0.006549368551445418,
           0.002505141605845318,
           0.0009247752512002186,
           0.004879350999322128,
           0.006778382907250225,
           0.003995022277622739,
           0.01143508334833519,
           0.0030800175156565006,
           0.000596534914361329,
           0.0007196426443706589,
           0.00022544890306591157,
           7.614115523823394e-05,
           0.0012204939477164197,
           0.004942924195343264,
           0.007955223954057924,
           0.0019709169919024504,
           0.002885436551436984,
           0.007859967415229145,
           0.008251001361216044,
           0.0006872957113798861,
           0.005960458127079472,
           0.009503654272386756,
           0.006567854756813544,
           0.012100440292077309,
           0.008557801684043702,
           0.000906029169855083,
           0.0005151332057917202,
           0.007630185320192458,
           0.0006085223445921247,
           0.0014731315249293048,
           0.0017818614894692052,
           0.0032049053649755963,
           0.008144645319267358
          ],
          [
           0.004758605678963526,
           0.0024285185583910727,
           0.00011578925671561297,
           0.0062228128498813,
           0.00916275295820134,
           0.002078244758185499,
           0.0009814651038262089,
           0.0006744008058139448,
           0.0004411669645766162,
           0.0018246756984188878,
           0.003470786944585195,
           0.002639109307610468,
           0.0017831188768432427,
           0.00715129697041531,
           0.006030927060007693,
           0.0013929038130850843,
           0.0066255309488491895,
           0.008346879563514749,
           0.009432127217346502,
           0.01074171482145295,
           0.004136915945398044,
           0.0029482461033154732,
           0.003805462687467561,
           0.0034217869529330792,
           0.004462461739268307,
           0.0035395524533817497,
           0.0013021953206576635,
           0.0016188529449359355,
           0.0006478456626952046,
           0.00019901926710254094,
           0.00208585345846431,
           0.007168634813239143,
           0.0029995775542410773,
           0.0007668552548898565,
           0.002338555324285816,
           0.0007095983639504485,
           0.004318887039597256,
           0.006410090314022976,
           0.0026724841727947517,
           0.0011972178113503116,
           0.003817274080607087,
           0.0017438473136887898,
           0.005461285648991731,
           0.0003407841175537432,
           0.0011487387468730162,
           0.0034244633515753274,
           0.00015500880976687716,
           0.0004994151122247829,
           0.0001482506732465169,
           0.0012785450146450441,
           0.0027486091617877993
          ],
          [
           0.0014574814751189271,
           0.0001973789866311187,
           9.283977640528451e-06,
           0.0003128013424812355,
           0.0006240047079026272,
           0.0027936418851688596,
           0.0018039990375458498,
           0.000621860317305199,
           0.0007988149126213834,
           0.0020342158285655667,
           0.005857167920876645,
           0.005972268676728655,
           0.000532692647194218,
           0.0036265950012803194,
           0.0078687506234634,
           0.0070950287524543555,
           0.0006155936822048624,
           0.011229576668842091,
           0.007959455053779853,
           0.013437636582624493,
           0.0016207572481552958,
           0.0004342019931005891,
           0.00015672564303653133,
           0.009537697209746298,
           0.007357493335684193,
           0.010743082576051409,
           0.003799772458248292,
           0.0008547429553413487,
           0.00021420854737270052,
           2.724758936321671e-05,
           0.0004935671774601776,
           0.0020240697964717218,
           0.004736498620389191,
           0.0016407912042094212,
           0.0013554494217501978,
           0.0018039725902515163,
           0.001008876929882993,
           0.0007493459940942006,
           0.0015437104410523398,
           0.005507373640465483,
           0.0003604228873934044,
           0.005776389562702704,
           0.0014665475407934447,
           0.0008461628548845012,
           0.004095807606554985,
           0.0009127565932892631,
           9.551115615601148e-05,
           0.0010540428845711872,
           0.0006111712458977982,
           0.002265339601971072,
           0.0012333558896996664
          ],
          [
           0.0006923691678689476,
           0.0007029301243096698,
           0.00013245441568059314,
           0.002948514248002224,
           0.002744300539464464,
           0.0033019395452587256,
           0.004276415162840266,
           0.003488417984672887,
           0.002943028925618686,
           0.00020554556352567896,
           0.0023070279643252404,
           0.006248687996673048,
           0.0002855130815719679,
           4.816234043893815e-05,
           0.0011905572731798642,
           0.0054861796237488086,
           0.0034096629036503377,
           0.009437450093963719,
           0.0003798559203563385,
           0.0072918114691187695,
           0.0010624734075457354,
           0.0014003287317036514,
           0.0004787529885507155,
           0.00251850529910317,
           0.0018463246592671696,
           0.0014270823293484089,
           0.00292095350572023,
           0.005353024185567727,
           0.006062549647627599,
           0.005440060457115014,
           0.004688197389641444,
           0.0012270277263355307,
           0.0005079169198041358,
           0.0015227687955119478,
           0.005375627924710078,
           0.004258073113654354,
           0.0022525734396023184,
           0.003915045823720967,
           0.00376896992672574,
           0.002825502166854731,
           0.002448857746727094,
           0.003754610738448877,
           0.0020834044052517597,
           0.0020638545852733883,
           0.0024949221732771384,
           0.0007354655786833219,
           0.0004161336252144376,
           0.0006297949961977047,
           0.009146942225438173,
           0.008439443630745086,
           0.004857983571226998
          ],
          [
           0.011172428131533066,
           0.010786935813124454,
           0.004175541580525875,
           0.00037492916457314556,
           0.0001891061546401926,
           0.004128556698335555,
           0.005203045366571373,
           0.0024870798559159485,
           0.007385863180781353,
           0.011464667229984484,
           0.0017860161077468753,
           0.0024273052222121136,
           0.0022421653386198366,
           0.0010475829748523681,
           0.0022087479138200882,
           0.005130690657236797,
           0.008053811149548394,
           0.00031177126592647346,
           0.0012802040205176154,
           0.007163066423169977,
           0.001180435018003293,
           8.414552265969291e-05,
           0.0007370149830502851,
           0.0003732404898833893,
           0.00014994695028676316,
           0.0011954719173362138,
           0.00121936892722895,
           0.0003603980564680228,
           0.0022281061572839,
           0.0022255640087265717,
           0.0009528425394376241,
           0.002641201247779891,
           0.005318632476962637,
           0.0046897314453885255,
           0.0030916064812244516,
           0.005252907467591025,
           0.004520926839631099,
           0.0006926108397064768,
           0.0013201210502673082,
           0.0040027049242187755,
           0.0017447468483745422,
           0.0011394214780896612,
           0.0015812587578859305,
           0.00894937673544228,
           0.00029455605054141406,
           0.0013996111691923193,
           0.0014375039154804958,
           0.00309433045868262,
           0.0036691148692564977,
           0.00017519250908317355,
           0.0012706923569122512
          ],
          [
           0.0001826079008478772,
           0.0019148322100861872,
           0.003073444748097391,
           0.00471115759953086,
           0.0007052737561935035,
           0.004351966638751901,
           0.004535416637786121,
           0.0004865307488554646,
           0.0021941036558246613,
           0.0038617644768896785,
           0.0055644927422299015,
           0.007477369733862977,
           0.003689193067320161,
           0.002726432039104997,
           0.0022470390534758636,
           0.003548840798146765,
           0.0037688691071838904,
           0.0015557358263903662,
           0.0010640033793221924,
           0.003529019248471376,
           0.0030326597327405384,
           0.0010163238681725594,
           0.0001444424641565109,
           0.0019132569538170127,
           0.001413455156205106,
           0.0022565258782040183,
           0.007279975357329046,
           0.0012894878018436227,
           0.0029344476398985454,
           0.00020874379766058396,
           0.006524569906430162,
           0.004479124812937824,
           0.0035631783574458925,
           0.0013969988752112097,
           0.003977875214761511,
           0.0029825173016355716,
           0.0015008427189981278,
           0.002266497786775115,
           0.00028446228107261514,
           0.0023691530768838375,
           0.004387137933590511,
           0.0011031973773675335,
           0.0006222157640556934,
           0.007448928512583048,
           0.0006440004057821645,
           0.0011375744032923526,
           0.0014225795014094424,
           0.0014610059267494008,
           0.0018010019013998243,
           1.2139470422268771e-05,
           0.00030433702003334327
          ],
          [
           0.004624627505802569,
           0.0018539215591397403,
           0.001531492387787363,
           0.005665074278205195,
           0.0010248416113729042,
           0.0005118509944298001,
           0.0031864742670446684,
           0.005539771434459374,
           0.0020680382906817403,
           0.0002066684464185989,
           0.0036018871953848895,
           0.002359435576237186,
           0.0011883534489547556,
           0.0026241725130862156,
           0.003259543099793274,
           0.0026904921927515474,
           0.0002898290672855401,
           0.0013010789003562715,
           1.6411197425396292e-05,
           0.0003195772432039373,
           0.0025950972831571056,
           0.003224427165755336,
           0.0011231323140100974,
           0.0019498514173230137,
           0.0041919888810269396,
           0.008467688411206436,
           0.0032526028782117605,
           0.0022112207202559402,
           0.003612236838778281,
           0.000577721576164021,
           0.002813939792701498,
           0.0013595981449550463,
           0.0032451292653818756,
           0.0017982419046539415,
           0.0005796150626717915,
           0.0015627493256641007,
           0.004483385575850067,
           0.0005509318641477437,
           0.0032983828015443343,
           0.0022911764419911423,
           0.005539913910448679,
           0.00010902823849595692,
           0.0004856354223993652,
           0.005913088600317577,
           0.0008059093690356677,
           0.0008095840454748985,
           0.001786656241565395,
           0.0007302958366018728,
           0.00185466785499116,
           0.0001725929010590587,
           0.00010659947429155717
          ],
          [
           0.0033625727648229436,
           0.004562021417090379,
           0.0013349910072134189,
           0.005050019863876764,
           0.0010758080598351292,
           0.00013646023722366598,
           0.003539689357851856,
           0.014886652057385048,
           0.0014958422620382807,
           0.0028744938198652565,
           0.0012825561259847177,
           0.002268993704240314,
           0.00040060047804573714,
           0.0006567091592149086,
           0.005200644611794951,
           0.005618827008996837,
           0.001721532382257652,
           0.0031595117843788087,
           0.002863298108742966,
           0.00249841016927071,
           0.00034671705558168196,
           0.0005447689922058632,
           0.001936733601129447,
           0.002244544045630171,
           0.0018537411182135797,
           0.001759968057260622,
           0.0007761067122223003,
           0.0033553630933886415,
           0.0005159978054779691,
           0.0010064275568030423,
           0.009151132894952226,
           0.0073674883635649144,
           0.001959798095418231,
           0.00033710061551364603,
           0.0004445182342410171,
           0.002304487860687641,
           1.7460624553695828e-05,
           0.0008352696993546729,
           0.0008129769942610527,
           0.0011336212275362262,
           0.0011153990215160134,
           0.0004139797434659455,
           0.0005919338515314531,
           0.003987842254539839,
           0.00027946408929396317,
           0.0010489917621702492,
           0.0013339408464689883,
           0.00021068554597334152,
           0.0029645872130778196,
           0.008883203697539858,
           0.004490415711749902
          ],
          [
           0.0033777562168038075,
           0.001680915506173414,
           0.000990328817325508,
           0.0027140127627838847,
           0.00031779688757875915,
           0.0021765160666417584,
           0.0013605978349656837,
           0.004771018592823525,
           0.0020018345301689028,
           0.0028973603390377483,
           0.0003427543897384322,
           0.0009213570094783188,
           0.001486539122644309,
           0.00011161836182298564,
           0.0025568727617693854,
           0.008728605510751232,
           0.004554647957208984,
           0.00126328958864636,
           0.0068543235145457175,
           0.005867747158392227,
           0.00413859215054412,
           0.002611070277726953,
           0.0003299571294374117,
           0.0005581310672840143,
           0.000423134326036001,
           0.002104268590233907,
           0.00278699918402708,
           0.0016610530713458273,
           0.0009068904810965309,
           0.001027707057993359,
           0.004676367209766257,
           0.0014820537225343961,
           0.0034916553177586065,
           0.0038034884556016097,
           0.0017596065961215665,
           0.008562588135928648,
           0.001843505254495528,
           0.0024968275888068714,
           0.00017867602622295933,
           0.00018938347260609084,
           0.0013614494797596923,
           0.0021466002688480495,
           0.0006846038279897219,
           0.0016241875479971778,
           0.001616736206120276,
           1.862409053593306e-05,
           0.002181177503244099,
           0.003362042219691533,
           0.0032448816591872398,
           0.002388122934798304,
           0.005716794013009426
          ],
          [
           0.0032329189482180254,
           0.0014439058417087195,
           0.0008622689649394317,
           0.003401733504791209,
           0.0013291308692449082,
           0.005929578346969307,
           0.003518500466269256,
           0.00040467434037773494,
           2.426735991158013e-05,
           0.0008686179570472458,
           0.0004992989853408332,
           0.0006384549258968774,
           0.001114782067604791,
           0.00027376782242905597,
           0.006432032944499642,
           0.012901395803025378,
           0.010770238345061812,
           0.00270369767209751,
           0.0025646643221316073,
           0.0001732409737523638,
           0.00254701232384898,
           0.0006805867396894935,
           0.0008100291803920408,
           0.0010161304183315264,
           0.00013046741019233344,
           0.001912720936453428,
           0.0013694560168804738,
           0.0006481299579894405,
           0.0012811553525419817,
           0.0015895801765743601,
           0.004051945957079121,
           0.0021079899924662695,
           0.0010663273686315892,
           0.00033608403403020655,
           0.0007899645780484274,
           0.010123639151768853,
           0.003290666223208348,
           0.0028363935351008174,
           0.0007090237774265938,
           0.0027844209022379212,
           0.00133799344119818,
           0.008807972812260915,
           0.00032831147608473443,
           0.00472998213099831,
           0.003253221971930115,
           0.0020373594784741573,
           0.0034074699967497615,
           0.0006423033143408781,
           0.0015667368207162922,
           0.00320260236371676,
           0.006156395419646828
          ],
          [
           0.0005915700586505111,
           0.005640949803543141,
           0.0002589033759957177,
           0.012275502027058535,
           0.0038841518600272905,
           0.006576169160867974,
           0.006143372681832044,
           0.003997331939566888,
           0.002636125092627789,
           0.003575452316887006,
           0.0032082421767241714,
           0.0008041312695989397,
           0.0004412079614266448,
           0.0010876797846764354,
           0.00047262269539183056,
           0.001732991234418681,
           0.0022225829277858363,
           0.0011910121076921625,
           0.002935284038232606,
           0.0005072764629620306,
           0.00651168109460024,
           0.001547287828472811,
           0.004339247754845092,
           0.0007416665840545659,
           0.002102565532154081,
           0.0014045254664352765,
           0.0003336825409635684,
           0.0002086881907984406,
           0.0002034266543591179,
           0.004453971737392448,
           0.004253203472152014,
           0.007578828654057646,
           0.0005035911694277084,
           0.004325153250338493,
           0.0011173708134668268,
           0.002296209572961654,
           0.004403607362374297,
           0.0005079374297059096,
           0.0023313589959724637,
           0.003120775934757811,
           0.003490724404905811,
           0.0049263384600544725,
           0.002940214726547176,
           0.004175266073463757,
           0.0023605558653871923,
           0.003298064541381998,
           0.006541423465126366,
           0.006465049666273934,
           0.0023306078705558776,
           0.002377112356896744,
           0.003164804284057138
          ],
          [
           0.0011371059445859518,
           0.0017980951087035498,
           0.007498742613290187,
           0.009431029295669038,
           0.0009456325196424485,
           0.0058226076969529784,
           0.005045773841648942,
           0.0030092187389039243,
           0.0032739930298493255,
           0.0008021704424771283,
           0.0002573138043103124,
           0.00012297422790432663,
           0.0020091603836789474,
           0.0010463035181085955,
           0.0020335303841889298,
           0.0012791293627277317,
           0.000488755676220091,
           0.0009211686286585255,
           0.000571433079574144,
           0.0005700135262769842,
           0.003082867028612464,
           0.0010339210883186225,
           0.008782127709778428,
           0.003001729807001503,
           0.012013095950934076,
           0.001801226824046531,
           0.001645196650350554,
           0.0018277358808621007,
           0.003440262395083064,
           0.007503861801037789,
           0.004603815508885993,
           0.005039118372868902,
           0.0022319737432375786,
           0.0010529077739484082,
           0.0003974304860096424,
           8.37068520408708e-05,
           0.0022443061438264427,
           0.005428483657043644,
           0.005531864583990639,
           0.0001227681903961821,
           0.004021125737449136,
           0.0013653712423393805,
           0.00045901027499433854,
           0.0005396473564183431,
           0.0014595143376111717,
           0.0011301548454937262,
           0.00011241659376397993,
           0.0005321725177201054,
           0.005440084327243734,
           0.0030823636314504916,
           0.001292267230935762
          ],
          [
           0.003279063804312414,
           0.0001904700082664547,
           0.003915824083605494,
           0.006154439970245912,
           0.012983845431769876,
           0.005723056175586973,
           0.00047254741944043586,
           0.003384826055814069,
           0.0024395331959441544,
           0.004608728465313747,
           0.00022310856347976585,
           0.0020450375259863564,
           0.0008537847595856315,
           0.0002389781824408487,
           0.0008271217809611034,
           0.0007647628834764115,
           0.005990900648717835,
           0.00452176207905554,
           0.001201117480349499,
           8.512420522545713e-05,
           0.0024055796697066926,
           0.000644767838524109,
           0.0074016884142903,
           0.011780742090984595,
           0.010056442439304192,
           0.010774667019361202,
           0.0006124558159469246,
           0.009056986947571252,
           0.004630636442486881,
           0.010372997781842967,
           0.012103761019479943,
           4.537684476000199e-05,
           0.0022744414912536305,
           0.000951349168221043,
           0.0006153231335749804,
           0.00029111407205639804,
           0.0025235371083257075,
           0.0058487273040830475,
           0.007437358141797454,
           0.003240846801104566,
           0.0007748117207209443,
           0.005484948928240551,
           0.009523886991758507,
           0.007498556138263181,
           0.0027774817751506546,
           0.002013525977048611,
           0.0016350114269502668,
           0.0003304553684392274,
           0.0023857317386121583,
           0.0013774136327973367,
           0.006393864755919446
          ],
          [
           0.0015440423738915215,
           0.000364715721120367,
           0.003392734267351078,
           0.0012389195274174812,
           0.00017025509062170926,
           0.0010170539195135581,
           0.001592559928105698,
           0.000907120916102074,
           0.0023570902084669,
           0.01192395318487641,
           0.002350572848641838,
           0.005242126196081422,
           0.0010590389066620963,
           0.0012058273910515098,
           0.0005158435107085915,
           0.0003772749173683729,
           0.0014981939346382167,
           0.0006662832538489748,
           0.001094182295639993,
           0.0006668738497470207,
           0.004915350372435729,
           0.0016652564547452496,
           0.008691420470584252,
           0.007305658965953441,
           0.003277637694186603,
           0.012042853022714671,
           9.125153849478953e-05,
           0.0025313116488769106,
           0.008834371148190391,
           0.001292003243704129,
           0.007654773926830119,
           0.004729570582386842,
           0.0005268902658089123,
           0.00042935724418422465,
           0.0007862540299294867,
           0.001542614819184469,
           0.006419744711399007,
           0.00021540076666561677,
           0.006732635009379031,
           0.00016087419498257954,
           0.0016905474777508275,
           0.003702662104145137,
           0.00621271983244323,
           0.0006298621199522242,
           0.00014486950847909393,
           0.00020890992110308176,
           0.0002819194473300638,
           0.00023548203711516974,
           0.0019569782329932712,
           0.0010272828474180854,
           0.00046437018898347777
          ],
          [
           0.0031956568330257775,
           0.0015065542541033367,
           0.000681927435935803,
           0.0030489225845400066,
           0.00275675872752851,
           0.002888899264000316,
           0.0034754389346269877,
           0.000335649567988866,
           0.00047251042765188107,
           0.005738502240597051,
           0.0013534494918927649,
           0.0007887660768253143,
           0.002536071266024943,
           0.0018535109831289843,
           0.007065873717391482,
           0.0010312857198038375,
           0.0018525420956422287,
           0.0018943088121319348,
           0.0007099034195910468,
           0.007879974594286108,
           0.005566822395930376,
           0.0018375825090507832,
           0.007765619917426517,
           0.003336677799333854,
           0.001626410362835878,
           0.006949617236221649,
           0.002040795340705351,
           0.0011177133074054936,
           0.007686834364824295,
           0.0074032838866791495,
           0.005566887808151594,
           0.0032779925062891863,
           0.0007188819123500588,
           0.0012217510955100735,
           0.0019461521614914546,
           8.552143957410498e-05,
           0.0027156930807683308,
           9.814084750841664e-05,
           0.00655824673656839,
           0.00033429064594772917,
           0.0013067442702499998,
           0.0010338175002094125,
           0.002902661078063242,
           0.0021236246010635854,
           0.0007084538132034311,
           0.0009442178892173506,
           0.002848010110530391,
           0.0028350098399282367,
           0.0008630869928980446,
           0.0004288971465012108,
           0.0012681010939751963
          ],
          [
           0.00803020379251676,
           0.005495561804453747,
           0.001012168609899231,
           0.0002980049955736923,
           0.0004966960134169825,
           0.00010090595472578892,
           0.004441286704598878,
           0.0027957057741959954,
           0.0013543477720824103,
           0.009786498360285941,
           0.009528132145125068,
           0.0026598454626156538,
           0.0029007370890320443,
           0.0005883313066234053,
           0.007200652816702502,
           0.00046520587561039496,
           0.0018403895623361202,
           0.003919029185827926,
           0.000273750073531837,
           0.00633582404952048,
           0.001582908124004683,
           0.0004596666749699835,
           0.0015047399418591538,
           0.0015365280922861007,
           0.00045634158045318614,
           0.004234530633029109,
           0.0007419599333258744,
           0.0001869105161935806,
           0.002015457344705307,
           0.003302893375733934,
           0.0012521755252524018,
           0.0015368468501835064,
           0.00026135761371959336,
           0.0011992093263468906,
           0.002570953626496642,
           0.0018048048984728412,
           0.002338865539015106,
           0.0010815525808820841,
           0.0016527081562711854,
           0.0008284814367491869,
           0.001475239084743265,
           0.005861360516104155,
           0.00022465866891276256,
           0.00011517115025022625,
           0.002488033718752479,
           0.0009945827219111567,
           0.002884101653855723,
           0.006301314519449289,
           0.003345730532710084,
           0.0014112439807590364,
           0.0008408480710625815
          ],
          [
           0.0030133001228265536,
           0.001010092074304794,
           0.00420785930304406,
           0.002199995239855815,
           0.0006265982963682498,
           0.0043505951126580145,
           0.004478122411312771,
           0.00916981770919501,
           0.008789991225816925,
           0.0029842253077007335,
           1.031192712306735e-05,
           0.003153780750769874,
           0.001281122487134041,
           1.321165125113458e-07,
           0.0034488036287430713,
           0.0023462042619160875,
           0.00029281055404830995,
           0.009293627324433073,
           0.0024156842595343324,
           0.007923092276089741,
           0.005348562937283943,
           0.0017197178222623333,
           0.0006454415540425248,
           0.0011407173133580627,
           0.004821359094553065,
           0.00366641032941146,
           0.0045924560729247305,
           0.0018887596260227337,
           0.0008259313122753791,
           0.0014003160580899456,
           0.00423762389827302,
           0.0004883762844915639,
           0.0007133571526226061,
           0.0007980863927031526,
           0.00014630078864375754,
           0.0005937220809349537,
           0.00014127498250590697,
           0.0008351761927906416,
           0.0015979799993997143,
           6.811476179876676e-05,
           0.00020359094743240314,
           0.0029351283726685032,
           0.00013667763680072907,
           0.0001454972598507708,
           0.0016759274186657089,
           0.003814689068952614,
           0.005797795908676786,
           0.012056109074258125,
           0.0024025673542981156,
           0.002155163882522331,
           0.0020792753476628215
          ],
          [
           0.0038409114670802857,
           0.0006316353756169086,
           0.0027937296413600354,
           0.0009301448676612822,
           0.0002363506453611937,
           0.002436768104966271,
           0.0008147777384988472,
           0.007699374831465893,
           0.003488977874239849,
           0.002089231358706126,
           0.0005544352257500453,
           0.004445465999201604,
           9.294243535821667e-05,
           0.003561251158276754,
           0.0055061168661710395,
           0.0068062674034666,
           0.007029686360896264,
           0.0021500836012780795,
           0.0006632482353719156,
           0.004410209613527851,
           6.764379448140492e-05,
           0.0006086612266273417,
           0.0005756955667818851,
           0.0023883780326304444,
           0.0005449398450260593,
           0.004217425538015745,
           0.005092112017020464,
           0.002137599777353695,
           0.0035206116040478364,
           0.0018677317012884037,
           0.002803532067296043,
           9.370795510508929e-05,
           0.0029691360348902997,
           0.00030358677066141175,
           0.001005935392837453,
           0.00028298227278904806,
           0.0020427028858321173,
           0.0009112680286808424,
           0.002687334486010493,
           0.00012049403844813812,
           0.000712560612679146,
           0.002678661287995228,
           0.000832600581967565,
           0.001712629485663459,
           0.00020037855272259753,
           0.0019032843694044292,
           0.004235430227418244,
           0.012091317298599361,
           0.0023346004009226493,
           0.0013566196395821527,
           0.0009000987198067001
          ],
          [
           0.0007926490496378219,
           0.00045896418096355514,
           0.0005380361067755668,
           0.001522597395470221,
           0.0016958992926478067,
           0.0040028728080884375,
           0.004136625403118949,
           0.0004225200949640243,
           0.004940498647428279,
           0.0012085588618401734,
           0.0023028262302830097,
           0.0032547413448949956,
           1.990059934711785e-05,
           0.0017582217432533596,
           0.007122187561613486,
           0.009065501691006029,
           0.004396367334481904,
           0.004304892482706119,
           0.008528458473997469,
           0.0031954476793518353,
           0.0006369751749991902,
           0.0011501894835435167,
           0.0014166706740174066,
           0.00037630421518114113,
           0.0020064683764854825,
           0.004072667780785855,
           0.0023742289043890506,
           0.0034691112351852823,
           0.0014043991061941533,
           0.004375153266641323,
           0.005642968491303344,
           0.0027391658422919246,
           0.0064365621509382305,
           0.004944452212663174,
           0.004095229926603441,
           0.0005099139791311513,
           0.0021018548465918854,
           0.002158588706586731,
           0.002719589958572562,
           0.0006307109668845941,
           4.920413515185208e-05,
           0.0006626810666640159,
           0.0006551761690114958,
           0.002367416618233415,
           0.0002517714506421664,
           0.0006092769054102519,
           0.0018728810605125204,
           0.006221586754275305,
           0.013498254077000225,
           0.010337523882049804,
           0.008682658454506354
          ],
          [
           0.00025403634233128877,
           0.003365017349900307,
           0.0006407603684743405,
           0.0009413008970358076,
           0.012466288281124211,
           0.005649428344530952,
           0.0053591014387625,
           0.0015058491974296586,
           0.0015248636089656314,
           0.001958049136166125,
           0.002934445829417313,
           0.0009282968283646311,
           0.0005642593339697731,
           0.0014090685770591555,
           0.006444636215265226,
           0.006332941532583648,
           0.0025342792133117528,
           0.010724028773020998,
           0.004732401724347861,
           0.00035361914125373457,
           0.0008430885871141634,
           0.0014477830068636518,
           0.00023202913544636484,
           0.004495037219972584,
           0.0015080663642705377,
           0.001954243279271205,
           0.001746874409079988,
           0.0008692353954437639,
           0.0037697200233264582,
           0.006073769193749237,
           0.000486453902552535,
           0.0019536424628120172,
           0.001384815981663884,
           0.002744131768405443,
           0.0031750043717552194,
           0.0009416128224494589,
           0.0018294106899637132,
           0.004823422535182745,
           0.0015246419633528137,
           0.0006348296168097723,
           0.00011405279175723189,
           0.0004577395833265166,
           0.0006901467897353695,
           0.002022153047237814,
           0.0006213350637178684,
           0.0007577950394394391,
           0.002216176362247326,
           0.00028964605338213856,
           0.0012426295257049924,
           0.0016428792763654768,
           0.00025022935751750896
          ],
          [
           0.004371378373526429,
           0.0005289751425806087,
           0.00015969513820980009,
           0.0024990588443778317,
           0.0073599182374619,
           0.001285410148336727,
           0.0031777135335503493,
           0.0019400921507541106,
           0.0031766237556023888,
           0.004569082539261962,
           0.0021506017226121444,
           0.006663056040193461,
           0.004388361465925272,
           0.0025511307147869974,
           0.000554445817031928,
           0.003520495429272902,
           0.0006545141434666404,
           0.0016637080435513208,
           0.002903333536675179,
           0.0010013150880666209,
           0.0012148496083183836,
           0.0026332643069070676,
           0.0005332034123943435,
           0.004336033598013315,
           0.0017500621745780687,
           0.0016808441910329808,
           0.003920696319464074,
           0.015736109467017728,
           0.010228559756814429,
           0.0028113230342343724,
           0.00801504493623768,
           0.004968372569567469,
           0.006546099391249298,
           0.009893594494940528,
           0.0032381193396904626,
           0.004902769378142535,
           0.002196339038033027,
           0.00477286038783903,
           0.0002946753314635584,
           0.003754941141225293,
           0.0022162146026028914,
           0.002340500734684486,
           0.0068986115064702475,
           0.003327839091546681,
           0.00023023718036356306,
           0.0011325191946027016,
           0.003324790256478695,
           0.0010035260432544,
           0.007302305921156714,
           0.008197224652755596,
           0.0028962821301491584
          ],
          [
           0.00486642401947147,
           0.0002820490077529185,
           7.821362205370753e-05,
           0.001043773498345505,
           0.008103936867297155,
           0.019238511713185892,
           0.003926499922791542,
           0.0002785239945690636,
           0.0046215399240989215,
           0.005974884409790374,
           0.002866099452727686,
           0.007131680006627731,
           0.0033579765552932623,
           0.004901880388304194,
           0.002804649533305868,
           0.00042646593747269626,
           0.00039826081967144573,
           0.0035061084481432707,
           0.0056910380076047075,
           0.003228546328663595,
           0.0023615660417814826,
           0.002896305974220138,
           0.0004691680188760443,
           0.003883609929724459,
           0.002669229099042797,
           0.0003307086269584883,
           0.0020092628764659085,
           0.002296070885650212,
           0.007914189301950083,
           0.004032100466864556,
           0.004203972830971276,
           0.00017256473194843296,
           0.007717151240685088,
           0.0003347932682703774,
           0.002003698667203267,
           0.0004934457412609896,
           0.0022745601089654253,
           0.0032055824955439897,
           0.00019856942290450103,
           0.0026823817977886188,
           0.0003677693172205379,
           0.0011807235480556706,
           0.007591463128438816,
           0.00288502807195499,
           0.0014104262344958808,
           0.0022701037772549578,
           0.004889157536421593,
           0.0023347709256782458,
           0.004462422221735703,
           0.003307940894760562,
           0.0002802306016647016
          ],
          [
           0.002603174672289893,
           0.005942502299821743,
           0.0032246835880315326,
           0.00045387466686207625,
           0.0008948693754981135,
           0.006489358880841482,
           0.0007455269298700578,
           0.0009682955994574779,
           0.006783955273619839,
           0.003246766500085432,
           0.004465711881124204,
           0.004954445902118792,
           0.0011853118078090261,
           0.0029073374773368943,
           0.004554354504157647,
           0.0032370163446699936,
           0.0008482814013600443,
           0.0001664875696098983,
           0.0020728653670066934,
           0.0020028700041965666,
           0.011101254565854018,
           0.00528138669789818,
           0.0022470897574901312,
           0.0038062832528352776,
           0.0062437562297511864,
           0.003844767836325407,
           0.0012715176455758888,
           0.006282844913607482,
           0.0036330335542207963,
           0.0001439215224364166,
           0.0016783618506103432,
           0.0014251992653926745,
           0.0019210047822644655,
           0.0014119859396301546,
           0.0011331470310949833,
           0.00029312644125792505,
           0.0017744870847626556,
           0.002458458496737829,
           0.0048350067695906215,
           0.013911769276343503,
           0.01483495234870664,
           0.004296175157377359,
           0.0005109932811425652,
           0.0027904448808872074,
           3.5088719528337275e-05,
           0.001988598967469746,
           0.0034035796782312866,
           0.002916570028985173,
           0.0015163643578430474,
           0.0027323354759537957,
           0.0015818217334636177
          ],
          [
           6.869511058189097e-05,
           0.00039244327494014245,
           0.003813164868158739,
           0.004018678995505299,
           0.000669675933127238,
           0.0019753657872542746,
           5.8581549723802205e-05,
           0.0013830418028105875,
           0.005196945241014309,
           0.0016461009683875207,
           0.005427300451237032,
           0.0019856674350642307,
           0.0008553364863586679,
           0.003754140010577677,
           0.000724298146182839,
           0.0001643911717174393,
           0.00033290239831795527,
           0.0010641655335349009,
           0.0032152943395054976,
           0.0037686468005067946,
           0.0019233278616684838,
           0.0002747697241745899,
           0.001489696689081347,
           0.0019195342608882755,
           0.0027545254209767407,
           0.008279267810196523,
           0.004143235616196773,
           0.0015329352121598709,
           0.004052753021407009,
           0.002959478825181043,
           0.0005484100246785008,
           0.0031878225642969268,
           0.004948500665902833,
           0.004730473631424334,
           0.0034621227277253914,
           0.0024519556074912444,
           0.0020551045670808626,
           2.4090562135895703e-06,
           0.0006068853138613278,
           0.0025322267715082673,
           0.004957198008636142,
           0.007979776859953842,
           0.0036403542573847755,
           6.695566378784583e-05,
           0.0030058012602987697,
           0.005289102717774673,
           0.0011385058912932772,
           0.00028198598895920474,
           0.00013443700135132495,
           0.00046833416864463666,
           0.00047682033269322874
          ],
          [
           0.0021015111963983667,
           0.001505264023725395,
           0.0022905123986487015,
           0.007440331459728907,
           0.004543855336670231,
           0.002278577088080274,
           0.008428466946757517,
           0.007341643116342089,
           0.00028165078007220896,
           0.00044071307261460283,
           0.002208445063946839,
           0.00042517385545824075,
           0.0014825410735893009,
           0.004823353546942918,
           0.011028923432838296,
           0.00880921975043798,
           0.002647400467297536,
           0.006744455524117702,
           0.00365095903981541,
           0.002352541678029457,
           0.0036797300469926207,
           0.0030455144472822516,
           0.0006437409758107106,
           0.0006114838043163831,
           0.003318999160474786,
           0.002061034446834623,
           0.004899820994434296,
           0.005799108938636343,
           0.0035057587538156664,
           0.0031255726519940365,
           0.0004542409310204301,
           0.005725354114573911,
           0.004572068155663073,
           0.017907162405967098,
           0.0028634829740001827,
           0.002276723820195582,
           0.0041641356904362214,
           0.003136875285526417,
           0.005202632042663342,
           0.006320271036874019,
           0.004936438613205937,
           0.005953315059250165,
           0.006497457362734858,
           0.0040005472540875124,
           0.00034568744476281405,
           0.0020643848033135965,
           0.0007593498631521587,
           0.0010452972105575995,
           0.0005503855493767967,
           0.0008064537811461955,
           0.0011344864225823026
          ],
          [
           0.0031321154278771248,
           0.0019218709110515257,
           0.0005782130138410894,
           0.004807988231896334,
           7.891251903153012e-05,
           0.00036556627870509075,
           0.00779099867319664,
           0.006465977263976218,
           0.004010042783507891,
           0.0004015031528677699,
           0.0025261673226900944,
           0.00036946220828365604,
           0.0039000624509261516,
           0.007033703473952584,
           0.013452451422262673,
           0.010394063684863663,
           0.0028862579860214703,
           0.00798305841754605,
           0.003918288860123282,
           0.00010362664012110566,
           0.0017670453679230847,
           0.000967268151327672,
           0.001525947757556206,
           0.001499222426183013,
           0.0024514960835145426,
           0.005185993627912588,
           0.005900523717284164,
           0.011441046031942313,
           0.002897300689439769,
           0.002616080313362263,
           0.0013317765390612368,
           0.003152951163219223,
           0.003144118403278826,
           0.015470664730835516,
           0.0012707918488160188,
           0.0013250632433855127,
           0.0021830649826188875,
           0.002539641353219485,
           0.0001610184797733312,
           0.0023211686903780605,
           0.0004901202455794046,
           0.0047482800627241745,
           0.0036982361169138702,
           0.0033542696365041983,
           0.00684103728598061,
           0.005926277596002229,
           0.002507643373715341,
           0.000541607008781681,
           0.003780405140517812,
           0.0021378017321839423,
           0.00011703574486761016
          ],
          [
           0.004628041267305898,
           0.002581149394644734,
           0.0026705033182250404,
           0.0016383718793300797,
           0.0006139655067045315,
           0.0007761775851427811,
           0.006416495704650787,
           0.0012610570354321536,
           0.0018955336678563206,
           0.0003543672984846137,
           0.0010984550204386954,
           0.000773579992409254,
           0.002010393098803524,
           0.0042050511355512694,
           0.01595250647196927,
           0.025856225056875973,
           0.01440441960162575,
           0.0007094046907355169,
           0.0025942252667115577,
           0.002717026059358166,
           0.005713151316036598,
           0.005005030724417173,
           0.0009531281397109474,
           0.001940216423803588,
           0.0029673576787259143,
           0.0033725346500534277,
           0.005393808728665518,
           0.0067102896902261604,
           0.007522335901331523,
           0.0009064414106506463,
           0.013508051870977507,
           0.0010860378912200318,
           0.004515421019140607,
           0.011746193117117524,
           0.001784783621875978,
           0.0027094433500113716,
           0.004849758176923786,
           0.00039488016413483985,
           0.006250503721357605,
           0.0034399498040694975,
           0.0011196362113457404,
           0.0009277795062413988,
           0.005055423282923976,
           6.81691891880572e-05,
           0.0016312380626893864,
           0.00037086979956908555,
           0.0006347596267315156,
           0.003764399940481472,
           0.0037153654845098897,
           0.0011371378488577496,
           0.0005996177663989112
          ],
          [
           0.008985285205491368,
           0.00161244915416334,
           0.0014442885647040723,
           0.00027119556925263663,
           5.102486882745862e-05,
           0.003471335904762713,
           0.003644174306529741,
           9.27374473630773e-05,
           0.004636130162427924,
           0.0014336502504531206,
           0.0001852799841996267,
           0.0019385384044400202,
           0.00017502119953713836,
           0.0010129427683734519,
           0.0011462816214688864,
           0.005941475186247574,
           0.012584499003037685,
           0.0013456567097360793,
           0.0007934595933572986,
           0.0009381472732662686,
           0.0009250507024225736,
           0.0012630280634185445,
           0.00012530954389978056,
           0.0014301109365581091,
           0.0004416004564927482,
           0.0017747069777869046,
           0.006150713638996842,
           0.003381016815180005,
           0.00981025271091305,
           0.004058417111739896,
           0.010803172718686103,
           0.006213736068738447,
           0.003646707611310776,
           0.0026440789523752557,
           0.0010371892349191163,
           0.0002661342169480706,
           0.0002770340258143158,
           0.0072516546886972014,
           0.004344061129751195,
           0.00018737641563822938,
           0.0012425712266235425,
           0.002912374932587413,
           0.002257881549131077,
           0.00018875729231725066,
           0.005234954767937025,
           0.005579328322992709,
           0.007462886899898469,
           0.004014199036349118,
           3.1713571673355775e-05,
           0.0008215895537677029,
           0.0020762545624445684
          ],
          [
           0.012241380018439186,
           0.0049684674191242265,
           0.006808169241898265,
           0.0027933609991006303,
           0.0017273814185361906,
           0.003445568007510151,
           0.005018952925558844,
           0.0019047098975793928,
           0.00550742946349096,
           0.004084914798070582,
           0.006488347952973104,
           0.009283094130929908,
           0.010362423027549248,
           0.003825691004928228,
           0.00191571086185427,
           0.007646279368344622,
           0.003982514640416079,
           0.002766592431015148,
           0.0006288818086238809,
           0.0011451937764175623,
           0.0023936642422627877,
           0.0009505442317333478,
           0.0009516403845746784,
           0.0041248069324675545,
           0.001310787212414416,
           0.0035489976572322555,
           0.00422672952359865,
           0.0031003258270932864,
           0.007305009631672408,
           0.006354760548513485,
           0.028753722276970605,
           0.02961552117025776,
           0.010709789597415566,
           0.00099659619154651,
           4.9758709587823016e-05,
           0.00047913763324126826,
           0.0003575103420370288,
           0.006856906907320942,
           0.005801402829948086,
           0.0010348683850989059,
           0.002452992265437862,
           0.003824433268700131,
           0.004807441687473659,
           0.0006050588651187719,
           0.00045313918875915433,
           7.969484558195202e-05,
           0.008510060208305383,
           0.004116758604729522,
           0.0016146672192564211,
           0.002638949652723003,
           0.0015806067257509088
          ],
          [
           0.002647329478518281,
           0.008728565276709024,
           0.018847121374455378,
           0.01664578313768001,
           0.012552559643673897,
           0.0019530908080591265,
           0.0008705952424722078,
           0.0011156072177189887,
           0.003602594791825445,
           0.002591127021768563,
           0.001829191137040848,
           0.00018039713014909625,
           0.0008794389378279835,
           0.0025118524830987058,
           0.0041527068960277745,
           0.0076664979950579635,
           0.006552322824403944,
           0.0017465897799166866,
           0.001014872153852889,
           0.0018568566335648608,
           0.00022042448798791168,
           0.00025034746199080487,
           0.00027797937696311657,
           0.003183248608743576,
           0.0006878879667974226,
           0.005678460131166959,
           0.005221220020882685,
           0.006633601731311957,
           0.002937632757513085,
           0.004050458750288435,
           0.0071689675624856215,
           0.002033748852678805,
           0.004978956719614243,
           0.0009170940347737622,
           6.447228791862345e-05,
           0.0007614264726184645,
           0.00033196536355275207,
           0.002421857956063645,
           0.009311535910681908,
           0.002233190842147229,
           0.0010432883110086937,
           0.002741033296114515,
           0.00011044869635541701,
           0.00396636055992361,
           0.0006930525417936911,
           0.00026423664804316806,
           0.009057851348920759,
           0.002441846788359578,
           0.0011664135939130833,
           0.0010841824943942256,
           0.0023340701319336096
          ],
          [
           0.0021526617749200337,
           0.008981352305305453,
           0.0012400394563491955,
           0.0008807127804524411,
           0.0013725136592050604,
           0.0023791711718734883,
           0.0015699762470840104,
           0.0022907760609514796,
           0.003333375095173592,
           0.0009128128273154595,
           0.0007928500161457017,
           0.0008835827869639581,
           0.0014837153725315861,
           0.0012684050454581583,
           0.0014593315366038836,
           0.00795196023622986,
           0.008957829144558267,
           0.004163071604982463,
           0.002018295472463502,
           0.001919146130511991,
           0.0008040363354228253,
           0.0065931740792278554,
           0.005325383882651327,
           0.009278503811753883,
           0.00047183391464063076,
           0.0024085007594124228,
           0.0029476417623057363,
           0.017326926422527852,
           0.010237319942412549,
           0.0007182077341522567,
           0.0008661001759175106,
           6.442217851932087e-05,
           0.0023805387356173073,
           0.0014198970836662183,
           0.0022247086240614615,
           0.006511681446959137,
           0.009542776349994325,
           0.0031592400141466767,
           0.00221825330123658,
           0.000272500366926924,
           0.0024151337821678226,
           0.0007796077742933288,
           0.0011037505007046935,
           0.005552156899579669,
           0.005354166235711233,
           0.007123077913416602,
           0.010886991921449544,
           0.0025304907861562354,
           0.0023755452658846144,
           4.4358505601442e-05,
           0.003004134277359197
          ],
          [
           0.010853718270738198,
           0.027179893689827206,
           0.010244095383770926,
           0.010033078065414881,
           0.0018776656073788,
           0.003526575186387332,
           0.002588551128198799,
           0.0055982443544392475,
           0.006618109846354543,
           0.004573002540766054,
           0.0026317079399087815,
           0.0026654475929249084,
           0.003229034002414646,
           0.0010181768542073387,
           0.00024238002704466915,
           0.0013460982852231847,
           0.003018812851053926,
           0.0068131455708165525,
           0.003973450794645919,
           0.009337896391642607,
           0.005188589016620552,
           0.006990633973204808,
           0.011509339336681893,
           0.018011643016636325,
           0.0061727622920160355,
           0.002244306058792323,
           0.00045116831174258287,
           0.016535734300468896,
           0.014913674604852156,
           0.008377578213890728,
           0.0009061160067984124,
           0.0009880499242877572,
           0.002977267578089269,
           0.0016249996304934398,
           0.0004786251717003403,
           0.0007302512122627652,
           0.0052281867403106965,
           0.005506160722376471,
           0.0010665434867329977,
           0.00019103245715210144,
           0.001917399082954609,
           0.005024974698587124,
           0.0011456032436409653,
           0.0014423602944661944,
           0.005324506331535006,
           0.0041875708111256075,
           0.004311792417150436,
           0.001110570674460725,
           0.004969724728762907,
           0.0004315986770664719,
           0.0007150418684772901
          ],
          [
           0.0004114217038744696,
           0.010946386207129163,
           0.005749724159769761,
           0.014225341478740322,
           0.010417512107220753,
           0.0038949283454991603,
           0.0008229361942914943,
           0.0025860458024745425,
           0.0023220898728207786,
           0.004476939226739107,
           0.0018999536146176506,
           0.0026780903622581932,
           0.005391993814780285,
           0.00026470473122781316,
           0.0002689072584970426,
           0.000757748480236128,
           0.001851160363032416,
           0.008312724294420893,
           0.0013786165110373143,
           0.00789071002691151,
           0.006450892863758842,
           2.9807488672523244e-05,
           0.0028365034758584306,
           0.0070448509627513,
           0.011852832903440531,
           0.00729158309308155,
           0.0015352410638406748,
           0.0045472842516269965,
           0.0019096448773598953,
           0.0019827933522708137,
           0.0002465564464654364,
           0.00017510306850229118,
           0.0013922622900201305,
           2.469626525196152e-05,
           0.0008063036816013416,
           0.0007556072965481571,
           0.0035354146129567433,
           0.002666215322309772,
           0.0006749124572810589,
           0.0009172958898466761,
           0.001436977748833943,
           0.0010264814383617459,
           0.000520473232884325,
           0.0006329102618889718,
           0.004015031910167955,
           3.557550699500479e-05,
           0.0018124549904618781,
           0.0014059965367144694,
           0.0021966752268196012,
           0.00016631386871347693,
           0.000886695907722663
          ],
          [
           0.010573359169914791,
           0.0003934991188945473,
           0.001347787479746192,
           0.002775290096425916,
           0.00440289112984467,
           0.00666677802889677,
           0.0030104348068505675,
           0.008765473990588631,
           0.006924923852763493,
           0.011745709770962339,
           0.013569293303736333,
           0.0131969751632767,
           0.015339450764435682,
           0.006827607511503055,
           0.003444366087858001,
           0.00025815598656085166,
           0.005479567805343304,
           0.009708762145940061,
           0.0022696873661658414,
           0.0030689141855772505,
           0.0036972340969177084,
           0.001473931611309805,
           0.0008201286416896358,
           0.0006295491791272028,
           0.002716035458179198,
           0.0058518471590635465,
           0.009152067407611262,
           0.004722077749769227,
           0.0016921124141514024,
           0.003648658185220262,
           0.0034786056923012377,
           0.002847720659073498,
           0.0037766874630859783,
           0.001276407176635924,
           0.004119425874084856,
           0.005689709098382887,
           0.005156307001848512,
           0.0011618500365768916,
           0.00038084329177854627,
           0.0007353122703918641,
           0.0004667460409802384,
           7.363993726016194e-05,
           0.001130095642160875,
           0.0002139854075292156,
           0.0014562838173831293,
           0.0017274369088386033,
           0.0024359421044553875,
           0.003197393106831276,
           0.00014995698966879388,
           0.00172421900570425,
           0.0023827075120555043
          ],
          [
           0.01908501591064929,
           0.012925321866224701,
           0.005596943716680101,
           0.004578710692403286,
           0.0032729895195516756,
           0.007990634145043857,
           0.010647355496761783,
           0.011589330562895218,
           0.00834194047395051,
           0.009213425178790667,
           0.00453048682447399,
           0.007157516821242492,
           0.010053405803032316,
           0.0030537819913010545,
           0.005604090023641388,
           0.002305675352215341,
           0.004000235447894346,
           0.003558105714244841,
           0.005489444000449352,
           0.0006276590958830227,
           0.0022998817819759832,
           0.0043933135721631045,
           0.0027789752813223907,
           0.0024392529614686203,
           0.003193501939440864,
           0.0017501859222820591,
           0.007472368550267755,
           0.008969221255265171,
           0.0038414207385857367,
           0.0037771983708170115,
           0.0028142742449985777,
           0.009226533669319446,
           0.011656569297921679,
           0.005865416113938225,
           0.0007485067449325039,
           0.0001375492805744101,
           0.0015685556844723901,
           0.0023349070436095897,
           0.0022025964557055096,
           0.00320166372288416,
           0.0023513248516354485,
           0.0027624567671763033,
           0.012361668186683916,
           0.0067168771744105,
           0.00409718586499251,
           0.0007334468631578716,
           0.0004780824516075359,
           0.0029633804669667242,
           0.0048736419121740236,
           0.007701085472092373,
           0.007830648726204847
          ],
          [
           0.004359958699278221,
           0.007568125154396184,
           0.007785786235958504,
           0.0035621441407252268,
           0.0029253817283231873,
           0.003999918657272376,
           0.002560888422646748,
           0.00012641853150269068,
           0.0013262683484115184,
           0.0009293314256577464,
           0.0017403005678556793,
           0.0008245155899854284,
           0.002193476067799606,
           0.001138398015097709,
           0.004751668067730802,
           0.00429413259606812,
           0.0021808611915747644,
           0.0016289985637762754,
           0.002406864814865068,
           0.0007997114215588144,
           0.0014663753029835447,
           0.0013565452418400573,
           0.0001819417610394403,
           0.0009814914824923264,
           0.005003048285699834,
           0.005762498593013964,
           0.0027333061854884367,
           0.00011627569302899755,
           0.003534400581336015,
           0.004618949516569367,
           0.0011188037102417944,
           0.0038001184071141426,
           0.0012967418555226873,
           0.003491050719354988,
           0.002064778655836517,
           0.0007822788411396333,
           0.001083133008669253,
           0.004275456503550761,
           0.004029876064480424,
           0.002570984728484382,
           0.0015949022545859491,
           0.0002955965663666259,
           0.008970605841372305,
           0.009198249898005561,
           0.011443929587288076,
           0.004998952177845789,
           0.0003951206580000094,
           0.0008271564068936613,
           0.003098433107992104,
           0.014198470378803358,
           0.01376322164221707
          ]
         ]
        }
       ],
       "layout": {
        "scene": {
         "xaxis": {
          "title": {
           "text": "x"
          }
         },
         "yaxis": {
          "title": {
           "text": "y"
          }
         },
         "zaxis": {
          "title": {
           "text": "z"
          }
         }
        },
        "template": {
         "data": {
          "bar": [
           {
            "error_x": {
             "color": "#2a3f5f"
            },
            "error_y": {
             "color": "#2a3f5f"
            },
            "marker": {
             "line": {
              "color": "#E5ECF6",
              "width": 0.5
             },
             "pattern": {
              "fillmode": "overlay",
              "size": 10,
              "solidity": 0.2
             }
            },
            "type": "bar"
           }
          ],
          "barpolar": [
           {
            "marker": {
             "line": {
              "color": "#E5ECF6",
              "width": 0.5
             },
             "pattern": {
              "fillmode": "overlay",
              "size": 10,
              "solidity": 0.2
             }
            },
            "type": "barpolar"
           }
          ],
          "carpet": [
           {
            "aaxis": {
             "endlinecolor": "#2a3f5f",
             "gridcolor": "white",
             "linecolor": "white",
             "minorgridcolor": "white",
             "startlinecolor": "#2a3f5f"
            },
            "baxis": {
             "endlinecolor": "#2a3f5f",
             "gridcolor": "white",
             "linecolor": "white",
             "minorgridcolor": "white",
             "startlinecolor": "#2a3f5f"
            },
            "type": "carpet"
           }
          ],
          "choropleth": [
           {
            "colorbar": {
             "outlinewidth": 0,
             "ticks": ""
            },
            "type": "choropleth"
           }
          ],
          "contour": [
           {
            "colorbar": {
             "outlinewidth": 0,
             "ticks": ""
            },
            "colorscale": [
             [
              0,
              "#0d0887"
             ],
             [
              0.1111111111111111,
              "#46039f"
             ],
             [
              0.2222222222222222,
              "#7201a8"
             ],
             [
              0.3333333333333333,
              "#9c179e"
             ],
             [
              0.4444444444444444,
              "#bd3786"
             ],
             [
              0.5555555555555556,
              "#d8576b"
             ],
             [
              0.6666666666666666,
              "#ed7953"
             ],
             [
              0.7777777777777778,
              "#fb9f3a"
             ],
             [
              0.8888888888888888,
              "#fdca26"
             ],
             [
              1,
              "#f0f921"
             ]
            ],
            "type": "contour"
           }
          ],
          "contourcarpet": [
           {
            "colorbar": {
             "outlinewidth": 0,
             "ticks": ""
            },
            "type": "contourcarpet"
           }
          ],
          "heatmap": [
           {
            "colorbar": {
             "outlinewidth": 0,
             "ticks": ""
            },
            "colorscale": [
             [
              0,
              "#0d0887"
             ],
             [
              0.1111111111111111,
              "#46039f"
             ],
             [
              0.2222222222222222,
              "#7201a8"
             ],
             [
              0.3333333333333333,
              "#9c179e"
             ],
             [
              0.4444444444444444,
              "#bd3786"
             ],
             [
              0.5555555555555556,
              "#d8576b"
             ],
             [
              0.6666666666666666,
              "#ed7953"
             ],
             [
              0.7777777777777778,
              "#fb9f3a"
             ],
             [
              0.8888888888888888,
              "#fdca26"
             ],
             [
              1,
              "#f0f921"
             ]
            ],
            "type": "heatmap"
           }
          ],
          "heatmapgl": [
           {
            "colorbar": {
             "outlinewidth": 0,
             "ticks": ""
            },
            "colorscale": [
             [
              0,
              "#0d0887"
             ],
             [
              0.1111111111111111,
              "#46039f"
             ],
             [
              0.2222222222222222,
              "#7201a8"
             ],
             [
              0.3333333333333333,
              "#9c179e"
             ],
             [
              0.4444444444444444,
              "#bd3786"
             ],
             [
              0.5555555555555556,
              "#d8576b"
             ],
             [
              0.6666666666666666,
              "#ed7953"
             ],
             [
              0.7777777777777778,
              "#fb9f3a"
             ],
             [
              0.8888888888888888,
              "#fdca26"
             ],
             [
              1,
              "#f0f921"
             ]
            ],
            "type": "heatmapgl"
           }
          ],
          "histogram": [
           {
            "marker": {
             "pattern": {
              "fillmode": "overlay",
              "size": 10,
              "solidity": 0.2
             }
            },
            "type": "histogram"
           }
          ],
          "histogram2d": [
           {
            "colorbar": {
             "outlinewidth": 0,
             "ticks": ""
            },
            "colorscale": [
             [
              0,
              "#0d0887"
             ],
             [
              0.1111111111111111,
              "#46039f"
             ],
             [
              0.2222222222222222,
              "#7201a8"
             ],
             [
              0.3333333333333333,
              "#9c179e"
             ],
             [
              0.4444444444444444,
              "#bd3786"
             ],
             [
              0.5555555555555556,
              "#d8576b"
             ],
             [
              0.6666666666666666,
              "#ed7953"
             ],
             [
              0.7777777777777778,
              "#fb9f3a"
             ],
             [
              0.8888888888888888,
              "#fdca26"
             ],
             [
              1,
              "#f0f921"
             ]
            ],
            "type": "histogram2d"
           }
          ],
          "histogram2dcontour": [
           {
            "colorbar": {
             "outlinewidth": 0,
             "ticks": ""
            },
            "colorscale": [
             [
              0,
              "#0d0887"
             ],
             [
              0.1111111111111111,
              "#46039f"
             ],
             [
              0.2222222222222222,
              "#7201a8"
             ],
             [
              0.3333333333333333,
              "#9c179e"
             ],
             [
              0.4444444444444444,
              "#bd3786"
             ],
             [
              0.5555555555555556,
              "#d8576b"
             ],
             [
              0.6666666666666666,
              "#ed7953"
             ],
             [
              0.7777777777777778,
              "#fb9f3a"
             ],
             [
              0.8888888888888888,
              "#fdca26"
             ],
             [
              1,
              "#f0f921"
             ]
            ],
            "type": "histogram2dcontour"
           }
          ],
          "mesh3d": [
           {
            "colorbar": {
             "outlinewidth": 0,
             "ticks": ""
            },
            "type": "mesh3d"
           }
          ],
          "parcoords": [
           {
            "line": {
             "colorbar": {
              "outlinewidth": 0,
              "ticks": ""
             }
            },
            "type": "parcoords"
           }
          ],
          "pie": [
           {
            "automargin": true,
            "type": "pie"
           }
          ],
          "scatter": [
           {
            "fillpattern": {
             "fillmode": "overlay",
             "size": 10,
             "solidity": 0.2
            },
            "type": "scatter"
           }
          ],
          "scatter3d": [
           {
            "line": {
             "colorbar": {
              "outlinewidth": 0,
              "ticks": ""
             }
            },
            "marker": {
             "colorbar": {
              "outlinewidth": 0,
              "ticks": ""
             }
            },
            "type": "scatter3d"
           }
          ],
          "scattercarpet": [
           {
            "marker": {
             "colorbar": {
              "outlinewidth": 0,
              "ticks": ""
             }
            },
            "type": "scattercarpet"
           }
          ],
          "scattergeo": [
           {
            "marker": {
             "colorbar": {
              "outlinewidth": 0,
              "ticks": ""
             }
            },
            "type": "scattergeo"
           }
          ],
          "scattergl": [
           {
            "marker": {
             "colorbar": {
              "outlinewidth": 0,
              "ticks": ""
             }
            },
            "type": "scattergl"
           }
          ],
          "scattermapbox": [
           {
            "marker": {
             "colorbar": {
              "outlinewidth": 0,
              "ticks": ""
             }
            },
            "type": "scattermapbox"
           }
          ],
          "scatterpolar": [
           {
            "marker": {
             "colorbar": {
              "outlinewidth": 0,
              "ticks": ""
             }
            },
            "type": "scatterpolar"
           }
          ],
          "scatterpolargl": [
           {
            "marker": {
             "colorbar": {
              "outlinewidth": 0,
              "ticks": ""
             }
            },
            "type": "scatterpolargl"
           }
          ],
          "scatterternary": [
           {
            "marker": {
             "colorbar": {
              "outlinewidth": 0,
              "ticks": ""
             }
            },
            "type": "scatterternary"
           }
          ],
          "surface": [
           {
            "colorbar": {
             "outlinewidth": 0,
             "ticks": ""
            },
            "colorscale": [
             [
              0,
              "#0d0887"
             ],
             [
              0.1111111111111111,
              "#46039f"
             ],
             [
              0.2222222222222222,
              "#7201a8"
             ],
             [
              0.3333333333333333,
              "#9c179e"
             ],
             [
              0.4444444444444444,
              "#bd3786"
             ],
             [
              0.5555555555555556,
              "#d8576b"
             ],
             [
              0.6666666666666666,
              "#ed7953"
             ],
             [
              0.7777777777777778,
              "#fb9f3a"
             ],
             [
              0.8888888888888888,
              "#fdca26"
             ],
             [
              1,
              "#f0f921"
             ]
            ],
            "type": "surface"
           }
          ],
          "table": [
           {
            "cells": {
             "fill": {
              "color": "#EBF0F8"
             },
             "line": {
              "color": "white"
             }
            },
            "header": {
             "fill": {
              "color": "#C8D4E3"
             },
             "line": {
              "color": "white"
             }
            },
            "type": "table"
           }
          ]
         },
         "layout": {
          "annotationdefaults": {
           "arrowcolor": "#2a3f5f",
           "arrowhead": 0,
           "arrowwidth": 1
          },
          "autotypenumbers": "strict",
          "coloraxis": {
           "colorbar": {
            "outlinewidth": 0,
            "ticks": ""
           }
          },
          "colorscale": {
           "diverging": [
            [
             0,
             "#8e0152"
            ],
            [
             0.1,
             "#c51b7d"
            ],
            [
             0.2,
             "#de77ae"
            ],
            [
             0.3,
             "#f1b6da"
            ],
            [
             0.4,
             "#fde0ef"
            ],
            [
             0.5,
             "#f7f7f7"
            ],
            [
             0.6,
             "#e6f5d0"
            ],
            [
             0.7,
             "#b8e186"
            ],
            [
             0.8,
             "#7fbc41"
            ],
            [
             0.9,
             "#4d9221"
            ],
            [
             1,
             "#276419"
            ]
           ],
           "sequential": [
            [
             0,
             "#0d0887"
            ],
            [
             0.1111111111111111,
             "#46039f"
            ],
            [
             0.2222222222222222,
             "#7201a8"
            ],
            [
             0.3333333333333333,
             "#9c179e"
            ],
            [
             0.4444444444444444,
             "#bd3786"
            ],
            [
             0.5555555555555556,
             "#d8576b"
            ],
            [
             0.6666666666666666,
             "#ed7953"
            ],
            [
             0.7777777777777778,
             "#fb9f3a"
            ],
            [
             0.8888888888888888,
             "#fdca26"
            ],
            [
             1,
             "#f0f921"
            ]
           ],
           "sequentialminus": [
            [
             0,
             "#0d0887"
            ],
            [
             0.1111111111111111,
             "#46039f"
            ],
            [
             0.2222222222222222,
             "#7201a8"
            ],
            [
             0.3333333333333333,
             "#9c179e"
            ],
            [
             0.4444444444444444,
             "#bd3786"
            ],
            [
             0.5555555555555556,
             "#d8576b"
            ],
            [
             0.6666666666666666,
             "#ed7953"
            ],
            [
             0.7777777777777778,
             "#fb9f3a"
            ],
            [
             0.8888888888888888,
             "#fdca26"
            ],
            [
             1,
             "#f0f921"
            ]
           ]
          },
          "colorway": [
           "#636efa",
           "#EF553B",
           "#00cc96",
           "#ab63fa",
           "#FFA15A",
           "#19d3f3",
           "#FF6692",
           "#B6E880",
           "#FF97FF",
           "#FECB52"
          ],
          "font": {
           "color": "#2a3f5f"
          },
          "geo": {
           "bgcolor": "white",
           "lakecolor": "white",
           "landcolor": "#E5ECF6",
           "showlakes": true,
           "showland": true,
           "subunitcolor": "white"
          },
          "hoverlabel": {
           "align": "left"
          },
          "hovermode": "closest",
          "mapbox": {
           "style": "light"
          },
          "paper_bgcolor": "white",
          "plot_bgcolor": "#E5ECF6",
          "polar": {
           "angularaxis": {
            "gridcolor": "white",
            "linecolor": "white",
            "ticks": ""
           },
           "bgcolor": "#E5ECF6",
           "radialaxis": {
            "gridcolor": "white",
            "linecolor": "white",
            "ticks": ""
           }
          },
          "scene": {
           "xaxis": {
            "backgroundcolor": "#E5ECF6",
            "gridcolor": "white",
            "gridwidth": 2,
            "linecolor": "white",
            "showbackground": true,
            "ticks": "",
            "zerolinecolor": "white"
           },
           "yaxis": {
            "backgroundcolor": "#E5ECF6",
            "gridcolor": "white",
            "gridwidth": 2,
            "linecolor": "white",
            "showbackground": true,
            "ticks": "",
            "zerolinecolor": "white"
           },
           "zaxis": {
            "backgroundcolor": "#E5ECF6",
            "gridcolor": "white",
            "gridwidth": 2,
            "linecolor": "white",
            "showbackground": true,
            "ticks": "",
            "zerolinecolor": "white"
           }
          },
          "shapedefaults": {
           "line": {
            "color": "#2a3f5f"
           }
          },
          "ternary": {
           "aaxis": {
            "gridcolor": "white",
            "linecolor": "white",
            "ticks": ""
           },
           "baxis": {
            "gridcolor": "white",
            "linecolor": "white",
            "ticks": ""
           },
           "bgcolor": "#E5ECF6",
           "caxis": {
            "gridcolor": "white",
            "linecolor": "white",
            "ticks": ""
           }
          },
          "title": {
           "x": 0.05
          },
          "xaxis": {
           "automargin": true,
           "gridcolor": "white",
           "linecolor": "white",
           "ticks": "",
           "title": {
            "standoff": 15
           },
           "zerolinecolor": "white",
           "zerolinewidth": 2
          },
          "yaxis": {
           "automargin": true,
           "gridcolor": "white",
           "linecolor": "white",
           "ticks": "",
           "title": {
            "standoff": 15
           },
           "zerolinecolor": "white",
           "zerolinewidth": 2
          }
         }
        }
       }
      },
      "text/html": [
       "<div>                            <div id=\"cc60a1d8-4376-4821-941e-e3f90563c7d4\" class=\"plotly-graph-div\" style=\"height:525px; width:100%;\"></div>            <script type=\"text/javascript\">                require([\"plotly\"], function(Plotly) {                    window.PLOTLYENV=window.PLOTLYENV || {};                                    if (document.getElementById(\"cc60a1d8-4376-4821-941e-e3f90563c7d4\")) {                    Plotly.newPlot(                        \"cc60a1d8-4376-4821-941e-e3f90563c7d4\",                        [{\"x\":[5.51070463181037,6.750938631810369,7.991172631810368,9.231406631810367,10.471640631810368,11.711874631810367,12.952108631810367,14.192342631810366,15.432576631810365,16.672810631810368,17.913044631810365,19.153278631810366,20.393512631810367,21.633746631810364,22.873980631810365,24.114214631810366,25.354448631810364,26.594682631810365,27.834916631810362,29.075150631810363,30.315384631810364,31.55561863181036,32.79585263181036,34.03608663181036,35.27632063181036,36.51655463181036,37.75678863181036,38.99702263181036,40.237256631810354,41.477490631810355,42.717724631810356,43.95795863181036,45.19819263181036,46.43842663181035,47.67866063181035,48.91889463181035,50.159128631810354,51.399362631810355,52.63959663181035,53.87983063181035,55.12006463181035,56.36029863181035,57.60053263181035,58.840766631810354,60.08100063181035,61.32123463181035,62.56146863181035,63.80170263181035,65.04193663181036,66.28217063181035,67.52240463181035],\"y\":[3.99048647845702,5.23072047845702,6.470954478457019,7.711188478457018,8.951422478457019,10.191656478457018,11.431890478457017,12.672124478457016,13.912358478457016,15.152592478457017,16.392826478457017,17.633060478457015,18.873294478457016,20.113528478457013,21.353762478457014,22.593996478457015,23.834230478457012,25.074464478457013,26.31469847845701,27.55493247845701,28.795166478457013,30.03540047845701,31.27563447845701,32.515868478457016,33.75610247845701,34.99633647845701,36.23657047845701,37.47680447845701,38.717038478457006,39.95727247845701,41.19750647845701,42.43774047845701,43.67797447845701,44.918208478457004,46.158442478457005,47.398676478457006,48.63891047845701,49.87914447845701,51.119378478457,52.359612478457,53.599846478457,54.840080478457004,56.080314478457005,57.320548478457006,58.560782478457,59.801016478457,61.041250478457,62.281484478457,63.521718478457004,64.761952478457,66.002186478457,67.242420478457,68.48265447845701,69.72288847845701],\"z\":[[0.014375153844471751,0.010756018823149676,0.005995764273467574,0.005696611232085091,0.006727404927872006,0.0012195358625296238,0.00452746906367862,0.00858030675544173,0.005061896626976587,0.011194161563669947,0.0020008665531054313,0.002913178367593027,0.003307103251946235,0.011581005909770058,0.009230579348810514,0.0035223328026161853,0.006063004342896286,0.003470175492121393,0.0004274580082274969,0.0019519516832265191,0.0030949001511572784,0.012310081507497342,0.0069507174648218584,0.0015284647345268762,0.005812883377148373,0.0017519375239848914,0.00027972368777522393,0.0015933519772432458,0.0027512319633316096,0.00360361283639048,0.0005149668183508784,0.001359660899226195,0.004848522628820678,0.0035178471535138806,0.00030803518249522777,0.001896810893913393,0.00873273603177668,0.001811482097868396,0.0030125719690179886,0.005262189008547633,0.003018295252592723,0.0031177146683341924,0.004782242650673458,0.0030886110651819855,0.0025107349542453114,0.001936822785821129,0.0043561181348349964,0.0026440351778040704,0.013155301039153806,0.00017786940986195271,0.009534788580064176],[0.008156492440885642,0.006607250459519571,0.009937580789008024,0.007911022796881516,0.00503688808450072,0.006207668916691821,0.003458835151682602,9.62857096836376e-05,0.007424804783183416,0.013318036461284152,0.012324986098917093,0.0012907813714840319,0.0011325435432931233,0.0036624312235700963,0.012086683822054033,0.004485918289954088,0.0013284128139384606,0.0007339631773626841,4.499577216847581e-05,0.0011879870096469529,0.002875173536596614,0.001075820056450385,0.00073957953965617,0.001610641225358212,0.004588760355478304,0.0017563233540964522,0.0020144135164964173,0.00026977809642839194,0.0013287976939824668,0.003458969015606038,0.0008568785909598658,0.0024073482602766936,0.006036125470564961,0.006355702998875776,0.003433300662042869,0.001012494728559866,0.002968715535304308,0.0008372509244074446,0.0003919459189212957,0.003016773657756732,0.001689678174165321,0.004390190075500619,0.0032614093525661653,0.00010024825734774879,0.0019103616392936577,0.003239619171607889,0.0015037792918561462,0.0028122552815613437,0.013787793613048955,0.0015726423689541602,0.0038221436276846925],[0.0008704755661589455,0.0004373358732666906,0.002285042222004029,0.0010698012776652612,0.0035649572960907558,0.002466000253006509,0.003376866007648546,0.014468313418177173,0.016616388682149406,0.0042218320581532175,0.0034387960061357027,0.0014754785358565643,0.0002696302170163295,0.01192874979973051,0.007674413282992903,0.0012536660543685408,0.0007565145009781482,0.0001670228541000855,0.0015940139574938637,0.0011519883367421082,0.0015404453797744884,5.934666001407986e-05,0.00039827029124220786,0.0015322947279714618,0.0024698219198304484,0.003152772472283787,0.0002513876891736781,9.876212130735773e-05,0.002180559024878349,0.0011525110925177415,0.0011084269452443026,0.0015655472186459907,0.0005726659455759198,0.001066784872349044,0.0023593863264974074,0.0012611930526859763,0.0029896080609761047,0.0028898679275093557,0.00084019385690937,0.001802422989382242,0.0003376203640360281,0.003660812215841072,0.005859017738450043,0.00047486004620020107,0.010101692927624752,0.01083369355279338,0.002379766902653867,0.0015114424097285586,0.0069448722636807235,0.013126753044567167,0.009355145858297668],[0.0005352122147472971,0.000745044775196413,0.00033385522100671877,3.8152108285951606e-05,0.0007903389636476782,0.0012507933938667617,0.004041473058222361,0.006620049585606845,0.007863125899221435,0.007309693607103868,0.0015058508344572169,0.002649930474319583,0.0006124265238973089,0.0031946416253608744,0.003488187924372832,0.0023534475744673338,0.002388678354260559,0.0007193050531719612,0.0015805872895548988,0.0060431253552543,0.004967515794815563,0.0021059647011279106,0.0013108918434854636,0.002582472417841456,0.0007698236361068497,0.002918616603840914,0.0005782085287725345,0.0005191807482863878,0.0009622373349272054,0.002703590414719286,0.008735515776459446,0.007927776970437443,0.0066638715435955185,0.0017433999472326654,9.872934584289528e-05,0.0011611893481619727,0.0013565336628735094,0.0011262832558253636,0.0007681508712953307,0.0003122373017759078,0.000823666542255167,0.002759638221356768,0.008664081582108614,0.0032802124189294703,0.004265617952411456,0.0055814805844979385,0.005015301927254425,0.0030376290924344503,0.002960767692016664,0.004927880742207556,0.0023151732963803337],[0.0024621931540557904,0.0029475242498219656,0.0011884808004184574,0.001005430867975827,0.0007250667988696906,2.7043876620979554e-05,0.0016945829332115872,0.007483490834014062,0.008296820264065774,0.005372216518957707,0.005614052179306977,0.006409044212106204,0.005699871562602563,0.0005989150456079776,0.001583491211655773,0.0001448295051439982,0.0027016824511283755,0.0006377644192215479,0.002244179579860484,0.007172677332586496,0.002405819340241798,0.0022908715981692688,0.0003942891789107841,0.0017668153628102067,0.00032355946516149684,0.0010671299624847022,0.0003952321483765949,0.001202448969952286,0.002833991899560364,0.001394848967695516,0.006485042266753301,0.0004128648689232596,0.0006669120377643885,0.00012364669931126025,0.00020415390826383393,0.0044086492359438215,0.002232042498563844,0.0006040459941625484,0.0013394711700775508,0.00040945506024712015,8.171921301809124e-05,0.000447173780516785,0.005085146800892975,0.009479259246221807,0.00169828715766918,0.0005032489389500498,0.0030951257974559834,0.0017624484242674723,0.003295873122226668,5.2605788813379126e-05,0.0015607655914858323],[0.009380164180577775,0.008942563669874013,0.004104743935121214,0.0016640308857405152,0.0025058263014410415,0.003687768797453497,0.00048059415079278867,0.003012411511364929,0.008568389393062393,0.0029176701369139453,0.000511945406552781,0.002105560664562516,0.00945739353184893,0.000596734666439358,0.0022312232739666645,0.004000155183006952,0.008804917870107303,0.002368091621207609,7.526235774166272e-05,0.0036888180413387054,0.005223794965909437,0.0012316531438876183,0.0012228695531693928,0.00045475704247430735,0.00018740964100483375,5.363348547644562e-05,0.00022861032632570183,0.0028526960287578954,0.0012495915599940594,0.003306157087645575,0.007351924183206332,0.0008580001837762308,0.00990866395486374,0.006669143603951746,0.004860497923565248,0.007732820955586254,0.0036344294014941363,0.00040238593042542486,0.0002761625201238171,0.00028275850546326893,0.0007977650491612701,0.004938321823540158,0.002625571772450598,0.007948567092422087,0.001997174094368324,0.005951095927472205,0.0037962641909689305,0.0006052674830240241,0.0009000772243940425,0.0004345769103429978,0.00025237601924401427],[0.0030821878459932643,5.237041197302273e-05,0.005287074880278472,0.0005061975932606828,0.001195015269786433,0.002841781103736484,0.005555820837301366,0.0010550482408856886,0.0009755058182049435,0.0019666868650853953,0.0008257612640457583,0.0014212662790345429,0.007732919470858972,0.00020356104804940535,0.001022356275974554,0.008645911194170366,0.007001967053583934,0.011316311862194403,0.00530787566805656,0.00040565219988334257,0.0001718316560746122,1.7809413568544145e-05,0.0013154400293899416,0.0013263904971755652,0.003983689775095238,0.0025517095510700343,0.003494674323470763,0.00045609944277855206,0.000664006856341425,0.0015543578603438711,0.004939430041092597,0.0009435437657884494,0.010736370270548152,0.0015757494413572114,0.00235578889062158,0.004631164483490246,0.004361056911607545,0.0013653149956072534,0.0013152666239790926,0.0006828731082871189,0.00081502976399545,0.0017723685281768654,0.00039149305668298906,0.003331234153045103,0.004195484562354353,0.010507717245080594,0.0005805688022130043,0.0015805498555801721,0.0017910059659387097,0.0017110835146578387,0.0003344459279849031],[0.005219781392638467,0.0030272740186082867,0.007481042266234217,0.001649572744513665,0.0027272133833071985,0.008839731406440126,0.007980803003590036,0.00369841725762277,0.003906536200902994,0.0029958799700857126,0.005671121923384393,0.0012770062546648769,0.007712882625117847,0.0018095322577394825,0.0006906565711907886,0.005301140089621965,0.00659250687103876,0.003951226545287166,0.00033697268580803037,0.0005292627893180449,0.0011931859914882657,0.00014893088518584856,0.0007674812029726407,0.005885389276006833,0.0026758631596999352,0.00048392879671719494,0.0004038397627271742,0.0005050821661649911,0.0022025369839692795,5.555040314194507e-05,0.0031002045840819686,0.00036031260742723763,0.00752150802963521,0.000691512601297417,0.0046284277342887115,0.0004502114417267557,0.0006787745756515523,0.0003824123555777451,0.0033610772126802697,0.005805640626469083,0.0052225497708281105,0.006820194534115085,0.0016267826396145796,0.0022954262476693015,0.0029124161344283167,0.0019966425003781103,0.009941021588623403,0.00456267749156546,0.0030474080261971804,0.003362761906528828,0.002314808220470738],[0.0008268537855486641,0.00010875729570347271,0.0036252334089895114,0.0005069853486246459,0.0010371042333227611,0.0009682563098601323,0.0009912018971049812,0.0016161211669027753,0.0036329109508876868,0.0011259950602240125,0.003924802477986021,0.0002608180499135582,0.003175864192554347,0.0005730516338508353,0.00029889602069079423,0.0010735491055167824,0.006268267135536164,0.00014605776264803316,0.004286754178137951,0.000688982938337011,0.0025753775495998632,0.000789079756927638,0.003993264060889389,0.008886027167567801,0.00029620779000640675,0.004586228800790036,0.0010985157897693862,0.0007830471231501636,0.0018338230023818328,0.00040793875596843656,0.0019240902856927486,0.00027001727865103443,0.007157869641558185,0.0007404983813975879,0.0014809294616358415,0.0006641934390166363,0.0013450022532680017,0.00026499765377466136,0.003042641339396484,0.002811018573110806,0.0021416516521383343,0.003944594974991029,0.003434375555525231,0.002649217594011726,0.000514261260732178,0.007296896126835897,0.0003847693032301375,0.0018198256031493817,0.0017147797387120282,0.006017713878042596,0.002645028237154606],[0.0001990866171643614,0.0008452339046674513,0.0022672125098297195,0.0025862105470252734,0.0019793532791598494,0.0005355837275017112,0.00017031727114590872,0.0013743380548853245,0.0032335032610606136,0.0013831820806087948,0.0011557482503191127,0.0008426212316795641,0.0011588548179079726,0.005788089077938293,0.005795742839324036,0.0038204926432350997,0.00036711774713440017,0.000830575982089826,0.0014640130705183803,0.001984765630986948,6.764643630190762e-05,0.0014691056966599568,0.0040210898623016,0.0026135608172296663,0.00042056215185948395,0.0034987544426452973,8.745709521605367e-05,0.0002558366788619375,0.0011753125791467936,5.6471199841976296e-05,0.0010045410900755105,0.0011793071088683714,0.003652822109630161,0.00026204513854757275,0.0019070022171314514,0.001967389330346356,0.003078732147602365,0.002880791263289469,0.00100399155699889,8.413256109535619e-05,0.0010415228762028464,0.0037284975667412003,0.0033289719010293215,0.003697559796305053,0.002805962196033499,0.00020817536612671863,0.004113315081501614,0.005549255381071273,0.004453358495631352,0.0027620262525238667,0.004229701520155378],[0.004474696109045476,0.002931087606708245,0.0036952648659003633,0.005704643911661884,0.002678320326546449,0.0006213623996294443,3.1198123585452834e-05,0.00022738575567372643,5.359794349506824e-05,0.0006667784091521033,0.005839011649436081,0.004468200225022473,0.0045685038468952464,0.006264689351269333,0.013917173596635666,0.010790099745062521,0.005291604631139476,0.001908012671469966,0.0057314056035826745,0.0024043283924914563,0.0008263448362468179,0.003373035604065963,0.001409943486346058,0.0006634255746642806,0.003160142430547466,0.004346247912969409,0.0030565490631776454,9.445183553387235e-05,0.0007948776389953257,0.000593538789740535,0.0027946967680571254,0.009596503518152,0.0035683448421757586,0.0025785175072441154,0.0028786363450009336,0.0011251909710077658,0.0013761171584588052,0.00512105391910013,0.0016922925622977522,0.0021231040930187314,0.0005058158019389024,0.0015198686574066026,0.005268116952962963,0.014446236182715351,0.006594159426691645,0.002080499364671571,0.007319412884318096,0.011880231025873447,0.00379154118779195,0.0012093497091671184,0.006209152046806082],[0.0026295436725752184,0.0032275298975262146,0.012193075434063491,0.006549691297922513,0.0005184264208845554,4.934768219854675e-05,0.00013548087072888978,9.595709730408579e-05,0.0011311535601143436,0.005343887896299322,0.0048015856445061955,0.0018209469782882865,0.005678682681345258,0.003147731481257224,0.005133290441032712,0.0017790257106290056,0.003347813143166809,0.00031131998985389786,0.0027213180183210213,0.001020238532165288,0.005014585582571703,0.014072817830323152,0.003337661647187868,0.0006193413626018093,0.0033604973963804498,0.0019220264329141144,0.006470598566200399,0.0007100091886164999,0.0017051369937607975,0.0023421907596672363,0.0004967322738788278,0.003957165517352246,4.431007866265541e-05,0.0010327761911285457,0.00017841606184038766,0.00033242130765578855,0.0010868649192498408,0.0005510922962526605,1.1343248273681827e-05,0.000981581113090741,0.0013410840089967653,0.004444963802763633,0.000669458847787692,0.00530222959092882,0.0016187753670910154,0.0010771937764520218,0.007412903606744205,0.0074721987240116295,0.002580299511617416,0.0009154925592620854,0.00879716727472831],[0.001973588010932218,0.006653310811566855,0.007466589108018102,0.0013845934793379289,0.0008689915185890637,0.00035722018312620495,0.00024408191245743477,4.2869551769503235e-05,0.002603075512591985,0.005377791535303633,0.0005340260823897868,0.0022382243438097255,0.002074388807893365,0.0016776635297219497,0.00309214715282161,0.0023469422250900654,0.00098477130697789,0.002121776361540836,0.0023663905419925224,0.0004973935533119474,0.0008540307480229149,0.002908011566412113,0.0002633334069215414,0.0004430131753669575,0.000770751088674982,0.00015048655085924878,0.004178301695455347,0.006957319406206846,0.009140322213074448,0.011584399199948794,0.00562223115142027,0.001075563183379246,0.0013731872977878591,0.003728999562449353,0.0011168526144403291,0.0018695315012984687,0.0033745191074505895,0.00884389772351665,0.004726825036974951,0.0027284876301412707,0.0069481043527609525,0.011672652693178048,0.004997879076303723,0.0014445224912023975,0.00192839017719222,0.0024899837297426824,0.0024228251455886913,0.0015759353230915024,0.0021847521142081983,0.00040295787230685165,0.004517967256613373],[0.0015902878492200323,0.0008122290088934523,0.004802594611995505,0.0030528301017668505,0.0013466490175793433,0.00018688626638765845,0.0028639336164144567,0.00042794088938465677,0.0029373698131908267,0.009924663305852998,0.0018633742721181666,0.0020065198098164093,0.001203794449900379,0.0032018772242867048,0.006452509886516644,0.006946114110540336,0.006221459768015739,0.0036316864740755126,0.0058946974464635735,0.004034268639498685,0.0017770477219765219,0.004161642701096263,0.0028012670666669823,0.0005666187507666814,0.00027937960731216286,0.00035873031573865763,0.004325658847335686,0.004230116335254259,0.005232955083800224,0.010745070344691165,0.009281200859873261,0.0038871388361514307,0.005300557401617668,0.007078197069881989,0.0006858030867442703,0.0003214144620703629,0.003567828785821505,0.006273500345430045,0.000515140421664118,0.0033916936999023747,0.004861113381224122,0.004832799248941269,0.0030204242123641127,0.0006676334677393657,0.00048400619203607805,0.0036370787772356597,0.0012574208497380232,0.0020276292917041413,0.004067404584809344,0.004723397536588351,0.0009179102900194523],[0.0018802478786095157,0.0033003786832709095,0.007515519874734094,0.008269529613801872,0.0046767210511897885,0.001236700467084435,0.0075051576616941736,0.0035946103564402656,0.002174483374648049,0.007691440185856721,0.0036028351930856924,0.00479195160770385,0.0006646792498007797,0.0005143318068459986,0.0049020696865306424,0.003308230578908328,0.003693542261044165,0.0008896145478660744,0.001987562571868587,0.0017491311005604121,0.003461517477222221,0.0023164809002119728,0.0010802638684804938,0.0003052506784082167,0.0004143566180640228,0.0001965413290941741,0.0008992531101568677,0.0013874162896003414,0.0006531085565527578,0.0006103146875544577,0.005253701863823448,0.004452588379763547,0.00046320250121716284,0.0008792426301378455,0.002363545469529628,0.002506398873304781,0.0005792128243371612,0.0029962692865559267,0.00502499225630183,0.0009558547905523151,0.0015259960880937122,0.006604273133964527,0.007156097709509483,0.004330974245722571,0.0028783222160679916,0.004357477524739988,0.0078121903742606955,0.0039123895827447705,0.0013866740716586693,0.008086533229469946,0.002368016543647363],[0.004226195458134265,0.00711165910111349,0.0008654620345607622,0.0004733409208228656,0.0007500896878059272,0.00031121609252852576,0.009746958949475951,0.0036842564924787474,0.0006520262195924638,0.002952987071326039,0.0011346409044783313,0.002282627804896497,0.0008400893116126346,0.0007126718546167493,0.004900242191081867,0.0017966411260426996,0.00031671872037913624,0.0011206745075986412,0.0009920440857336225,0.005168506701196209,0.0015221678458791615,0.0035951842690242087,0.00037153135083809927,0.0006289088351594013,7.952519733460915e-05,0.0008398830106787944,0.003826311698460391,0.004837644119820279,0.0025550325995553,0.00608582311327714,0.011392154992818732,0.004039452807196682,0.0034631901921827347,0.0005278268588803387,0.001837757839157397,0.004648384624383841,0.006047561930941795,0.004571232787510956,0.00048593695986438477,0.0010201439053419388,0.00025945971831359103,0.002958261064067203,0.00022830741228224228,0.0033790914278842045,0.00105647353405176,0.005861820622943529,0.0056648705895249755,0.004207294229661734,0.0013294750342725766,0.0016942869235929308,0.0010037783366447259],[0.001510066266224163,0.000654277508711518,0.003098505809110914,0.0019517837237087248,0.0015283678117702301,0.0006136498488214632,0.0057207334020336455,0.0020658953557183947,0.002364272100807302,0.00043524927521909986,0.002784807522024084,0.008792533047743608,0.0084214559072511,0.0054864959493877655,0.0024997695265267395,0.0007153517921104878,0.002195405839067051,0.012706787602399107,0.007328459115222531,0.006031994532630664,0.0008285980981150423,0.006451414788743585,0.004390498730588763,0.0040070764108789975,0.0025019499795662058,0.001958204661883316,0.004445088493365789,0.005209421165997188,0.006173188001270253,0.0032584961106215163,0.003093416846519512,0.0013791578056867846,0.012001108181561556,0.0059151455543217536,0.010747743948476692,0.027249368773654553,0.02126893878296582,0.023537843393519012,0.016175379453885017,0.0056387597868047526,0.0027925606868019577,0.0020006884974518337,0.00023740125947334256,0.004728828919376887,0.0020772929305918333,0.004756795197574361,0.0008839001726493291,0.0005107254500690454,0.0019971560069251093,0.0012087176711455116,0.00035426002570557315],[0.001386104045520954,0.0016675424399776925,0.0008869548324576549,0.010873723156274696,0.010933425612376618,0.004657616763706015,0.0004030562889034448,0.001523842320058169,0.0008404857051984063,9.850041272398283e-05,0.003402542133095741,0.0034121779536325494,0.004063977589219843,0.0048393990851268364,0.00017198871099015622,0.0006639919944716465,0.001229105892717685,0.006695494956976253,0.004475633454905808,0.011046641678757081,0.004550043346872972,0.001661411781904262,0.003317844382138377,0.00325533848577714,0.004232271016280169,0.0009280261203367193,0.0020907581769283295,0.0010484637008616009,0.0022319644520175266,0.0019663509442187123,0.0036280416213900716,0.0032198390000827805,0.013206949093476509,0.0003027378031576032,0.0006645640127118999,0.004877890729227611,0.0001365632699739148,0.011651833901249076,0.02022108498700352,0.00859009535224484,0.0019608991472611008,0.001847341010932624,0.0050850403473788035,0.008657779535664399,0.00042680844477531937,0.005465808456437159,0.0004049482858327185,0.0005442740597349141,0.004500784165989644,0.003834171154303701,0.0009409609532540981],[0.0015559330348347837,0.0024077039781693955,0.0012718812138640375,0.0030307472319602434,0.0023703351610765092,0.0015452333055857971,0.0011372898794229443,0.002809195257820753,0.0003832700214483202,0.0005603187164526882,0.0022973214052968587,0.0013044545174411243,0.0010373083893204446,0.004995719813755663,0.0007536691765965347,0.0008571720558622521,0.0027136598545816136,0.003277766214760659,0.006549368551445418,0.002505141605845318,0.0009247752512002186,0.004879350999322128,0.006778382907250225,0.003995022277622739,0.01143508334833519,0.0030800175156565006,0.000596534914361329,0.0007196426443706589,0.00022544890306591157,7.614115523823394e-05,0.0012204939477164197,0.004942924195343264,0.007955223954057924,0.0019709169919024504,0.002885436551436984,0.007859967415229145,0.008251001361216044,0.0006872957113798861,0.005960458127079472,0.009503654272386756,0.006567854756813544,0.012100440292077309,0.008557801684043702,0.000906029169855083,0.0005151332057917202,0.007630185320192458,0.0006085223445921247,0.0014731315249293048,0.0017818614894692052,0.0032049053649755963,0.008144645319267358],[0.004758605678963526,0.0024285185583910727,0.00011578925671561297,0.0062228128498813,0.00916275295820134,0.002078244758185499,0.0009814651038262089,0.0006744008058139448,0.0004411669645766162,0.0018246756984188878,0.003470786944585195,0.002639109307610468,0.0017831188768432427,0.00715129697041531,0.006030927060007693,0.0013929038130850843,0.0066255309488491895,0.008346879563514749,0.009432127217346502,0.01074171482145295,0.004136915945398044,0.0029482461033154732,0.003805462687467561,0.0034217869529330792,0.004462461739268307,0.0035395524533817497,0.0013021953206576635,0.0016188529449359355,0.0006478456626952046,0.00019901926710254094,0.00208585345846431,0.007168634813239143,0.0029995775542410773,0.0007668552548898565,0.002338555324285816,0.0007095983639504485,0.004318887039597256,0.006410090314022976,0.0026724841727947517,0.0011972178113503116,0.003817274080607087,0.0017438473136887898,0.005461285648991731,0.0003407841175537432,0.0011487387468730162,0.0034244633515753274,0.00015500880976687716,0.0004994151122247829,0.0001482506732465169,0.0012785450146450441,0.0027486091617877993],[0.0014574814751189271,0.0001973789866311187,9.283977640528451e-06,0.0003128013424812355,0.0006240047079026272,0.0027936418851688596,0.0018039990375458498,0.000621860317305199,0.0007988149126213834,0.0020342158285655667,0.005857167920876645,0.005972268676728655,0.000532692647194218,0.0036265950012803194,0.0078687506234634,0.0070950287524543555,0.0006155936822048624,0.011229576668842091,0.007959455053779853,0.013437636582624493,0.0016207572481552958,0.0004342019931005891,0.00015672564303653133,0.009537697209746298,0.007357493335684193,0.010743082576051409,0.003799772458248292,0.0008547429553413487,0.00021420854737270052,2.724758936321671e-05,0.0004935671774601776,0.0020240697964717218,0.004736498620389191,0.0016407912042094212,0.0013554494217501978,0.0018039725902515163,0.001008876929882993,0.0007493459940942006,0.0015437104410523398,0.005507373640465483,0.0003604228873934044,0.005776389562702704,0.0014665475407934447,0.0008461628548845012,0.004095807606554985,0.0009127565932892631,9.551115615601148e-05,0.0010540428845711872,0.0006111712458977982,0.002265339601971072,0.0012333558896996664],[0.0006923691678689476,0.0007029301243096698,0.00013245441568059314,0.002948514248002224,0.002744300539464464,0.0033019395452587256,0.004276415162840266,0.003488417984672887,0.002943028925618686,0.00020554556352567896,0.0023070279643252404,0.006248687996673048,0.0002855130815719679,4.816234043893815e-05,0.0011905572731798642,0.0054861796237488086,0.0034096629036503377,0.009437450093963719,0.0003798559203563385,0.0072918114691187695,0.0010624734075457354,0.0014003287317036514,0.0004787529885507155,0.00251850529910317,0.0018463246592671696,0.0014270823293484089,0.00292095350572023,0.005353024185567727,0.006062549647627599,0.005440060457115014,0.004688197389641444,0.0012270277263355307,0.0005079169198041358,0.0015227687955119478,0.005375627924710078,0.004258073113654354,0.0022525734396023184,0.003915045823720967,0.00376896992672574,0.002825502166854731,0.002448857746727094,0.003754610738448877,0.0020834044052517597,0.0020638545852733883,0.0024949221732771384,0.0007354655786833219,0.0004161336252144376,0.0006297949961977047,0.009146942225438173,0.008439443630745086,0.004857983571226998],[0.011172428131533066,0.010786935813124454,0.004175541580525875,0.00037492916457314556,0.0001891061546401926,0.004128556698335555,0.005203045366571373,0.0024870798559159485,0.007385863180781353,0.011464667229984484,0.0017860161077468753,0.0024273052222121136,0.0022421653386198366,0.0010475829748523681,0.0022087479138200882,0.005130690657236797,0.008053811149548394,0.00031177126592647346,0.0012802040205176154,0.007163066423169977,0.001180435018003293,8.414552265969291e-05,0.0007370149830502851,0.0003732404898833893,0.00014994695028676316,0.0011954719173362138,0.00121936892722895,0.0003603980564680228,0.0022281061572839,0.0022255640087265717,0.0009528425394376241,0.002641201247779891,0.005318632476962637,0.0046897314453885255,0.0030916064812244516,0.005252907467591025,0.004520926839631099,0.0006926108397064768,0.0013201210502673082,0.0040027049242187755,0.0017447468483745422,0.0011394214780896612,0.0015812587578859305,0.00894937673544228,0.00029455605054141406,0.0013996111691923193,0.0014375039154804958,0.00309433045868262,0.0036691148692564977,0.00017519250908317355,0.0012706923569122512],[0.0001826079008478772,0.0019148322100861872,0.003073444748097391,0.00471115759953086,0.0007052737561935035,0.004351966638751901,0.004535416637786121,0.0004865307488554646,0.0021941036558246613,0.0038617644768896785,0.0055644927422299015,0.007477369733862977,0.003689193067320161,0.002726432039104997,0.0022470390534758636,0.003548840798146765,0.0037688691071838904,0.0015557358263903662,0.0010640033793221924,0.003529019248471376,0.0030326597327405384,0.0010163238681725594,0.0001444424641565109,0.0019132569538170127,0.001413455156205106,0.0022565258782040183,0.007279975357329046,0.0012894878018436227,0.0029344476398985454,0.00020874379766058396,0.006524569906430162,0.004479124812937824,0.0035631783574458925,0.0013969988752112097,0.003977875214761511,0.0029825173016355716,0.0015008427189981278,0.002266497786775115,0.00028446228107261514,0.0023691530768838375,0.004387137933590511,0.0011031973773675335,0.0006222157640556934,0.007448928512583048,0.0006440004057821645,0.0011375744032923526,0.0014225795014094424,0.0014610059267494008,0.0018010019013998243,1.2139470422268771e-05,0.00030433702003334327],[0.004624627505802569,0.0018539215591397403,0.001531492387787363,0.005665074278205195,0.0010248416113729042,0.0005118509944298001,0.0031864742670446684,0.005539771434459374,0.0020680382906817403,0.0002066684464185989,0.0036018871953848895,0.002359435576237186,0.0011883534489547556,0.0026241725130862156,0.003259543099793274,0.0026904921927515474,0.0002898290672855401,0.0013010789003562715,1.6411197425396292e-05,0.0003195772432039373,0.0025950972831571056,0.003224427165755336,0.0011231323140100974,0.0019498514173230137,0.0041919888810269396,0.008467688411206436,0.0032526028782117605,0.0022112207202559402,0.003612236838778281,0.000577721576164021,0.002813939792701498,0.0013595981449550463,0.0032451292653818756,0.0017982419046539415,0.0005796150626717915,0.0015627493256641007,0.004483385575850067,0.0005509318641477437,0.0032983828015443343,0.0022911764419911423,0.005539913910448679,0.00010902823849595692,0.0004856354223993652,0.005913088600317577,0.0008059093690356677,0.0008095840454748985,0.001786656241565395,0.0007302958366018728,0.00185466785499116,0.0001725929010590587,0.00010659947429155717],[0.0033625727648229436,0.004562021417090379,0.0013349910072134189,0.005050019863876764,0.0010758080598351292,0.00013646023722366598,0.003539689357851856,0.014886652057385048,0.0014958422620382807,0.0028744938198652565,0.0012825561259847177,0.002268993704240314,0.00040060047804573714,0.0006567091592149086,0.005200644611794951,0.005618827008996837,0.001721532382257652,0.0031595117843788087,0.002863298108742966,0.00249841016927071,0.00034671705558168196,0.0005447689922058632,0.001936733601129447,0.002244544045630171,0.0018537411182135797,0.001759968057260622,0.0007761067122223003,0.0033553630933886415,0.0005159978054779691,0.0010064275568030423,0.009151132894952226,0.0073674883635649144,0.001959798095418231,0.00033710061551364603,0.0004445182342410171,0.002304487860687641,1.7460624553695828e-05,0.0008352696993546729,0.0008129769942610527,0.0011336212275362262,0.0011153990215160134,0.0004139797434659455,0.0005919338515314531,0.003987842254539839,0.00027946408929396317,0.0010489917621702492,0.0013339408464689883,0.00021068554597334152,0.0029645872130778196,0.008883203697539858,0.004490415711749902],[0.0033777562168038075,0.001680915506173414,0.000990328817325508,0.0027140127627838847,0.00031779688757875915,0.0021765160666417584,0.0013605978349656837,0.004771018592823525,0.0020018345301689028,0.0028973603390377483,0.0003427543897384322,0.0009213570094783188,0.001486539122644309,0.00011161836182298564,0.0025568727617693854,0.008728605510751232,0.004554647957208984,0.00126328958864636,0.0068543235145457175,0.005867747158392227,0.00413859215054412,0.002611070277726953,0.0003299571294374117,0.0005581310672840143,0.000423134326036001,0.002104268590233907,0.00278699918402708,0.0016610530713458273,0.0009068904810965309,0.001027707057993359,0.004676367209766257,0.0014820537225343961,0.0034916553177586065,0.0038034884556016097,0.0017596065961215665,0.008562588135928648,0.001843505254495528,0.0024968275888068714,0.00017867602622295933,0.00018938347260609084,0.0013614494797596923,0.0021466002688480495,0.0006846038279897219,0.0016241875479971778,0.001616736206120276,1.862409053593306e-05,0.002181177503244099,0.003362042219691533,0.0032448816591872398,0.002388122934798304,0.005716794013009426],[0.0032329189482180254,0.0014439058417087195,0.0008622689649394317,0.003401733504791209,0.0013291308692449082,0.005929578346969307,0.003518500466269256,0.00040467434037773494,2.426735991158013e-05,0.0008686179570472458,0.0004992989853408332,0.0006384549258968774,0.001114782067604791,0.00027376782242905597,0.006432032944499642,0.012901395803025378,0.010770238345061812,0.00270369767209751,0.0025646643221316073,0.0001732409737523638,0.00254701232384898,0.0006805867396894935,0.0008100291803920408,0.0010161304183315264,0.00013046741019233344,0.001912720936453428,0.0013694560168804738,0.0006481299579894405,0.0012811553525419817,0.0015895801765743601,0.004051945957079121,0.0021079899924662695,0.0010663273686315892,0.00033608403403020655,0.0007899645780484274,0.010123639151768853,0.003290666223208348,0.0028363935351008174,0.0007090237774265938,0.0027844209022379212,0.00133799344119818,0.008807972812260915,0.00032831147608473443,0.00472998213099831,0.003253221971930115,0.0020373594784741573,0.0034074699967497615,0.0006423033143408781,0.0015667368207162922,0.00320260236371676,0.006156395419646828],[0.0005915700586505111,0.005640949803543141,0.0002589033759957177,0.012275502027058535,0.0038841518600272905,0.006576169160867974,0.006143372681832044,0.003997331939566888,0.002636125092627789,0.003575452316887006,0.0032082421767241714,0.0008041312695989397,0.0004412079614266448,0.0010876797846764354,0.00047262269539183056,0.001732991234418681,0.0022225829277858363,0.0011910121076921625,0.002935284038232606,0.0005072764629620306,0.00651168109460024,0.001547287828472811,0.004339247754845092,0.0007416665840545659,0.002102565532154081,0.0014045254664352765,0.0003336825409635684,0.0002086881907984406,0.0002034266543591179,0.004453971737392448,0.004253203472152014,0.007578828654057646,0.0005035911694277084,0.004325153250338493,0.0011173708134668268,0.002296209572961654,0.004403607362374297,0.0005079374297059096,0.0023313589959724637,0.003120775934757811,0.003490724404905811,0.0049263384600544725,0.002940214726547176,0.004175266073463757,0.0023605558653871923,0.003298064541381998,0.006541423465126366,0.006465049666273934,0.0023306078705558776,0.002377112356896744,0.003164804284057138],[0.0011371059445859518,0.0017980951087035498,0.007498742613290187,0.009431029295669038,0.0009456325196424485,0.0058226076969529784,0.005045773841648942,0.0030092187389039243,0.0032739930298493255,0.0008021704424771283,0.0002573138043103124,0.00012297422790432663,0.0020091603836789474,0.0010463035181085955,0.0020335303841889298,0.0012791293627277317,0.000488755676220091,0.0009211686286585255,0.000571433079574144,0.0005700135262769842,0.003082867028612464,0.0010339210883186225,0.008782127709778428,0.003001729807001503,0.012013095950934076,0.001801226824046531,0.001645196650350554,0.0018277358808621007,0.003440262395083064,0.007503861801037789,0.004603815508885993,0.005039118372868902,0.0022319737432375786,0.0010529077739484082,0.0003974304860096424,8.37068520408708e-05,0.0022443061438264427,0.005428483657043644,0.005531864583990639,0.0001227681903961821,0.004021125737449136,0.0013653712423393805,0.00045901027499433854,0.0005396473564183431,0.0014595143376111717,0.0011301548454937262,0.00011241659376397993,0.0005321725177201054,0.005440084327243734,0.0030823636314504916,0.001292267230935762],[0.003279063804312414,0.0001904700082664547,0.003915824083605494,0.006154439970245912,0.012983845431769876,0.005723056175586973,0.00047254741944043586,0.003384826055814069,0.0024395331959441544,0.004608728465313747,0.00022310856347976585,0.0020450375259863564,0.0008537847595856315,0.0002389781824408487,0.0008271217809611034,0.0007647628834764115,0.005990900648717835,0.00452176207905554,0.001201117480349499,8.512420522545713e-05,0.0024055796697066926,0.000644767838524109,0.0074016884142903,0.011780742090984595,0.010056442439304192,0.010774667019361202,0.0006124558159469246,0.009056986947571252,0.004630636442486881,0.010372997781842967,0.012103761019479943,4.537684476000199e-05,0.0022744414912536305,0.000951349168221043,0.0006153231335749804,0.00029111407205639804,0.0025235371083257075,0.0058487273040830475,0.007437358141797454,0.003240846801104566,0.0007748117207209443,0.005484948928240551,0.009523886991758507,0.007498556138263181,0.0027774817751506546,0.002013525977048611,0.0016350114269502668,0.0003304553684392274,0.0023857317386121583,0.0013774136327973367,0.006393864755919446],[0.0015440423738915215,0.000364715721120367,0.003392734267351078,0.0012389195274174812,0.00017025509062170926,0.0010170539195135581,0.001592559928105698,0.000907120916102074,0.0023570902084669,0.01192395318487641,0.002350572848641838,0.005242126196081422,0.0010590389066620963,0.0012058273910515098,0.0005158435107085915,0.0003772749173683729,0.0014981939346382167,0.0006662832538489748,0.001094182295639993,0.0006668738497470207,0.004915350372435729,0.0016652564547452496,0.008691420470584252,0.007305658965953441,0.003277637694186603,0.012042853022714671,9.125153849478953e-05,0.0025313116488769106,0.008834371148190391,0.001292003243704129,0.007654773926830119,0.004729570582386842,0.0005268902658089123,0.00042935724418422465,0.0007862540299294867,0.001542614819184469,0.006419744711399007,0.00021540076666561677,0.006732635009379031,0.00016087419498257954,0.0016905474777508275,0.003702662104145137,0.00621271983244323,0.0006298621199522242,0.00014486950847909393,0.00020890992110308176,0.0002819194473300638,0.00023548203711516974,0.0019569782329932712,0.0010272828474180854,0.00046437018898347777],[0.0031956568330257775,0.0015065542541033367,0.000681927435935803,0.0030489225845400066,0.00275675872752851,0.002888899264000316,0.0034754389346269877,0.000335649567988866,0.00047251042765188107,0.005738502240597051,0.0013534494918927649,0.0007887660768253143,0.002536071266024943,0.0018535109831289843,0.007065873717391482,0.0010312857198038375,0.0018525420956422287,0.0018943088121319348,0.0007099034195910468,0.007879974594286108,0.005566822395930376,0.0018375825090507832,0.007765619917426517,0.003336677799333854,0.001626410362835878,0.006949617236221649,0.002040795340705351,0.0011177133074054936,0.007686834364824295,0.0074032838866791495,0.005566887808151594,0.0032779925062891863,0.0007188819123500588,0.0012217510955100735,0.0019461521614914546,8.552143957410498e-05,0.0027156930807683308,9.814084750841664e-05,0.00655824673656839,0.00033429064594772917,0.0013067442702499998,0.0010338175002094125,0.002902661078063242,0.0021236246010635854,0.0007084538132034311,0.0009442178892173506,0.002848010110530391,0.0028350098399282367,0.0008630869928980446,0.0004288971465012108,0.0012681010939751963],[0.00803020379251676,0.005495561804453747,0.001012168609899231,0.0002980049955736923,0.0004966960134169825,0.00010090595472578892,0.004441286704598878,0.0027957057741959954,0.0013543477720824103,0.009786498360285941,0.009528132145125068,0.0026598454626156538,0.0029007370890320443,0.0005883313066234053,0.007200652816702502,0.00046520587561039496,0.0018403895623361202,0.003919029185827926,0.000273750073531837,0.00633582404952048,0.001582908124004683,0.0004596666749699835,0.0015047399418591538,0.0015365280922861007,0.00045634158045318614,0.004234530633029109,0.0007419599333258744,0.0001869105161935806,0.002015457344705307,0.003302893375733934,0.0012521755252524018,0.0015368468501835064,0.00026135761371959336,0.0011992093263468906,0.002570953626496642,0.0018048048984728412,0.002338865539015106,0.0010815525808820841,0.0016527081562711854,0.0008284814367491869,0.001475239084743265,0.005861360516104155,0.00022465866891276256,0.00011517115025022625,0.002488033718752479,0.0009945827219111567,0.002884101653855723,0.006301314519449289,0.003345730532710084,0.0014112439807590364,0.0008408480710625815],[0.0030133001228265536,0.001010092074304794,0.00420785930304406,0.002199995239855815,0.0006265982963682498,0.0043505951126580145,0.004478122411312771,0.00916981770919501,0.008789991225816925,0.0029842253077007335,1.031192712306735e-05,0.003153780750769874,0.001281122487134041,1.321165125113458e-07,0.0034488036287430713,0.0023462042619160875,0.00029281055404830995,0.009293627324433073,0.0024156842595343324,0.007923092276089741,0.005348562937283943,0.0017197178222623333,0.0006454415540425248,0.0011407173133580627,0.004821359094553065,0.00366641032941146,0.0045924560729247305,0.0018887596260227337,0.0008259313122753791,0.0014003160580899456,0.00423762389827302,0.0004883762844915639,0.0007133571526226061,0.0007980863927031526,0.00014630078864375754,0.0005937220809349537,0.00014127498250590697,0.0008351761927906416,0.0015979799993997143,6.811476179876676e-05,0.00020359094743240314,0.0029351283726685032,0.00013667763680072907,0.0001454972598507708,0.0016759274186657089,0.003814689068952614,0.005797795908676786,0.012056109074258125,0.0024025673542981156,0.002155163882522331,0.0020792753476628215],[0.0038409114670802857,0.0006316353756169086,0.0027937296413600354,0.0009301448676612822,0.0002363506453611937,0.002436768104966271,0.0008147777384988472,0.007699374831465893,0.003488977874239849,0.002089231358706126,0.0005544352257500453,0.004445465999201604,9.294243535821667e-05,0.003561251158276754,0.0055061168661710395,0.0068062674034666,0.007029686360896264,0.0021500836012780795,0.0006632482353719156,0.004410209613527851,6.764379448140492e-05,0.0006086612266273417,0.0005756955667818851,0.0023883780326304444,0.0005449398450260593,0.004217425538015745,0.005092112017020464,0.002137599777353695,0.0035206116040478364,0.0018677317012884037,0.002803532067296043,9.370795510508929e-05,0.0029691360348902997,0.00030358677066141175,0.001005935392837453,0.00028298227278904806,0.0020427028858321173,0.0009112680286808424,0.002687334486010493,0.00012049403844813812,0.000712560612679146,0.002678661287995228,0.000832600581967565,0.001712629485663459,0.00020037855272259753,0.0019032843694044292,0.004235430227418244,0.012091317298599361,0.0023346004009226493,0.0013566196395821527,0.0009000987198067001],[0.0007926490496378219,0.00045896418096355514,0.0005380361067755668,0.001522597395470221,0.0016958992926478067,0.0040028728080884375,0.004136625403118949,0.0004225200949640243,0.004940498647428279,0.0012085588618401734,0.0023028262302830097,0.0032547413448949956,1.990059934711785e-05,0.0017582217432533596,0.007122187561613486,0.009065501691006029,0.004396367334481904,0.004304892482706119,0.008528458473997469,0.0031954476793518353,0.0006369751749991902,0.0011501894835435167,0.0014166706740174066,0.00037630421518114113,0.0020064683764854825,0.004072667780785855,0.0023742289043890506,0.0034691112351852823,0.0014043991061941533,0.004375153266641323,0.005642968491303344,0.0027391658422919246,0.0064365621509382305,0.004944452212663174,0.004095229926603441,0.0005099139791311513,0.0021018548465918854,0.002158588706586731,0.002719589958572562,0.0006307109668845941,4.920413515185208e-05,0.0006626810666640159,0.0006551761690114958,0.002367416618233415,0.0002517714506421664,0.0006092769054102519,0.0018728810605125204,0.006221586754275305,0.013498254077000225,0.010337523882049804,0.008682658454506354],[0.00025403634233128877,0.003365017349900307,0.0006407603684743405,0.0009413008970358076,0.012466288281124211,0.005649428344530952,0.0053591014387625,0.0015058491974296586,0.0015248636089656314,0.001958049136166125,0.002934445829417313,0.0009282968283646311,0.0005642593339697731,0.0014090685770591555,0.006444636215265226,0.006332941532583648,0.0025342792133117528,0.010724028773020998,0.004732401724347861,0.00035361914125373457,0.0008430885871141634,0.0014477830068636518,0.00023202913544636484,0.004495037219972584,0.0015080663642705377,0.001954243279271205,0.001746874409079988,0.0008692353954437639,0.0037697200233264582,0.006073769193749237,0.000486453902552535,0.0019536424628120172,0.001384815981663884,0.002744131768405443,0.0031750043717552194,0.0009416128224494589,0.0018294106899637132,0.004823422535182745,0.0015246419633528137,0.0006348296168097723,0.00011405279175723189,0.0004577395833265166,0.0006901467897353695,0.002022153047237814,0.0006213350637178684,0.0007577950394394391,0.002216176362247326,0.00028964605338213856,0.0012426295257049924,0.0016428792763654768,0.00025022935751750896],[0.004371378373526429,0.0005289751425806087,0.00015969513820980009,0.0024990588443778317,0.0073599182374619,0.001285410148336727,0.0031777135335503493,0.0019400921507541106,0.0031766237556023888,0.004569082539261962,0.0021506017226121444,0.006663056040193461,0.004388361465925272,0.0025511307147869974,0.000554445817031928,0.003520495429272902,0.0006545141434666404,0.0016637080435513208,0.002903333536675179,0.0010013150880666209,0.0012148496083183836,0.0026332643069070676,0.0005332034123943435,0.004336033598013315,0.0017500621745780687,0.0016808441910329808,0.003920696319464074,0.015736109467017728,0.010228559756814429,0.0028113230342343724,0.00801504493623768,0.004968372569567469,0.006546099391249298,0.009893594494940528,0.0032381193396904626,0.004902769378142535,0.002196339038033027,0.00477286038783903,0.0002946753314635584,0.003754941141225293,0.0022162146026028914,0.002340500734684486,0.0068986115064702475,0.003327839091546681,0.00023023718036356306,0.0011325191946027016,0.003324790256478695,0.0010035260432544,0.007302305921156714,0.008197224652755596,0.0028962821301491584],[0.00486642401947147,0.0002820490077529185,7.821362205370753e-05,0.001043773498345505,0.008103936867297155,0.019238511713185892,0.003926499922791542,0.0002785239945690636,0.0046215399240989215,0.005974884409790374,0.002866099452727686,0.007131680006627731,0.0033579765552932623,0.004901880388304194,0.002804649533305868,0.00042646593747269626,0.00039826081967144573,0.0035061084481432707,0.0056910380076047075,0.003228546328663595,0.0023615660417814826,0.002896305974220138,0.0004691680188760443,0.003883609929724459,0.002669229099042797,0.0003307086269584883,0.0020092628764659085,0.002296070885650212,0.007914189301950083,0.004032100466864556,0.004203972830971276,0.00017256473194843296,0.007717151240685088,0.0003347932682703774,0.002003698667203267,0.0004934457412609896,0.0022745601089654253,0.0032055824955439897,0.00019856942290450103,0.0026823817977886188,0.0003677693172205379,0.0011807235480556706,0.007591463128438816,0.00288502807195499,0.0014104262344958808,0.0022701037772549578,0.004889157536421593,0.0023347709256782458,0.004462422221735703,0.003307940894760562,0.0002802306016647016],[0.002603174672289893,0.005942502299821743,0.0032246835880315326,0.00045387466686207625,0.0008948693754981135,0.006489358880841482,0.0007455269298700578,0.0009682955994574779,0.006783955273619839,0.003246766500085432,0.004465711881124204,0.004954445902118792,0.0011853118078090261,0.0029073374773368943,0.004554354504157647,0.0032370163446699936,0.0008482814013600443,0.0001664875696098983,0.0020728653670066934,0.0020028700041965666,0.011101254565854018,0.00528138669789818,0.0022470897574901312,0.0038062832528352776,0.0062437562297511864,0.003844767836325407,0.0012715176455758888,0.006282844913607482,0.0036330335542207963,0.0001439215224364166,0.0016783618506103432,0.0014251992653926745,0.0019210047822644655,0.0014119859396301546,0.0011331470310949833,0.00029312644125792505,0.0017744870847626556,0.002458458496737829,0.0048350067695906215,0.013911769276343503,0.01483495234870664,0.004296175157377359,0.0005109932811425652,0.0027904448808872074,3.5088719528337275e-05,0.001988598967469746,0.0034035796782312866,0.002916570028985173,0.0015163643578430474,0.0027323354759537957,0.0015818217334636177],[6.869511058189097e-05,0.00039244327494014245,0.003813164868158739,0.004018678995505299,0.000669675933127238,0.0019753657872542746,5.8581549723802205e-05,0.0013830418028105875,0.005196945241014309,0.0016461009683875207,0.005427300451237032,0.0019856674350642307,0.0008553364863586679,0.003754140010577677,0.000724298146182839,0.0001643911717174393,0.00033290239831795527,0.0010641655335349009,0.0032152943395054976,0.0037686468005067946,0.0019233278616684838,0.0002747697241745899,0.001489696689081347,0.0019195342608882755,0.0027545254209767407,0.008279267810196523,0.004143235616196773,0.0015329352121598709,0.004052753021407009,0.002959478825181043,0.0005484100246785008,0.0031878225642969268,0.004948500665902833,0.004730473631424334,0.0034621227277253914,0.0024519556074912444,0.0020551045670808626,2.4090562135895703e-06,0.0006068853138613278,0.0025322267715082673,0.004957198008636142,0.007979776859953842,0.0036403542573847755,6.695566378784583e-05,0.0030058012602987697,0.005289102717774673,0.0011385058912932772,0.00028198598895920474,0.00013443700135132495,0.00046833416864463666,0.00047682033269322874],[0.0021015111963983667,0.001505264023725395,0.0022905123986487015,0.007440331459728907,0.004543855336670231,0.002278577088080274,0.008428466946757517,0.007341643116342089,0.00028165078007220896,0.00044071307261460283,0.002208445063946839,0.00042517385545824075,0.0014825410735893009,0.004823353546942918,0.011028923432838296,0.00880921975043798,0.002647400467297536,0.006744455524117702,0.00365095903981541,0.002352541678029457,0.0036797300469926207,0.0030455144472822516,0.0006437409758107106,0.0006114838043163831,0.003318999160474786,0.002061034446834623,0.004899820994434296,0.005799108938636343,0.0035057587538156664,0.0031255726519940365,0.0004542409310204301,0.005725354114573911,0.004572068155663073,0.017907162405967098,0.0028634829740001827,0.002276723820195582,0.0041641356904362214,0.003136875285526417,0.005202632042663342,0.006320271036874019,0.004936438613205937,0.005953315059250165,0.006497457362734858,0.0040005472540875124,0.00034568744476281405,0.0020643848033135965,0.0007593498631521587,0.0010452972105575995,0.0005503855493767967,0.0008064537811461955,0.0011344864225823026],[0.0031321154278771248,0.0019218709110515257,0.0005782130138410894,0.004807988231896334,7.891251903153012e-05,0.00036556627870509075,0.00779099867319664,0.006465977263976218,0.004010042783507891,0.0004015031528677699,0.0025261673226900944,0.00036946220828365604,0.0039000624509261516,0.007033703473952584,0.013452451422262673,0.010394063684863663,0.0028862579860214703,0.00798305841754605,0.003918288860123282,0.00010362664012110566,0.0017670453679230847,0.000967268151327672,0.001525947757556206,0.001499222426183013,0.0024514960835145426,0.005185993627912588,0.005900523717284164,0.011441046031942313,0.002897300689439769,0.002616080313362263,0.0013317765390612368,0.003152951163219223,0.003144118403278826,0.015470664730835516,0.0012707918488160188,0.0013250632433855127,0.0021830649826188875,0.002539641353219485,0.0001610184797733312,0.0023211686903780605,0.0004901202455794046,0.0047482800627241745,0.0036982361169138702,0.0033542696365041983,0.00684103728598061,0.005926277596002229,0.002507643373715341,0.000541607008781681,0.003780405140517812,0.0021378017321839423,0.00011703574486761016],[0.004628041267305898,0.002581149394644734,0.0026705033182250404,0.0016383718793300797,0.0006139655067045315,0.0007761775851427811,0.006416495704650787,0.0012610570354321536,0.0018955336678563206,0.0003543672984846137,0.0010984550204386954,0.000773579992409254,0.002010393098803524,0.0042050511355512694,0.01595250647196927,0.025856225056875973,0.01440441960162575,0.0007094046907355169,0.0025942252667115577,0.002717026059358166,0.005713151316036598,0.005005030724417173,0.0009531281397109474,0.001940216423803588,0.0029673576787259143,0.0033725346500534277,0.005393808728665518,0.0067102896902261604,0.007522335901331523,0.0009064414106506463,0.013508051870977507,0.0010860378912200318,0.004515421019140607,0.011746193117117524,0.001784783621875978,0.0027094433500113716,0.004849758176923786,0.00039488016413483985,0.006250503721357605,0.0034399498040694975,0.0011196362113457404,0.0009277795062413988,0.005055423282923976,6.81691891880572e-05,0.0016312380626893864,0.00037086979956908555,0.0006347596267315156,0.003764399940481472,0.0037153654845098897,0.0011371378488577496,0.0005996177663989112],[0.008985285205491368,0.00161244915416334,0.0014442885647040723,0.00027119556925263663,5.102486882745862e-05,0.003471335904762713,0.003644174306529741,9.27374473630773e-05,0.004636130162427924,0.0014336502504531206,0.0001852799841996267,0.0019385384044400202,0.00017502119953713836,0.0010129427683734519,0.0011462816214688864,0.005941475186247574,0.012584499003037685,0.0013456567097360793,0.0007934595933572986,0.0009381472732662686,0.0009250507024225736,0.0012630280634185445,0.00012530954389978056,0.0014301109365581091,0.0004416004564927482,0.0017747069777869046,0.006150713638996842,0.003381016815180005,0.00981025271091305,0.004058417111739896,0.010803172718686103,0.006213736068738447,0.003646707611310776,0.0026440789523752557,0.0010371892349191163,0.0002661342169480706,0.0002770340258143158,0.0072516546886972014,0.004344061129751195,0.00018737641563822938,0.0012425712266235425,0.002912374932587413,0.002257881549131077,0.00018875729231725066,0.005234954767937025,0.005579328322992709,0.007462886899898469,0.004014199036349118,3.1713571673355775e-05,0.0008215895537677029,0.0020762545624445684],[0.012241380018439186,0.0049684674191242265,0.006808169241898265,0.0027933609991006303,0.0017273814185361906,0.003445568007510151,0.005018952925558844,0.0019047098975793928,0.00550742946349096,0.004084914798070582,0.006488347952973104,0.009283094130929908,0.010362423027549248,0.003825691004928228,0.00191571086185427,0.007646279368344622,0.003982514640416079,0.002766592431015148,0.0006288818086238809,0.0011451937764175623,0.0023936642422627877,0.0009505442317333478,0.0009516403845746784,0.0041248069324675545,0.001310787212414416,0.0035489976572322555,0.00422672952359865,0.0031003258270932864,0.007305009631672408,0.006354760548513485,0.028753722276970605,0.02961552117025776,0.010709789597415566,0.00099659619154651,4.9758709587823016e-05,0.00047913763324126826,0.0003575103420370288,0.006856906907320942,0.005801402829948086,0.0010348683850989059,0.002452992265437862,0.003824433268700131,0.004807441687473659,0.0006050588651187719,0.00045313918875915433,7.969484558195202e-05,0.008510060208305383,0.004116758604729522,0.0016146672192564211,0.002638949652723003,0.0015806067257509088],[0.002647329478518281,0.008728565276709024,0.018847121374455378,0.01664578313768001,0.012552559643673897,0.0019530908080591265,0.0008705952424722078,0.0011156072177189887,0.003602594791825445,0.002591127021768563,0.001829191137040848,0.00018039713014909625,0.0008794389378279835,0.0025118524830987058,0.0041527068960277745,0.0076664979950579635,0.006552322824403944,0.0017465897799166866,0.001014872153852889,0.0018568566335648608,0.00022042448798791168,0.00025034746199080487,0.00027797937696311657,0.003183248608743576,0.0006878879667974226,0.005678460131166959,0.005221220020882685,0.006633601731311957,0.002937632757513085,0.004050458750288435,0.0071689675624856215,0.002033748852678805,0.004978956719614243,0.0009170940347737622,6.447228791862345e-05,0.0007614264726184645,0.00033196536355275207,0.002421857956063645,0.009311535910681908,0.002233190842147229,0.0010432883110086937,0.002741033296114515,0.00011044869635541701,0.00396636055992361,0.0006930525417936911,0.00026423664804316806,0.009057851348920759,0.002441846788359578,0.0011664135939130833,0.0010841824943942256,0.0023340701319336096],[0.0021526617749200337,0.008981352305305453,0.0012400394563491955,0.0008807127804524411,0.0013725136592050604,0.0023791711718734883,0.0015699762470840104,0.0022907760609514796,0.003333375095173592,0.0009128128273154595,0.0007928500161457017,0.0008835827869639581,0.0014837153725315861,0.0012684050454581583,0.0014593315366038836,0.00795196023622986,0.008957829144558267,0.004163071604982463,0.002018295472463502,0.001919146130511991,0.0008040363354228253,0.0065931740792278554,0.005325383882651327,0.009278503811753883,0.00047183391464063076,0.0024085007594124228,0.0029476417623057363,0.017326926422527852,0.010237319942412549,0.0007182077341522567,0.0008661001759175106,6.442217851932087e-05,0.0023805387356173073,0.0014198970836662183,0.0022247086240614615,0.006511681446959137,0.009542776349994325,0.0031592400141466767,0.00221825330123658,0.000272500366926924,0.0024151337821678226,0.0007796077742933288,0.0011037505007046935,0.005552156899579669,0.005354166235711233,0.007123077913416602,0.010886991921449544,0.0025304907861562354,0.0023755452658846144,4.4358505601442e-05,0.003004134277359197],[0.010853718270738198,0.027179893689827206,0.010244095383770926,0.010033078065414881,0.0018776656073788,0.003526575186387332,0.002588551128198799,0.0055982443544392475,0.006618109846354543,0.004573002540766054,0.0026317079399087815,0.0026654475929249084,0.003229034002414646,0.0010181768542073387,0.00024238002704466915,0.0013460982852231847,0.003018812851053926,0.0068131455708165525,0.003973450794645919,0.009337896391642607,0.005188589016620552,0.006990633973204808,0.011509339336681893,0.018011643016636325,0.0061727622920160355,0.002244306058792323,0.00045116831174258287,0.016535734300468896,0.014913674604852156,0.008377578213890728,0.0009061160067984124,0.0009880499242877572,0.002977267578089269,0.0016249996304934398,0.0004786251717003403,0.0007302512122627652,0.0052281867403106965,0.005506160722376471,0.0010665434867329977,0.00019103245715210144,0.001917399082954609,0.005024974698587124,0.0011456032436409653,0.0014423602944661944,0.005324506331535006,0.0041875708111256075,0.004311792417150436,0.001110570674460725,0.004969724728762907,0.0004315986770664719,0.0007150418684772901],[0.0004114217038744696,0.010946386207129163,0.005749724159769761,0.014225341478740322,0.010417512107220753,0.0038949283454991603,0.0008229361942914943,0.0025860458024745425,0.0023220898728207786,0.004476939226739107,0.0018999536146176506,0.0026780903622581932,0.005391993814780285,0.00026470473122781316,0.0002689072584970426,0.000757748480236128,0.001851160363032416,0.008312724294420893,0.0013786165110373143,0.00789071002691151,0.006450892863758842,2.9807488672523244e-05,0.0028365034758584306,0.0070448509627513,0.011852832903440531,0.00729158309308155,0.0015352410638406748,0.0045472842516269965,0.0019096448773598953,0.0019827933522708137,0.0002465564464654364,0.00017510306850229118,0.0013922622900201305,2.469626525196152e-05,0.0008063036816013416,0.0007556072965481571,0.0035354146129567433,0.002666215322309772,0.0006749124572810589,0.0009172958898466761,0.001436977748833943,0.0010264814383617459,0.000520473232884325,0.0006329102618889718,0.004015031910167955,3.557550699500479e-05,0.0018124549904618781,0.0014059965367144694,0.0021966752268196012,0.00016631386871347693,0.000886695907722663],[0.010573359169914791,0.0003934991188945473,0.001347787479746192,0.002775290096425916,0.00440289112984467,0.00666677802889677,0.0030104348068505675,0.008765473990588631,0.006924923852763493,0.011745709770962339,0.013569293303736333,0.0131969751632767,0.015339450764435682,0.006827607511503055,0.003444366087858001,0.00025815598656085166,0.005479567805343304,0.009708762145940061,0.0022696873661658414,0.0030689141855772505,0.0036972340969177084,0.001473931611309805,0.0008201286416896358,0.0006295491791272028,0.002716035458179198,0.0058518471590635465,0.009152067407611262,0.004722077749769227,0.0016921124141514024,0.003648658185220262,0.0034786056923012377,0.002847720659073498,0.0037766874630859783,0.001276407176635924,0.004119425874084856,0.005689709098382887,0.005156307001848512,0.0011618500365768916,0.00038084329177854627,0.0007353122703918641,0.0004667460409802384,7.363993726016194e-05,0.001130095642160875,0.0002139854075292156,0.0014562838173831293,0.0017274369088386033,0.0024359421044553875,0.003197393106831276,0.00014995698966879388,0.00172421900570425,0.0023827075120555043],[0.01908501591064929,0.012925321866224701,0.005596943716680101,0.004578710692403286,0.0032729895195516756,0.007990634145043857,0.010647355496761783,0.011589330562895218,0.00834194047395051,0.009213425178790667,0.00453048682447399,0.007157516821242492,0.010053405803032316,0.0030537819913010545,0.005604090023641388,0.002305675352215341,0.004000235447894346,0.003558105714244841,0.005489444000449352,0.0006276590958830227,0.0022998817819759832,0.0043933135721631045,0.0027789752813223907,0.0024392529614686203,0.003193501939440864,0.0017501859222820591,0.007472368550267755,0.008969221255265171,0.0038414207385857367,0.0037771983708170115,0.0028142742449985777,0.009226533669319446,0.011656569297921679,0.005865416113938225,0.0007485067449325039,0.0001375492805744101,0.0015685556844723901,0.0023349070436095897,0.0022025964557055096,0.00320166372288416,0.0023513248516354485,0.0027624567671763033,0.012361668186683916,0.0067168771744105,0.00409718586499251,0.0007334468631578716,0.0004780824516075359,0.0029633804669667242,0.0048736419121740236,0.007701085472092373,0.007830648726204847],[0.004359958699278221,0.007568125154396184,0.007785786235958504,0.0035621441407252268,0.0029253817283231873,0.003999918657272376,0.002560888422646748,0.00012641853150269068,0.0013262683484115184,0.0009293314256577464,0.0017403005678556793,0.0008245155899854284,0.002193476067799606,0.001138398015097709,0.004751668067730802,0.00429413259606812,0.0021808611915747644,0.0016289985637762754,0.002406864814865068,0.0007997114215588144,0.0014663753029835447,0.0013565452418400573,0.0001819417610394403,0.0009814914824923264,0.005003048285699834,0.005762498593013964,0.0027333061854884367,0.00011627569302899755,0.003534400581336015,0.004618949516569367,0.0011188037102417944,0.0038001184071141426,0.0012967418555226873,0.003491050719354988,0.002064778655836517,0.0007822788411396333,0.001083133008669253,0.004275456503550761,0.004029876064480424,0.002570984728484382,0.0015949022545859491,0.0002955965663666259,0.008970605841372305,0.009198249898005561,0.011443929587288076,0.004998952177845789,0.0003951206580000094,0.0008271564068936613,0.003098433107992104,0.014198470378803358,0.01376322164221707]],\"type\":\"surface\"}],                        {\"template\":{\"data\":{\"histogram2dcontour\":[{\"type\":\"histogram2dcontour\",\"colorbar\":{\"outlinewidth\":0,\"ticks\":\"\"},\"colorscale\":[[0.0,\"#0d0887\"],[0.1111111111111111,\"#46039f\"],[0.2222222222222222,\"#7201a8\"],[0.3333333333333333,\"#9c179e\"],[0.4444444444444444,\"#bd3786\"],[0.5555555555555556,\"#d8576b\"],[0.6666666666666666,\"#ed7953\"],[0.7777777777777778,\"#fb9f3a\"],[0.8888888888888888,\"#fdca26\"],[1.0,\"#f0f921\"]]}],\"choropleth\":[{\"type\":\"choropleth\",\"colorbar\":{\"outlinewidth\":0,\"ticks\":\"\"}}],\"histogram2d\":[{\"type\":\"histogram2d\",\"colorbar\":{\"outlinewidth\":0,\"ticks\":\"\"},\"colorscale\":[[0.0,\"#0d0887\"],[0.1111111111111111,\"#46039f\"],[0.2222222222222222,\"#7201a8\"],[0.3333333333333333,\"#9c179e\"],[0.4444444444444444,\"#bd3786\"],[0.5555555555555556,\"#d8576b\"],[0.6666666666666666,\"#ed7953\"],[0.7777777777777778,\"#fb9f3a\"],[0.8888888888888888,\"#fdca26\"],[1.0,\"#f0f921\"]]}],\"heatmap\":[{\"type\":\"heatmap\",\"colorbar\":{\"outlinewidth\":0,\"ticks\":\"\"},\"colorscale\":[[0.0,\"#0d0887\"],[0.1111111111111111,\"#46039f\"],[0.2222222222222222,\"#7201a8\"],[0.3333333333333333,\"#9c179e\"],[0.4444444444444444,\"#bd3786\"],[0.5555555555555556,\"#d8576b\"],[0.6666666666666666,\"#ed7953\"],[0.7777777777777778,\"#fb9f3a\"],[0.8888888888888888,\"#fdca26\"],[1.0,\"#f0f921\"]]}],\"heatmapgl\":[{\"type\":\"heatmapgl\",\"colorbar\":{\"outlinewidth\":0,\"ticks\":\"\"},\"colorscale\":[[0.0,\"#0d0887\"],[0.1111111111111111,\"#46039f\"],[0.2222222222222222,\"#7201a8\"],[0.3333333333333333,\"#9c179e\"],[0.4444444444444444,\"#bd3786\"],[0.5555555555555556,\"#d8576b\"],[0.6666666666666666,\"#ed7953\"],[0.7777777777777778,\"#fb9f3a\"],[0.8888888888888888,\"#fdca26\"],[1.0,\"#f0f921\"]]}],\"contourcarpet\":[{\"type\":\"contourcarpet\",\"colorbar\":{\"outlinewidth\":0,\"ticks\":\"\"}}],\"contour\":[{\"type\":\"contour\",\"colorbar\":{\"outlinewidth\":0,\"ticks\":\"\"},\"colorscale\":[[0.0,\"#0d0887\"],[0.1111111111111111,\"#46039f\"],[0.2222222222222222,\"#7201a8\"],[0.3333333333333333,\"#9c179e\"],[0.4444444444444444,\"#bd3786\"],[0.5555555555555556,\"#d8576b\"],[0.6666666666666666,\"#ed7953\"],[0.7777777777777778,\"#fb9f3a\"],[0.8888888888888888,\"#fdca26\"],[1.0,\"#f0f921\"]]}],\"surface\":[{\"type\":\"surface\",\"colorbar\":{\"outlinewidth\":0,\"ticks\":\"\"},\"colorscale\":[[0.0,\"#0d0887\"],[0.1111111111111111,\"#46039f\"],[0.2222222222222222,\"#7201a8\"],[0.3333333333333333,\"#9c179e\"],[0.4444444444444444,\"#bd3786\"],[0.5555555555555556,\"#d8576b\"],[0.6666666666666666,\"#ed7953\"],[0.7777777777777778,\"#fb9f3a\"],[0.8888888888888888,\"#fdca26\"],[1.0,\"#f0f921\"]]}],\"mesh3d\":[{\"type\":\"mesh3d\",\"colorbar\":{\"outlinewidth\":0,\"ticks\":\"\"}}],\"scatter\":[{\"fillpattern\":{\"fillmode\":\"overlay\",\"size\":10,\"solidity\":0.2},\"type\":\"scatter\"}],\"parcoords\":[{\"type\":\"parcoords\",\"line\":{\"colorbar\":{\"outlinewidth\":0,\"ticks\":\"\"}}}],\"scatterpolargl\":[{\"type\":\"scatterpolargl\",\"marker\":{\"colorbar\":{\"outlinewidth\":0,\"ticks\":\"\"}}}],\"bar\":[{\"error_x\":{\"color\":\"#2a3f5f\"},\"error_y\":{\"color\":\"#2a3f5f\"},\"marker\":{\"line\":{\"color\":\"#E5ECF6\",\"width\":0.5},\"pattern\":{\"fillmode\":\"overlay\",\"size\":10,\"solidity\":0.2}},\"type\":\"bar\"}],\"scattergeo\":[{\"type\":\"scattergeo\",\"marker\":{\"colorbar\":{\"outlinewidth\":0,\"ticks\":\"\"}}}],\"scatterpolar\":[{\"type\":\"scatterpolar\",\"marker\":{\"colorbar\":{\"outlinewidth\":0,\"ticks\":\"\"}}}],\"histogram\":[{\"marker\":{\"pattern\":{\"fillmode\":\"overlay\",\"size\":10,\"solidity\":0.2}},\"type\":\"histogram\"}],\"scattergl\":[{\"type\":\"scattergl\",\"marker\":{\"colorbar\":{\"outlinewidth\":0,\"ticks\":\"\"}}}],\"scatter3d\":[{\"type\":\"scatter3d\",\"line\":{\"colorbar\":{\"outlinewidth\":0,\"ticks\":\"\"}},\"marker\":{\"colorbar\":{\"outlinewidth\":0,\"ticks\":\"\"}}}],\"scattermapbox\":[{\"type\":\"scattermapbox\",\"marker\":{\"colorbar\":{\"outlinewidth\":0,\"ticks\":\"\"}}}],\"scatterternary\":[{\"type\":\"scatterternary\",\"marker\":{\"colorbar\":{\"outlinewidth\":0,\"ticks\":\"\"}}}],\"scattercarpet\":[{\"type\":\"scattercarpet\",\"marker\":{\"colorbar\":{\"outlinewidth\":0,\"ticks\":\"\"}}}],\"carpet\":[{\"aaxis\":{\"endlinecolor\":\"#2a3f5f\",\"gridcolor\":\"white\",\"linecolor\":\"white\",\"minorgridcolor\":\"white\",\"startlinecolor\":\"#2a3f5f\"},\"baxis\":{\"endlinecolor\":\"#2a3f5f\",\"gridcolor\":\"white\",\"linecolor\":\"white\",\"minorgridcolor\":\"white\",\"startlinecolor\":\"#2a3f5f\"},\"type\":\"carpet\"}],\"table\":[{\"cells\":{\"fill\":{\"color\":\"#EBF0F8\"},\"line\":{\"color\":\"white\"}},\"header\":{\"fill\":{\"color\":\"#C8D4E3\"},\"line\":{\"color\":\"white\"}},\"type\":\"table\"}],\"barpolar\":[{\"marker\":{\"line\":{\"color\":\"#E5ECF6\",\"width\":0.5},\"pattern\":{\"fillmode\":\"overlay\",\"size\":10,\"solidity\":0.2}},\"type\":\"barpolar\"}],\"pie\":[{\"automargin\":true,\"type\":\"pie\"}]},\"layout\":{\"autotypenumbers\":\"strict\",\"colorway\":[\"#636efa\",\"#EF553B\",\"#00cc96\",\"#ab63fa\",\"#FFA15A\",\"#19d3f3\",\"#FF6692\",\"#B6E880\",\"#FF97FF\",\"#FECB52\"],\"font\":{\"color\":\"#2a3f5f\"},\"hovermode\":\"closest\",\"hoverlabel\":{\"align\":\"left\"},\"paper_bgcolor\":\"white\",\"plot_bgcolor\":\"#E5ECF6\",\"polar\":{\"bgcolor\":\"#E5ECF6\",\"angularaxis\":{\"gridcolor\":\"white\",\"linecolor\":\"white\",\"ticks\":\"\"},\"radialaxis\":{\"gridcolor\":\"white\",\"linecolor\":\"white\",\"ticks\":\"\"}},\"ternary\":{\"bgcolor\":\"#E5ECF6\",\"aaxis\":{\"gridcolor\":\"white\",\"linecolor\":\"white\",\"ticks\":\"\"},\"baxis\":{\"gridcolor\":\"white\",\"linecolor\":\"white\",\"ticks\":\"\"},\"caxis\":{\"gridcolor\":\"white\",\"linecolor\":\"white\",\"ticks\":\"\"}},\"coloraxis\":{\"colorbar\":{\"outlinewidth\":0,\"ticks\":\"\"}},\"colorscale\":{\"sequential\":[[0.0,\"#0d0887\"],[0.1111111111111111,\"#46039f\"],[0.2222222222222222,\"#7201a8\"],[0.3333333333333333,\"#9c179e\"],[0.4444444444444444,\"#bd3786\"],[0.5555555555555556,\"#d8576b\"],[0.6666666666666666,\"#ed7953\"],[0.7777777777777778,\"#fb9f3a\"],[0.8888888888888888,\"#fdca26\"],[1.0,\"#f0f921\"]],\"sequentialminus\":[[0.0,\"#0d0887\"],[0.1111111111111111,\"#46039f\"],[0.2222222222222222,\"#7201a8\"],[0.3333333333333333,\"#9c179e\"],[0.4444444444444444,\"#bd3786\"],[0.5555555555555556,\"#d8576b\"],[0.6666666666666666,\"#ed7953\"],[0.7777777777777778,\"#fb9f3a\"],[0.8888888888888888,\"#fdca26\"],[1.0,\"#f0f921\"]],\"diverging\":[[0,\"#8e0152\"],[0.1,\"#c51b7d\"],[0.2,\"#de77ae\"],[0.3,\"#f1b6da\"],[0.4,\"#fde0ef\"],[0.5,\"#f7f7f7\"],[0.6,\"#e6f5d0\"],[0.7,\"#b8e186\"],[0.8,\"#7fbc41\"],[0.9,\"#4d9221\"],[1,\"#276419\"]]},\"xaxis\":{\"gridcolor\":\"white\",\"linecolor\":\"white\",\"ticks\":\"\",\"title\":{\"standoff\":15},\"zerolinecolor\":\"white\",\"automargin\":true,\"zerolinewidth\":2},\"yaxis\":{\"gridcolor\":\"white\",\"linecolor\":\"white\",\"ticks\":\"\",\"title\":{\"standoff\":15},\"zerolinecolor\":\"white\",\"automargin\":true,\"zerolinewidth\":2},\"scene\":{\"xaxis\":{\"backgroundcolor\":\"#E5ECF6\",\"gridcolor\":\"white\",\"linecolor\":\"white\",\"showbackground\":true,\"ticks\":\"\",\"zerolinecolor\":\"white\",\"gridwidth\":2},\"yaxis\":{\"backgroundcolor\":\"#E5ECF6\",\"gridcolor\":\"white\",\"linecolor\":\"white\",\"showbackground\":true,\"ticks\":\"\",\"zerolinecolor\":\"white\",\"gridwidth\":2},\"zaxis\":{\"backgroundcolor\":\"#E5ECF6\",\"gridcolor\":\"white\",\"linecolor\":\"white\",\"showbackground\":true,\"ticks\":\"\",\"zerolinecolor\":\"white\",\"gridwidth\":2}},\"shapedefaults\":{\"line\":{\"color\":\"#2a3f5f\"}},\"annotationdefaults\":{\"arrowcolor\":\"#2a3f5f\",\"arrowhead\":0,\"arrowwidth\":1},\"geo\":{\"bgcolor\":\"white\",\"landcolor\":\"#E5ECF6\",\"subunitcolor\":\"white\",\"showland\":true,\"showlakes\":true,\"lakecolor\":\"white\"},\"title\":{\"x\":0.05},\"mapbox\":{\"style\":\"light\"}}},\"scene\":{\"xaxis\":{\"title\":{\"text\":\"x\"}},\"yaxis\":{\"title\":{\"text\":\"y\"}},\"zaxis\":{\"title\":{\"text\":\"z\"}}}},                        {\"responsive\": true}                    ).then(function(){\n",
       "                            \n",
       "var gd = document.getElementById('cc60a1d8-4376-4821-941e-e3f90563c7d4');\n",
       "var x = new MutationObserver(function (mutations, observer) {{\n",
       "        var display = window.getComputedStyle(gd).display;\n",
       "        if (!display || display === 'none') {{\n",
       "            console.log([gd, 'removed!']);\n",
       "            Plotly.purge(gd);\n",
       "            observer.disconnect();\n",
       "        }}\n",
       "}});\n",
       "\n",
       "// Listen for the removal of the full notebook cells\n",
       "var notebookContainer = gd.closest('#notebook-container');\n",
       "if (notebookContainer) {{\n",
       "    x.observe(notebookContainer, {childList: true});\n",
       "}}\n",
       "\n",
       "// Listen for the clearing of the current output cell\n",
       "var outputEl = gd.closest('.output');\n",
       "if (outputEl) {{\n",
       "    x.observe(outputEl, {childList: true});\n",
       "}}\n",
       "\n",
       "                        })                };                });            </script>        </div>"
      ]
     },
     "metadata": {},
     "output_type": "display_data"
    }
   ],
   "source": [
    "# Saving ith segment as a textfile.\n",
    "iSegment = 0\n",
    "zfilename = Segmentname+'_z_values.csv'; print(zfilename)\n",
    "xfilename = Segmentname+'_x_values.csv'; print(xfilename)\n",
    "yfilename = Segmentname+'_y_values.csv'; print(yfilename)\n",
    "Z2filename = Segmentname+'_Z2_values.csv'; print(Z2filename)\n",
    "print(np.shape(zgridtot))\n",
    "print(np.shape(Z2flat_list[iSegment]))\n",
    "\n",
    "myxgridtot = xgridtot[iSegment,0,:]\n",
    "myygridtot = ygridtot[iSegment,:,0]\n",
    "myzgridtot = zgridtot[iSegment,:,:]\n",
    "myZ2flat = Z2flat_list[iSegment]\n",
    "\n",
    "nxy = np.shape(myzgridtot)\n",
    "ny = nxy[0]\n",
    "nx = nxy[1]\n",
    "print(nxy)\n",
    "\n",
    "\n",
    "myZ2 = np.reshape(myZ2flat, (ny-1,nx-1)) # Z2 is 1 shorter in either dimension\n",
    "\n",
    "\n",
    "print(np.shape(myZ2))\n",
    "np.savetxt(zfilename, myzgridtot, delimiter = ',')\n",
    "np.savetxt(xfilename, myxgridtot, delimiter = ',')\n",
    "np.savetxt(yfilename, myygridtot, delimiter = ',')\n",
    "np.savetxt(Z2filename, Z2flat_list[iSegment], delimiter = ',')\n",
    "\n",
    "fig = go.Figure(data = go.Surface(x = myxgridtot[1:], y = myygridtot[1:], z = myZ2))\n",
    "fig.update_layout(scene = dict(xaxis_title = 'x',yaxis_title = 'y',zaxis_title = 'z'))"
   ]
  },
  {
   "cell_type": "markdown",
   "metadata": {},
   "source": [
    "### Old code is below here"
   ]
  },
  {
   "cell_type": "code",
   "execution_count": 55,
   "metadata": {},
   "outputs": [],
   "source": [
    "# # Attempt a best-fit based on the bins\n",
    "# errors = np.log(countsplus/counts); #print(errors)\n",
    "# solution, solutionerror = optimization.curve_fit(sts.logWeibull, bins+Z2offset, np.log(counts),x0,sigma=errors)\n",
    "# etaW = solution[1]\n",
    "# sigma2W = solution[0]\n",
    "# sigmaW = np.sqrt(sigma2W)\n",
    "# print('Based on bins: sigmaW, etaW = ', sigmaW, etaW)"
   ]
  },
  {
   "cell_type": "code",
   "execution_count": 56,
   "metadata": {},
   "outputs": [],
   "source": [
    "#         # Attempt a best-fit based on the raw data\n",
    "#         analysis = Fit_Weibull_2P(failures=Z2flat_new,show_probability_plot=False)\n",
    "#         etaW = analysis.beta; #print('analysis.beta=',analysis.beta)\n",
    "#         sigma2W = analysis.alpha; #print('analysis.alpha=',analysis.alpha)\n",
    "#         sigmaW = np.sqrt(sigma2W)\n",
    "#         print('Based on raw data: sigmaW, etaW = ', sigmaW, etaW)\n",
    "        \n",
    "#         # Attempt a best-fit based on the bins\n",
    "#         errors = np.log(countsplus/counts); #print(errors)\n",
    "#         solution, solutionerror = optimization.curve_fit(sts.logWeibull, bins+Z2offset, np.log(counts),x0,sigma=errors)\n",
    "#         etaW = solution[1]\n",
    "#         sigma2W = solution[0]\n",
    "#         sigmaW = np.sqrt(sigma2W)\n",
    "#         print('Based on bins: sigmaW, etaW = ', sigmaW, etaW)"
   ]
  },
  {
   "cell_type": "code",
   "execution_count": 57,
   "metadata": {},
   "outputs": [],
   "source": [
    "# Attempt a best-fit based on the raw data\n",
    "# plt.figure()\n",
    "# analysis = Fit_Weibull_2P(failures=Z2flat_new)\n",
    "# etaW = analysis.beta; print('analysis.beta=',analysis.beta)\n",
    "# sigma2W = analysis.alpha; print('analysis.alpha=',analysis.alpha)\n",
    "# sigmaW = np.sqrt(sigma2W)\n",
    "# print('Based on raw data: sigmaW, etaW = ', sigmaW, etaW)"
   ]
  },
  {
   "cell_type": "code",
   "execution_count": 58,
   "metadata": {},
   "outputs": [],
   "source": [
    "# # Graph the probability\n",
    "# plt.figure()\n",
    "# fontsize = 14\n",
    "# plt.rcParams.update({'font.size': fontsize})\n",
    "# plt.semilogy(bins, counts, 'ok')\n",
    "# plt.semilogy(bins, countsplus, '+k')\n",
    "# plt.semilogy(bins, countsminus,'+k')\n",
    "# plt.title(case_and_folder + ', ' + Segmentname)\n",
    "# plt.xlabel(r'$Z^{2}$')\n",
    "# plt.ylabel(r'$\\rho$')\n",
    "# plt.grid(True)\n",
    "\n",
    "# # Graph the best-fit probability\n",
    "# myWeibull = sts.Weibull(Z2theory,sigma2W,etaW)\n",
    "# plt.semilogy(Z2theory, myWeibull, 'b', \\\n",
    "#              label = 'Weibull with $\\sigma_w$ =' + str(sigmaW)[0:5] + ', $\\eta_w$ =' + str(etaW)[0:5])\n",
    "# plt.legend(fontsize=fontsize)"
   ]
  }
 ],
 "metadata": {
  "kernelspec": {
   "display_name": "Python 3 (ipykernel)",
   "language": "python",
   "name": "python3"
  },
  "language_info": {
   "codemirror_mode": {
    "name": "ipython",
    "version": 3
   },
   "file_extension": ".py",
   "mimetype": "text/x-python",
   "name": "python",
   "nbconvert_exporter": "python",
   "pygments_lexer": "ipython3",
   "version": "3.10.9"
  }
 },
 "nbformat": 4,
 "nbformat_minor": 2
}
