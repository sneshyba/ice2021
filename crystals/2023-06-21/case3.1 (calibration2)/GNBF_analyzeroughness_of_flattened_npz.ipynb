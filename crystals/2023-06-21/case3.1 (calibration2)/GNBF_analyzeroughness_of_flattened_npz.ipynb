{
 "cells": [
  {
   "cell_type": "code",
   "execution_count": 1,
   "metadata": {},
   "outputs": [
    {
     "name": "stdout",
     "output_type": "stream",
     "text": [
      "CUDA not available.\n"
     ]
    }
   ],
   "source": [
    "# Generic imports\n",
    "import numpy as np\n",
    "import matplotlib.pyplot as plt\n",
    "from mpl_toolkits.mplot3d import axes3d\n",
    "import os\n",
    "from sys import platform\n",
    "from importlib import reload\n",
    "import sys\n",
    "import scipy.optimize as optimization\n",
    "sys.path.append('../../..')\n",
    "import plotly.graph_objects as go\n",
    "from plotly.offline import iplot\n",
    "\n",
    "# Local imports\n",
    "import stlstuff as sls\n",
    "import imagestuff as ims\n",
    "import statstuff as sts\n",
    "import retrievestuff as rs"
   ]
  },
  {
   "cell_type": "code",
   "execution_count": 2,
   "metadata": {},
   "outputs": [],
   "source": [
    "%matplotlib inline"
   ]
  },
  {
   "cell_type": "markdown",
   "metadata": {},
   "source": [
    "The next cell has parameters that might change from crystal to crystal"
   ]
  },
  {
   "cell_type": "code",
   "execution_count": 3,
   "metadata": {},
   "outputs": [
    {
     "name": "stdout",
     "output_type": "stream",
     "text": [
      "Segments3_compr_flat_filt.npz\n"
     ]
    }
   ],
   "source": [
    "# Loading in the compressed data\n",
    "Segmentname = 'Segments3'\n",
    "Flattenedfilename = Segmentname+'_compr_flat_filt.npz'; print(Flattenedfilename)\n",
    "\n",
    "# Histogram accumulation\n",
    "accumlist = [0,1,2] # Segment indexing starts at 0 for the upper-left, down, then across\n",
    "\n",
    "# Parameters for binning\n",
    "Z2minforhist = 0.0\n",
    "Z2maxforhist = .07\n",
    "Z2offset = 0.0001\n",
    "nbins_max = 5\n",
    "levels = 3"
   ]
  },
  {
   "cell_type": "code",
   "execution_count": 4,
   "metadata": {},
   "outputs": [],
   "source": [
    "# # Loading in the compressed data\n",
    "# Segmentname = 'Segments1'\n",
    "# Flattenedfilename = Segmentname+'_compr_flat_filt.npz'; print(Flattenedfilename)\n",
    "\n",
    "# # Histogram accumulation\n",
    "# accumlist = [12,13,14,15,16,17,18,19] # all\n",
    "\n",
    "# # Parameters for binning\n",
    "# Z2minforhist = 0.0\n",
    "# Z2maxforhist = .011\n",
    "# Z2offset = 0.0001\n",
    "# nbins_max = 8\n",
    "# levels = 3"
   ]
  },
  {
   "cell_type": "code",
   "execution_count": 5,
   "metadata": {},
   "outputs": [],
   "source": [
    "# # Loading in the compressed data\n",
    "# Segmentname = 'Segments2'\n",
    "# Flattenedfilename = Segmentname+'_compr_flat_filt.npz'; print(Flattenedfilename)\n",
    "\n",
    "# # Histogram accumulation\n",
    "# accumlist = [] # all\n",
    "\n",
    "# # Parameters for binning\n",
    "# Z2minforhist = 0.0\n",
    "# Z2maxforhist = .25\n",
    "# Z2offset = 0.001\n",
    "# nbins_max = 8\n",
    "# levels = 3"
   ]
  },
  {
   "cell_type": "code",
   "execution_count": 6,
   "metadata": {},
   "outputs": [
    {
     "name": "stdout",
     "output_type": "stream",
     "text": [
      "Segments3_compr_flat_filt_roughness.jpg\n",
      "Segments3_compr_flat_filt.npz\n",
      "1\n",
      "2023-06-21/case3.1 (calibration2)\n"
     ]
    }
   ],
   "source": [
    "# Derivative names\n",
    "Roughnessfilename = Flattenedfilename[0:-4]+'_roughness.jpg'; print(Roughnessfilename)\n",
    "flattenedfile = np.load(Flattenedfilename); print(Flattenedfilename)\n",
    "xgridtot = flattenedfile['xgridtot']\n",
    "ygridtot = flattenedfile['ygridtot']\n",
    "zgridtot = flattenedfile['zgridtot']\n",
    "nsegments = (len(xgridtot)); print(nsegments)\n",
    "\n",
    "# This folder\n",
    "cwd = os.getcwd(); i = cwd.index('crystals'); case_and_folder = cwd[i+9:]; print(case_and_folder)"
   ]
  },
  {
   "cell_type": "code",
   "execution_count": 7,
   "metadata": {},
   "outputs": [
    {
     "name": "stdout",
     "output_type": "stream",
     "text": [
      "Accumulating segments [0, 1, 2]\n",
      "Plotting segments [0, 1, 2]\n",
      "Z2 ranging from 0.0 to 0.07\n",
      "Max number of bins specified is 5\n",
      "Sturges rule says maxbins = 12\n",
      "Using nbins =  5\n",
      "Using levels = 3 for uncertainty analysis\n"
     ]
    }
   ],
   "source": [
    "# Histogram accumulation\n",
    "if len(accumlist)==0:\n",
    "    accumlist = [i for i in range(nsegments)]\n",
    "plotthisone = accumlist\n",
    "print('Accumulating segments', accumlist)\n",
    "print('Plotting segments', plotthisone)\n",
    "\n",
    "# Parameters for binning\n",
    "print('Z2 ranging from', Z2minforhist, 'to', Z2maxforhist)\n",
    "print('Max number of bins specified is', nbins_max)\n",
    "Ntot = np.size(zgridtot[0]) # Just using the first one for a size estimate\n",
    "nbins_sturges = int(1+3.3*np.log10(Ntot)); print('Sturges rule says maxbins =', nbins_sturges)\n",
    "nbins = np.min([nbins_max,nbins_sturges]); print('Using nbins = ', nbins)\n",
    "Z2bins = np.linspace(Z2minforhist,Z2maxforhist,nbins); #print(Z2bins)\n",
    "Z2theory = np.linspace(Z2minforhist,Z2maxforhist,50); Z2theory=Z2theory[1:] # This is for Weibull plots\n",
    "print('Using levels =', levels, 'for uncertainty analysis')"
   ]
  },
  {
   "cell_type": "code",
   "execution_count": 8,
   "metadata": {
    "scrolled": false
   },
   "outputs": [
    {
     "name": "stdout",
     "output_type": "stream",
     "text": [
      "Original =  2750\n",
      "4 0 688 [582  89  14   2]\n",
      "4 1 688 [581  86  16   4]\n",
      "4 2 687 [594  78  12   2]\n",
      "4 3 687 [580  90  15   2]\n",
      "ilevelp = 4\n",
      "ilevelp, t = 4 2.7764451051977987\n",
      "meanZ2 =  0.0091523427151249\n",
      "statsigma =  0.09566787713294833\n",
      "\n",
      "****Working on segment 0\n",
      "std dev of height =  0.5460087229523146\n",
      "integral =  0.010024117218784129\n",
      "[83.74107777 11.57373075  1.8093052   0.2452286 ]\n"
     ]
    },
    {
     "data": {
      "application/vnd.plotly.v1+json": {
       "config": {
        "linkText": "Export to plot.ly",
        "plotlyServerURL": "https://plot.ly",
        "showLink": false
       },
       "data": [
        {
         "marker": {
          "color": "blue"
         },
         "mode": "markers",
         "type": "scatter",
         "x": [
          0,
          0.0175,
          0.035,
          0.052500000000000005
         ],
         "y": [
          4.441120016087065,
          2.522227128714147,
          0.7275479493827572,
          -1.0129182254577473
         ]
        },
        {
         "marker": {
          "color": "black"
         },
         "mode": "markers",
         "type": "scatter",
         "x": [
          0,
          0.0175,
          0.035,
          0.052500000000000005
         ],
         "y": [
          4.454510401206546,
          2.595716317529838,
          0.8621529927299312,
          -0.6202719967907429
         ]
        },
        {
         "marker": {
          "color": "black"
         },
         "mode": "markers",
         "type": "scatter",
         "x": [
          0,
          0.0175,
          0.035,
          0.052500000000000005
         ],
         "y": [
          4.427729630967584,
          2.4487379398984563,
          0.5929429060355833,
          -1.4055644541247516
         ]
        }
       ],
       "layout": {
        "template": {
         "data": {
          "bar": [
           {
            "error_x": {
             "color": "#2a3f5f"
            },
            "error_y": {
             "color": "#2a3f5f"
            },
            "marker": {
             "line": {
              "color": "#E5ECF6",
              "width": 0.5
             },
             "pattern": {
              "fillmode": "overlay",
              "size": 10,
              "solidity": 0.2
             }
            },
            "type": "bar"
           }
          ],
          "barpolar": [
           {
            "marker": {
             "line": {
              "color": "#E5ECF6",
              "width": 0.5
             },
             "pattern": {
              "fillmode": "overlay",
              "size": 10,
              "solidity": 0.2
             }
            },
            "type": "barpolar"
           }
          ],
          "carpet": [
           {
            "aaxis": {
             "endlinecolor": "#2a3f5f",
             "gridcolor": "white",
             "linecolor": "white",
             "minorgridcolor": "white",
             "startlinecolor": "#2a3f5f"
            },
            "baxis": {
             "endlinecolor": "#2a3f5f",
             "gridcolor": "white",
             "linecolor": "white",
             "minorgridcolor": "white",
             "startlinecolor": "#2a3f5f"
            },
            "type": "carpet"
           }
          ],
          "choropleth": [
           {
            "colorbar": {
             "outlinewidth": 0,
             "ticks": ""
            },
            "type": "choropleth"
           }
          ],
          "contour": [
           {
            "colorbar": {
             "outlinewidth": 0,
             "ticks": ""
            },
            "colorscale": [
             [
              0,
              "#0d0887"
             ],
             [
              0.1111111111111111,
              "#46039f"
             ],
             [
              0.2222222222222222,
              "#7201a8"
             ],
             [
              0.3333333333333333,
              "#9c179e"
             ],
             [
              0.4444444444444444,
              "#bd3786"
             ],
             [
              0.5555555555555556,
              "#d8576b"
             ],
             [
              0.6666666666666666,
              "#ed7953"
             ],
             [
              0.7777777777777778,
              "#fb9f3a"
             ],
             [
              0.8888888888888888,
              "#fdca26"
             ],
             [
              1,
              "#f0f921"
             ]
            ],
            "type": "contour"
           }
          ],
          "contourcarpet": [
           {
            "colorbar": {
             "outlinewidth": 0,
             "ticks": ""
            },
            "type": "contourcarpet"
           }
          ],
          "heatmap": [
           {
            "colorbar": {
             "outlinewidth": 0,
             "ticks": ""
            },
            "colorscale": [
             [
              0,
              "#0d0887"
             ],
             [
              0.1111111111111111,
              "#46039f"
             ],
             [
              0.2222222222222222,
              "#7201a8"
             ],
             [
              0.3333333333333333,
              "#9c179e"
             ],
             [
              0.4444444444444444,
              "#bd3786"
             ],
             [
              0.5555555555555556,
              "#d8576b"
             ],
             [
              0.6666666666666666,
              "#ed7953"
             ],
             [
              0.7777777777777778,
              "#fb9f3a"
             ],
             [
              0.8888888888888888,
              "#fdca26"
             ],
             [
              1,
              "#f0f921"
             ]
            ],
            "type": "heatmap"
           }
          ],
          "heatmapgl": [
           {
            "colorbar": {
             "outlinewidth": 0,
             "ticks": ""
            },
            "colorscale": [
             [
              0,
              "#0d0887"
             ],
             [
              0.1111111111111111,
              "#46039f"
             ],
             [
              0.2222222222222222,
              "#7201a8"
             ],
             [
              0.3333333333333333,
              "#9c179e"
             ],
             [
              0.4444444444444444,
              "#bd3786"
             ],
             [
              0.5555555555555556,
              "#d8576b"
             ],
             [
              0.6666666666666666,
              "#ed7953"
             ],
             [
              0.7777777777777778,
              "#fb9f3a"
             ],
             [
              0.8888888888888888,
              "#fdca26"
             ],
             [
              1,
              "#f0f921"
             ]
            ],
            "type": "heatmapgl"
           }
          ],
          "histogram": [
           {
            "marker": {
             "pattern": {
              "fillmode": "overlay",
              "size": 10,
              "solidity": 0.2
             }
            },
            "type": "histogram"
           }
          ],
          "histogram2d": [
           {
            "colorbar": {
             "outlinewidth": 0,
             "ticks": ""
            },
            "colorscale": [
             [
              0,
              "#0d0887"
             ],
             [
              0.1111111111111111,
              "#46039f"
             ],
             [
              0.2222222222222222,
              "#7201a8"
             ],
             [
              0.3333333333333333,
              "#9c179e"
             ],
             [
              0.4444444444444444,
              "#bd3786"
             ],
             [
              0.5555555555555556,
              "#d8576b"
             ],
             [
              0.6666666666666666,
              "#ed7953"
             ],
             [
              0.7777777777777778,
              "#fb9f3a"
             ],
             [
              0.8888888888888888,
              "#fdca26"
             ],
             [
              1,
              "#f0f921"
             ]
            ],
            "type": "histogram2d"
           }
          ],
          "histogram2dcontour": [
           {
            "colorbar": {
             "outlinewidth": 0,
             "ticks": ""
            },
            "colorscale": [
             [
              0,
              "#0d0887"
             ],
             [
              0.1111111111111111,
              "#46039f"
             ],
             [
              0.2222222222222222,
              "#7201a8"
             ],
             [
              0.3333333333333333,
              "#9c179e"
             ],
             [
              0.4444444444444444,
              "#bd3786"
             ],
             [
              0.5555555555555556,
              "#d8576b"
             ],
             [
              0.6666666666666666,
              "#ed7953"
             ],
             [
              0.7777777777777778,
              "#fb9f3a"
             ],
             [
              0.8888888888888888,
              "#fdca26"
             ],
             [
              1,
              "#f0f921"
             ]
            ],
            "type": "histogram2dcontour"
           }
          ],
          "mesh3d": [
           {
            "colorbar": {
             "outlinewidth": 0,
             "ticks": ""
            },
            "type": "mesh3d"
           }
          ],
          "parcoords": [
           {
            "line": {
             "colorbar": {
              "outlinewidth": 0,
              "ticks": ""
             }
            },
            "type": "parcoords"
           }
          ],
          "pie": [
           {
            "automargin": true,
            "type": "pie"
           }
          ],
          "scatter": [
           {
            "fillpattern": {
             "fillmode": "overlay",
             "size": 10,
             "solidity": 0.2
            },
            "type": "scatter"
           }
          ],
          "scatter3d": [
           {
            "line": {
             "colorbar": {
              "outlinewidth": 0,
              "ticks": ""
             }
            },
            "marker": {
             "colorbar": {
              "outlinewidth": 0,
              "ticks": ""
             }
            },
            "type": "scatter3d"
           }
          ],
          "scattercarpet": [
           {
            "marker": {
             "colorbar": {
              "outlinewidth": 0,
              "ticks": ""
             }
            },
            "type": "scattercarpet"
           }
          ],
          "scattergeo": [
           {
            "marker": {
             "colorbar": {
              "outlinewidth": 0,
              "ticks": ""
             }
            },
            "type": "scattergeo"
           }
          ],
          "scattergl": [
           {
            "marker": {
             "colorbar": {
              "outlinewidth": 0,
              "ticks": ""
             }
            },
            "type": "scattergl"
           }
          ],
          "scattermapbox": [
           {
            "marker": {
             "colorbar": {
              "outlinewidth": 0,
              "ticks": ""
             }
            },
            "type": "scattermapbox"
           }
          ],
          "scatterpolar": [
           {
            "marker": {
             "colorbar": {
              "outlinewidth": 0,
              "ticks": ""
             }
            },
            "type": "scatterpolar"
           }
          ],
          "scatterpolargl": [
           {
            "marker": {
             "colorbar": {
              "outlinewidth": 0,
              "ticks": ""
             }
            },
            "type": "scatterpolargl"
           }
          ],
          "scatterternary": [
           {
            "marker": {
             "colorbar": {
              "outlinewidth": 0,
              "ticks": ""
             }
            },
            "type": "scatterternary"
           }
          ],
          "surface": [
           {
            "colorbar": {
             "outlinewidth": 0,
             "ticks": ""
            },
            "colorscale": [
             [
              0,
              "#0d0887"
             ],
             [
              0.1111111111111111,
              "#46039f"
             ],
             [
              0.2222222222222222,
              "#7201a8"
             ],
             [
              0.3333333333333333,
              "#9c179e"
             ],
             [
              0.4444444444444444,
              "#bd3786"
             ],
             [
              0.5555555555555556,
              "#d8576b"
             ],
             [
              0.6666666666666666,
              "#ed7953"
             ],
             [
              0.7777777777777778,
              "#fb9f3a"
             ],
             [
              0.8888888888888888,
              "#fdca26"
             ],
             [
              1,
              "#f0f921"
             ]
            ],
            "type": "surface"
           }
          ],
          "table": [
           {
            "cells": {
             "fill": {
              "color": "#EBF0F8"
             },
             "line": {
              "color": "white"
             }
            },
            "header": {
             "fill": {
              "color": "#C8D4E3"
             },
             "line": {
              "color": "white"
             }
            },
            "type": "table"
           }
          ]
         },
         "layout": {
          "annotationdefaults": {
           "arrowcolor": "#2a3f5f",
           "arrowhead": 0,
           "arrowwidth": 1
          },
          "autotypenumbers": "strict",
          "coloraxis": {
           "colorbar": {
            "outlinewidth": 0,
            "ticks": ""
           }
          },
          "colorscale": {
           "diverging": [
            [
             0,
             "#8e0152"
            ],
            [
             0.1,
             "#c51b7d"
            ],
            [
             0.2,
             "#de77ae"
            ],
            [
             0.3,
             "#f1b6da"
            ],
            [
             0.4,
             "#fde0ef"
            ],
            [
             0.5,
             "#f7f7f7"
            ],
            [
             0.6,
             "#e6f5d0"
            ],
            [
             0.7,
             "#b8e186"
            ],
            [
             0.8,
             "#7fbc41"
            ],
            [
             0.9,
             "#4d9221"
            ],
            [
             1,
             "#276419"
            ]
           ],
           "sequential": [
            [
             0,
             "#0d0887"
            ],
            [
             0.1111111111111111,
             "#46039f"
            ],
            [
             0.2222222222222222,
             "#7201a8"
            ],
            [
             0.3333333333333333,
             "#9c179e"
            ],
            [
             0.4444444444444444,
             "#bd3786"
            ],
            [
             0.5555555555555556,
             "#d8576b"
            ],
            [
             0.6666666666666666,
             "#ed7953"
            ],
            [
             0.7777777777777778,
             "#fb9f3a"
            ],
            [
             0.8888888888888888,
             "#fdca26"
            ],
            [
             1,
             "#f0f921"
            ]
           ],
           "sequentialminus": [
            [
             0,
             "#0d0887"
            ],
            [
             0.1111111111111111,
             "#46039f"
            ],
            [
             0.2222222222222222,
             "#7201a8"
            ],
            [
             0.3333333333333333,
             "#9c179e"
            ],
            [
             0.4444444444444444,
             "#bd3786"
            ],
            [
             0.5555555555555556,
             "#d8576b"
            ],
            [
             0.6666666666666666,
             "#ed7953"
            ],
            [
             0.7777777777777778,
             "#fb9f3a"
            ],
            [
             0.8888888888888888,
             "#fdca26"
            ],
            [
             1,
             "#f0f921"
            ]
           ]
          },
          "colorway": [
           "#636efa",
           "#EF553B",
           "#00cc96",
           "#ab63fa",
           "#FFA15A",
           "#19d3f3",
           "#FF6692",
           "#B6E880",
           "#FF97FF",
           "#FECB52"
          ],
          "font": {
           "color": "#2a3f5f"
          },
          "geo": {
           "bgcolor": "white",
           "lakecolor": "white",
           "landcolor": "#E5ECF6",
           "showlakes": true,
           "showland": true,
           "subunitcolor": "white"
          },
          "hoverlabel": {
           "align": "left"
          },
          "hovermode": "closest",
          "mapbox": {
           "style": "light"
          },
          "paper_bgcolor": "white",
          "plot_bgcolor": "#E5ECF6",
          "polar": {
           "angularaxis": {
            "gridcolor": "white",
            "linecolor": "white",
            "ticks": ""
           },
           "bgcolor": "#E5ECF6",
           "radialaxis": {
            "gridcolor": "white",
            "linecolor": "white",
            "ticks": ""
           }
          },
          "scene": {
           "xaxis": {
            "backgroundcolor": "#E5ECF6",
            "gridcolor": "white",
            "gridwidth": 2,
            "linecolor": "white",
            "showbackground": true,
            "ticks": "",
            "zerolinecolor": "white"
           },
           "yaxis": {
            "backgroundcolor": "#E5ECF6",
            "gridcolor": "white",
            "gridwidth": 2,
            "linecolor": "white",
            "showbackground": true,
            "ticks": "",
            "zerolinecolor": "white"
           },
           "zaxis": {
            "backgroundcolor": "#E5ECF6",
            "gridcolor": "white",
            "gridwidth": 2,
            "linecolor": "white",
            "showbackground": true,
            "ticks": "",
            "zerolinecolor": "white"
           }
          },
          "shapedefaults": {
           "line": {
            "color": "#2a3f5f"
           }
          },
          "ternary": {
           "aaxis": {
            "gridcolor": "white",
            "linecolor": "white",
            "ticks": ""
           },
           "baxis": {
            "gridcolor": "white",
            "linecolor": "white",
            "ticks": ""
           },
           "bgcolor": "#E5ECF6",
           "caxis": {
            "gridcolor": "white",
            "linecolor": "white",
            "ticks": ""
           }
          },
          "title": {
           "x": 0.05
          },
          "xaxis": {
           "automargin": true,
           "gridcolor": "white",
           "linecolor": "white",
           "ticks": "",
           "title": {
            "standoff": 15
           },
           "zerolinecolor": "white",
           "zerolinewidth": 2
          },
          "yaxis": {
           "automargin": true,
           "gridcolor": "white",
           "linecolor": "white",
           "ticks": "",
           "title": {
            "standoff": 15
           },
           "zerolinecolor": "white",
           "zerolinewidth": 2
          }
         }
        }
       }
      },
      "text/html": [
       "<div>                            <div id=\"4fb66003-6673-49ed-9ab5-4ad4007f70b9\" class=\"plotly-graph-div\" style=\"height:525px; width:100%;\"></div>            <script type=\"text/javascript\">                require([\"plotly\"], function(Plotly) {                    window.PLOTLYENV=window.PLOTLYENV || {};                                    if (document.getElementById(\"4fb66003-6673-49ed-9ab5-4ad4007f70b9\")) {                    Plotly.newPlot(                        \"4fb66003-6673-49ed-9ab5-4ad4007f70b9\",                        [{\"marker\":{\"color\":\"blue\"},\"mode\":\"markers\",\"x\":[0.0,0.0175,0.035,0.052500000000000005],\"y\":[4.441120016087065,2.522227128714147,0.7275479493827572,-1.0129182254577473],\"type\":\"scatter\"},{\"marker\":{\"color\":\"black\"},\"mode\":\"markers\",\"x\":[0.0,0.0175,0.035,0.052500000000000005],\"y\":[4.454510401206546,2.595716317529838,0.8621529927299312,-0.6202719967907429],\"type\":\"scatter\"},{\"marker\":{\"color\":\"black\"},\"mode\":\"markers\",\"x\":[0.0,0.0175,0.035,0.052500000000000005],\"y\":[4.427729630967584,2.4487379398984563,0.5929429060355833,-1.4055644541247516],\"type\":\"scatter\"}],                        {\"template\":{\"data\":{\"barpolar\":[{\"marker\":{\"line\":{\"color\":\"#E5ECF6\",\"width\":0.5},\"pattern\":{\"fillmode\":\"overlay\",\"size\":10,\"solidity\":0.2}},\"type\":\"barpolar\"}],\"bar\":[{\"error_x\":{\"color\":\"#2a3f5f\"},\"error_y\":{\"color\":\"#2a3f5f\"},\"marker\":{\"line\":{\"color\":\"#E5ECF6\",\"width\":0.5},\"pattern\":{\"fillmode\":\"overlay\",\"size\":10,\"solidity\":0.2}},\"type\":\"bar\"}],\"carpet\":[{\"aaxis\":{\"endlinecolor\":\"#2a3f5f\",\"gridcolor\":\"white\",\"linecolor\":\"white\",\"minorgridcolor\":\"white\",\"startlinecolor\":\"#2a3f5f\"},\"baxis\":{\"endlinecolor\":\"#2a3f5f\",\"gridcolor\":\"white\",\"linecolor\":\"white\",\"minorgridcolor\":\"white\",\"startlinecolor\":\"#2a3f5f\"},\"type\":\"carpet\"}],\"choropleth\":[{\"colorbar\":{\"outlinewidth\":0,\"ticks\":\"\"},\"type\":\"choropleth\"}],\"contourcarpet\":[{\"colorbar\":{\"outlinewidth\":0,\"ticks\":\"\"},\"type\":\"contourcarpet\"}],\"contour\":[{\"colorbar\":{\"outlinewidth\":0,\"ticks\":\"\"},\"colorscale\":[[0.0,\"#0d0887\"],[0.1111111111111111,\"#46039f\"],[0.2222222222222222,\"#7201a8\"],[0.3333333333333333,\"#9c179e\"],[0.4444444444444444,\"#bd3786\"],[0.5555555555555556,\"#d8576b\"],[0.6666666666666666,\"#ed7953\"],[0.7777777777777778,\"#fb9f3a\"],[0.8888888888888888,\"#fdca26\"],[1.0,\"#f0f921\"]],\"type\":\"contour\"}],\"heatmapgl\":[{\"colorbar\":{\"outlinewidth\":0,\"ticks\":\"\"},\"colorscale\":[[0.0,\"#0d0887\"],[0.1111111111111111,\"#46039f\"],[0.2222222222222222,\"#7201a8\"],[0.3333333333333333,\"#9c179e\"],[0.4444444444444444,\"#bd3786\"],[0.5555555555555556,\"#d8576b\"],[0.6666666666666666,\"#ed7953\"],[0.7777777777777778,\"#fb9f3a\"],[0.8888888888888888,\"#fdca26\"],[1.0,\"#f0f921\"]],\"type\":\"heatmapgl\"}],\"heatmap\":[{\"colorbar\":{\"outlinewidth\":0,\"ticks\":\"\"},\"colorscale\":[[0.0,\"#0d0887\"],[0.1111111111111111,\"#46039f\"],[0.2222222222222222,\"#7201a8\"],[0.3333333333333333,\"#9c179e\"],[0.4444444444444444,\"#bd3786\"],[0.5555555555555556,\"#d8576b\"],[0.6666666666666666,\"#ed7953\"],[0.7777777777777778,\"#fb9f3a\"],[0.8888888888888888,\"#fdca26\"],[1.0,\"#f0f921\"]],\"type\":\"heatmap\"}],\"histogram2dcontour\":[{\"colorbar\":{\"outlinewidth\":0,\"ticks\":\"\"},\"colorscale\":[[0.0,\"#0d0887\"],[0.1111111111111111,\"#46039f\"],[0.2222222222222222,\"#7201a8\"],[0.3333333333333333,\"#9c179e\"],[0.4444444444444444,\"#bd3786\"],[0.5555555555555556,\"#d8576b\"],[0.6666666666666666,\"#ed7953\"],[0.7777777777777778,\"#fb9f3a\"],[0.8888888888888888,\"#fdca26\"],[1.0,\"#f0f921\"]],\"type\":\"histogram2dcontour\"}],\"histogram2d\":[{\"colorbar\":{\"outlinewidth\":0,\"ticks\":\"\"},\"colorscale\":[[0.0,\"#0d0887\"],[0.1111111111111111,\"#46039f\"],[0.2222222222222222,\"#7201a8\"],[0.3333333333333333,\"#9c179e\"],[0.4444444444444444,\"#bd3786\"],[0.5555555555555556,\"#d8576b\"],[0.6666666666666666,\"#ed7953\"],[0.7777777777777778,\"#fb9f3a\"],[0.8888888888888888,\"#fdca26\"],[1.0,\"#f0f921\"]],\"type\":\"histogram2d\"}],\"histogram\":[{\"marker\":{\"pattern\":{\"fillmode\":\"overlay\",\"size\":10,\"solidity\":0.2}},\"type\":\"histogram\"}],\"mesh3d\":[{\"colorbar\":{\"outlinewidth\":0,\"ticks\":\"\"},\"type\":\"mesh3d\"}],\"parcoords\":[{\"line\":{\"colorbar\":{\"outlinewidth\":0,\"ticks\":\"\"}},\"type\":\"parcoords\"}],\"pie\":[{\"automargin\":true,\"type\":\"pie\"}],\"scatter3d\":[{\"line\":{\"colorbar\":{\"outlinewidth\":0,\"ticks\":\"\"}},\"marker\":{\"colorbar\":{\"outlinewidth\":0,\"ticks\":\"\"}},\"type\":\"scatter3d\"}],\"scattercarpet\":[{\"marker\":{\"colorbar\":{\"outlinewidth\":0,\"ticks\":\"\"}},\"type\":\"scattercarpet\"}],\"scattergeo\":[{\"marker\":{\"colorbar\":{\"outlinewidth\":0,\"ticks\":\"\"}},\"type\":\"scattergeo\"}],\"scattergl\":[{\"marker\":{\"colorbar\":{\"outlinewidth\":0,\"ticks\":\"\"}},\"type\":\"scattergl\"}],\"scattermapbox\":[{\"marker\":{\"colorbar\":{\"outlinewidth\":0,\"ticks\":\"\"}},\"type\":\"scattermapbox\"}],\"scatterpolargl\":[{\"marker\":{\"colorbar\":{\"outlinewidth\":0,\"ticks\":\"\"}},\"type\":\"scatterpolargl\"}],\"scatterpolar\":[{\"marker\":{\"colorbar\":{\"outlinewidth\":0,\"ticks\":\"\"}},\"type\":\"scatterpolar\"}],\"scatter\":[{\"fillpattern\":{\"fillmode\":\"overlay\",\"size\":10,\"solidity\":0.2},\"type\":\"scatter\"}],\"scatterternary\":[{\"marker\":{\"colorbar\":{\"outlinewidth\":0,\"ticks\":\"\"}},\"type\":\"scatterternary\"}],\"surface\":[{\"colorbar\":{\"outlinewidth\":0,\"ticks\":\"\"},\"colorscale\":[[0.0,\"#0d0887\"],[0.1111111111111111,\"#46039f\"],[0.2222222222222222,\"#7201a8\"],[0.3333333333333333,\"#9c179e\"],[0.4444444444444444,\"#bd3786\"],[0.5555555555555556,\"#d8576b\"],[0.6666666666666666,\"#ed7953\"],[0.7777777777777778,\"#fb9f3a\"],[0.8888888888888888,\"#fdca26\"],[1.0,\"#f0f921\"]],\"type\":\"surface\"}],\"table\":[{\"cells\":{\"fill\":{\"color\":\"#EBF0F8\"},\"line\":{\"color\":\"white\"}},\"header\":{\"fill\":{\"color\":\"#C8D4E3\"},\"line\":{\"color\":\"white\"}},\"type\":\"table\"}]},\"layout\":{\"annotationdefaults\":{\"arrowcolor\":\"#2a3f5f\",\"arrowhead\":0,\"arrowwidth\":1},\"autotypenumbers\":\"strict\",\"coloraxis\":{\"colorbar\":{\"outlinewidth\":0,\"ticks\":\"\"}},\"colorscale\":{\"diverging\":[[0,\"#8e0152\"],[0.1,\"#c51b7d\"],[0.2,\"#de77ae\"],[0.3,\"#f1b6da\"],[0.4,\"#fde0ef\"],[0.5,\"#f7f7f7\"],[0.6,\"#e6f5d0\"],[0.7,\"#b8e186\"],[0.8,\"#7fbc41\"],[0.9,\"#4d9221\"],[1,\"#276419\"]],\"sequential\":[[0.0,\"#0d0887\"],[0.1111111111111111,\"#46039f\"],[0.2222222222222222,\"#7201a8\"],[0.3333333333333333,\"#9c179e\"],[0.4444444444444444,\"#bd3786\"],[0.5555555555555556,\"#d8576b\"],[0.6666666666666666,\"#ed7953\"],[0.7777777777777778,\"#fb9f3a\"],[0.8888888888888888,\"#fdca26\"],[1.0,\"#f0f921\"]],\"sequentialminus\":[[0.0,\"#0d0887\"],[0.1111111111111111,\"#46039f\"],[0.2222222222222222,\"#7201a8\"],[0.3333333333333333,\"#9c179e\"],[0.4444444444444444,\"#bd3786\"],[0.5555555555555556,\"#d8576b\"],[0.6666666666666666,\"#ed7953\"],[0.7777777777777778,\"#fb9f3a\"],[0.8888888888888888,\"#fdca26\"],[1.0,\"#f0f921\"]]},\"colorway\":[\"#636efa\",\"#EF553B\",\"#00cc96\",\"#ab63fa\",\"#FFA15A\",\"#19d3f3\",\"#FF6692\",\"#B6E880\",\"#FF97FF\",\"#FECB52\"],\"font\":{\"color\":\"#2a3f5f\"},\"geo\":{\"bgcolor\":\"white\",\"lakecolor\":\"white\",\"landcolor\":\"#E5ECF6\",\"showlakes\":true,\"showland\":true,\"subunitcolor\":\"white\"},\"hoverlabel\":{\"align\":\"left\"},\"hovermode\":\"closest\",\"mapbox\":{\"style\":\"light\"},\"paper_bgcolor\":\"white\",\"plot_bgcolor\":\"#E5ECF6\",\"polar\":{\"angularaxis\":{\"gridcolor\":\"white\",\"linecolor\":\"white\",\"ticks\":\"\"},\"bgcolor\":\"#E5ECF6\",\"radialaxis\":{\"gridcolor\":\"white\",\"linecolor\":\"white\",\"ticks\":\"\"}},\"scene\":{\"xaxis\":{\"backgroundcolor\":\"#E5ECF6\",\"gridcolor\":\"white\",\"gridwidth\":2,\"linecolor\":\"white\",\"showbackground\":true,\"ticks\":\"\",\"zerolinecolor\":\"white\"},\"yaxis\":{\"backgroundcolor\":\"#E5ECF6\",\"gridcolor\":\"white\",\"gridwidth\":2,\"linecolor\":\"white\",\"showbackground\":true,\"ticks\":\"\",\"zerolinecolor\":\"white\"},\"zaxis\":{\"backgroundcolor\":\"#E5ECF6\",\"gridcolor\":\"white\",\"gridwidth\":2,\"linecolor\":\"white\",\"showbackground\":true,\"ticks\":\"\",\"zerolinecolor\":\"white\"}},\"shapedefaults\":{\"line\":{\"color\":\"#2a3f5f\"}},\"ternary\":{\"aaxis\":{\"gridcolor\":\"white\",\"linecolor\":\"white\",\"ticks\":\"\"},\"baxis\":{\"gridcolor\":\"white\",\"linecolor\":\"white\",\"ticks\":\"\"},\"bgcolor\":\"#E5ECF6\",\"caxis\":{\"gridcolor\":\"white\",\"linecolor\":\"white\",\"ticks\":\"\"}},\"title\":{\"x\":0.05},\"xaxis\":{\"automargin\":true,\"gridcolor\":\"white\",\"linecolor\":\"white\",\"ticks\":\"\",\"title\":{\"standoff\":15},\"zerolinecolor\":\"white\",\"zerolinewidth\":2},\"yaxis\":{\"automargin\":true,\"gridcolor\":\"white\",\"linecolor\":\"white\",\"ticks\":\"\",\"title\":{\"standoff\":15},\"zerolinecolor\":\"white\",\"zerolinewidth\":2}}}},                        {\"responsive\": true}                    ).then(function(){\n",
       "                            \n",
       "var gd = document.getElementById('4fb66003-6673-49ed-9ab5-4ad4007f70b9');\n",
       "var x = new MutationObserver(function (mutations, observer) {{\n",
       "        var display = window.getComputedStyle(gd).display;\n",
       "        if (!display || display === 'none') {{\n",
       "            console.log([gd, 'removed!']);\n",
       "            Plotly.purge(gd);\n",
       "            observer.disconnect();\n",
       "        }}\n",
       "}});\n",
       "\n",
       "// Listen for the removal of the full notebook cells\n",
       "var notebookContainer = gd.closest('#notebook-container');\n",
       "if (notebookContainer) {{\n",
       "    x.observe(notebookContainer, {childList: true});\n",
       "}}\n",
       "\n",
       "// Listen for the clearing of the current output cell\n",
       "var outputEl = gd.closest('.output');\n",
       "if (outputEl) {{\n",
       "    x.observe(outputEl, {childList: true});\n",
       "}}\n",
       "\n",
       "                        })                };                });            </script>        </div>"
      ]
     },
     "metadata": {},
     "output_type": "display_data"
    },
    {
     "name": "stdout",
     "output_type": "stream",
     "text": [
      "polyfit solution [-103.75310802    4.40338861]\n",
      "Based on bins: sigmaG =  0.09817466824411938\n"
     ]
    },
    {
     "data": {
      "image/png": "[encoded data removed]",
      "text/plain": [
       "<Figure size 640x480 with 1 Axes>"
      ]
     },
     "metadata": {},
     "output_type": "display_data"
    },
    {
     "data": {
      "image/png": "[encoded data removed]",
      "text/plain": [
       "<Figure size 640x480 with 1 Axes>"
      ]
     },
     "metadata": {},
     "output_type": "display_data"
    }
   ],
   "source": [
    "# Arrays for accumulating \n",
    "counts_list = []\n",
    "meanZ2_list = []\n",
    "Z2flat_list = []\n",
    "\n",
    "# First-guess for Weibull fitting (sigma2W, etaW)\n",
    "x0 = np.array([.1,.9])\n",
    "\n",
    "# This suppresses warnings when lots of graphics windows are open\n",
    "import matplotlib\n",
    "matplotlib.rc('figure', max_open_warning = 0)\n",
    "\n",
    "# This is for when we want to show or suppress intermediate graphics and other output\n",
    "Show_intermediate_graphics = True\n",
    "\n",
    "# Looping over segments\n",
    "for isegment in range(nsegments):\n",
    "\n",
    "    # Pull out the next segment\n",
    "    sollast = zgridtot[isegment]\n",
    "    xgrid = xgridtot[isegment] \n",
    "    ygrid = ygridtot[isegment]\n",
    "    Ny, Nx = np.shape(sollast); #print(sollast.shape)\n",
    "    Ntot = np.size(sollast)\n",
    "    dx = xgrid[0,1]-xgrid[0,0]; #print('dx =', dx)\n",
    "    dy = ygrid[1,0]-ygrid[0,0]; #print('dy =', dy)\n",
    "\n",
    "    # Get the probability distribution in Z2\n",
    "    counts, bins, meanZ2, Z2flat, error = rs.getrhoofz2(sollast,dx,dy,Z2bins=Z2bins,levels=levels)\n",
    "    print('meanZ2 = ', meanZ2)\n",
    "    print('statsigma = ', np.sqrt(meanZ2))\n",
    "\n",
    "    # Plot if we want\n",
    "    if isegment in plotthisone:\n",
    "        \n",
    "        # Reporting\n",
    "        print('')\n",
    "        print('****Working on segment', isegment)\n",
    "        \n",
    "        # Graph the surface\n",
    "        if Show_intermediate_graphics:\n",
    "            fig1 = plt.figure()\n",
    "            ax = fig1.add_subplot(111, projection='3d')\n",
    "            ax.plot_surface(xgrid, ygrid, sollast)\n",
    "            title = Flattenedfilename+' #'+str(isegment)\n",
    "            ax.set_xlabel('x')\n",
    "            ax.set_ylabel('y')\n",
    "            ax.set_zlabel('z')\n",
    "            ax.set_title(title)\n",
    "            ax.view_init(azim=-120,elev=22)\n",
    "        \n",
    "        # Normalize the distribution function, report stats\n",
    "        integral_rho = np.trapz(counts, bins)\n",
    "        print ('std dev of height = ', np.std(sollast))\n",
    "        print('integral = ', integral_rho)\n",
    "        counts = counts/integral_rho\n",
    "        error = error/integral_rho\n",
    "\n",
    "        # This is for calculating the errors in fitting (and graphing)\n",
    "        countsplus = counts+error; #print(countsplus)\n",
    "        countsminus = counts**2/countsplus; print(countsminus)\n",
    "\n",
    "        # Graph the probability\n",
    "        if Show_intermediate_graphics:\n",
    "            \n",
    "            # Using matplotlib\n",
    "            plt.figure()\n",
    "            plt.semilogy(bins, counts, 'ok')\n",
    "            plt.semilogy(bins, countsplus, '+k')\n",
    "            plt.semilogy(bins, countsminus,'+k')\n",
    "            plt.title(title)\n",
    "            plt.xlabel(r'$Z^{2}$')\n",
    "            plt.ylabel(r'$\\rho$')\n",
    "            plt.grid(True)\n",
    "            \n",
    "            # Using plotly\n",
    "            plot1 = go.Scatter(x=bins, y=np.log(counts), marker=dict(color='blue'),mode='markers')\n",
    "            plot2 = go.Scatter(x=bins, y=np.log(countsplus), marker=dict(color='black'),mode='markers')\n",
    "            plot3 = go.Scatter(x=bins, y=np.log(countsminus), marker=dict(color='black'),mode='markers')\n",
    "            iplot([plot1,plot2,plot3])\n",
    "\n",
    "        # Eliminate entries greater than a threshold (not sure if this is necessary)\n",
    "        ikeep = np.argwhere(Z2flat < Z2maxforhist)\n",
    "        Z2flat_new = np.squeeze(Z2flat[ikeep])\n",
    "\n",
    "#         # Attempt a best-fit based on the raw data\n",
    "#         analysis = Fit_Weibull_2P(failures=Z2flat_new,show_probability_plot=False)\n",
    "#         etaW = analysis.beta; #print('analysis.beta=',analysis.beta)\n",
    "#         sigma2W = analysis.alpha; #print('analysis.alpha=',analysis.alpha)\n",
    "#         sigmaW = np.sqrt(sigma2W)\n",
    "#         print('Based on raw data: sigmaW, etaW = ', sigmaW, etaW)\n",
    "        \n",
    "#         # Attempt a best-fit based on the bins\n",
    "#         errors = np.log(countsplus/counts); #print(errors)\n",
    "#         solution, solutionerror = optimization.curve_fit(sts.logWeibull, bins+Z2offset, np.log(counts),x0,sigma=errors)\n",
    "#         etaW = solution[1]\n",
    "#         sigma2W = solution[0]\n",
    "#         sigmaW = np.sqrt(sigma2W)\n",
    "#         print('Based on bins: sigmaW, etaW = ', sigmaW, etaW)\n",
    "\n",
    "        # Best-fit based on linear fit to the bins\n",
    "        errors = np.log(countsplus/counts); #print(errors)\n",
    "        solution = np.polyfit(bins+Z2offset, np.log(counts), 1)\n",
    "        print('polyfit solution', solution)\n",
    "        sigma2G = -1/solution[0]\n",
    "        sigmaG = np.sqrt(sigma2G)\n",
    "        print('Based on bins: sigmaG = ', sigmaG)\n",
    "        \n",
    "#         # Graph the best-fit probability\n",
    "#         myWeibull = sts.Weibull(Z2theory,sigma2W,etaW)\n",
    "#         if Show_intermediate_graphics:\n",
    "#             plt.semilogy(Z2theory, myWeibull, 'b',label = 'Weibull with $\\sigma_w$ =' + str(sigmaW)[0:5] + ' $\\eta_w$ =' + str(etaW)[0:5])\n",
    "#             plt.legend()\n",
    "\n",
    "        # Graph the best-fit probability\n",
    "        myGaussian = sts.Gaussian(Z2theory,sigma2G)\n",
    "        if Show_intermediate_graphics:\n",
    "            plt.semilogy(Z2theory, myGaussian, 'b',label = 'Gaussian with $\\sigma_w$ =' + str(sigmaG)[0:5])\n",
    "            plt.legend()\n",
    "\n",
    "    # Accumulate if we want\n",
    "    if isegment in accumlist:\n",
    "        counts_list.append(counts)\n",
    "        meanZ2_list.append(meanZ2)\n",
    "        Z2flat_list.append(Z2flat)"
   ]
  },
  {
   "cell_type": "code",
   "execution_count": 9,
   "metadata": {},
   "outputs": [
    {
     "data": {
      "text/plain": [
       "<function statstuff.logWeibull(Z2, sigma2W, etaW)>"
      ]
     },
     "execution_count": 9,
     "metadata": {},
     "output_type": "execute_result"
    }
   ],
   "source": [
    "sts.logWeibull"
   ]
  },
  {
   "cell_type": "code",
   "execution_count": 10,
   "metadata": {},
   "outputs": [
    {
     "name": "stdout",
     "output_type": "stream",
     "text": [
      "Original =  2750\n",
      "4 0 688 [582  89  14   2]\n",
      "4 1 688 [581  86  16   4]\n",
      "4 2 687 [594  78  12   2]\n",
      "4 3 687 [580  90  15   2]\n",
      "ilevelp = 4\n",
      "ilevelp, t = 4 2.7764451051977987\n",
      "meanZ2 =  0.0091523427151249\n",
      "statsigma =  0.09566787713294833\n",
      "integral =  0.010024117218784129\n"
     ]
    }
   ],
   "source": [
    "# Sum up the accumulated information\n",
    "Z2flat_total = []\n",
    "for i in Z2flat_list:\n",
    "    for j in i:\n",
    "        Z2flat_total.append(j)\n",
    "Z2flat_total = np.array(Z2flat_total)\n",
    "Z2flat_new = np.squeeze(Z2flat_total)\n",
    "\n",
    "# Get the probability distribution in Z2\n",
    "counts, bins, meanZ2, error = rs.getrhoofz2flat(Z2flat,nbins,Z2bins,levels)\n",
    "print('meanZ2 = ', meanZ2)\n",
    "print('statsigma = ', np.sqrt(meanZ2))\n",
    "\n",
    "# Normalize the distribution function\n",
    "integral_rho = np.trapz(counts, bins)\n",
    "print('integral = ', integral_rho)\n",
    "counts = counts/integral_rho\n",
    "error = error/integral_rho\n",
    "countsplus = counts+error; #print(countsplus)\n",
    "countsminus = counts**2/countsplus; #print(countsminus)\n",
    "\n",
    "# Attempt a best-fit based on the raw data\n",
    "# plt.figure()\n",
    "# analysis = Fit_Weibull_2P(failures=Z2flat_new)\n",
    "# etaW = analysis.beta; print('analysis.beta=',analysis.beta)\n",
    "# sigma2W = analysis.alpha; print('analysis.alpha=',analysis.alpha)\n",
    "# sigmaW = np.sqrt(sigma2W)\n",
    "# print('Based on raw data: sigmaW, etaW = ', sigmaW, etaW)"
   ]
  },
  {
   "cell_type": "code",
   "execution_count": 11,
   "metadata": {},
   "outputs": [
    {
     "name": "stdout",
     "output_type": "stream",
     "text": [
      "Based on bins: sigmaW, etaW =  0.3023259570145756 0.6293030655964941\n"
     ]
    }
   ],
   "source": [
    "# Attempt a best-fit based on the bins\n",
    "errors = np.log(countsplus/counts); #print(errors)\n",
    "solution, solutionerror = optimization.curve_fit(sts.logWeibull, bins+Z2offset, np.log(counts),x0,sigma=errors)\n",
    "etaW = solution[1]\n",
    "sigma2W = solution[0]\n",
    "sigmaW = np.sqrt(sigma2W)\n",
    "print('Based on bins: sigmaW, etaW = ', sigmaW, etaW)"
   ]
  },
  {
   "cell_type": "code",
   "execution_count": 12,
   "metadata": {},
   "outputs": [
    {
     "data": {
      "text/plain": [
       "<matplotlib.legend.Legend at 0x1034a6050>"
      ]
     },
     "execution_count": 12,
     "metadata": {},
     "output_type": "execute_result"
    },
    {
     "data": {
      "image/png": "[encoded data removed]",
      "text/plain": [
       "<Figure size 640x480 with 1 Axes>"
      ]
     },
     "metadata": {},
     "output_type": "display_data"
    }
   ],
   "source": [
    "# Graph the probability\n",
    "plt.figure()\n",
    "fontsize = 14\n",
    "plt.rcParams.update({'font.size': fontsize})\n",
    "plt.semilogy(bins, counts, 'ok')\n",
    "plt.semilogy(bins, countsplus, '+k')\n",
    "plt.semilogy(bins, countsminus,'+k')\n",
    "plt.title(case_and_folder + ', ' + Segmentname)\n",
    "plt.xlabel(r'$Z^{2}$')\n",
    "plt.ylabel(r'$\\rho$')\n",
    "plt.grid(True)\n",
    "\n",
    "# Graph the best-fit probability\n",
    "myWeibull = sts.Weibull(Z2theory,sigma2W,etaW)\n",
    "plt.semilogy(Z2theory, myWeibull, 'b', \\\n",
    "             label = 'Weibull with $\\sigma_w$ =' + str(sigmaW)[0:5] + ', $\\eta_w$ =' + str(etaW)[0:5])\n",
    "plt.legend(fontsize=fontsize)"
   ]
  },
  {
   "cell_type": "code",
   "execution_count": 13,
   "metadata": {},
   "outputs": [],
   "source": [
    "# # Save the roughness figure\n",
    "# plt.savefig(Roughnessfilename)"
   ]
  },
  {
   "cell_type": "code",
   "execution_count": 14,
   "metadata": {},
   "outputs": [
    {
     "name": "stdout",
     "output_type": "stream",
     "text": [
      "Segments3_z_values.csv\n",
      "Segments3_x_values.csv\n",
      "Segments3_y_values.csv\n",
      "Segments3_Z2_values.csv\n",
      "(1, 56, 51)\n",
      "(2750,)\n",
      "(56, 51)\n",
      "(55, 50)\n"
     ]
    },
    {
     "data": {
      "application/vnd.plotly.v1+json": {
       "config": {
        "plotlyServerURL": "https://plot.ly"
       },
       "data": [
        {
         "type": "surface",
         "x": [
          4.0545154382967565,
          5.294749438296757,
          6.534983438296757,
          7.775217438296757,
          9.015451438296758,
          10.255685438296757,
          11.495919438296756,
          12.736153438296757,
          13.976387438296758,
          15.216621438296757,
          16.456855438296756,
          17.697089438296757,
          18.937323438296758,
          20.17755743829676,
          21.417791438296756,
          22.658025438296757,
          23.89825943829676,
          25.138493438296756,
          26.378727438296757,
          27.618961438296758,
          28.85919543829676,
          30.09942943829676,
          31.339663438296757,
          32.579897438296754,
          33.820131438296755,
          35.060365438296756,
          36.30059943829676,
          37.54083343829676,
          38.78106743829676,
          40.02130143829676,
          41.26153543829676,
          42.50176943829676,
          43.742003438296756,
          44.98223743829676,
          46.22247143829676,
          47.46270543829676,
          48.70293943829676,
          49.94317343829676,
          51.18340743829676,
          52.423641438296755,
          53.663875438296756,
          54.90410943829676,
          56.14434343829676,
          57.38457743829676,
          58.62481143829676,
          59.86504543829676,
          61.10527943829676,
          62.34551343829676,
          63.58574743829676,
          64.82598143829676
         ],
         "y": [
          -1.8558189354843044,
          -0.6155849354843044,
          0.6246490645156957,
          1.8648830645156957,
          3.105117064515696,
          4.345351064515696,
          5.585585064515696,
          6.825819064515696,
          8.066053064515696,
          9.306287064515697,
          10.546521064515696,
          11.786755064515695,
          13.026989064515696,
          14.267223064515697,
          15.507457064515696,
          16.747691064515696,
          17.987925064515697,
          19.228159064515697,
          20.468393064515695,
          21.708627064515696,
          22.948861064515697,
          24.189095064515698,
          25.4293290645157,
          26.669563064515696,
          27.909797064515697,
          29.150031064515698,
          30.390265064515695,
          31.630499064515696,
          32.8707330645157,
          34.1109670645157,
          35.3512010645157,
          36.5914350645157,
          37.831669064515694,
          39.071903064515695,
          40.312137064515696,
          41.5523710645157,
          42.7926050645157,
          44.0328390645157,
          45.2730730645157,
          46.5133070645157,
          47.7535410645157,
          48.993775064515695,
          50.234009064515696,
          51.4742430645157,
          52.7144770645157,
          53.9547110645157,
          55.1949450645157,
          56.4351790645157,
          57.675413064515695,
          58.915647064515696,
          60.1558810645157,
          61.3961150645157,
          62.6363490645157,
          63.8765830645157,
          65.1168170645157
         ],
         "z": [
          [
           0.01275365033714235,
           0.025826645128556643,
           0.0032833891835008255,
           0.00539542823871698,
           0.012854536756240605,
           0.008621613183837995,
           0.013195234920076508,
           0.01865481067176198,
           0.002543976339922083,
           0.0012483822389549129,
           0.006519237182684446,
           0.005172788247103382,
           0.0010899687888185731,
           0.0016142380491981922,
           0.0132241967462268,
           0.00707967117438754,
           0.00413606303862943,
           0.007106280111273611,
           0.011321560575439489,
           0.009532818220469648,
           0.005148698847234917,
           0.014402397530793337,
           0.009788097256913006,
           0.0033844267841933676,
           0.0030251031184526794,
           0.005204903225978621,
           0.012157696012638016,
           0.010082946260408765,
           0.004499464857605697,
           0.0038488557360161165,
           0.005696761790898952,
           0.004652478620946522,
           0.004907555214570429,
           0.005046513582194003,
           0.0021634199817384273,
           0.002941989821696567,
           0.017932428757242325,
           0.017433840221566112,
           0.008789502616591175,
           0.0031607814336369684,
           0.005648609517673133,
           0.0361623583208502,
           0.058739516677698785,
           0.03238044781636723,
           0.024294767774436624,
           0.01833336608365532,
           0.01483277212602314,
           0.06476072192232586,
           0.07710055280849627,
           0.07048848782738998
          ],
          [
           0.009841846889896201,
           0.03587144508711451,
           0.019101660996558995,
           0.0333511496080818,
           0.04512928031292587,
           0.04452187984681155,
           0.02592246628921903,
           0.015522405895537118,
           0.02598497579955087,
           0.03829203115506065,
           0.03769114252185294,
           0.04839805459444314,
           0.037406851492328363,
           0.03251411337871642,
           0.031701823542962713,
           0.015127211094788796,
           0.020170668684754024,
           0.017294363044978372,
           0.006789330658833873,
           0.014517022095872889,
           0.034858308027283715,
           0.04781169465462611,
           0.03551648100185983,
           0.0341903937948904,
           0.03161190108131613,
           0.044599800322400164,
           0.041909659265389365,
           0.018494671377372367,
           0.02000088010890893,
           0.015531096106024543,
           0.0094980920973598,
           0.004264698888767745,
           0.008019104280580239,
           0.009644522021790385,
           0.009961309736216256,
           0.004543474269684604,
           0.01315639159702467,
           0.010815046184801627,
           0.013795980691799234,
           0.016384281928943065,
           0.003754804851914899,
           0.0028516590172644623,
           0.020090610431329214,
           0.02565930599829314,
           0.03435169975617749,
           0.04006544685117665,
           0.02611826722770035,
           0.06119420626509449,
           0.0748951517955151,
           0.031577559443005304
          ],
          [
           0.008782148246283865,
           0.026373836884812308,
           0.017460768973254076,
           0.00928170156495802,
           0.00821083065643298,
           0.020444177839681773,
           0.025857348904418237,
           0.013889362895474619,
           0.0386558002028748,
           0.030123269259552322,
           0.005443444305761104,
           0.007539080599331893,
           0.020856395662239745,
           0.04093052059259996,
           0.048759921198119054,
           0.030197999650903275,
           0.027654319197216892,
           0.015864539707819907,
           0.008453214103284073,
           0.011492796641480639,
           0.0193910880243976,
           0.012329359753074956,
           0.008799363791283956,
           0.01799230899301267,
           0.023560849198995374,
           0.02038172688548531,
           0.006237662688051238,
           0.0019290347046184593,
           0.014855105989722155,
           0.038217161246597076,
           0.035159693771406056,
           0.020424432669611074,
           0.013790199657853398,
           0.012269456299336623,
           0.007197382105103344,
           0.005680105600876059,
           0.013362811301117302,
           0.0058962786359308,
           0.005745944282638035,
           0.01909549286155071,
           0.012279593316631534,
           0.0012453431060070763,
           0.012798042562962101,
           0.027388260845172662,
           0.02855344196911572,
           0.028503607187030475,
           0.0198000401878433,
           0.02771780418591952,
           0.05987556133491884,
           0.0542320943195292
          ],
          [
           0.01459067064844631,
           0.032273180023169284,
           0.01663119342728131,
           0.003330489031985921,
           0.00055502744288116,
           0.007094029304879713,
           0.016280488068204865,
           0.008275743627349145,
           0.022109629850466966,
           0.011160317245885402,
           0.009653516208199736,
           0.009197316627596161,
           0.014097029351073844,
           0.010840971509911123,
           0.020308324314269554,
           0.009420161183456002,
           0.003973993541414672,
           0.0027586539047443396,
           0.007114313905711232,
           0.016539832141261014,
           0.004784198717251954,
           0.0013303227379106626,
           0.004450217963023143,
           0.0066403601346319415,
           0.0037129053378306114,
           0.0025468544074295405,
           0.0017678349706174855,
           0.0009101561130380865,
           0.0012614317705881351,
           0.002731246833719495,
           0.007049343749729449,
           0.008780055302052645,
           0.007063783214473149,
           0.004460573727268583,
           0.0013126351659950876,
           0.0021750664883694185,
           0.011833566035698816,
           0.007901679545097283,
           0.006012278497194195,
           0.016948749992310427,
           0.03084070722667981,
           0.01961565678484813,
           0.029383126220823196,
           0.03326443211049966,
           0.02667688609340417,
           0.0334601600589318,
           0.02211781989880484,
           0.013147911623272494,
           0.034646656122608366,
           0.04311729273282583
          ],
          [
           0.006349558004346138,
           0.019144940624693726,
           0.013207316705669532,
           0.01894072214248401,
           0.013902783861048623,
           0.001783881677525268,
           0.008378507620715405,
           0.0055805719192200225,
           0.006600300152137167,
           0.002872289615224357,
           0.009459516363358414,
           0.03349781926801421,
           0.010204625565067495,
           7.362214306724571e-05,
           0.013550112506027653,
           0.005033750700752572,
           0.0016169090894037916,
           0.002444224646284173,
           0.0023963872103417976,
           0.009620630492082793,
           0.0016311019369522105,
           0.004559558369688438,
           0.008824805686926878,
           0.006281249826174628,
           0.004730733169614961,
           0.005267927071456501,
           0.007356729373060023,
           0.004292199525087393,
           0.0025135646181363223,
           0.001027252755951383,
           0.0009726517670666378,
           0.001169439174492482,
           0.0020299158864918753,
           0.0023985198088838783,
           0.002478716647367604,
           0.0020959698318246092,
           0.004229026811848852,
           0.0048594839625244095,
           0.009176107856853076,
           0.010955148050982556,
           0.022274236221044248,
           0.01816515421019612,
           0.011518557993034436,
           0.015404808456848555,
           0.028268532734927708,
           0.04172068636468272,
           0.03347005773659245,
           0.019632869246101584,
           0.025332873131495258,
           0.03283519546131837
          ],
          [
           0.0023963251908878506,
           0.00937382377886659,
           0.008455045772643732,
           0.014189042403209463,
           0.008417292873069863,
           0.002817114022353782,
           0.009157449301286104,
           0.003859921319538906,
           0.0006803882920171856,
           0.0022146892533155098,
           0.001802487676668579,
           0.011144046255956459,
           0.0004977538520951421,
           5.239485053939213e-05,
           0.022819920687004665,
           0.00894531308879696,
           0.004505692408044327,
           0.006541723400759826,
           0.006806842736242931,
           0.0049112169874798595,
           0.004538614967810358,
           0.011121524579631616,
           0.005160152345079422,
           0.004507830511484633,
           0.0033976976813817296,
           0.0011191902406029125,
           0.0007908737879886269,
           0.002635883367743475,
           0.008149757618274129,
           0.007514417754039062,
           0.007387698159490863,
           0.0024971263654728635,
           0.0010663846202009016,
           0.0001773518511764224,
           0.002517865820779964,
           0.004411470706736005,
           0.0024882271293101992,
           0.0030564820359240555,
           0.009802905729600714,
           0.0028674491368562943,
           0.0038330006641679702,
           0.007920285767570772,
           0.0012095124628046705,
           0.005778437565533771,
           0.013657944882564027,
           0.02778704253639104,
           0.04050086015133641,
           0.02686883738152473,
           0.011787202271681386,
           0.029433678914980933
          ],
          [
           0.0008709552801341012,
           0.012006915035531033,
           0.001034922772932865,
           0.011594596637289312,
           0.012028903995377701,
           0.0036316961416399214,
           0.015921549037038577,
           0.0006000353389085077,
           0.00016171443980391185,
           0.010448272781520818,
           0.005276499120997906,
           0.0013035198237946629,
           0.0008259222996286655,
           0.004901575855201672,
           0.025591857961614728,
           0.0026412633822605162,
           0.002347108506253717,
           0.014999920232330306,
           0.013173468579619157,
           0.0061471877156818195,
           0.010842414400503502,
           0.012762630843254824,
           0.004419351239744172,
           0.007675988697588014,
           0.006205469339372904,
           0.01265218623809408,
           0.002378217670845905,
           0.0071460780516856455,
           0.01282444870841584,
           0.009000345171110816,
           0.015802280260827563,
           0.005782959353573544,
           0.003904221049546477,
           0.0017416054400543465,
           0.005405087676172011,
           0.008633679157379611,
           0.003506107162481399,
           0.002039281113104318,
           0.006824517776393254,
           0.0037720293716620953,
           0.003459965781968112,
           0.007103054648034695,
           0.003606150642813554,
           0.021117175962127237,
           0.01647141087267553,
           0.009707861435535934,
           0.02629879943695109,
           0.03388667550009912,
           0.010175330212876064,
           0.003909221421928332
          ],
          [
           0.01577914825722643,
           0.02834442664073477,
           0.0037554162290240303,
           0.0006613600043168731,
           0.0062775587598078554,
           0.007440382624827502,
           0.015137505371917858,
           0.0009198689001284472,
           0.0020386022818101707,
           0.010537200003715854,
           0.0023488408339812474,
           0.0007080191271372475,
           0.0006448775201976619,
           0.011574863472428924,
           0.01807538246319956,
           0.0002855459344125615,
           0.0006054040951949186,
           0.0021160478725609356,
           3.213096624266347e-05,
           0.002054455406918502,
           0.011227210892261141,
           0.005620305473825627,
           0.0013157897532734006,
           0.00022340088523898637,
           0.0004182647657749358,
           0.01198529790664914,
           0.0016781301487802892,
           0.003314680831428661,
           0.006706024490243709,
           0.0003370928062300773,
           0.012152206851852095,
           0.0012118992552554995,
           0.006214855514055605,
           0.004610104428948975,
           0.0003826812404717468,
           0.00044663802149054916,
           0.0015272063625962821,
           0.00028488798275303645,
           0.0009801502622425547,
           0.0007758622103460838,
           0.0014407871705746952,
           0.0030571259880310215,
           0.005263736567250908,
           0.02303243494593639,
           0.014064827617693093,
           0.0068240639242035,
           0.020573550683982315,
           0.04580697252791441,
           0.03555636004679419,
           0.008522493603919462
          ],
          [
           0.019389341753609075,
           0.02445115999725258,
           0.002206637311985403,
           0.002342031111474734,
           0.0014968615154657987,
           0.0017203176617388086,
           0.011606092183164224,
           0.006516579964523556,
           0.005740714938747171,
           0.003872049780463382,
           0.0034913627291518687,
           0.007702545935651284,
           0.004099762745747852,
           0.007566447155227019,
           0.007251868110685893,
           0.0014447016732288104,
           0.0024674090452738388,
           0.00906338710551234,
           0.011656839901758233,
           0.01144972938252106,
           0.014738268057445138,
           0.0032740152146136688,
           0.0023247589622327584,
           0.0029101188626421367,
           0.001772089064144374,
           0.003759548748834948,
           0.0009290975761895619,
           0.0029035956456801657,
           0.0044875303653235995,
           5.378327283998818e-05,
           0.01350014091111906,
           0.0016072913932662827,
           0.002197985098809285,
           0.00209325408830592,
           0.000444821062687967,
           0.0005496086556747028,
           0.0006381164302528665,
           0.0048387081354544035,
           0.0026827417286603996,
           0.0029131273317038534,
           0.00018760252132075464,
           0.0005724551761103547,
           0.00667419485831152,
           0.013385479764815106,
           0.013617969352468284,
           0.014823599548064977,
           0.007238687207671417,
           0.018526041331265713,
           0.040020795813669144,
           0.02389973497843843
          ],
          [
           0.013083280184524449,
           0.019503812195231868,
           0.0005321336768119309,
           0.0014001243529834255,
           0.009079876748459972,
           0.0036124774441001956,
           0.0013757915823984154,
           0.010212949260714586,
           0.010549667258358484,
           0.0007592102598971494,
           0.0036229002313263457,
           0.010707620572423365,
           0.0003409089576042101,
           0.00229731994081861,
           0.005740187879910042,
           0.004435120735492703,
           0.0037847258472830736,
           0.004014286565755207,
           0.004326591766547407,
           0.012444009440845304,
           0.022007087775186562,
           0.013888281926497574,
           0.0008307975814996945,
           0.0022694138869985537,
           0.002163650117399346,
           0.004187875667744999,
           0.0002134991147702963,
           0.008069552551214148,
           0.0017913393362564687,
           0.0011268789707294948,
           0.004694262567571539,
           0.0016139343699938182,
           0.0001390284492471691,
           0.0021675877309670923,
           0.005072486768444382,
           0.002350195925036845,
           0.003221306837154853,
           0.00803659838446659,
           0.0064132000809329045,
           0.009798015529558666,
           0.0001291929005262475,
           0.0005678680366425667,
           0.011762915481943468,
           0.005997621556784886,
           0.006638956634178702,
           0.028379658684867796,
           0.013461151502429679,
           0.0009392690974119152,
           0.013422220197458182,
           0.023886682386626758
          ],
          [
           0.004402793927153974,
           0.014272497589433443,
           0.004080132859354492,
           0.006516803077989753,
           0.021423253554229978,
           0.01878063075940438,
           0.012356486106194343,
           0.015335589193408987,
           0.022966048898785844,
           0.015441354756884799,
           0.008710608620930557,
           0.0021487037112241326,
           0.00044746096318008376,
           0.002316034457326753,
           0.006992229196408924,
           0.003027232047673561,
           0.004954919234324707,
           0.007902946887894542,
           0.0065261476584307756,
           8.174120844060806e-05,
           0.004706677459686448,
           0.014699944101668033,
           1.871911741236695e-05,
           0.0061135442028090025,
           0.004211391644435094,
           0.004574099577667879,
           0.0018350463622297147,
           0.011295418709932495,
           0.0013102132140447626,
           0.0010685407358293506,
           0.003744768636872562,
           0.006715461059881777,
           0.0029301407388025343,
           0.002663922014116663,
           0.0025314631517589035,
           0.0017951678315503686,
           6.140508895614211e-05,
           0.0017470355230412783,
           0.0018579437893521422,
           0.009880650006883736,
           0.0013631129593993999,
           0.0002643696454545062,
           0.0084747312754099,
           0.005697844262273627,
           0.007399049344066708,
           0.04018232646404735,
           0.01928952140255346,
           0.001256198112018036,
           0.005543679017371583,
           0.017824012635234424
          ],
          [
           0.00733041593287927,
           0.018587906879892674,
           0.020041079240415254,
           0.0201152847839136,
           0.019654536634673397,
           0.012949132155068278,
           0.00768795116977339,
           0.004513642916041939,
           0.020999268110283166,
           0.021084693811030803,
           0.01480276957012184,
           0.01348330675055808,
           0.01782267853322491,
           0.01736322477740298,
           0.014393839265785148,
           0.00992261478909047,
           0.01127859564090207,
           0.018281023313037926,
           0.019580767021733333,
           0.015199421296680568,
           0.011594445110615893,
           0.009271631442994628,
           0.0014804692915469447,
           0.00406208634790203,
           0.004582291439618345,
           0.009564423831633343,
           0.008702911705097714,
           0.005304268015212861,
           0.000688828593860647,
           0.002458753932639318,
           0.0038712797072764293,
           0.0019208591400599686,
           0.0035727886104615757,
           0.004557873602965158,
           0.0023367208772671305,
           0.004757527348030511,
           0.005307222972360722,
           0.0006008324925398579,
           0.0011665437277666823,
           0.007052490931733611,
           0.004720612908124951,
           6.727545613548971e-05,
           0.004126883869005027,
           0.003947794907113625,
           0.0038698413376482927,
           0.040195535394648374,
           0.017077182572627393,
           0.0023096121403746598,
           0.0028614064141801927,
           0.005199240374972805
          ],
          [
           0.002735321101676954,
           0.013418961927529043,
           0.00536328317981634,
           0.0015526240854139624,
           0.004655162802019357,
           0.0055194502061983175,
           0.00376410602420735,
           0.0006101686301799654,
           0.013834877353035444,
           0.012642966318118587,
           0.003129227806716765,
           0.008494044139694632,
           0.01661289582845014,
           0.013632724818409575,
           0.004718031165077818,
           0.0030417029563941755,
           0.008818828946052213,
           0.013563620123264026,
           0.008892592677836784,
           0.010993920321407535,
           0.012103753196700068,
           0.004106594483854566,
           0.005571872625504667,
           0.025666174680452004,
           0.04251000361491644,
           0.03903003142542587,
           0.021708344432931195,
           0.005936601309695168,
           0.005207891166478738,
           0.003968478287582917,
           0.0006122802848194909,
           0.0003126950798083988,
           0.006261297086935173,
           0.005856583641085973,
           0.0038564449843176683,
           0.005988191676898252,
           0.009520303571867155,
           0.005412441862313105,
           0.004082097677368841,
           0.005156752135401721,
           0.004788837077191579,
           0.0027471738440800926,
           0.004336226276774472,
           0.006160924532830016,
           0.008186533255757241,
           0.025302225373824747,
           0.01101203167654338,
           0.004427717654495764,
           0.004715124071186929,
           0.0011243949940079427
          ],
          [
           0.004035785479623697,
           0.01285807929412793,
           0.0063932103988384,
           0.003918943060906295,
           0.007362688266322338,
           0.00945624150416629,
           0.006957289745846817,
           0.007552529060430047,
           0.011273952294047821,
           0.002532989290797317,
           0.001920210040150589,
           0.004692734366218004,
           0.007288416408994001,
           0.010268743758944762,
           0.008283827121407968,
           0.008597689626186877,
           0.01350258632864862,
           0.007052241417276629,
           0.0038759111189262613,
           0.003235663541788499,
           0.014238765696495653,
           0.017929784014538,
           0.0245643466103375,
           0.02280712867459907,
           0.009224116764226067,
           0.006670440874899403,
           0.0049269583811486295,
           0.003542618831143138,
           0.006529099211081525,
           0.0047263287880817675,
           0.004488144722156734,
           0.009688233141046842,
           0.006252270152138281,
           0.0021848672859235176,
           0.0029094203385975196,
           0.0018122988141794046,
           0.00148203184914009,
           0.004113298935670581,
           0.007081225352530622,
           0.01413219900054737,
           0.016979306901298973,
           0.00830596560996906,
           0.008970558637414482,
           0.0146532478514607,
           0.012072701699542877,
           0.02012968840649482,
           0.01581698592727755,
           0.012878997666704185,
           0.013532333938202929,
           0.0026129273738883228
          ],
          [
           0.010653467383960221,
           0.00945361562943691,
           0.005923993292456238,
           0.005356185461637934,
           0.0012647790673926027,
           0.0035615632830579965,
           0.005423111582930149,
           0.005138082840965009,
           0.005745398673730254,
           0.0016340353642301333,
           0.0003733595924211976,
           0.007729116373220081,
           0.008661601769161512,
           0.01041539192488269,
           0.004017220209303805,
           0.0009779810611004291,
           0.0005792941392391434,
           0.0012225329252115102,
           0.00033310686751124405,
           0.0006176016887529952,
           0.004692284674668815,
           0.010364508394898152,
           0.006374121310814015,
           0.0009356094618219579,
           0.00149663790239766,
           0.0003251743579991539,
           0.0021047871406909323,
           0.0019761218365281635,
           0.0025068770785878687,
           0.003704708160638249,
           0.012046199925038059,
           0.029535522773906316,
           0.014636330619893747,
           0.01038619166599761,
           0.009424514102339606,
           0.0049638205445561336,
           0.0014570781912489528,
           0.002601587837840371,
           0.00344980387159637,
           0.00920343212699363,
           0.012159855841411611,
           0.005331168719211172,
           0.007111314075903991,
           0.018668608706767127,
           0.023194783538728198,
           0.021553987287857707,
           0.014125375207048856,
           0.01729107184125138,
           0.026816490014855785,
           0.01078216357670626
          ],
          [
           0.01991408209733877,
           0.010373257104530124,
           0.014185764364331707,
           0.009261913323716437,
           0.004204347069424949,
           0.002270652084130331,
           0.0009033975456833795,
           0.002766289965721469,
           0.005842978245276688,
           0.0058829371073699874,
           0.003932871338114156,
           0.010783355802474179,
           0.006475828219661823,
           0.01081731393292763,
           0.008573698707944383,
           0.0030262833925282706,
           0.004291303918313405,
           0.005520990498309022,
           0.0023028038592612047,
           0.0005827543470389647,
           0.009980279504814695,
           0.021783996335123776,
           0.0186721234283889,
           0.008595345362674901,
           0.0017358994921520743,
           0.008162100353381737,
           0.006775343512881557,
           0.0045990625129749794,
           0.0010637736640454233,
           0.003893507154317769,
           0.00466365137848726,
           0.010374232243875667,
           0.007831887455654812,
           0.010530684783604609,
           0.00556929571822658,
           0.004220793572470163,
           0.00277875444285835,
           0.0037403183107937743,
           0.001925227656801959,
           0.0037916543759559176,
           0.007418713446431828,
           0.008027983296218955,
           0.006751916798489968,
           0.013627550850604096,
           0.023320479222677798,
           0.02413351206251251,
           0.013845651272707414,
           0.013093587021460275,
           0.029530837477164167,
           0.023812785567288053
          ],
          [
           0.0022517986941054282,
           0.007844203229568986,
           0.01372271485669477,
           0.0011215000132391534,
           0.0008633107576472821,
           0.006508691938664046,
           0.005939036324915027,
           0.004538523745563462,
           0.0007450303455401835,
           0.0015983630263059808,
           0.0029450035169478767,
           0.015928923785110276,
           0.020363483553019666,
           0.020595557055838588,
           0.010893081040511308,
           0.004832552260287168,
           0.0001287068485801319,
           0.005398469494913755,
           0.005269145568847514,
           0.0036234950795717784,
           0.0006514408282546388,
           0.0022117602251664095,
           0.005490098869328547,
           0.002186811714526989,
           0.002903496780689303,
           0.0054954091703129145,
           0.002725404507111828,
           0.002327218044869494,
           0.003436907932411734,
           0.012883821093188391,
           0.0028338668065680975,
           0.00047639597829866133,
           0.0006566904861569942,
           0.0009037557051867608,
           0.0022557494601522783,
           0.0016772967517847109,
           0.004723891767629905,
           0.00877505499392153,
           0.013826406995058804,
           0.018108813980069895,
           0.020691338111399487,
           0.024455839736555362,
           0.012777169625565746,
           0.016883083240161786,
           0.01606575327406297,
           0.02395771795955875,
           0.027204689438805756,
           0.008125438421577593,
           0.011451165249047133,
           0.022448787936876352
          ],
          [
           0.00500507802307809,
           0.012474062108904702,
           0.014213937395883813,
           0.0051861041122774326,
           0.0069975859239648185,
           0.007366052033209983,
           0.01034533847775922,
           0.010001082980082527,
           0.003280302003074843,
           0.003710951680705598,
           0.007172086547753231,
           0.004729769357804289,
           0.004880676221522778,
           0.012556580094199448,
           0.003932137188542881,
           0.003625809522799,
           5.047798110557211e-05,
           0.008595536888371023,
           0.004881201534635661,
           0.011807335357138137,
           0.013745062189280703,
           0.018332101998159565,
           0.012171935732997586,
           0.01500472311747622,
           0.007013268817516684,
           0.000419438034978059,
           0.0019879237717618623,
           0.0010558006104270249,
           0.0007282123692000904,
           0.009085972481927683,
           0.0020037921661420956,
           0.0013010615976887848,
           0.0008549486361723344,
           4.8746305049584046e-05,
           0.0029478808289988855,
           0.0064928462336190885,
           0.003499193452235567,
           0.004514641206020073,
           0.008688835518853227,
           0.006359680781817231,
           0.0070834129692014264,
           0.012433534329412988,
           0.01190247764665464,
           0.026432527647143492,
           0.005969157539393052,
           0.01233904439105754,
           0.03451121486427623,
           0.008287025982250309,
           0.00715350044108452,
           0.018867174650150018
          ],
          [
           0.021302000550019157,
           0.008846049506562313,
           0.003071710842522891,
           0.009727438633927242,
           0.017726176994993882,
           0.007260708058748169,
           0.007186474983850834,
           0.0040341272040253316,
           0.005078475779477549,
           0.005132443598904478,
           0.043585609131863774,
           0.040336795528636706,
           0.024659927398555458,
           0.011430985602777596,
           0.0031621940762276385,
           0.0023841481040811747,
           0.0036876138582074844,
           0.012089222796540901,
           0.008514409384810007,
           0.007511725583171548,
           0.010943009164935584,
           0.01018416078417552,
           0.006220018837117162,
           0.006203589217867083,
           0.003059720374958843,
           0.0035450141563954964,
           0.008178345090600168,
           0.00541771625812064,
           0.0015473870952811167,
           0.004192317751959151,
           0.0031443187901084623,
           0.005338509810517638,
           0.0031642624923672617,
           0.0006666604525621471,
           0.012559073060719593,
           0.013093331687510144,
           0.012817665527218082,
           0.012800882228815515,
           0.005552554164285508,
           0.0008270732343083531,
           0.0011472921019232217,
           0.0027730146329820607,
           0.007908798279014976,
           0.02727470730586563,
           0.009260610551867582,
           0.012396781450873718,
           0.0292226450187036,
           0.015662464601156764,
           0.008458352267060185,
           0.02259482861539046
          ],
          [
           0.001977943644566488,
           0.007540890949466331,
           0.0049010214481902,
           0.006144222235078472,
           0.004412286911327055,
           0.00025073381176160694,
           0.0027455785367737646,
           0.003245640938034488,
           0.00902378146657279,
           0.024624148717806743,
           0.020181144023428355,
           0.003731798382932705,
           0.0033350915833764215,
           0.007046064305945459,
           0.005357940240735576,
           0.001131992643676483,
           0.00047690143042444826,
           0.010709739829266809,
           0.028294340169074915,
           0.015331065888143758,
           0.0033919077478517115,
           0.0021577842641972616,
           0.0012024363842125488,
           0.0001598227117219843,
           0.0008819558132790035,
           0.0040381273325805975,
           0.011446838687977171,
           0.006594812069131088,
           0.009222228926561498,
           0.007881991003664993,
           0.010343793409965114,
           0.012058842568182638,
           0.012899262157315544,
           0.003124060340743582,
           0.0027559048509003896,
           0.000842095656636087,
           0.013455382405233186,
           0.01688531542906757,
           0.012257465958814457,
           0.004709796331285437,
           0.0013422915220826157,
           0.00017353622081117825,
           0.002662642774167793,
           0.015225424203725052,
           0.013245546877601082,
           0.015542829538115513,
           0.016960704249937984,
           0.023895874054453755,
           0.02923311074466442,
           0.015176704014619676
          ],
          [
           0.011993376366248122,
           0.02864998240723999,
           0.015993166349405164,
           0.0026603881486314176,
           0.0007452918154914997,
           0.0012533510689807538,
           0.007245022160916874,
           0.00821766086246889,
           0.022043539647026694,
           0.024259935101907985,
           0.0012678564020091126,
           0.0032179775388884186,
           0.0013715930600786135,
           0.005338206155646611,
           0.0008879493715608747,
           0.0006672281226019201,
           0.00131603962534511,
           0.003717115800917336,
           0.011380973870558496,
           0.0038359441234368753,
           0.0024735295372118383,
           0.005153948011047743,
           0.0060650819571205624,
           0.0023353142339339605,
           0.001539608847203719,
           0.007277064604280393,
           0.012291054660553833,
           0.003715165158188009,
           0.005360624576176656,
           0.004878886642091917,
           0.004164083258406402,
           0.002548609942408801,
           0.009676256480770631,
           0.0035759365162824166,
           0.0017673166492821746,
           0.005520843288048045,
           0.012437910818398326,
           0.0027520206403294275,
           0.014048207992644873,
           0.003937436184408062,
           0.002738294633364146,
           0.0044071562552712796,
           0.0024013283004115766,
           0.008347899132857491,
           0.022843250275735326,
           0.028104967346261247,
           0.015677777259321936,
           0.01764679554501607,
           0.015096089347617338,
           0.007285735303066856
          ],
          [
           0.0028001914131973666,
           0.024857309518413598,
           0.02331198501727922,
           0.008443835251420966,
           0.0034917746772390305,
           0.0058089448676508035,
           0.010501110110471723,
           0.005876478324953028,
           0.005395666399145067,
           0.0042430780952807425,
           0.0016206457083891058,
           0.004101390582139543,
           0.002613596402591288,
           0.00034388656024966497,
           0.0003843269800996197,
           0.004172854448065418,
           0.008787953387978187,
           0.006632593679903729,
           0.0012196022084272804,
           0.001895679206183528,
           0.003163956598232553,
           0.00821222727753203,
           0.001914382059983229,
           0.0007259997226220657,
           0.00092764500437553,
           0.006896082729974793,
           0.01347468070492031,
           0.001828500290040304,
           0.00036001655319213246,
           0.00038822831454664937,
           0.000501482388108262,
           0.0014393600321642645,
           0.0022463419776188893,
           0.0022006760353543257,
           0.0029965042934627113,
           0.0030240699688894195,
           0.004221072208693853,
           0.007054864899201018,
           0.013883719303608079,
           0.0009848530969794947,
           0.0023852263286052388,
           0.0024787918158840254,
           0.002040918482291706,
           0.0109629497407387,
           0.018240845573504718,
           0.020366872941329897,
           0.014240601746129653,
           0.012038883709969462,
           0.015418741958025527,
           0.02070247167630957
          ],
          [
           0.0014699915525792195,
           0.010014081853555385,
           0.022734171905781905,
           0.021762030301292434,
           0.00648778276356611,
           0.0006012324307062601,
           0.00449421563099709,
           0.005013311961942141,
           0.004400555653024651,
           0.00664119926905171,
           0.008804067673136209,
           0.012089424986876946,
           0.007672456049175001,
           0.004155865791350143,
           0.0029584581194951258,
           0.004319523240179472,
           0.005749408329731461,
           0.009241470832267375,
           0.0030770271994653145,
           0.0025299639947773817,
           0.002563151813966532,
           0.009627006219067522,
           0.0008451538591150219,
           0.0023911128844393333,
           8.243876725924333e-05,
           0.005936214235416564,
           0.008988852458413714,
           0.0011248791197996015,
           0.0015879882409106406,
           0.00163436123472903,
           0.0015980847026854101,
           0.006558214017108334,
           0.0020268782402524596,
           0.0032272136614318,
           0.005122420089557352,
           0.008161819649500163,
           0.0006826870807026933,
           0.012316392520842533,
           0.005555663079868913,
           0.00013368493548570262,
           0.0031842526027017802,
           0.005777438244341415,
           0.008256258533132542,
           0.01138413594421765,
           0.00826946580036079,
           0.015628567386781034,
           0.01836315274844403,
           0.015266025144359398,
           0.028589200412153168,
           0.03612937801333997
          ],
          [
           0.009621752878485237,
           0.007387758135887306,
           0.01980526055556563,
           0.023853869413327764,
           0.006486736155606699,
           0.00023952469801253066,
           0.0010707113057713293,
           0.004287006430623588,
           0.0014873611345166493,
           0.005365393995708963,
           0.006865584151595523,
           0.0003079564781547951,
           0.0018773234878707574,
           0.009544448801014389,
           0.0034613839653456547,
           0.0012403325703443245,
           0.0018881950283532076,
           0.005341458007840433,
           0.0023644457466033926,
           0.0021363643481241076,
           0.0014052956149169715,
           0.007145709372948574,
           0.0004644874190480611,
           0.00026971009914266087,
           0.009582831323196903,
           0.006075014876962282,
           0.0007965320677999882,
           0.0011061485519273725,
           0.0002091419914025582,
           0.0008443607810463326,
           0.0024394498156145848,
           0.007583725357322889,
           0.002368315156266963,
           0.006028447516523701,
           0.001885358749690835,
           0.002156700329073563,
           0.0077253292068069045,
           0.0060212758391447576,
           0.0018084166885008774,
           0.0005578183086303169,
           0.004308400320308516,
           0.014232146884900015,
           0.022526220282470366,
           0.017662780578508726,
           0.012247321074104405,
           0.01670302346376494,
           0.014659165546149768,
           0.006951311759196163,
           0.01814686805986904,
           0.025987354234663584
          ],
          [
           0.008534095919595898,
           0.0005808183236098764,
           0.012903242653499352,
           0.025500287940614576,
           0.01480641564953801,
           0.004590837203630045,
           0.004056946641716957,
           0.005375806014351597,
           0.000963365973700119,
           0.001968348466343802,
           0.0057154640072054645,
           0.004418709751103603,
           0.0064574629278356215,
           0.0058317104573486055,
           0.0015834835468440925,
           0.0006859083792288424,
           7.900393619680949e-05,
           0.0029090522670353063,
           0.004939183360727331,
           0.0009792382353743633,
           0.0022391232375745425,
           0.006762693212975706,
           0.0010919415160819419,
           0.0017674329594725947,
           0.00656839759179017,
           0.0022470946443733154,
           0.00013508435287867962,
           0.0005732980347462296,
           0.004283689381394689,
           0.0005700440363835271,
           0.002916546716521973,
           0.0016566845326735102,
           0.0007081888491808661,
           0.0019430023996515186,
           0.0010179195427346664,
           0.0025138099424937563,
           0.0005707394668915876,
           0.0022133745685002735,
           0.005307508074784035,
           0.004883327507032677,
           0.001453788791844073,
           0.010864235016742642,
           0.021312264066417733,
           0.014493245811829359,
           0.0061643183064749585,
           0.0031950336384399714,
           0.0092053749024088,
           0.008401246564978012,
           0.016383126729834455,
           0.032569099624662395
          ],
          [
           0.015131963342225196,
           0.0033752430547055135,
           0.010409660364356275,
           0.01981079047087956,
           0.017814504577253493,
           0.016279921483216754,
           0.011966276134580144,
           0.00785755902155497,
           0.0025384283257159504,
           0.0023617499504123914,
           0.004107782332411952,
           0.005923062712503191,
           0.010870178459491677,
           0.0004289345390273549,
           0.0052497813019629185,
           0.00033507631014779386,
           0.00033044092954096773,
           0.0007835879426849088,
           0.002277047764061016,
           0.0029082909756013436,
           0.0006420022450213383,
           0.0013188085126886497,
           0.0013375330724639267,
           0.005371834004582982,
           0.003197626265650105,
           0.001837027614955814,
           0.00039379970152034617,
           0.00011591057289020158,
           0.0012146084793267576,
           0.0009087178292644343,
           0.000303511677123706,
           0.009096743005333066,
           0.006801139700300974,
           0.000856359908187569,
           0.0011392942545793417,
           0.003344011569488942,
           0.00016695382319653086,
           0.00041637252454831416,
           0.014805827003459827,
           0.015487373118811267,
           0.0012816633919791468,
           0.002490473427615293,
           0.01585812264686648,
           0.02030759896794997,
           0.004547642166285223,
           0.0026003969861230674,
           0.01165631890987459,
           0.019768041488729987,
           0.01707964266798871,
           0.02289797818684991
          ],
          [
           0.05079288539709874,
           0.001181240642254583,
           0.005020026604856919,
           0.011597811274821008,
           0.004025682413743365,
           0.012494460603167255,
           0.013231800034867857,
           0.005899680533168314,
           0.0033816230252620037,
           0.0013453138413730603,
           0.0025767761683308,
           0.007328209919787422,
           0.008408478012200979,
           0.0005537579951738726,
           0.0028286917703719008,
           0.0014636863028417517,
           0.00021125155274935201,
           0.000523042145055186,
           0.008314845139849886,
           0.008569574570865629,
           0.0013236957699167978,
           0.005579881409994593,
           0.003095920053251428,
           0.012814587514417145,
           0.005357387980218516,
           0.0032995646528806506,
           0.0006832388031013921,
           0.0012578908256273735,
           0.003953989886360393,
           0.003476606130867109,
           0.0017878402960954513,
           0.005955212922832027,
           0.0007466455259606115,
           0.005957180202710945,
           0.005819834400083918,
           0.005619243771512199,
           0.0025788952472056586,
           0.0021334663603106247,
           0.007441415974831059,
           0.009964369441067832,
           0.00032587876732512806,
           0.005945971825500338,
           0.01964707049995721,
           0.041628510065155166,
           0.01284269088586219,
           0.0024722768728046357,
           0.009564364746291031,
           0.023306656686681602,
           0.025740804731570786,
           0.030617259080365777
          ],
          [
           0.05852613814041585,
           0.00032026408527221,
           0.0025567813401079025,
           0.011262119283991193,
           0.0024252233002457764,
           0.011375488357187345,
           0.012948331716800997,
           0.006145049521109625,
           0.008135088670475568,
           0.0032383391884829174,
           0.0004681423581897284,
           0.006185765978442728,
           0.013310163068699645,
           0.006505149554000674,
           0.004783487387598004,
           0.008696266777664432,
           0.006021330874594677,
           0.0018257696754539654,
           0.0017261689338749775,
           0.0060342403101629714,
           0.00033813089452536374,
           0.005436483686959947,
           0.0013299796306127595,
           0.01172202254286549,
           0.00854204649157758,
           0.005516669790113005,
           0.001924676848276887,
           3.642786201120292e-05,
           8.704779313719616e-05,
           0.0001758368423845728,
           0.0004265541541806498,
           0.005909327268423521,
           0.009133416907649383,
           0.0016470874022827043,
           0.00025567416617170254,
           0.002577601078378296,
           0.002715694938127834,
           0.004062799958615152,
           0.011417041721695272,
           0.020879007973182383,
           0.007855834005201066,
           0.004185939985824125,
           0.010508704682176146,
           0.03874912708791267,
           0.01544178504684322,
           0.0035402035330001505,
           0.008618672012907263,
           0.02676150058004578,
           0.04022362997920959,
           0.04032904914688032
          ],
          [
           0.030244635645463536,
           0.0033905628182995156,
           0.008374871352912303,
           0.00967285499009586,
           0.002480075224200599,
           0.005635099982233847,
           0.007524054431983892,
           0.00660845609011176,
           0.012561265655149374,
           0.006454519347835098,
           0.0008165400818103544,
           6.919397011723732e-05,
           0.0025038112002673005,
           0.004028136397106016,
           0.004699675493156306,
           0.003496165562030081,
           1.501502454423615e-05,
           0.004999871565053245,
           0.0020636061764533176,
           0.01942508504536137,
           0.01767966250330607,
           0.016781313381935618,
           0.006743236568910375,
           0.0005841592146351237,
           0.003472964356409652,
           0.0034286457464882186,
           0.00343413153290034,
           0.003097540514293572,
           0.0014954340444323531,
           0.003113840528932923,
           0.0009254170625237348,
           0.0032027041941509867,
           0.0016774770328346978,
           0.002298454166702305,
           0.008631961648390467,
           0.012034474597079426,
           0.004869397676025828,
           0.0006383969158424105,
           0.0014522541287594975,
           0.006264513871199669,
           0.0027156077501279724,
           0.0016107619450982126,
           0.010382529583318936,
           0.012932007603734457,
           0.00986604803433328,
           0.004580047706632087,
           0.004327070555002999,
           0.0031399540631219043,
           0.017140945103726837,
           0.04701676022305359
          ],
          [
           0.018874544481392443,
           0.02524879112735476,
           0.01722859021944508,
           0.010547735694043214,
           0.022196366907569005,
           0.018070465124297604,
           0.004798484906926552,
           0.009475522702678265,
           0.023280770269402586,
           0.014817246105510332,
           0.006804221483333937,
           0.0030072643508857588,
           0.0005484188856991191,
           0.0015832978517801425,
           0.0012825318448170808,
           0.006316557043483801,
           0.0038588136338316087,
           7.960634479051089e-05,
           0.0031088804935035814,
           0.016548473993746524,
           0.004206142967663014,
           0.0016742410052435555,
           0.002083664401333695,
           0.0009613460728681708,
           0.004274677178828925,
           0.003911326412318675,
           0.00042492053346445237,
           0.003175910165454164,
           0.0029695819866934494,
           0.007436144488111192,
           0.0049719042026119195,
           0.006270721711713485,
           0.01628471813469782,
           0.013211967097138382,
           0.005544312200873501,
           0.007081217095085691,
           0.005720890453512739,
           0.005913126487986907,
           0.007969664387314128,
           0.014930254358597305,
           0.0043815925903878325,
           0.000965061918523626,
           0.003551471707545118,
           0.006671339016312804,
           0.0077789260773374015,
           0.0160404336684284,
           0.006938380085542156,
           0.0001706942466487072,
           0.009008501149038632,
           0.026659763266384705
          ],
          [
           0.027380356824371146,
           0.021214106807530202,
           0.00598471940837432,
           0.010486803787969599,
           0.03685680900263201,
           0.017853190529950907,
           0.00555096813764227,
           0.01571287152803199,
           0.03907727990656314,
           0.015400044770167296,
           0.007131482909718214,
           0.006096566625627789,
           0.0014953702003858691,
           0.002566369478592011,
           0.001799091816615424,
           0.00048573340825304586,
           9.75286242756052e-05,
           0.0027595811057477765,
           0.001191563387869947,
           0.006607003016187794,
           0.014643697059831524,
           0.003502509721265104,
           0.001129236473685566,
           0.0012018263689371025,
           0.0017634011526310187,
           0.0024982808815167093,
           0.0032337960904348846,
           0.00799732815317639,
           0.004204969180946403,
           0.0002962507987508413,
           0.0024367215360982103,
           0.004561362693714934,
           0.008692183906165342,
           0.001284094986458771,
           0.0025569888968953107,
           0.0018954920240926028,
           0.0012342511778456584,
           0.004838303352375438,
           0.012561011671323147,
           0.0155731208137284,
           0.0016133583869430339,
           0.00067990103707454,
           0.004517480094359992,
           0.0018036670554851771,
           0.0017447639050492726,
           0.012023393777650757,
           0.01158606501488995,
           0.011875632611468633,
           0.03288136130182588,
           0.011136325653313814
          ],
          [
           0.007876775950619409,
           0.0018620877594483299,
           0.006217415743818124,
           0.01369725482941458,
           0.01043456586267839,
           0.0011442377468459852,
           0.001703783772409719,
           0.024931881724513813,
           0.021979124237761036,
           0.0001654903348087961,
           0.00011460276238214672,
           0.005969206652167387,
           0.005907346156215251,
           0.0011736998938046053,
           0.0023413036851836566,
           0.0040444642643793945,
           0.003802881611978084,
           0.004007180569160789,
           0.0007844712980961085,
           0.0009560108186721776,
           0.0012903130790591637,
           0.0071656161155704435,
           0.0030946251002630758,
           0.0005991485069407425,
           0.00018338072520476993,
           0.0017793649583809775,
           0.004058301925990668,
           0.012084045108351803,
           0.01025674901360761,
           0.0036293147983440166,
           0.0005712247874594758,
           0.0030026197448112515,
           0.007680579251532007,
           0.016715607992859146,
           0.01423536719769089,
           0.015616222569108789,
           0.011247418235271048,
           0.0013081568590992342,
           0.008719715855573386,
           0.008135241106162957,
           0.0030896066082834136,
           0.0016088760966586834,
           0.011297146716822054,
           0.005535545329899896,
           0.0010236417612287823,
           0.002025271207391069,
           0.010684785697908053,
           0.03477152877011222,
           0.018802780025448017,
           0.00253483175152293
          ],
          [
           0.003094170402171116,
           0.004805069688931635,
           0.022336074502031147,
           0.008260522047223232,
           0.0015178665213305288,
           0.002917244167327618,
           0.0043391888947568475,
           0.0191046006688334,
           0.011889420368574908,
           0.003303095527334346,
           0.001066337569526187,
           0.008257883132994468,
           0.0015455170437968459,
           0.0009986114615827258,
           0.0025667027619962713,
           0.006296585824467541,
           0.0038888022615389223,
           0.0009326058121167249,
           0.0013265781310879898,
           0.0026754580238623066,
           0.000911402291662881,
           0.0015059125079818385,
           0.001283377144891388,
           0.0012904237345974995,
           0.0011693340322862804,
           0.0014556232381331404,
           0.005034254134102899,
           0.008626912218044949,
           0.0019674240939193677,
           0.000414369868674254,
           2.6722396000187847e-05,
           0.0016632772750301364,
           0.00856395515938922,
           0.0010563806583193532,
           0.0003656107132844678,
           0.0025130090512501674,
           0.005076886294511678,
           0.0026368601294671245,
           0.008778505945496447,
           0.007392003008725063,
           0.0005065623161259561,
           0.005289400221466303,
           0.013232629494638498,
           0.0068705856531808725,
           0.00505819599322488,
           0.004736959657773389,
           0.013074825401246413,
           0.01439421863728138,
           0.008571846607683953,
           0.009663178465526882
          ],
          [
           0.010364849657061859,
           0.018924163095327965,
           0.0188974663470147,
           0.002558644072824917,
           0.0014680392826332716,
           0.0024810878276397396,
           0.0003807177424882299,
           0.011497781225154326,
           0.01661901779348123,
           0.00433691333336716,
           0.006417631712357144,
           0.0013582285371133967,
           0.0001425226032085281,
           0.001218973169580411,
           0.0014324852674346754,
           0.0014225057086415577,
           0.0003261604165905126,
           0.0016970945210119032,
           0.00047168765489221504,
           0.0051230995703773815,
           0.0015303146342965656,
           0.00040686064857740033,
           0.0016607191095940367,
           0.0002903714607776746,
           0.0011381236959636977,
           0.0012949866610330765,
           0.0039005636681228007,
           0.013305397515586672,
           0.02327083435518952,
           0.016817377897389196,
           0.009115980499933313,
           0.006639059505516662,
           0.00448775236359888,
           0.004543018799564047,
           0.002661365785113599,
           0.004750830003039204,
           0.0010035490491085207,
           0.0027924622037745596,
           0.02087683044988802,
           0.019594709048170005,
           0.016896247066812052,
           0.030290241333529932,
           0.020703061741195204,
           0.013829731346958713,
           0.018295680166132745,
           0.00778080668634645,
           0.00013036942331844185,
           0.007209475108774954,
           0.004844756794683511,
           0.006860869508720507
          ],
          [
           0.03094032964643277,
           0.039242313588681056,
           0.029754996917466487,
           0.013942021390779852,
           0.008952376574247464,
           0.0026966692804637564,
           0.0005655495833809233,
           0.009633371980316103,
           0.012687798460787781,
           0.0035946468188569752,
           0.0028636445066772065,
           0.005889521148448336,
           0.0026480502868270663,
           0.002847102989289406,
           0.0029274359616668047,
           0.004330932991946256,
           0.0035916194837137573,
           0.001084695205483745,
           0.0005465429693751318,
           0.012266066840443828,
           0.0074224805143567295,
           0.009706424816672585,
           0.01253431532295126,
           0.006915753055436642,
           0.008357851829145432,
           0.0019665777904657707,
           0.0019669480743428557,
           0.0018767966229956343,
           0.011204881891361988,
           0.012730583821679712,
           0.011371536308794655,
           0.004715765428155101,
           0.008249664465973203,
           0.01938826101348887,
           0.026334233479062604,
           0.014314848497950047,
           0.011954586377074918,
           0.025057681743911524,
           0.044801891891680726,
           0.022624437186626115,
           0.015941509723505835,
           0.021132232867708482,
           0.008404822880039915,
           0.0020668371867069565,
           0.005491294263544347,
           0.0032505559959209378,
           0.001633147182247072,
           0.011129383136311745,
           0.021141240303189264,
           0.01857254414275694
          ],
          [
           0.015121381386001184,
           0.029608274392281163,
           0.026539562220092655,
           0.012132132686868743,
           0.013535191266304623,
           0.01618056453563799,
           0.009664571277375853,
           0.020055201637985548,
           0.013072945448797425,
           0.015942137913393526,
           0.017403923657862194,
           0.018091350995096324,
           0.013226991108910685,
           0.013414868883166564,
           0.0022184765350520227,
           0.002866847755726238,
           0.008033103719810064,
           0.00254131164573692,
           0.0015374459810580125,
           0.011142148565456105,
           0.0023564386333062197,
           0.001447434500933494,
           0.0009555737752076568,
           0.0031419987521597694,
           0.006161336416231707,
           0.0007824128215470655,
           0.004911866688068688,
           0.00596567904392872,
           0.008897909186774026,
           0.004385727728650115,
           0.0020162261377367433,
           0.0008828050010609381,
           0.0042565260536123525,
           0.013101458619978903,
           0.016076646793207926,
           0.008521168631078126,
           0.016627534343040436,
           0.03690169487814475,
           0.028135262967023858,
           0.012852116430657156,
           0.009981348414831313,
           0.005009289768816923,
           0.00038595395429483393,
           0.002938034020045989,
           0.006766451525906471,
           0.017904780869956744,
           0.023834196961702414,
           0.02921991293387437,
           0.02901567462106333,
           0.027871347051137432
          ],
          [
           0.009851912172108832,
           0.009057084894392033,
           0.01846863615815402,
           0.012195501113272887,
           0.002576169559490984,
           0.0013012505673664558,
           0.004097362378412764,
           0.01972778819193766,
           0.024329570068469336,
           0.015530032630259084,
           0.010985652760648187,
           0.012520713326121419,
           0.012964256226496244,
           0.021683943870901674,
           0.004450088566277387,
           0.005117856400014006,
           0.0030419011040181574,
           0.008668592540292494,
           0.0030432928252366815,
           0.012235489719511283,
           0.006751217333044661,
           0.004893042790418385,
           0.004416063135689824,
           0.0006762224071878417,
           0.0019836706072998596,
           0.002536149067722529,
           0.0013671610248951428,
           0.0011606183464153126,
           0.007293780350031438,
           0.010122815125959563,
           0.005298826217076271,
           0.0077818077940541575,
           0.0008352523464780058,
           0.0008658555996769828,
           0.0017832740821010962,
           0.0005103854434715785,
           0.008069525655820912,
           0.008238149225276756,
           0.0016320001413882167,
           0.0031641939213113827,
           0.004141396254066179,
           0.0013259909337700053,
           0.0012196879996330722,
           0.00339588353709626,
           0.033311551434414076,
           0.06035510788817203,
           0.028376626063521378,
           0.009427211484337875,
           0.016276050450330024,
           0.028145579259127577
          ],
          [
           0.019876039268270154,
           0.0038175836089369545,
           0.010898816577512346,
           0.013495940907348545,
           0.00432805319261295,
           0.00172977470584981,
           0.0016867496224146263,
           0.006777411769823756,
           0.008904294900941146,
           0.01235097431170501,
           0.022009827487007853,
           0.019335638964085296,
           0.016306867300189265,
           0.02556861207199696,
           0.01846740127514194,
           0.016518258346889483,
           0.009150333576174681,
           0.00045948005067168924,
           0.0036454453974452583,
           0.0033324751758876526,
           0.0014419389758922208,
           0.002624354799483057,
           0.0030663138989033716,
           0.0011425591130298548,
           0.001938214406971433,
           0.002036498450779746,
           0.00589043034057823,
           0.006694865561698643,
           0.003454775399261145,
           0.0048092864035654504,
           0.001193830887596465,
           0.0011467108635181012,
           0.0016570046396850672,
           0.003975050833471225,
           0.002414321918104615,
           0.0020282386256431683,
           0.007395708994818195,
           0.007258386694421252,
           0.007033891769750299,
           0.00890695143019434,
           0.0057262707958373,
           0.002657930316325373,
           0.002227131555955984,
           0.007963468545183018,
           0.029106005699818204,
           0.020773373540134338,
           0.0007052919876092587,
           0.00036221749872156846,
           0.01412331563529716,
           0.020113959908513685
          ],
          [
           0.04170155733953994,
           0.011794240370455596,
           0.013190059423889237,
           0.004174433634882844,
           0.0036828173736325742,
           0.004827214521218466,
           0.004908202556902533,
           0.003152107916820308,
           0.00448953892643552,
           0.008415551388693574,
           0.02208855901419946,
           0.0076513767916660804,
           0.016137306844621495,
           0.011686926642935115,
           0.017354155020344115,
           0.022118718408169622,
           0.008308890790447441,
           0.0035023013626763744,
           0.005502096845211397,
           0.0014577930313451012,
           0.002581628878092449,
           0.002993574890715537,
           0.003031323267013911,
           0.007808356852499042,
           0.0008827137932857142,
           0.006611955456969537,
           0.002459120982946301,
           0.0013332279660260651,
           0.001482046236765877,
           0.006000008445687749,
           0.009301176309941424,
           0.009620000240259271,
           0.005064650698073811,
           0.004258560610653757,
           0.002910357908507631,
           0.0028296776181463723,
           0.007545251928749851,
           0.005734293972103705,
           0.005548792990504021,
           0.004637675151408083,
           0.0015131417017566627,
           0.0037783939839760193,
           0.0006406547707294094,
           0.000821748823391025,
           0.015095234776608487,
           0.023863363233650445,
           0.010756421436974056,
           0.007141492407966149,
           0.008583948777731231,
           0.014905201824202782
          ],
          [
           0.030883975229824306,
           0.008101097475284634,
           0.016139332533819044,
           0.0034303132966879996,
           0.002410244212824239,
           0.0025247888695074288,
           0.0001176058963544507,
           0.002475003644976447,
           0.003995471087295764,
           0.0028879919098537907,
           0.0012600061194190135,
           0.004723870089611204,
           0.007574908828314463,
           0.0004665888928248852,
           0.007981316360911166,
           0.008618433563357895,
           0.008751996928209951,
           0.013269344282210738,
           0.016794115891754717,
           0.009859664662419458,
           0.009198228154877171,
           0.007631385160112025,
           0.011098348143367272,
           0.00783590086860357,
           0.0075006200821605045,
           0.00827090348351082,
           0.0005525832516960399,
           0.004878312803958654,
           0.000867122861764074,
           0.001897672586105134,
           0.0031314068796223058,
           0.001580146639703045,
           0.0009928516045786086,
           0.002504558186005393,
           0.0034141662765436245,
           0.0030164322229928368,
           0.010296982799620436,
           0.006168598622467383,
           0.00954659829248551,
           0.0051947744872169145,
           5.845088815714625e-05,
           0.001945999890393764,
           0.0033966957629438105,
           0.003378472355527847,
           0.012553438487662714,
           0.011277638750525638,
           0.012749326607261757,
           0.021237644170388523,
           0.005497586881980961,
           0.010723699685472769
          ],
          [
           0.025420226836262536,
           0.0085304719038705,
           0.0133107469601753,
           0.0076546152215326655,
           0.001326037021668998,
           0.010120742894086496,
           0.0020008098922039475,
           0.0027955239360129324,
           0.006259939807233897,
           0.016171818072648343,
           0.010492284459015079,
           0.00242297814630862,
           0.0009805280810788876,
           0.0006550575943810287,
           0.011313791732346343,
           0.003507000790409281,
           0.005182699953262383,
           0.0038750196248228557,
           0.01001109654113432,
           0.004240802594083544,
           0.0032071913173172045,
           0.005420678070123158,
           0.014506074589625573,
           0.017550704792264664,
           0.02604506820079736,
           0.006632933965258752,
           0.0076816484130809584,
           0.00353925305814663,
           0.0011752940256473643,
           0.00015526342970405076,
           0.0013165482408861093,
           0.0038433933917157823,
           0.006738685270463389,
           0.006018439509330149,
           0.007352931256619591,
           0.005246305076856871,
           0.003486918349325833,
           0.0025624978953290023,
           0.010141874269041767,
           0.01022000681207851,
           0.002765674686222566,
           0.0044315848567586255,
           0.0025850550754817994,
           0.004041130769073872,
           0.020473042734870054,
           6.756310717238536e-05,
           0.002580393892935487,
           0.027152746494569942,
           0.011324939231078702,
           0.010347461983546347
          ],
          [
           0.040966390942544735,
           0.012552989989255204,
           0.012383106500370562,
           0.004249553250397971,
           0.0022053187332412632,
           0.009963576237990272,
           0.001769414080949801,
           0.0008943223136791293,
           0.005593005534595006,
           0.006969062439228524,
           0.0003356185489750914,
           0.00018816716684328755,
           0.003389023285567289,
           0.005059647771821242,
           0.0030803089764468963,
           0.0018956142543896954,
           0.004955454153898189,
           0.00789148306548828,
           1.469402696088232e-05,
           0.00043123521773601203,
           0.002661633718158814,
           0.0001309276252785919,
           0.0038365805043132657,
           0.013857667672893169,
           0.014167262858588147,
           0.006470825198856827,
           0.011746604186515288,
           0.006866861415767712,
           0.002728882923236729,
           0.002841587234623171,
           0.0054831923942967944,
           0.0012357177827405025,
           0.0008265860811315787,
           0.0013885942971841301,
           0.011731085284322068,
           0.006569780254729098,
           0.0018457963910624804,
           0.0004317976076484031,
           0.0020923111789249173,
           0.008102137578557999,
           0.0009611893710347809,
           0.0021605714777424216,
           0.0029156543323885474,
           0.006881261236194019,
           0.02092861492959017,
           0.005456435542872704,
           0.009657343123292394,
           0.03377523283185276,
           0.016294142881622987,
           0.0033328871198475187
          ],
          [
           0.045553393092196304,
           0.023389500564060202,
           0.02363226577439798,
           0.01364376164499115,
           0.004845372045828623,
           0.0028831075080790304,
           0.006475272007449934,
           0.005463221210782988,
           0.011851478399348405,
           0.018282279140172563,
           0.007768564724312259,
           0.002501984482469879,
           0.008829788090336169,
           0.007866946357883849,
           0.0003145547831177326,
           0.001027094319222835,
           0.011704213037209617,
           0.011686578397019757,
           0.003425293656492102,
           8.813121019984554e-05,
           0.0027579275585694675,
           0.00011957374390026015,
           0.004745353248262276,
           0.012811712354080991,
           0.010464276473124624,
           0.015333679276439667,
           0.032662295737289626,
           0.03143699040296587,
           0.022316068761435517,
           0.03310509157480689,
           0.04289542986146724,
           0.021906169174764793,
           0.010163544806886811,
           0.0015940614563224298,
           0.006391075176714027,
           0.0014004838389023305,
           0.00640723762506004,
           0.011458017066773664,
           0.005209859767422231,
           0.0069791780940628295,
           0.006793976912473215,
           0.008487572013524845,
           0.004795184375478624,
           0.0008871776091768575,
           0.009620334459553,
           0.003479261858821831,
           0.022730003452080087,
           0.04723629784106951,
           0.006940027876518562,
           0.0016721692094257422
          ],
          [
           0.02537689985464027,
           0.009857811017504233,
           0.014251026128443686,
           0.018475849830146714,
           0.008438159720656126,
           0.0097625853245665,
           0.018989942277769012,
           0.012573262193744526,
           0.010275924834834622,
           0.010277049210579986,
           0.006294841833927156,
           0.0010694569663858085,
           0.0036312548761521053,
           0.008910018792867808,
           0.005835740083192983,
           0.004505096762786178,
           0.01326915819304426,
           0.008373097544270795,
           0.0014942291830240253,
           0.0014970925369863822,
           0.0039215908520182545,
           0.0016726692484088368,
           0.00016190673814667897,
           0.0012824217268880029,
           0.0015743696617470512,
           0.00028000227382864873,
           0.007065210654044341,
           0.011729098692196273,
           0.010886177640634553,
           0.004844433005918554,
           0.002287629275245636,
           0.0070592708168345595,
           0.018258239602133904,
           0.012510102850918291,
           0.004470356818308757,
           0.0031484897265555713,
           0.013696880217696135,
           0.008700929623210826,
           0.0028950685559729528,
           0.0021698464882282387,
           0.0057471718506375315,
           0.0034262581482152176,
           0.0002458471503130318,
           4.300545791469899e-05,
           0.006302394550888325,
           0.0038839561026013697,
           0.018796085051193793,
           0.04216714468991165,
           0.006807733718192592,
           0.0035845389640909993
          ],
          [
           0.01258971761580378,
           0.006261883415111339,
           0.005915053019581252,
           0.013130473474994696,
           0.011411553624834021,
           0.008321441120506005,
           0.0075236292040380785,
           0.008233344964072737,
           0.013458125425756518,
           0.01367202498992537,
           0.012758449156519141,
           0.005985207150000352,
           0.00036058508623099643,
           0.009115784997593114,
           0.00929413918984638,
           0.009191571591398901,
           0.012246115419890711,
           0.01605417910530952,
           0.012701290315258856,
           0.0057017190105261096,
           0.005234644180757527,
           0.002765409244723091,
           0.0029502880551063758,
           0.002956670995454744,
           0.004548078698332118,
           0.004244073918962858,
           0.006104943046044707,
           0.0002229275093080686,
           0.0004991018391145641,
           0.0023952693854499387,
           0.003805368653828468,
           0.002065437409094774,
           0.009590567395673334,
           0.010735554789449507,
           0.007007023010136292,
           0.006722428954693261,
           0.008010019872664656,
           0.003202092760111531,
           0.004717240993474569,
           0.0053573763920167616,
           0.007286505676183166,
           0.0036628756624496085,
           0.0018202017976104703,
           0.0016317381119306746,
           0.006844664413668321,
           0.008946408703921868,
           0.01791600974243536,
           0.022624684829052184,
           0.00765971519984824,
           0.013357870809558277
          ],
          [
           0.0035624492134455473,
           0.0026954657021005216,
           0.007125721200489784,
           0.013390419307981153,
           0.008886308267568921,
           0.0004650851475995907,
           0.00153055777708506,
           0.0026498542308673254,
           0.007088392240147491,
           0.020130623753089303,
           0.027085730328320706,
           0.01673347902421566,
           0.0035493333594352025,
           0.0013131972497635934,
           0.003940045749409204,
           0.009637315752237119,
           0.012870924845742041,
           0.0024959688156196373,
           0.0002935280281780554,
           0.0040651821780437,
           0.00038739426356835366,
           0.0013830190137850695,
           0.0038680467550238976,
           0.002630806957213865,
           0.003736900872254561,
           0.006891539648573126,
           0.008615817943390213,
           0.001765985314159307,
           0.0018244334045112785,
           0.003126665923986492,
           0.005130119882267308,
           0.0015440542227899221,
           0.0004298314707178065,
           0.0028364438930999786,
           0.006451996841768489,
           0.004788952228123758,
           0.00015815004564291167,
           0.002942973359952093,
           0.010376326865312497,
           0.010631918982068955,
           0.007820984370620784,
           0.009051283365495778,
           0.010471054488586325,
           0.009148556059755784,
           0.004430197373472415,
           0.013655021589490075,
           0.026496613583740825,
           0.004378936679618998,
           0.0037043470463299444,
           0.022374471279678374
          ],
          [
           0.004530732017770769,
           0.00028189694161209885,
           0.006978970297904605,
           0.008911140223989778,
           0.0015106334392287004,
           0.0025064945075399217,
           0.00926373621315888,
           0.004442616338043518,
           0.002955489555242827,
           0.008188052724425448,
           0.02055821562158609,
           0.03295163243531449,
           0.026739157064721075,
           0.0030866734441044996,
           0.0040958693160577965,
           0.008773074310733603,
           0.023076586604988698,
           0.018179077193622755,
           0.012368609175633528,
           0.0039807740900719675,
           0.0019451223001957102,
           0.0030509334686780356,
           0.0023677634286694686,
           0.000869694555797741,
           7.767861668533493e-05,
           0.0010557162167596037,
           0.005161323034548341,
           0.0002349140925459165,
           0.0024712952065790313,
           0.0004916159938346514,
           0.0015807436078907134,
           0.0013289232257146333,
           0.0012580968153462384,
           0.005487118948245809,
           0.007827191790161775,
           0.003209520396714424,
           0.0007533342085776772,
           0.008290669427182188,
           0.009001025872988686,
           0.0007313689770334769,
           0.00042053721246264407,
           0.003699724398171038,
           0.0035492217079553874,
           0.011638645067369079,
           0.011306793046290588,
           0.010797091330567027,
           0.016106069859121837,
           7.065854384630809e-05,
           0.0017519380321942433,
           0.04766322103759024
          ],
          [
           0.010705255320661515,
           0.0050648472221002305,
           0.013815840083304904,
           0.004549172335468416,
           0.0012317909654262285,
           0.0034874556703113763,
           0.011238504907817554,
           0.009153330431003368,
           0.0004767372040474022,
           0.0004390918203390705,
           0.0026194896871097415,
           0.013033569286940227,
           0.03276018126822112,
           0.024835703554370876,
           0.004656474431834862,
           0.005837988857362698,
           0.022781992946929543,
           0.029879856864249245,
           0.019491939319062564,
           0.030675383142340532,
           0.026189139760570024,
           0.008979428861973286,
           0.006222521651195845,
           0.005304351203959801,
           0.0035633204083429784,
           0.00029260661211420865,
           0.004714724640397661,
           0.0021508203703831962,
           0.0043752361762915476,
           0.0002970528975276368,
           0.00016803011271807205,
           0.0013274300555701905,
           0.005219865182597148,
           0.0057307295187305745,
           0.0018444622216575014,
           0.0011459002514127275,
           0.0011156333626796424,
           0.008384176326924004,
           0.00897742992201657,
           0.0016911303430405345,
           0.00020748196069314724,
           0.00122440922105612,
           0.002086684275266664,
           0.018545138324487134,
           0.03942571605733021,
           0.02264932353803802,
           0.006458556926675199,
           0.0019284614345774964,
           0.00788716294537033,
           0.06607583395845014
          ],
          [
           0.009986259128575738,
           0.012176936846758087,
           0.011096754128645046,
           0.01534521934125768,
           0.006149688385900398,
           0.003002109390581856,
           0.0015206699771177822,
           0.008790564051999648,
           0.00409102826638102,
           0.0071903667719728104,
           0.005683001301454107,
           0.0016820092902566032,
           0.008878621908111216,
           0.01645038580654315,
           0.010087408832972312,
           0.0023753543149331526,
           0.010140231176609211,
           0.02760500555321467,
           0.02428302117966169,
           0.02271970280689311,
           0.021527862636687815,
           0.02088414658639527,
           0.02402523963082996,
           0.021511843566397487,
           0.021977802706187658,
           0.020121434147081216,
           0.01622610680304288,
           0.013284199928492262,
           0.014519991321867941,
           0.005315053923809534,
           0.002347721603911358,
           0.010300024500349125,
           0.017220521035287078,
           0.002651562731192092,
           0.001898353318418132,
           0.002231127146742036,
           0.006891960972529096,
           0.011481477811205145,
           0.03220850789829788,
           0.018183603928389237,
           0.02450277392371457,
           0.01196625956792683,
           0.005117846239267962,
           0.017044861442159553,
           0.04130690311754516,
           0.007487267992502161,
           0.0011120719253165194,
           0.005090582111320032,
           0.03170431772281647,
           0.05871536407020026
          ],
          [
           0.010433304447072229,
           0.01567417985347177,
           0.003092505457641718,
           0.01649793768332294,
           0.0208956361157826,
           0.012192447358168849,
           0.0004219843581183707,
           0.002582915379750771,
           0.0003865442556395178,
           0.0015027702687469484,
           0.004359643188495475,
           0.005267335169857131,
           0.0020066738334191215,
           0.00319009155423421,
           0.005925614933950884,
           0.0010287089004244719,
           0.00048743550112658005,
           0.00616410217965864,
           0.005198298719512572,
           0.00019361093553492238,
           0.0011874807129922545,
           0.007006693404518932,
           0.012033541824825744,
           0.007931624796727831,
           0.004306474956475031,
           0.00845540468462928,
           0.004061808575243215,
           0.0017116520481722949,
           0.006824320796175907,
           0.005352338187032162,
           0.005717846247878868,
           0.00802070682648224,
           0.003977797138362984,
           0.0031769431705106236,
           0.0018727636245138876,
           0.003813683338460764,
           0.00828854966081704,
           0.007894211780177535,
           0.03628276157320666,
           0.019206857547599793,
           0.01798758045764158,
           0.013901219223126506,
           0.01682178161837997,
           0.017205366591910316,
           0.026160359916796858,
           0.0010183648949823039,
           0.0024971306418009,
           0.022621510679635498,
           0.040968820444726536,
           0.025382562827095598
          ],
          [
           0.014361145154023255,
           0.025825451937322497,
           0.009483867606200848,
           0.006165823310278902,
           0.020243404602751192,
           0.026687248526548468,
           0.005737203787160722,
           0.0068967885603958765,
           0.0005920975572727086,
           0.0006602391055345183,
           0.00436298125495148,
           0.003691567631265235,
           0.00019243266164028282,
           0.0013905391468346587,
           0.0037908525927892846,
           0.002759282516692381,
           0.002343654331856354,
           0.002331023830580949,
           0.006429283449192893,
           0.0034816143064460964,
           0.0003498409825585647,
           0.0028659347606625656,
           0.004492494773117363,
           0.006575256341799835,
           0.004772934701856619,
           0.005274110503390635,
           0.0014292866083212563,
           0.0007991818735179651,
           0.010146746308359173,
           0.023272958416555887,
           0.02722303870592956,
           0.015064065129547671,
           0.007411726223412832,
           0.013106685336236896,
           0.021817255392184993,
           0.03879903475574937,
           0.05901983920092244,
           0.03809974698067076,
           0.008130625347487899,
           0.0012626243789243667,
           0.0030651953632225074,
           0.0010976610748178249,
           0.007182560150766249,
           0.019012811896338706,
           0.016326211305455068,
           0.0010504407257049134,
           0.006511319787820382,
           0.02726098589041458,
           0.022189065408886037,
           0.007534660566417072
          ],
          [
           0.011128283548751616,
           0.023105983006209453,
           0.01862819907045321,
           0.0014515371008080923,
           0.003584679716031709,
           0.011691432750867344,
           0.006777728599011865,
           0.007645663915980205,
           0.0019559303053407985,
           0.00042089345863866197,
           0.004154086985706341,
           0.0037888011715297306,
           0.0027738390019732893,
           0.0041542357355984615,
           0.0057498065466802,
           0.00692449058444114,
           0.0007707848483053223,
           0.0025285942737633097,
           0.0024956348880961167,
           0.001261989679423637,
           8.812321742564967e-05,
           0.0018336134424658268,
           0.0015187850202881934,
           0.001886175051206652,
           0.00026387966905512317,
           0.0004461543872152508,
           0.0014645231791160763,
           0.0025697887326821493,
           0.014778810267735733,
           0.01573632586628407,
           0.009788191006795136,
           0.005379806454468501,
           0.003960762154759334,
           0.009890153118051404,
           0.013271103318472163,
           0.014678807200408359,
           0.01574017517492978,
           0.010379005891188878,
           0.0032650357955824752,
           0.002335287311281203,
           0.006542919823477277,
           0.007431894264261897,
           0.012039046602453588,
           0.014554961340777226,
           0.007284235942976912,
           0.0008287552402708326,
           0.005246107098987995,
           0.02164210803471783,
           0.016405144188772917,
           0.010217248465589936
          ],
          [
           0.006677859663694383,
           0.007923919940641405,
           0.01632999700727168,
           0.006665502808423057,
           0.0030739332185454058,
           0.008046228930896765,
           0.005435801922222714,
           0.011105440787065157,
           0.008046032068722201,
           0.0037673035885116535,
           0.0032309353559215664,
           0.0013488403852912403,
           0.0002444206652646581,
           0.0010526885435861422,
           0.005937194818065803,
           0.0058818799015709945,
           0.0121794291389288,
           0.007440889979131237,
           0.023832877937272748,
           0.0028333007505160056,
           0.004994938616021927,
           0.002237334951075732,
           1.2640771500154615e-05,
           0.001497353178392646,
           6.091178477984113e-05,
           0.000453402770860461,
           0.0017760694781052424,
           0.00637215082912977,
           0.004186400530022967,
           0.00011481983557458278,
           0.0003766091280607111,
           0.00044938894762369626,
           0.0035710641001305654,
           0.0014228138851831505,
           0.0009177005088234413,
           0.00961941653456278,
           0.0037249956795982414,
           0.003053183383272327,
           0.012905479458630065,
           0.012897521507274643,
           0.008231259734942589,
           0.014213746539520986,
           0.018506296933092085,
           0.016028957194839467,
           0.011394615617649054,
           0.009918105637793514,
           0.01442289542832045,
           0.017713787632979157,
           0.005787457701272328,
           0.0046555063480976985
          ],
          [
           0.008626317472059008,
           0.013104081448001112,
           0.025913985459126602,
           0.023309017157286387,
           0.023740013515044824,
           0.03187265754773018,
           0.02656453325482009,
           0.026446258637562302,
           0.023056986147923744,
           0.02054463599027538,
           0.0052355312634266744,
           0.0023595783792061484,
           0.0011253145410465744,
           0.0015977535963619658,
           0.01067221199190229,
           0.01972189897525055,
           0.012079262199278046,
           0.00939392451243919,
           0.027150677634289862,
           0.030123578431412074,
           0.016302625666697754,
           0.004211261284904014,
           0.0021195530284206,
           0.007062216121210634,
           0.005828256969724599,
           0.003372966475942727,
           0.009287393751603314,
           0.008965095801657115,
           0.0005944377662693502,
           0.0036532587876517237,
           0.0005463826718579069,
           0.007289926308232481,
           0.017790560952092586,
           0.006837541003428515,
           0.002843026289909045,
           0.02886173034632992,
           0.011740993853164695,
           0.0074593632655249684,
           0.015317617659195187,
           0.010247614449129978,
           0.007848077442715389,
           0.01684933257650236,
           0.0143505900561864,
           0.013831345976761552,
           0.016166939881368685,
           0.017326238637862826,
           0.020601541653080285,
           0.01413103987614908,
           0.005173366149269264,
           0.008103768630155717
          ],
          [
           0.018895003134573866,
           0.010665701324154871,
           0.01826862284901216,
           0.019464449357577532,
           0.019193202586419846,
           0.029897730435121783,
           0.027730502090229286,
           0.012513753723353073,
           0.020563313087154242,
           0.030942829111657584,
           0.01116548545443629,
           0.0076324263663370105,
           0.004939404484605104,
           0.0014946969930208303,
           0.0074495156009664314,
           0.008438549186349308,
           0.005013164309028008,
           0.004427080708700085,
           0.022562549138545756,
           0.04206099443038315,
           0.01680638030311528,
           0.012237967489923361,
           0.00037860726580878296,
           0.00011775310684973108,
           0.0012035704544521315,
           0.004861086459371447,
           0.01047841966907114,
           0.005538961143743969,
           0.006458899101215134,
           0.006617596683065969,
           0.00013087896603095303,
           0.008541874822351891,
           0.01399946783192987,
           0.006017775115299674,
           0.005401821955064587,
           0.013300113559957485,
           0.00041213450186606507,
           0.0011800920897012894,
           0.015609168123895524,
           0.021341539942954884,
           0.03251419976997781,
           0.025150318905287405,
           0.01322776431158979,
           0.01817146462028958,
           0.020481997320075482,
           0.01657806997934863,
           0.014955546086029935,
           0.009701669235605125,
           0.018696205640132663,
           0.040528653987088194
          ]
         ]
        }
       ],
       "layout": {
        "scene": {
         "xaxis": {
          "title": {
           "text": "x"
          }
         },
         "yaxis": {
          "title": {
           "text": "y"
          }
         },
         "zaxis": {
          "title": {
           "text": "z"
          }
         }
        },
        "template": {
         "data": {
          "bar": [
           {
            "error_x": {
             "color": "#2a3f5f"
            },
            "error_y": {
             "color": "#2a3f5f"
            },
            "marker": {
             "line": {
              "color": "#E5ECF6",
              "width": 0.5
             },
             "pattern": {
              "fillmode": "overlay",
              "size": 10,
              "solidity": 0.2
             }
            },
            "type": "bar"
           }
          ],
          "barpolar": [
           {
            "marker": {
             "line": {
              "color": "#E5ECF6",
              "width": 0.5
             },
             "pattern": {
              "fillmode": "overlay",
              "size": 10,
              "solidity": 0.2
             }
            },
            "type": "barpolar"
           }
          ],
          "carpet": [
           {
            "aaxis": {
             "endlinecolor": "#2a3f5f",
             "gridcolor": "white",
             "linecolor": "white",
             "minorgridcolor": "white",
             "startlinecolor": "#2a3f5f"
            },
            "baxis": {
             "endlinecolor": "#2a3f5f",
             "gridcolor": "white",
             "linecolor": "white",
             "minorgridcolor": "white",
             "startlinecolor": "#2a3f5f"
            },
            "type": "carpet"
           }
          ],
          "choropleth": [
           {
            "colorbar": {
             "outlinewidth": 0,
             "ticks": ""
            },
            "type": "choropleth"
           }
          ],
          "contour": [
           {
            "colorbar": {
             "outlinewidth": 0,
             "ticks": ""
            },
            "colorscale": [
             [
              0,
              "#0d0887"
             ],
             [
              0.1111111111111111,
              "#46039f"
             ],
             [
              0.2222222222222222,
              "#7201a8"
             ],
             [
              0.3333333333333333,
              "#9c179e"
             ],
             [
              0.4444444444444444,
              "#bd3786"
             ],
             [
              0.5555555555555556,
              "#d8576b"
             ],
             [
              0.6666666666666666,
              "#ed7953"
             ],
             [
              0.7777777777777778,
              "#fb9f3a"
             ],
             [
              0.8888888888888888,
              "#fdca26"
             ],
             [
              1,
              "#f0f921"
             ]
            ],
            "type": "contour"
           }
          ],
          "contourcarpet": [
           {
            "colorbar": {
             "outlinewidth": 0,
             "ticks": ""
            },
            "type": "contourcarpet"
           }
          ],
          "heatmap": [
           {
            "colorbar": {
             "outlinewidth": 0,
             "ticks": ""
            },
            "colorscale": [
             [
              0,
              "#0d0887"
             ],
             [
              0.1111111111111111,
              "#46039f"
             ],
             [
              0.2222222222222222,
              "#7201a8"
             ],
             [
              0.3333333333333333,
              "#9c179e"
             ],
             [
              0.4444444444444444,
              "#bd3786"
             ],
             [
              0.5555555555555556,
              "#d8576b"
             ],
             [
              0.6666666666666666,
              "#ed7953"
             ],
             [
              0.7777777777777778,
              "#fb9f3a"
             ],
             [
              0.8888888888888888,
              "#fdca26"
             ],
             [
              1,
              "#f0f921"
             ]
            ],
            "type": "heatmap"
           }
          ],
          "heatmapgl": [
           {
            "colorbar": {
             "outlinewidth": 0,
             "ticks": ""
            },
            "colorscale": [
             [
              0,
              "#0d0887"
             ],
             [
              0.1111111111111111,
              "#46039f"
             ],
             [
              0.2222222222222222,
              "#7201a8"
             ],
             [
              0.3333333333333333,
              "#9c179e"
             ],
             [
              0.4444444444444444,
              "#bd3786"
             ],
             [
              0.5555555555555556,
              "#d8576b"
             ],
             [
              0.6666666666666666,
              "#ed7953"
             ],
             [
              0.7777777777777778,
              "#fb9f3a"
             ],
             [
              0.8888888888888888,
              "#fdca26"
             ],
             [
              1,
              "#f0f921"
             ]
            ],
            "type": "heatmapgl"
           }
          ],
          "histogram": [
           {
            "marker": {
             "pattern": {
              "fillmode": "overlay",
              "size": 10,
              "solidity": 0.2
             }
            },
            "type": "histogram"
           }
          ],
          "histogram2d": [
           {
            "colorbar": {
             "outlinewidth": 0,
             "ticks": ""
            },
            "colorscale": [
             [
              0,
              "#0d0887"
             ],
             [
              0.1111111111111111,
              "#46039f"
             ],
             [
              0.2222222222222222,
              "#7201a8"
             ],
             [
              0.3333333333333333,
              "#9c179e"
             ],
             [
              0.4444444444444444,
              "#bd3786"
             ],
             [
              0.5555555555555556,
              "#d8576b"
             ],
             [
              0.6666666666666666,
              "#ed7953"
             ],
             [
              0.7777777777777778,
              "#fb9f3a"
             ],
             [
              0.8888888888888888,
              "#fdca26"
             ],
             [
              1,
              "#f0f921"
             ]
            ],
            "type": "histogram2d"
           }
          ],
          "histogram2dcontour": [
           {
            "colorbar": {
             "outlinewidth": 0,
             "ticks": ""
            },
            "colorscale": [
             [
              0,
              "#0d0887"
             ],
             [
              0.1111111111111111,
              "#46039f"
             ],
             [
              0.2222222222222222,
              "#7201a8"
             ],
             [
              0.3333333333333333,
              "#9c179e"
             ],
             [
              0.4444444444444444,
              "#bd3786"
             ],
             [
              0.5555555555555556,
              "#d8576b"
             ],
             [
              0.6666666666666666,
              "#ed7953"
             ],
             [
              0.7777777777777778,
              "#fb9f3a"
             ],
             [
              0.8888888888888888,
              "#fdca26"
             ],
             [
              1,
              "#f0f921"
             ]
            ],
            "type": "histogram2dcontour"
           }
          ],
          "mesh3d": [
           {
            "colorbar": {
             "outlinewidth": 0,
             "ticks": ""
            },
            "type": "mesh3d"
           }
          ],
          "parcoords": [
           {
            "line": {
             "colorbar": {
              "outlinewidth": 0,
              "ticks": ""
             }
            },
            "type": "parcoords"
           }
          ],
          "pie": [
           {
            "automargin": true,
            "type": "pie"
           }
          ],
          "scatter": [
           {
            "fillpattern": {
             "fillmode": "overlay",
             "size": 10,
             "solidity": 0.2
            },
            "type": "scatter"
           }
          ],
          "scatter3d": [
           {
            "line": {
             "colorbar": {
              "outlinewidth": 0,
              "ticks": ""
             }
            },
            "marker": {
             "colorbar": {
              "outlinewidth": 0,
              "ticks": ""
             }
            },
            "type": "scatter3d"
           }
          ],
          "scattercarpet": [
           {
            "marker": {
             "colorbar": {
              "outlinewidth": 0,
              "ticks": ""
             }
            },
            "type": "scattercarpet"
           }
          ],
          "scattergeo": [
           {
            "marker": {
             "colorbar": {
              "outlinewidth": 0,
              "ticks": ""
             }
            },
            "type": "scattergeo"
           }
          ],
          "scattergl": [
           {
            "marker": {
             "colorbar": {
              "outlinewidth": 0,
              "ticks": ""
             }
            },
            "type": "scattergl"
           }
          ],
          "scattermapbox": [
           {
            "marker": {
             "colorbar": {
              "outlinewidth": 0,
              "ticks": ""
             }
            },
            "type": "scattermapbox"
           }
          ],
          "scatterpolar": [
           {
            "marker": {
             "colorbar": {
              "outlinewidth": 0,
              "ticks": ""
             }
            },
            "type": "scatterpolar"
           }
          ],
          "scatterpolargl": [
           {
            "marker": {
             "colorbar": {
              "outlinewidth": 0,
              "ticks": ""
             }
            },
            "type": "scatterpolargl"
           }
          ],
          "scatterternary": [
           {
            "marker": {
             "colorbar": {
              "outlinewidth": 0,
              "ticks": ""
             }
            },
            "type": "scatterternary"
           }
          ],
          "surface": [
           {
            "colorbar": {
             "outlinewidth": 0,
             "ticks": ""
            },
            "colorscale": [
             [
              0,
              "#0d0887"
             ],
             [
              0.1111111111111111,
              "#46039f"
             ],
             [
              0.2222222222222222,
              "#7201a8"
             ],
             [
              0.3333333333333333,
              "#9c179e"
             ],
             [
              0.4444444444444444,
              "#bd3786"
             ],
             [
              0.5555555555555556,
              "#d8576b"
             ],
             [
              0.6666666666666666,
              "#ed7953"
             ],
             [
              0.7777777777777778,
              "#fb9f3a"
             ],
             [
              0.8888888888888888,
              "#fdca26"
             ],
             [
              1,
              "#f0f921"
             ]
            ],
            "type": "surface"
           }
          ],
          "table": [
           {
            "cells": {
             "fill": {
              "color": "#EBF0F8"
             },
             "line": {
              "color": "white"
             }
            },
            "header": {
             "fill": {
              "color": "#C8D4E3"
             },
             "line": {
              "color": "white"
             }
            },
            "type": "table"
           }
          ]
         },
         "layout": {
          "annotationdefaults": {
           "arrowcolor": "#2a3f5f",
           "arrowhead": 0,
           "arrowwidth": 1
          },
          "autotypenumbers": "strict",
          "coloraxis": {
           "colorbar": {
            "outlinewidth": 0,
            "ticks": ""
           }
          },
          "colorscale": {
           "diverging": [
            [
             0,
             "#8e0152"
            ],
            [
             0.1,
             "#c51b7d"
            ],
            [
             0.2,
             "#de77ae"
            ],
            [
             0.3,
             "#f1b6da"
            ],
            [
             0.4,
             "#fde0ef"
            ],
            [
             0.5,
             "#f7f7f7"
            ],
            [
             0.6,
             "#e6f5d0"
            ],
            [
             0.7,
             "#b8e186"
            ],
            [
             0.8,
             "#7fbc41"
            ],
            [
             0.9,
             "#4d9221"
            ],
            [
             1,
             "#276419"
            ]
           ],
           "sequential": [
            [
             0,
             "#0d0887"
            ],
            [
             0.1111111111111111,
             "#46039f"
            ],
            [
             0.2222222222222222,
             "#7201a8"
            ],
            [
             0.3333333333333333,
             "#9c179e"
            ],
            [
             0.4444444444444444,
             "#bd3786"
            ],
            [
             0.5555555555555556,
             "#d8576b"
            ],
            [
             0.6666666666666666,
             "#ed7953"
            ],
            [
             0.7777777777777778,
             "#fb9f3a"
            ],
            [
             0.8888888888888888,
             "#fdca26"
            ],
            [
             1,
             "#f0f921"
            ]
           ],
           "sequentialminus": [
            [
             0,
             "#0d0887"
            ],
            [
             0.1111111111111111,
             "#46039f"
            ],
            [
             0.2222222222222222,
             "#7201a8"
            ],
            [
             0.3333333333333333,
             "#9c179e"
            ],
            [
             0.4444444444444444,
             "#bd3786"
            ],
            [
             0.5555555555555556,
             "#d8576b"
            ],
            [
             0.6666666666666666,
             "#ed7953"
            ],
            [
             0.7777777777777778,
             "#fb9f3a"
            ],
            [
             0.8888888888888888,
             "#fdca26"
            ],
            [
             1,
             "#f0f921"
            ]
           ]
          },
          "colorway": [
           "#636efa",
           "#EF553B",
           "#00cc96",
           "#ab63fa",
           "#FFA15A",
           "#19d3f3",
           "#FF6692",
           "#B6E880",
           "#FF97FF",
           "#FECB52"
          ],
          "font": {
           "color": "#2a3f5f"
          },
          "geo": {
           "bgcolor": "white",
           "lakecolor": "white",
           "landcolor": "#E5ECF6",
           "showlakes": true,
           "showland": true,
           "subunitcolor": "white"
          },
          "hoverlabel": {
           "align": "left"
          },
          "hovermode": "closest",
          "mapbox": {
           "style": "light"
          },
          "paper_bgcolor": "white",
          "plot_bgcolor": "#E5ECF6",
          "polar": {
           "angularaxis": {
            "gridcolor": "white",
            "linecolor": "white",
            "ticks": ""
           },
           "bgcolor": "#E5ECF6",
           "radialaxis": {
            "gridcolor": "white",
            "linecolor": "white",
            "ticks": ""
           }
          },
          "scene": {
           "xaxis": {
            "backgroundcolor": "#E5ECF6",
            "gridcolor": "white",
            "gridwidth": 2,
            "linecolor": "white",
            "showbackground": true,
            "ticks": "",
            "zerolinecolor": "white"
           },
           "yaxis": {
            "backgroundcolor": "#E5ECF6",
            "gridcolor": "white",
            "gridwidth": 2,
            "linecolor": "white",
            "showbackground": true,
            "ticks": "",
            "zerolinecolor": "white"
           },
           "zaxis": {
            "backgroundcolor": "#E5ECF6",
            "gridcolor": "white",
            "gridwidth": 2,
            "linecolor": "white",
            "showbackground": true,
            "ticks": "",
            "zerolinecolor": "white"
           }
          },
          "shapedefaults": {
           "line": {
            "color": "#2a3f5f"
           }
          },
          "ternary": {
           "aaxis": {
            "gridcolor": "white",
            "linecolor": "white",
            "ticks": ""
           },
           "baxis": {
            "gridcolor": "white",
            "linecolor": "white",
            "ticks": ""
           },
           "bgcolor": "#E5ECF6",
           "caxis": {
            "gridcolor": "white",
            "linecolor": "white",
            "ticks": ""
           }
          },
          "title": {
           "x": 0.05
          },
          "xaxis": {
           "automargin": true,
           "gridcolor": "white",
           "linecolor": "white",
           "ticks": "",
           "title": {
            "standoff": 15
           },
           "zerolinecolor": "white",
           "zerolinewidth": 2
          },
          "yaxis": {
           "automargin": true,
           "gridcolor": "white",
           "linecolor": "white",
           "ticks": "",
           "title": {
            "standoff": 15
           },
           "zerolinecolor": "white",
           "zerolinewidth": 2
          }
         }
        }
       }
      },
      "text/html": [
       "<div>                            <div id=\"c6680254-251d-42bc-bd51-c52a5a44ad59\" class=\"plotly-graph-div\" style=\"height:525px; width:100%;\"></div>            <script type=\"text/javascript\">                require([\"plotly\"], function(Plotly) {                    window.PLOTLYENV=window.PLOTLYENV || {};                                    if (document.getElementById(\"c6680254-251d-42bc-bd51-c52a5a44ad59\")) {                    Plotly.newPlot(                        \"c6680254-251d-42bc-bd51-c52a5a44ad59\",                        [{\"x\":[4.0545154382967565,5.294749438296757,6.534983438296757,7.775217438296757,9.015451438296758,10.255685438296757,11.495919438296756,12.736153438296757,13.976387438296758,15.216621438296757,16.456855438296756,17.697089438296757,18.937323438296758,20.17755743829676,21.417791438296756,22.658025438296757,23.89825943829676,25.138493438296756,26.378727438296757,27.618961438296758,28.85919543829676,30.09942943829676,31.339663438296757,32.579897438296754,33.820131438296755,35.060365438296756,36.30059943829676,37.54083343829676,38.78106743829676,40.02130143829676,41.26153543829676,42.50176943829676,43.742003438296756,44.98223743829676,46.22247143829676,47.46270543829676,48.70293943829676,49.94317343829676,51.18340743829676,52.423641438296755,53.663875438296756,54.90410943829676,56.14434343829676,57.38457743829676,58.62481143829676,59.86504543829676,61.10527943829676,62.34551343829676,63.58574743829676,64.82598143829676],\"y\":[-1.8558189354843044,-0.6155849354843044,0.6246490645156957,1.8648830645156957,3.105117064515696,4.345351064515696,5.585585064515696,6.825819064515696,8.066053064515696,9.306287064515697,10.546521064515696,11.786755064515695,13.026989064515696,14.267223064515697,15.507457064515696,16.747691064515696,17.987925064515697,19.228159064515697,20.468393064515695,21.708627064515696,22.948861064515697,24.189095064515698,25.4293290645157,26.669563064515696,27.909797064515697,29.150031064515698,30.390265064515695,31.630499064515696,32.8707330645157,34.1109670645157,35.3512010645157,36.5914350645157,37.831669064515694,39.071903064515695,40.312137064515696,41.5523710645157,42.7926050645157,44.0328390645157,45.2730730645157,46.5133070645157,47.7535410645157,48.993775064515695,50.234009064515696,51.4742430645157,52.7144770645157,53.9547110645157,55.1949450645157,56.4351790645157,57.675413064515695,58.915647064515696,60.1558810645157,61.3961150645157,62.6363490645157,63.8765830645157,65.1168170645157],\"z\":[[0.01275365033714235,0.025826645128556643,0.0032833891835008255,0.00539542823871698,0.012854536756240605,0.008621613183837995,0.013195234920076508,0.01865481067176198,0.002543976339922083,0.0012483822389549129,0.006519237182684446,0.005172788247103382,0.0010899687888185731,0.0016142380491981922,0.0132241967462268,0.00707967117438754,0.00413606303862943,0.007106280111273611,0.011321560575439489,0.009532818220469648,0.005148698847234917,0.014402397530793337,0.009788097256913006,0.0033844267841933676,0.0030251031184526794,0.005204903225978621,0.012157696012638016,0.010082946260408765,0.004499464857605697,0.0038488557360161165,0.005696761790898952,0.004652478620946522,0.004907555214570429,0.005046513582194003,0.0021634199817384273,0.002941989821696567,0.017932428757242325,0.017433840221566112,0.008789502616591175,0.0031607814336369684,0.005648609517673133,0.0361623583208502,0.058739516677698785,0.03238044781636723,0.024294767774436624,0.01833336608365532,0.01483277212602314,0.06476072192232586,0.07710055280849627,0.07048848782738998],[0.009841846889896201,0.03587144508711451,0.019101660996558995,0.0333511496080818,0.04512928031292587,0.04452187984681155,0.02592246628921903,0.015522405895537118,0.02598497579955087,0.03829203115506065,0.03769114252185294,0.04839805459444314,0.037406851492328363,0.03251411337871642,0.031701823542962713,0.015127211094788796,0.020170668684754024,0.017294363044978372,0.006789330658833873,0.014517022095872889,0.034858308027283715,0.04781169465462611,0.03551648100185983,0.0341903937948904,0.03161190108131613,0.044599800322400164,0.041909659265389365,0.018494671377372367,0.02000088010890893,0.015531096106024543,0.0094980920973598,0.004264698888767745,0.008019104280580239,0.009644522021790385,0.009961309736216256,0.004543474269684604,0.01315639159702467,0.010815046184801627,0.013795980691799234,0.016384281928943065,0.003754804851914899,0.0028516590172644623,0.020090610431329214,0.02565930599829314,0.03435169975617749,0.04006544685117665,0.02611826722770035,0.06119420626509449,0.0748951517955151,0.031577559443005304],[0.008782148246283865,0.026373836884812308,0.017460768973254076,0.00928170156495802,0.00821083065643298,0.020444177839681773,0.025857348904418237,0.013889362895474619,0.0386558002028748,0.030123269259552322,0.005443444305761104,0.007539080599331893,0.020856395662239745,0.04093052059259996,0.048759921198119054,0.030197999650903275,0.027654319197216892,0.015864539707819907,0.008453214103284073,0.011492796641480639,0.0193910880243976,0.012329359753074956,0.008799363791283956,0.01799230899301267,0.023560849198995374,0.02038172688548531,0.006237662688051238,0.0019290347046184593,0.014855105989722155,0.038217161246597076,0.035159693771406056,0.020424432669611074,0.013790199657853398,0.012269456299336623,0.007197382105103344,0.005680105600876059,0.013362811301117302,0.0058962786359308,0.005745944282638035,0.01909549286155071,0.012279593316631534,0.0012453431060070763,0.012798042562962101,0.027388260845172662,0.02855344196911572,0.028503607187030475,0.0198000401878433,0.02771780418591952,0.05987556133491884,0.0542320943195292],[0.01459067064844631,0.032273180023169284,0.01663119342728131,0.003330489031985921,0.00055502744288116,0.007094029304879713,0.016280488068204865,0.008275743627349145,0.022109629850466966,0.011160317245885402,0.009653516208199736,0.009197316627596161,0.014097029351073844,0.010840971509911123,0.020308324314269554,0.009420161183456002,0.003973993541414672,0.0027586539047443396,0.007114313905711232,0.016539832141261014,0.004784198717251954,0.0013303227379106626,0.004450217963023143,0.0066403601346319415,0.0037129053378306114,0.0025468544074295405,0.0017678349706174855,0.0009101561130380865,0.0012614317705881351,0.002731246833719495,0.007049343749729449,0.008780055302052645,0.007063783214473149,0.004460573727268583,0.0013126351659950876,0.0021750664883694185,0.011833566035698816,0.007901679545097283,0.006012278497194195,0.016948749992310427,0.03084070722667981,0.01961565678484813,0.029383126220823196,0.03326443211049966,0.02667688609340417,0.0334601600589318,0.02211781989880484,0.013147911623272494,0.034646656122608366,0.04311729273282583],[0.006349558004346138,0.019144940624693726,0.013207316705669532,0.01894072214248401,0.013902783861048623,0.001783881677525268,0.008378507620715405,0.0055805719192200225,0.006600300152137167,0.002872289615224357,0.009459516363358414,0.03349781926801421,0.010204625565067495,7.362214306724571e-05,0.013550112506027653,0.005033750700752572,0.0016169090894037916,0.002444224646284173,0.0023963872103417976,0.009620630492082793,0.0016311019369522105,0.004559558369688438,0.008824805686926878,0.006281249826174628,0.004730733169614961,0.005267927071456501,0.007356729373060023,0.004292199525087393,0.0025135646181363223,0.001027252755951383,0.0009726517670666378,0.001169439174492482,0.0020299158864918753,0.0023985198088838783,0.002478716647367604,0.0020959698318246092,0.004229026811848852,0.0048594839625244095,0.009176107856853076,0.010955148050982556,0.022274236221044248,0.01816515421019612,0.011518557993034436,0.015404808456848555,0.028268532734927708,0.04172068636468272,0.03347005773659245,0.019632869246101584,0.025332873131495258,0.03283519546131837],[0.0023963251908878506,0.00937382377886659,0.008455045772643732,0.014189042403209463,0.008417292873069863,0.002817114022353782,0.009157449301286104,0.003859921319538906,0.0006803882920171856,0.0022146892533155098,0.001802487676668579,0.011144046255956459,0.0004977538520951421,5.239485053939213e-05,0.022819920687004665,0.00894531308879696,0.004505692408044327,0.006541723400759826,0.006806842736242931,0.0049112169874798595,0.004538614967810358,0.011121524579631616,0.005160152345079422,0.004507830511484633,0.0033976976813817296,0.0011191902406029125,0.0007908737879886269,0.002635883367743475,0.008149757618274129,0.007514417754039062,0.007387698159490863,0.0024971263654728635,0.0010663846202009016,0.0001773518511764224,0.002517865820779964,0.004411470706736005,0.0024882271293101992,0.0030564820359240555,0.009802905729600714,0.0028674491368562943,0.0038330006641679702,0.007920285767570772,0.0012095124628046705,0.005778437565533771,0.013657944882564027,0.02778704253639104,0.04050086015133641,0.02686883738152473,0.011787202271681386,0.029433678914980933],[0.0008709552801341012,0.012006915035531033,0.001034922772932865,0.011594596637289312,0.012028903995377701,0.0036316961416399214,0.015921549037038577,0.0006000353389085077,0.00016171443980391185,0.010448272781520818,0.005276499120997906,0.0013035198237946629,0.0008259222996286655,0.004901575855201672,0.025591857961614728,0.0026412633822605162,0.002347108506253717,0.014999920232330306,0.013173468579619157,0.0061471877156818195,0.010842414400503502,0.012762630843254824,0.004419351239744172,0.007675988697588014,0.006205469339372904,0.01265218623809408,0.002378217670845905,0.0071460780516856455,0.01282444870841584,0.009000345171110816,0.015802280260827563,0.005782959353573544,0.003904221049546477,0.0017416054400543465,0.005405087676172011,0.008633679157379611,0.003506107162481399,0.002039281113104318,0.006824517776393254,0.0037720293716620953,0.003459965781968112,0.007103054648034695,0.003606150642813554,0.021117175962127237,0.01647141087267553,0.009707861435535934,0.02629879943695109,0.03388667550009912,0.010175330212876064,0.003909221421928332],[0.01577914825722643,0.02834442664073477,0.0037554162290240303,0.0006613600043168731,0.0062775587598078554,0.007440382624827502,0.015137505371917858,0.0009198689001284472,0.0020386022818101707,0.010537200003715854,0.0023488408339812474,0.0007080191271372475,0.0006448775201976619,0.011574863472428924,0.01807538246319956,0.0002855459344125615,0.0006054040951949186,0.0021160478725609356,3.213096624266347e-05,0.002054455406918502,0.011227210892261141,0.005620305473825627,0.0013157897532734006,0.00022340088523898637,0.0004182647657749358,0.01198529790664914,0.0016781301487802892,0.003314680831428661,0.006706024490243709,0.0003370928062300773,0.012152206851852095,0.0012118992552554995,0.006214855514055605,0.004610104428948975,0.0003826812404717468,0.00044663802149054916,0.0015272063625962821,0.00028488798275303645,0.0009801502622425547,0.0007758622103460838,0.0014407871705746952,0.0030571259880310215,0.005263736567250908,0.02303243494593639,0.014064827617693093,0.0068240639242035,0.020573550683982315,0.04580697252791441,0.03555636004679419,0.008522493603919462],[0.019389341753609075,0.02445115999725258,0.002206637311985403,0.002342031111474734,0.0014968615154657987,0.0017203176617388086,0.011606092183164224,0.006516579964523556,0.005740714938747171,0.003872049780463382,0.0034913627291518687,0.007702545935651284,0.004099762745747852,0.007566447155227019,0.007251868110685893,0.0014447016732288104,0.0024674090452738388,0.00906338710551234,0.011656839901758233,0.01144972938252106,0.014738268057445138,0.0032740152146136688,0.0023247589622327584,0.0029101188626421367,0.001772089064144374,0.003759548748834948,0.0009290975761895619,0.0029035956456801657,0.0044875303653235995,5.378327283998818e-05,0.01350014091111906,0.0016072913932662827,0.002197985098809285,0.00209325408830592,0.000444821062687967,0.0005496086556747028,0.0006381164302528665,0.0048387081354544035,0.0026827417286603996,0.0029131273317038534,0.00018760252132075464,0.0005724551761103547,0.00667419485831152,0.013385479764815106,0.013617969352468284,0.014823599548064977,0.007238687207671417,0.018526041331265713,0.040020795813669144,0.02389973497843843],[0.013083280184524449,0.019503812195231868,0.0005321336768119309,0.0014001243529834255,0.009079876748459972,0.0036124774441001956,0.0013757915823984154,0.010212949260714586,0.010549667258358484,0.0007592102598971494,0.0036229002313263457,0.010707620572423365,0.0003409089576042101,0.00229731994081861,0.005740187879910042,0.004435120735492703,0.0037847258472830736,0.004014286565755207,0.004326591766547407,0.012444009440845304,0.022007087775186562,0.013888281926497574,0.0008307975814996945,0.0022694138869985537,0.002163650117399346,0.004187875667744999,0.0002134991147702963,0.008069552551214148,0.0017913393362564687,0.0011268789707294948,0.004694262567571539,0.0016139343699938182,0.0001390284492471691,0.0021675877309670923,0.005072486768444382,0.002350195925036845,0.003221306837154853,0.00803659838446659,0.0064132000809329045,0.009798015529558666,0.0001291929005262475,0.0005678680366425667,0.011762915481943468,0.005997621556784886,0.006638956634178702,0.028379658684867796,0.013461151502429679,0.0009392690974119152,0.013422220197458182,0.023886682386626758],[0.004402793927153974,0.014272497589433443,0.004080132859354492,0.006516803077989753,0.021423253554229978,0.01878063075940438,0.012356486106194343,0.015335589193408987,0.022966048898785844,0.015441354756884799,0.008710608620930557,0.0021487037112241326,0.00044746096318008376,0.002316034457326753,0.006992229196408924,0.003027232047673561,0.004954919234324707,0.007902946887894542,0.0065261476584307756,8.174120844060806e-05,0.004706677459686448,0.014699944101668033,1.871911741236695e-05,0.0061135442028090025,0.004211391644435094,0.004574099577667879,0.0018350463622297147,0.011295418709932495,0.0013102132140447626,0.0010685407358293506,0.003744768636872562,0.006715461059881777,0.0029301407388025343,0.002663922014116663,0.0025314631517589035,0.0017951678315503686,6.140508895614211e-05,0.0017470355230412783,0.0018579437893521422,0.009880650006883736,0.0013631129593993999,0.0002643696454545062,0.0084747312754099,0.005697844262273627,0.007399049344066708,0.04018232646404735,0.01928952140255346,0.001256198112018036,0.005543679017371583,0.017824012635234424],[0.00733041593287927,0.018587906879892674,0.020041079240415254,0.0201152847839136,0.019654536634673397,0.012949132155068278,0.00768795116977339,0.004513642916041939,0.020999268110283166,0.021084693811030803,0.01480276957012184,0.01348330675055808,0.01782267853322491,0.01736322477740298,0.014393839265785148,0.00992261478909047,0.01127859564090207,0.018281023313037926,0.019580767021733333,0.015199421296680568,0.011594445110615893,0.009271631442994628,0.0014804692915469447,0.00406208634790203,0.004582291439618345,0.009564423831633343,0.008702911705097714,0.005304268015212861,0.000688828593860647,0.002458753932639318,0.0038712797072764293,0.0019208591400599686,0.0035727886104615757,0.004557873602965158,0.0023367208772671305,0.004757527348030511,0.005307222972360722,0.0006008324925398579,0.0011665437277666823,0.007052490931733611,0.004720612908124951,6.727545613548971e-05,0.004126883869005027,0.003947794907113625,0.0038698413376482927,0.040195535394648374,0.017077182572627393,0.0023096121403746598,0.0028614064141801927,0.005199240374972805],[0.002735321101676954,0.013418961927529043,0.00536328317981634,0.0015526240854139624,0.004655162802019357,0.0055194502061983175,0.00376410602420735,0.0006101686301799654,0.013834877353035444,0.012642966318118587,0.003129227806716765,0.008494044139694632,0.01661289582845014,0.013632724818409575,0.004718031165077818,0.0030417029563941755,0.008818828946052213,0.013563620123264026,0.008892592677836784,0.010993920321407535,0.012103753196700068,0.004106594483854566,0.005571872625504667,0.025666174680452004,0.04251000361491644,0.03903003142542587,0.021708344432931195,0.005936601309695168,0.005207891166478738,0.003968478287582917,0.0006122802848194909,0.0003126950798083988,0.006261297086935173,0.005856583641085973,0.0038564449843176683,0.005988191676898252,0.009520303571867155,0.005412441862313105,0.004082097677368841,0.005156752135401721,0.004788837077191579,0.0027471738440800926,0.004336226276774472,0.006160924532830016,0.008186533255757241,0.025302225373824747,0.01101203167654338,0.004427717654495764,0.004715124071186929,0.0011243949940079427],[0.004035785479623697,0.01285807929412793,0.0063932103988384,0.003918943060906295,0.007362688266322338,0.00945624150416629,0.006957289745846817,0.007552529060430047,0.011273952294047821,0.002532989290797317,0.001920210040150589,0.004692734366218004,0.007288416408994001,0.010268743758944762,0.008283827121407968,0.008597689626186877,0.01350258632864862,0.007052241417276629,0.0038759111189262613,0.003235663541788499,0.014238765696495653,0.017929784014538,0.0245643466103375,0.02280712867459907,0.009224116764226067,0.006670440874899403,0.0049269583811486295,0.003542618831143138,0.006529099211081525,0.0047263287880817675,0.004488144722156734,0.009688233141046842,0.006252270152138281,0.0021848672859235176,0.0029094203385975196,0.0018122988141794046,0.00148203184914009,0.004113298935670581,0.007081225352530622,0.01413219900054737,0.016979306901298973,0.00830596560996906,0.008970558637414482,0.0146532478514607,0.012072701699542877,0.02012968840649482,0.01581698592727755,0.012878997666704185,0.013532333938202929,0.0026129273738883228],[0.010653467383960221,0.00945361562943691,0.005923993292456238,0.005356185461637934,0.0012647790673926027,0.0035615632830579965,0.005423111582930149,0.005138082840965009,0.005745398673730254,0.0016340353642301333,0.0003733595924211976,0.007729116373220081,0.008661601769161512,0.01041539192488269,0.004017220209303805,0.0009779810611004291,0.0005792941392391434,0.0012225329252115102,0.00033310686751124405,0.0006176016887529952,0.004692284674668815,0.010364508394898152,0.006374121310814015,0.0009356094618219579,0.00149663790239766,0.0003251743579991539,0.0021047871406909323,0.0019761218365281635,0.0025068770785878687,0.003704708160638249,0.012046199925038059,0.029535522773906316,0.014636330619893747,0.01038619166599761,0.009424514102339606,0.0049638205445561336,0.0014570781912489528,0.002601587837840371,0.00344980387159637,0.00920343212699363,0.012159855841411611,0.005331168719211172,0.007111314075903991,0.018668608706767127,0.023194783538728198,0.021553987287857707,0.014125375207048856,0.01729107184125138,0.026816490014855785,0.01078216357670626],[0.01991408209733877,0.010373257104530124,0.014185764364331707,0.009261913323716437,0.004204347069424949,0.002270652084130331,0.0009033975456833795,0.002766289965721469,0.005842978245276688,0.0058829371073699874,0.003932871338114156,0.010783355802474179,0.006475828219661823,0.01081731393292763,0.008573698707944383,0.0030262833925282706,0.004291303918313405,0.005520990498309022,0.0023028038592612047,0.0005827543470389647,0.009980279504814695,0.021783996335123776,0.0186721234283889,0.008595345362674901,0.0017358994921520743,0.008162100353381737,0.006775343512881557,0.0045990625129749794,0.0010637736640454233,0.003893507154317769,0.00466365137848726,0.010374232243875667,0.007831887455654812,0.010530684783604609,0.00556929571822658,0.004220793572470163,0.00277875444285835,0.0037403183107937743,0.001925227656801959,0.0037916543759559176,0.007418713446431828,0.008027983296218955,0.006751916798489968,0.013627550850604096,0.023320479222677798,0.02413351206251251,0.013845651272707414,0.013093587021460275,0.029530837477164167,0.023812785567288053],[0.0022517986941054282,0.007844203229568986,0.01372271485669477,0.0011215000132391534,0.0008633107576472821,0.006508691938664046,0.005939036324915027,0.004538523745563462,0.0007450303455401835,0.0015983630263059808,0.0029450035169478767,0.015928923785110276,0.020363483553019666,0.020595557055838588,0.010893081040511308,0.004832552260287168,0.0001287068485801319,0.005398469494913755,0.005269145568847514,0.0036234950795717784,0.0006514408282546388,0.0022117602251664095,0.005490098869328547,0.002186811714526989,0.002903496780689303,0.0054954091703129145,0.002725404507111828,0.002327218044869494,0.003436907932411734,0.012883821093188391,0.0028338668065680975,0.00047639597829866133,0.0006566904861569942,0.0009037557051867608,0.0022557494601522783,0.0016772967517847109,0.004723891767629905,0.00877505499392153,0.013826406995058804,0.018108813980069895,0.020691338111399487,0.024455839736555362,0.012777169625565746,0.016883083240161786,0.01606575327406297,0.02395771795955875,0.027204689438805756,0.008125438421577593,0.011451165249047133,0.022448787936876352],[0.00500507802307809,0.012474062108904702,0.014213937395883813,0.0051861041122774326,0.0069975859239648185,0.007366052033209983,0.01034533847775922,0.010001082980082527,0.003280302003074843,0.003710951680705598,0.007172086547753231,0.004729769357804289,0.004880676221522778,0.012556580094199448,0.003932137188542881,0.003625809522799,5.047798110557211e-05,0.008595536888371023,0.004881201534635661,0.011807335357138137,0.013745062189280703,0.018332101998159565,0.012171935732997586,0.01500472311747622,0.007013268817516684,0.000419438034978059,0.0019879237717618623,0.0010558006104270249,0.0007282123692000904,0.009085972481927683,0.0020037921661420956,0.0013010615976887848,0.0008549486361723344,4.8746305049584046e-05,0.0029478808289988855,0.0064928462336190885,0.003499193452235567,0.004514641206020073,0.008688835518853227,0.006359680781817231,0.0070834129692014264,0.012433534329412988,0.01190247764665464,0.026432527647143492,0.005969157539393052,0.01233904439105754,0.03451121486427623,0.008287025982250309,0.00715350044108452,0.018867174650150018],[0.021302000550019157,0.008846049506562313,0.003071710842522891,0.009727438633927242,0.017726176994993882,0.007260708058748169,0.007186474983850834,0.0040341272040253316,0.005078475779477549,0.005132443598904478,0.043585609131863774,0.040336795528636706,0.024659927398555458,0.011430985602777596,0.0031621940762276385,0.0023841481040811747,0.0036876138582074844,0.012089222796540901,0.008514409384810007,0.007511725583171548,0.010943009164935584,0.01018416078417552,0.006220018837117162,0.006203589217867083,0.003059720374958843,0.0035450141563954964,0.008178345090600168,0.00541771625812064,0.0015473870952811167,0.004192317751959151,0.0031443187901084623,0.005338509810517638,0.0031642624923672617,0.0006666604525621471,0.012559073060719593,0.013093331687510144,0.012817665527218082,0.012800882228815515,0.005552554164285508,0.0008270732343083531,0.0011472921019232217,0.0027730146329820607,0.007908798279014976,0.02727470730586563,0.009260610551867582,0.012396781450873718,0.0292226450187036,0.015662464601156764,0.008458352267060185,0.02259482861539046],[0.001977943644566488,0.007540890949466331,0.0049010214481902,0.006144222235078472,0.004412286911327055,0.00025073381176160694,0.0027455785367737646,0.003245640938034488,0.00902378146657279,0.024624148717806743,0.020181144023428355,0.003731798382932705,0.0033350915833764215,0.007046064305945459,0.005357940240735576,0.001131992643676483,0.00047690143042444826,0.010709739829266809,0.028294340169074915,0.015331065888143758,0.0033919077478517115,0.0021577842641972616,0.0012024363842125488,0.0001598227117219843,0.0008819558132790035,0.0040381273325805975,0.011446838687977171,0.006594812069131088,0.009222228926561498,0.007881991003664993,0.010343793409965114,0.012058842568182638,0.012899262157315544,0.003124060340743582,0.0027559048509003896,0.000842095656636087,0.013455382405233186,0.01688531542906757,0.012257465958814457,0.004709796331285437,0.0013422915220826157,0.00017353622081117825,0.002662642774167793,0.015225424203725052,0.013245546877601082,0.015542829538115513,0.016960704249937984,0.023895874054453755,0.02923311074466442,0.015176704014619676],[0.011993376366248122,0.02864998240723999,0.015993166349405164,0.0026603881486314176,0.0007452918154914997,0.0012533510689807538,0.007245022160916874,0.00821766086246889,0.022043539647026694,0.024259935101907985,0.0012678564020091126,0.0032179775388884186,0.0013715930600786135,0.005338206155646611,0.0008879493715608747,0.0006672281226019201,0.00131603962534511,0.003717115800917336,0.011380973870558496,0.0038359441234368753,0.0024735295372118383,0.005153948011047743,0.0060650819571205624,0.0023353142339339605,0.001539608847203719,0.007277064604280393,0.012291054660553833,0.003715165158188009,0.005360624576176656,0.004878886642091917,0.004164083258406402,0.002548609942408801,0.009676256480770631,0.0035759365162824166,0.0017673166492821746,0.005520843288048045,0.012437910818398326,0.0027520206403294275,0.014048207992644873,0.003937436184408062,0.002738294633364146,0.0044071562552712796,0.0024013283004115766,0.008347899132857491,0.022843250275735326,0.028104967346261247,0.015677777259321936,0.01764679554501607,0.015096089347617338,0.007285735303066856],[0.0028001914131973666,0.024857309518413598,0.02331198501727922,0.008443835251420966,0.0034917746772390305,0.0058089448676508035,0.010501110110471723,0.005876478324953028,0.005395666399145067,0.0042430780952807425,0.0016206457083891058,0.004101390582139543,0.002613596402591288,0.00034388656024966497,0.0003843269800996197,0.004172854448065418,0.008787953387978187,0.006632593679903729,0.0012196022084272804,0.001895679206183528,0.003163956598232553,0.00821222727753203,0.001914382059983229,0.0007259997226220657,0.00092764500437553,0.006896082729974793,0.01347468070492031,0.001828500290040304,0.00036001655319213246,0.00038822831454664937,0.000501482388108262,0.0014393600321642645,0.0022463419776188893,0.0022006760353543257,0.0029965042934627113,0.0030240699688894195,0.004221072208693853,0.007054864899201018,0.013883719303608079,0.0009848530969794947,0.0023852263286052388,0.0024787918158840254,0.002040918482291706,0.0109629497407387,0.018240845573504718,0.020366872941329897,0.014240601746129653,0.012038883709969462,0.015418741958025527,0.02070247167630957],[0.0014699915525792195,0.010014081853555385,0.022734171905781905,0.021762030301292434,0.00648778276356611,0.0006012324307062601,0.00449421563099709,0.005013311961942141,0.004400555653024651,0.00664119926905171,0.008804067673136209,0.012089424986876946,0.007672456049175001,0.004155865791350143,0.0029584581194951258,0.004319523240179472,0.005749408329731461,0.009241470832267375,0.0030770271994653145,0.0025299639947773817,0.002563151813966532,0.009627006219067522,0.0008451538591150219,0.0023911128844393333,8.243876725924333e-05,0.005936214235416564,0.008988852458413714,0.0011248791197996015,0.0015879882409106406,0.00163436123472903,0.0015980847026854101,0.006558214017108334,0.0020268782402524596,0.0032272136614318,0.005122420089557352,0.008161819649500163,0.0006826870807026933,0.012316392520842533,0.005555663079868913,0.00013368493548570262,0.0031842526027017802,0.005777438244341415,0.008256258533132542,0.01138413594421765,0.00826946580036079,0.015628567386781034,0.01836315274844403,0.015266025144359398,0.028589200412153168,0.03612937801333997],[0.009621752878485237,0.007387758135887306,0.01980526055556563,0.023853869413327764,0.006486736155606699,0.00023952469801253066,0.0010707113057713293,0.004287006430623588,0.0014873611345166493,0.005365393995708963,0.006865584151595523,0.0003079564781547951,0.0018773234878707574,0.009544448801014389,0.0034613839653456547,0.0012403325703443245,0.0018881950283532076,0.005341458007840433,0.0023644457466033926,0.0021363643481241076,0.0014052956149169715,0.007145709372948574,0.0004644874190480611,0.00026971009914266087,0.009582831323196903,0.006075014876962282,0.0007965320677999882,0.0011061485519273725,0.0002091419914025582,0.0008443607810463326,0.0024394498156145848,0.007583725357322889,0.002368315156266963,0.006028447516523701,0.001885358749690835,0.002156700329073563,0.0077253292068069045,0.0060212758391447576,0.0018084166885008774,0.0005578183086303169,0.004308400320308516,0.014232146884900015,0.022526220282470366,0.017662780578508726,0.012247321074104405,0.01670302346376494,0.014659165546149768,0.006951311759196163,0.01814686805986904,0.025987354234663584],[0.008534095919595898,0.0005808183236098764,0.012903242653499352,0.025500287940614576,0.01480641564953801,0.004590837203630045,0.004056946641716957,0.005375806014351597,0.000963365973700119,0.001968348466343802,0.0057154640072054645,0.004418709751103603,0.0064574629278356215,0.0058317104573486055,0.0015834835468440925,0.0006859083792288424,7.900393619680949e-05,0.0029090522670353063,0.004939183360727331,0.0009792382353743633,0.0022391232375745425,0.006762693212975706,0.0010919415160819419,0.0017674329594725947,0.00656839759179017,0.0022470946443733154,0.00013508435287867962,0.0005732980347462296,0.004283689381394689,0.0005700440363835271,0.002916546716521973,0.0016566845326735102,0.0007081888491808661,0.0019430023996515186,0.0010179195427346664,0.0025138099424937563,0.0005707394668915876,0.0022133745685002735,0.005307508074784035,0.004883327507032677,0.001453788791844073,0.010864235016742642,0.021312264066417733,0.014493245811829359,0.0061643183064749585,0.0031950336384399714,0.0092053749024088,0.008401246564978012,0.016383126729834455,0.032569099624662395],[0.015131963342225196,0.0033752430547055135,0.010409660364356275,0.01981079047087956,0.017814504577253493,0.016279921483216754,0.011966276134580144,0.00785755902155497,0.0025384283257159504,0.0023617499504123914,0.004107782332411952,0.005923062712503191,0.010870178459491677,0.0004289345390273549,0.0052497813019629185,0.00033507631014779386,0.00033044092954096773,0.0007835879426849088,0.002277047764061016,0.0029082909756013436,0.0006420022450213383,0.0013188085126886497,0.0013375330724639267,0.005371834004582982,0.003197626265650105,0.001837027614955814,0.00039379970152034617,0.00011591057289020158,0.0012146084793267576,0.0009087178292644343,0.000303511677123706,0.009096743005333066,0.006801139700300974,0.000856359908187569,0.0011392942545793417,0.003344011569488942,0.00016695382319653086,0.00041637252454831416,0.014805827003459827,0.015487373118811267,0.0012816633919791468,0.002490473427615293,0.01585812264686648,0.02030759896794997,0.004547642166285223,0.0026003969861230674,0.01165631890987459,0.019768041488729987,0.01707964266798871,0.02289797818684991],[0.05079288539709874,0.001181240642254583,0.005020026604856919,0.011597811274821008,0.004025682413743365,0.012494460603167255,0.013231800034867857,0.005899680533168314,0.0033816230252620037,0.0013453138413730603,0.0025767761683308,0.007328209919787422,0.008408478012200979,0.0005537579951738726,0.0028286917703719008,0.0014636863028417517,0.00021125155274935201,0.000523042145055186,0.008314845139849886,0.008569574570865629,0.0013236957699167978,0.005579881409994593,0.003095920053251428,0.012814587514417145,0.005357387980218516,0.0032995646528806506,0.0006832388031013921,0.0012578908256273735,0.003953989886360393,0.003476606130867109,0.0017878402960954513,0.005955212922832027,0.0007466455259606115,0.005957180202710945,0.005819834400083918,0.005619243771512199,0.0025788952472056586,0.0021334663603106247,0.007441415974831059,0.009964369441067832,0.00032587876732512806,0.005945971825500338,0.01964707049995721,0.041628510065155166,0.01284269088586219,0.0024722768728046357,0.009564364746291031,0.023306656686681602,0.025740804731570786,0.030617259080365777],[0.05852613814041585,0.00032026408527221,0.0025567813401079025,0.011262119283991193,0.0024252233002457764,0.011375488357187345,0.012948331716800997,0.006145049521109625,0.008135088670475568,0.0032383391884829174,0.0004681423581897284,0.006185765978442728,0.013310163068699645,0.006505149554000674,0.004783487387598004,0.008696266777664432,0.006021330874594677,0.0018257696754539654,0.0017261689338749775,0.0060342403101629714,0.00033813089452536374,0.005436483686959947,0.0013299796306127595,0.01172202254286549,0.00854204649157758,0.005516669790113005,0.001924676848276887,3.642786201120292e-05,8.704779313719616e-05,0.0001758368423845728,0.0004265541541806498,0.005909327268423521,0.009133416907649383,0.0016470874022827043,0.00025567416617170254,0.002577601078378296,0.002715694938127834,0.004062799958615152,0.011417041721695272,0.020879007973182383,0.007855834005201066,0.004185939985824125,0.010508704682176146,0.03874912708791267,0.01544178504684322,0.0035402035330001505,0.008618672012907263,0.02676150058004578,0.04022362997920959,0.04032904914688032],[0.030244635645463536,0.0033905628182995156,0.008374871352912303,0.00967285499009586,0.002480075224200599,0.005635099982233847,0.007524054431983892,0.00660845609011176,0.012561265655149374,0.006454519347835098,0.0008165400818103544,6.919397011723732e-05,0.0025038112002673005,0.004028136397106016,0.004699675493156306,0.003496165562030081,1.501502454423615e-05,0.004999871565053245,0.0020636061764533176,0.01942508504536137,0.01767966250330607,0.016781313381935618,0.006743236568910375,0.0005841592146351237,0.003472964356409652,0.0034286457464882186,0.00343413153290034,0.003097540514293572,0.0014954340444323531,0.003113840528932923,0.0009254170625237348,0.0032027041941509867,0.0016774770328346978,0.002298454166702305,0.008631961648390467,0.012034474597079426,0.004869397676025828,0.0006383969158424105,0.0014522541287594975,0.006264513871199669,0.0027156077501279724,0.0016107619450982126,0.010382529583318936,0.012932007603734457,0.00986604803433328,0.004580047706632087,0.004327070555002999,0.0031399540631219043,0.017140945103726837,0.04701676022305359],[0.018874544481392443,0.02524879112735476,0.01722859021944508,0.010547735694043214,0.022196366907569005,0.018070465124297604,0.004798484906926552,0.009475522702678265,0.023280770269402586,0.014817246105510332,0.006804221483333937,0.0030072643508857588,0.0005484188856991191,0.0015832978517801425,0.0012825318448170808,0.006316557043483801,0.0038588136338316087,7.960634479051089e-05,0.0031088804935035814,0.016548473993746524,0.004206142967663014,0.0016742410052435555,0.002083664401333695,0.0009613460728681708,0.004274677178828925,0.003911326412318675,0.00042492053346445237,0.003175910165454164,0.0029695819866934494,0.007436144488111192,0.0049719042026119195,0.006270721711713485,0.01628471813469782,0.013211967097138382,0.005544312200873501,0.007081217095085691,0.005720890453512739,0.005913126487986907,0.007969664387314128,0.014930254358597305,0.0043815925903878325,0.000965061918523626,0.003551471707545118,0.006671339016312804,0.0077789260773374015,0.0160404336684284,0.006938380085542156,0.0001706942466487072,0.009008501149038632,0.026659763266384705],[0.027380356824371146,0.021214106807530202,0.00598471940837432,0.010486803787969599,0.03685680900263201,0.017853190529950907,0.00555096813764227,0.01571287152803199,0.03907727990656314,0.015400044770167296,0.007131482909718214,0.006096566625627789,0.0014953702003858691,0.002566369478592011,0.001799091816615424,0.00048573340825304586,9.75286242756052e-05,0.0027595811057477765,0.001191563387869947,0.006607003016187794,0.014643697059831524,0.003502509721265104,0.001129236473685566,0.0012018263689371025,0.0017634011526310187,0.0024982808815167093,0.0032337960904348846,0.00799732815317639,0.004204969180946403,0.0002962507987508413,0.0024367215360982103,0.004561362693714934,0.008692183906165342,0.001284094986458771,0.0025569888968953107,0.0018954920240926028,0.0012342511778456584,0.004838303352375438,0.012561011671323147,0.0155731208137284,0.0016133583869430339,0.00067990103707454,0.004517480094359992,0.0018036670554851771,0.0017447639050492726,0.012023393777650757,0.01158606501488995,0.011875632611468633,0.03288136130182588,0.011136325653313814],[0.007876775950619409,0.0018620877594483299,0.006217415743818124,0.01369725482941458,0.01043456586267839,0.0011442377468459852,0.001703783772409719,0.024931881724513813,0.021979124237761036,0.0001654903348087961,0.00011460276238214672,0.005969206652167387,0.005907346156215251,0.0011736998938046053,0.0023413036851836566,0.0040444642643793945,0.003802881611978084,0.004007180569160789,0.0007844712980961085,0.0009560108186721776,0.0012903130790591637,0.0071656161155704435,0.0030946251002630758,0.0005991485069407425,0.00018338072520476993,0.0017793649583809775,0.004058301925990668,0.012084045108351803,0.01025674901360761,0.0036293147983440166,0.0005712247874594758,0.0030026197448112515,0.007680579251532007,0.016715607992859146,0.01423536719769089,0.015616222569108789,0.011247418235271048,0.0013081568590992342,0.008719715855573386,0.008135241106162957,0.0030896066082834136,0.0016088760966586834,0.011297146716822054,0.005535545329899896,0.0010236417612287823,0.002025271207391069,0.010684785697908053,0.03477152877011222,0.018802780025448017,0.00253483175152293],[0.003094170402171116,0.004805069688931635,0.022336074502031147,0.008260522047223232,0.0015178665213305288,0.002917244167327618,0.0043391888947568475,0.0191046006688334,0.011889420368574908,0.003303095527334346,0.001066337569526187,0.008257883132994468,0.0015455170437968459,0.0009986114615827258,0.0025667027619962713,0.006296585824467541,0.0038888022615389223,0.0009326058121167249,0.0013265781310879898,0.0026754580238623066,0.000911402291662881,0.0015059125079818385,0.001283377144891388,0.0012904237345974995,0.0011693340322862804,0.0014556232381331404,0.005034254134102899,0.008626912218044949,0.0019674240939193677,0.000414369868674254,2.6722396000187847e-05,0.0016632772750301364,0.00856395515938922,0.0010563806583193532,0.0003656107132844678,0.0025130090512501674,0.005076886294511678,0.0026368601294671245,0.008778505945496447,0.007392003008725063,0.0005065623161259561,0.005289400221466303,0.013232629494638498,0.0068705856531808725,0.00505819599322488,0.004736959657773389,0.013074825401246413,0.01439421863728138,0.008571846607683953,0.009663178465526882],[0.010364849657061859,0.018924163095327965,0.0188974663470147,0.002558644072824917,0.0014680392826332716,0.0024810878276397396,0.0003807177424882299,0.011497781225154326,0.01661901779348123,0.00433691333336716,0.006417631712357144,0.0013582285371133967,0.0001425226032085281,0.001218973169580411,0.0014324852674346754,0.0014225057086415577,0.0003261604165905126,0.0016970945210119032,0.00047168765489221504,0.0051230995703773815,0.0015303146342965656,0.00040686064857740033,0.0016607191095940367,0.0002903714607776746,0.0011381236959636977,0.0012949866610330765,0.0039005636681228007,0.013305397515586672,0.02327083435518952,0.016817377897389196,0.009115980499933313,0.006639059505516662,0.00448775236359888,0.004543018799564047,0.002661365785113599,0.004750830003039204,0.0010035490491085207,0.0027924622037745596,0.02087683044988802,0.019594709048170005,0.016896247066812052,0.030290241333529932,0.020703061741195204,0.013829731346958713,0.018295680166132745,0.00778080668634645,0.00013036942331844185,0.007209475108774954,0.004844756794683511,0.006860869508720507],[0.03094032964643277,0.039242313588681056,0.029754996917466487,0.013942021390779852,0.008952376574247464,0.0026966692804637564,0.0005655495833809233,0.009633371980316103,0.012687798460787781,0.0035946468188569752,0.0028636445066772065,0.005889521148448336,0.0026480502868270663,0.002847102989289406,0.0029274359616668047,0.004330932991946256,0.0035916194837137573,0.001084695205483745,0.0005465429693751318,0.012266066840443828,0.0074224805143567295,0.009706424816672585,0.01253431532295126,0.006915753055436642,0.008357851829145432,0.0019665777904657707,0.0019669480743428557,0.0018767966229956343,0.011204881891361988,0.012730583821679712,0.011371536308794655,0.004715765428155101,0.008249664465973203,0.01938826101348887,0.026334233479062604,0.014314848497950047,0.011954586377074918,0.025057681743911524,0.044801891891680726,0.022624437186626115,0.015941509723505835,0.021132232867708482,0.008404822880039915,0.0020668371867069565,0.005491294263544347,0.0032505559959209378,0.001633147182247072,0.011129383136311745,0.021141240303189264,0.01857254414275694],[0.015121381386001184,0.029608274392281163,0.026539562220092655,0.012132132686868743,0.013535191266304623,0.01618056453563799,0.009664571277375853,0.020055201637985548,0.013072945448797425,0.015942137913393526,0.017403923657862194,0.018091350995096324,0.013226991108910685,0.013414868883166564,0.0022184765350520227,0.002866847755726238,0.008033103719810064,0.00254131164573692,0.0015374459810580125,0.011142148565456105,0.0023564386333062197,0.001447434500933494,0.0009555737752076568,0.0031419987521597694,0.006161336416231707,0.0007824128215470655,0.004911866688068688,0.00596567904392872,0.008897909186774026,0.004385727728650115,0.0020162261377367433,0.0008828050010609381,0.0042565260536123525,0.013101458619978903,0.016076646793207926,0.008521168631078126,0.016627534343040436,0.03690169487814475,0.028135262967023858,0.012852116430657156,0.009981348414831313,0.005009289768816923,0.00038595395429483393,0.002938034020045989,0.006766451525906471,0.017904780869956744,0.023834196961702414,0.02921991293387437,0.02901567462106333,0.027871347051137432],[0.009851912172108832,0.009057084894392033,0.01846863615815402,0.012195501113272887,0.002576169559490984,0.0013012505673664558,0.004097362378412764,0.01972778819193766,0.024329570068469336,0.015530032630259084,0.010985652760648187,0.012520713326121419,0.012964256226496244,0.021683943870901674,0.004450088566277387,0.005117856400014006,0.0030419011040181574,0.008668592540292494,0.0030432928252366815,0.012235489719511283,0.006751217333044661,0.004893042790418385,0.004416063135689824,0.0006762224071878417,0.0019836706072998596,0.002536149067722529,0.0013671610248951428,0.0011606183464153126,0.007293780350031438,0.010122815125959563,0.005298826217076271,0.0077818077940541575,0.0008352523464780058,0.0008658555996769828,0.0017832740821010962,0.0005103854434715785,0.008069525655820912,0.008238149225276756,0.0016320001413882167,0.0031641939213113827,0.004141396254066179,0.0013259909337700053,0.0012196879996330722,0.00339588353709626,0.033311551434414076,0.06035510788817203,0.028376626063521378,0.009427211484337875,0.016276050450330024,0.028145579259127577],[0.019876039268270154,0.0038175836089369545,0.010898816577512346,0.013495940907348545,0.00432805319261295,0.00172977470584981,0.0016867496224146263,0.006777411769823756,0.008904294900941146,0.01235097431170501,0.022009827487007853,0.019335638964085296,0.016306867300189265,0.02556861207199696,0.01846740127514194,0.016518258346889483,0.009150333576174681,0.00045948005067168924,0.0036454453974452583,0.0033324751758876526,0.0014419389758922208,0.002624354799483057,0.0030663138989033716,0.0011425591130298548,0.001938214406971433,0.002036498450779746,0.00589043034057823,0.006694865561698643,0.003454775399261145,0.0048092864035654504,0.001193830887596465,0.0011467108635181012,0.0016570046396850672,0.003975050833471225,0.002414321918104615,0.0020282386256431683,0.007395708994818195,0.007258386694421252,0.007033891769750299,0.00890695143019434,0.0057262707958373,0.002657930316325373,0.002227131555955984,0.007963468545183018,0.029106005699818204,0.020773373540134338,0.0007052919876092587,0.00036221749872156846,0.01412331563529716,0.020113959908513685],[0.04170155733953994,0.011794240370455596,0.013190059423889237,0.004174433634882844,0.0036828173736325742,0.004827214521218466,0.004908202556902533,0.003152107916820308,0.00448953892643552,0.008415551388693574,0.02208855901419946,0.0076513767916660804,0.016137306844621495,0.011686926642935115,0.017354155020344115,0.022118718408169622,0.008308890790447441,0.0035023013626763744,0.005502096845211397,0.0014577930313451012,0.002581628878092449,0.002993574890715537,0.003031323267013911,0.007808356852499042,0.0008827137932857142,0.006611955456969537,0.002459120982946301,0.0013332279660260651,0.001482046236765877,0.006000008445687749,0.009301176309941424,0.009620000240259271,0.005064650698073811,0.004258560610653757,0.002910357908507631,0.0028296776181463723,0.007545251928749851,0.005734293972103705,0.005548792990504021,0.004637675151408083,0.0015131417017566627,0.0037783939839760193,0.0006406547707294094,0.000821748823391025,0.015095234776608487,0.023863363233650445,0.010756421436974056,0.007141492407966149,0.008583948777731231,0.014905201824202782],[0.030883975229824306,0.008101097475284634,0.016139332533819044,0.0034303132966879996,0.002410244212824239,0.0025247888695074288,0.0001176058963544507,0.002475003644976447,0.003995471087295764,0.0028879919098537907,0.0012600061194190135,0.004723870089611204,0.007574908828314463,0.0004665888928248852,0.007981316360911166,0.008618433563357895,0.008751996928209951,0.013269344282210738,0.016794115891754717,0.009859664662419458,0.009198228154877171,0.007631385160112025,0.011098348143367272,0.00783590086860357,0.0075006200821605045,0.00827090348351082,0.0005525832516960399,0.004878312803958654,0.000867122861764074,0.001897672586105134,0.0031314068796223058,0.001580146639703045,0.0009928516045786086,0.002504558186005393,0.0034141662765436245,0.0030164322229928368,0.010296982799620436,0.006168598622467383,0.00954659829248551,0.0051947744872169145,5.845088815714625e-05,0.001945999890393764,0.0033966957629438105,0.003378472355527847,0.012553438487662714,0.011277638750525638,0.012749326607261757,0.021237644170388523,0.005497586881980961,0.010723699685472769],[0.025420226836262536,0.0085304719038705,0.0133107469601753,0.0076546152215326655,0.001326037021668998,0.010120742894086496,0.0020008098922039475,0.0027955239360129324,0.006259939807233897,0.016171818072648343,0.010492284459015079,0.00242297814630862,0.0009805280810788876,0.0006550575943810287,0.011313791732346343,0.003507000790409281,0.005182699953262383,0.0038750196248228557,0.01001109654113432,0.004240802594083544,0.0032071913173172045,0.005420678070123158,0.014506074589625573,0.017550704792264664,0.02604506820079736,0.006632933965258752,0.0076816484130809584,0.00353925305814663,0.0011752940256473643,0.00015526342970405076,0.0013165482408861093,0.0038433933917157823,0.006738685270463389,0.006018439509330149,0.007352931256619591,0.005246305076856871,0.003486918349325833,0.0025624978953290023,0.010141874269041767,0.01022000681207851,0.002765674686222566,0.0044315848567586255,0.0025850550754817994,0.004041130769073872,0.020473042734870054,6.756310717238536e-05,0.002580393892935487,0.027152746494569942,0.011324939231078702,0.010347461983546347],[0.040966390942544735,0.012552989989255204,0.012383106500370562,0.004249553250397971,0.0022053187332412632,0.009963576237990272,0.001769414080949801,0.0008943223136791293,0.005593005534595006,0.006969062439228524,0.0003356185489750914,0.00018816716684328755,0.003389023285567289,0.005059647771821242,0.0030803089764468963,0.0018956142543896954,0.004955454153898189,0.00789148306548828,1.469402696088232e-05,0.00043123521773601203,0.002661633718158814,0.0001309276252785919,0.0038365805043132657,0.013857667672893169,0.014167262858588147,0.006470825198856827,0.011746604186515288,0.006866861415767712,0.002728882923236729,0.002841587234623171,0.0054831923942967944,0.0012357177827405025,0.0008265860811315787,0.0013885942971841301,0.011731085284322068,0.006569780254729098,0.0018457963910624804,0.0004317976076484031,0.0020923111789249173,0.008102137578557999,0.0009611893710347809,0.0021605714777424216,0.0029156543323885474,0.006881261236194019,0.02092861492959017,0.005456435542872704,0.009657343123292394,0.03377523283185276,0.016294142881622987,0.0033328871198475187],[0.045553393092196304,0.023389500564060202,0.02363226577439798,0.01364376164499115,0.004845372045828623,0.0028831075080790304,0.006475272007449934,0.005463221210782988,0.011851478399348405,0.018282279140172563,0.007768564724312259,0.002501984482469879,0.008829788090336169,0.007866946357883849,0.0003145547831177326,0.001027094319222835,0.011704213037209617,0.011686578397019757,0.003425293656492102,8.813121019984554e-05,0.0027579275585694675,0.00011957374390026015,0.004745353248262276,0.012811712354080991,0.010464276473124624,0.015333679276439667,0.032662295737289626,0.03143699040296587,0.022316068761435517,0.03310509157480689,0.04289542986146724,0.021906169174764793,0.010163544806886811,0.0015940614563224298,0.006391075176714027,0.0014004838389023305,0.00640723762506004,0.011458017066773664,0.005209859767422231,0.0069791780940628295,0.006793976912473215,0.008487572013524845,0.004795184375478624,0.0008871776091768575,0.009620334459553,0.003479261858821831,0.022730003452080087,0.04723629784106951,0.006940027876518562,0.0016721692094257422],[0.02537689985464027,0.009857811017504233,0.014251026128443686,0.018475849830146714,0.008438159720656126,0.0097625853245665,0.018989942277769012,0.012573262193744526,0.010275924834834622,0.010277049210579986,0.006294841833927156,0.0010694569663858085,0.0036312548761521053,0.008910018792867808,0.005835740083192983,0.004505096762786178,0.01326915819304426,0.008373097544270795,0.0014942291830240253,0.0014970925369863822,0.0039215908520182545,0.0016726692484088368,0.00016190673814667897,0.0012824217268880029,0.0015743696617470512,0.00028000227382864873,0.007065210654044341,0.011729098692196273,0.010886177640634553,0.004844433005918554,0.002287629275245636,0.0070592708168345595,0.018258239602133904,0.012510102850918291,0.004470356818308757,0.0031484897265555713,0.013696880217696135,0.008700929623210826,0.0028950685559729528,0.0021698464882282387,0.0057471718506375315,0.0034262581482152176,0.0002458471503130318,4.300545791469899e-05,0.006302394550888325,0.0038839561026013697,0.018796085051193793,0.04216714468991165,0.006807733718192592,0.0035845389640909993],[0.01258971761580378,0.006261883415111339,0.005915053019581252,0.013130473474994696,0.011411553624834021,0.008321441120506005,0.0075236292040380785,0.008233344964072737,0.013458125425756518,0.01367202498992537,0.012758449156519141,0.005985207150000352,0.00036058508623099643,0.009115784997593114,0.00929413918984638,0.009191571591398901,0.012246115419890711,0.01605417910530952,0.012701290315258856,0.0057017190105261096,0.005234644180757527,0.002765409244723091,0.0029502880551063758,0.002956670995454744,0.004548078698332118,0.004244073918962858,0.006104943046044707,0.0002229275093080686,0.0004991018391145641,0.0023952693854499387,0.003805368653828468,0.002065437409094774,0.009590567395673334,0.010735554789449507,0.007007023010136292,0.006722428954693261,0.008010019872664656,0.003202092760111531,0.004717240993474569,0.0053573763920167616,0.007286505676183166,0.0036628756624496085,0.0018202017976104703,0.0016317381119306746,0.006844664413668321,0.008946408703921868,0.01791600974243536,0.022624684829052184,0.00765971519984824,0.013357870809558277],[0.0035624492134455473,0.0026954657021005216,0.007125721200489784,0.013390419307981153,0.008886308267568921,0.0004650851475995907,0.00153055777708506,0.0026498542308673254,0.007088392240147491,0.020130623753089303,0.027085730328320706,0.01673347902421566,0.0035493333594352025,0.0013131972497635934,0.003940045749409204,0.009637315752237119,0.012870924845742041,0.0024959688156196373,0.0002935280281780554,0.0040651821780437,0.00038739426356835366,0.0013830190137850695,0.0038680467550238976,0.002630806957213865,0.003736900872254561,0.006891539648573126,0.008615817943390213,0.001765985314159307,0.0018244334045112785,0.003126665923986492,0.005130119882267308,0.0015440542227899221,0.0004298314707178065,0.0028364438930999786,0.006451996841768489,0.004788952228123758,0.00015815004564291167,0.002942973359952093,0.010376326865312497,0.010631918982068955,0.007820984370620784,0.009051283365495778,0.010471054488586325,0.009148556059755784,0.004430197373472415,0.013655021589490075,0.026496613583740825,0.004378936679618998,0.0037043470463299444,0.022374471279678374],[0.004530732017770769,0.00028189694161209885,0.006978970297904605,0.008911140223989778,0.0015106334392287004,0.0025064945075399217,0.00926373621315888,0.004442616338043518,0.002955489555242827,0.008188052724425448,0.02055821562158609,0.03295163243531449,0.026739157064721075,0.0030866734441044996,0.0040958693160577965,0.008773074310733603,0.023076586604988698,0.018179077193622755,0.012368609175633528,0.0039807740900719675,0.0019451223001957102,0.0030509334686780356,0.0023677634286694686,0.000869694555797741,7.767861668533493e-05,0.0010557162167596037,0.005161323034548341,0.0002349140925459165,0.0024712952065790313,0.0004916159938346514,0.0015807436078907134,0.0013289232257146333,0.0012580968153462384,0.005487118948245809,0.007827191790161775,0.003209520396714424,0.0007533342085776772,0.008290669427182188,0.009001025872988686,0.0007313689770334769,0.00042053721246264407,0.003699724398171038,0.0035492217079553874,0.011638645067369079,0.011306793046290588,0.010797091330567027,0.016106069859121837,7.065854384630809e-05,0.0017519380321942433,0.04766322103759024],[0.010705255320661515,0.0050648472221002305,0.013815840083304904,0.004549172335468416,0.0012317909654262285,0.0034874556703113763,0.011238504907817554,0.009153330431003368,0.0004767372040474022,0.0004390918203390705,0.0026194896871097415,0.013033569286940227,0.03276018126822112,0.024835703554370876,0.004656474431834862,0.005837988857362698,0.022781992946929543,0.029879856864249245,0.019491939319062564,0.030675383142340532,0.026189139760570024,0.008979428861973286,0.006222521651195845,0.005304351203959801,0.0035633204083429784,0.00029260661211420865,0.004714724640397661,0.0021508203703831962,0.0043752361762915476,0.0002970528975276368,0.00016803011271807205,0.0013274300555701905,0.005219865182597148,0.0057307295187305745,0.0018444622216575014,0.0011459002514127275,0.0011156333626796424,0.008384176326924004,0.00897742992201657,0.0016911303430405345,0.00020748196069314724,0.00122440922105612,0.002086684275266664,0.018545138324487134,0.03942571605733021,0.02264932353803802,0.006458556926675199,0.0019284614345774964,0.00788716294537033,0.06607583395845014],[0.009986259128575738,0.012176936846758087,0.011096754128645046,0.01534521934125768,0.006149688385900398,0.003002109390581856,0.0015206699771177822,0.008790564051999648,0.00409102826638102,0.0071903667719728104,0.005683001301454107,0.0016820092902566032,0.008878621908111216,0.01645038580654315,0.010087408832972312,0.0023753543149331526,0.010140231176609211,0.02760500555321467,0.02428302117966169,0.02271970280689311,0.021527862636687815,0.02088414658639527,0.02402523963082996,0.021511843566397487,0.021977802706187658,0.020121434147081216,0.01622610680304288,0.013284199928492262,0.014519991321867941,0.005315053923809534,0.002347721603911358,0.010300024500349125,0.017220521035287078,0.002651562731192092,0.001898353318418132,0.002231127146742036,0.006891960972529096,0.011481477811205145,0.03220850789829788,0.018183603928389237,0.02450277392371457,0.01196625956792683,0.005117846239267962,0.017044861442159553,0.04130690311754516,0.007487267992502161,0.0011120719253165194,0.005090582111320032,0.03170431772281647,0.05871536407020026],[0.010433304447072229,0.01567417985347177,0.003092505457641718,0.01649793768332294,0.0208956361157826,0.012192447358168849,0.0004219843581183707,0.002582915379750771,0.0003865442556395178,0.0015027702687469484,0.004359643188495475,0.005267335169857131,0.0020066738334191215,0.00319009155423421,0.005925614933950884,0.0010287089004244719,0.00048743550112658005,0.00616410217965864,0.005198298719512572,0.00019361093553492238,0.0011874807129922545,0.007006693404518932,0.012033541824825744,0.007931624796727831,0.004306474956475031,0.00845540468462928,0.004061808575243215,0.0017116520481722949,0.006824320796175907,0.005352338187032162,0.005717846247878868,0.00802070682648224,0.003977797138362984,0.0031769431705106236,0.0018727636245138876,0.003813683338460764,0.00828854966081704,0.007894211780177535,0.03628276157320666,0.019206857547599793,0.01798758045764158,0.013901219223126506,0.01682178161837997,0.017205366591910316,0.026160359916796858,0.0010183648949823039,0.0024971306418009,0.022621510679635498,0.040968820444726536,0.025382562827095598],[0.014361145154023255,0.025825451937322497,0.009483867606200848,0.006165823310278902,0.020243404602751192,0.026687248526548468,0.005737203787160722,0.0068967885603958765,0.0005920975572727086,0.0006602391055345183,0.00436298125495148,0.003691567631265235,0.00019243266164028282,0.0013905391468346587,0.0037908525927892846,0.002759282516692381,0.002343654331856354,0.002331023830580949,0.006429283449192893,0.0034816143064460964,0.0003498409825585647,0.0028659347606625656,0.004492494773117363,0.006575256341799835,0.004772934701856619,0.005274110503390635,0.0014292866083212563,0.0007991818735179651,0.010146746308359173,0.023272958416555887,0.02722303870592956,0.015064065129547671,0.007411726223412832,0.013106685336236896,0.021817255392184993,0.03879903475574937,0.05901983920092244,0.03809974698067076,0.008130625347487899,0.0012626243789243667,0.0030651953632225074,0.0010976610748178249,0.007182560150766249,0.019012811896338706,0.016326211305455068,0.0010504407257049134,0.006511319787820382,0.02726098589041458,0.022189065408886037,0.007534660566417072],[0.011128283548751616,0.023105983006209453,0.01862819907045321,0.0014515371008080923,0.003584679716031709,0.011691432750867344,0.006777728599011865,0.007645663915980205,0.0019559303053407985,0.00042089345863866197,0.004154086985706341,0.0037888011715297306,0.0027738390019732893,0.0041542357355984615,0.0057498065466802,0.00692449058444114,0.0007707848483053223,0.0025285942737633097,0.0024956348880961167,0.001261989679423637,8.812321742564967e-05,0.0018336134424658268,0.0015187850202881934,0.001886175051206652,0.00026387966905512317,0.0004461543872152508,0.0014645231791160763,0.0025697887326821493,0.014778810267735733,0.01573632586628407,0.009788191006795136,0.005379806454468501,0.003960762154759334,0.009890153118051404,0.013271103318472163,0.014678807200408359,0.01574017517492978,0.010379005891188878,0.0032650357955824752,0.002335287311281203,0.006542919823477277,0.007431894264261897,0.012039046602453588,0.014554961340777226,0.007284235942976912,0.0008287552402708326,0.005246107098987995,0.02164210803471783,0.016405144188772917,0.010217248465589936],[0.006677859663694383,0.007923919940641405,0.01632999700727168,0.006665502808423057,0.0030739332185454058,0.008046228930896765,0.005435801922222714,0.011105440787065157,0.008046032068722201,0.0037673035885116535,0.0032309353559215664,0.0013488403852912403,0.0002444206652646581,0.0010526885435861422,0.005937194818065803,0.0058818799015709945,0.0121794291389288,0.007440889979131237,0.023832877937272748,0.0028333007505160056,0.004994938616021927,0.002237334951075732,1.2640771500154615e-05,0.001497353178392646,6.091178477984113e-05,0.000453402770860461,0.0017760694781052424,0.00637215082912977,0.004186400530022967,0.00011481983557458278,0.0003766091280607111,0.00044938894762369626,0.0035710641001305654,0.0014228138851831505,0.0009177005088234413,0.00961941653456278,0.0037249956795982414,0.003053183383272327,0.012905479458630065,0.012897521507274643,0.008231259734942589,0.014213746539520986,0.018506296933092085,0.016028957194839467,0.011394615617649054,0.009918105637793514,0.01442289542832045,0.017713787632979157,0.005787457701272328,0.0046555063480976985],[0.008626317472059008,0.013104081448001112,0.025913985459126602,0.023309017157286387,0.023740013515044824,0.03187265754773018,0.02656453325482009,0.026446258637562302,0.023056986147923744,0.02054463599027538,0.0052355312634266744,0.0023595783792061484,0.0011253145410465744,0.0015977535963619658,0.01067221199190229,0.01972189897525055,0.012079262199278046,0.00939392451243919,0.027150677634289862,0.030123578431412074,0.016302625666697754,0.004211261284904014,0.0021195530284206,0.007062216121210634,0.005828256969724599,0.003372966475942727,0.009287393751603314,0.008965095801657115,0.0005944377662693502,0.0036532587876517237,0.0005463826718579069,0.007289926308232481,0.017790560952092586,0.006837541003428515,0.002843026289909045,0.02886173034632992,0.011740993853164695,0.0074593632655249684,0.015317617659195187,0.010247614449129978,0.007848077442715389,0.01684933257650236,0.0143505900561864,0.013831345976761552,0.016166939881368685,0.017326238637862826,0.020601541653080285,0.01413103987614908,0.005173366149269264,0.008103768630155717],[0.018895003134573866,0.010665701324154871,0.01826862284901216,0.019464449357577532,0.019193202586419846,0.029897730435121783,0.027730502090229286,0.012513753723353073,0.020563313087154242,0.030942829111657584,0.01116548545443629,0.0076324263663370105,0.004939404484605104,0.0014946969930208303,0.0074495156009664314,0.008438549186349308,0.005013164309028008,0.004427080708700085,0.022562549138545756,0.04206099443038315,0.01680638030311528,0.012237967489923361,0.00037860726580878296,0.00011775310684973108,0.0012035704544521315,0.004861086459371447,0.01047841966907114,0.005538961143743969,0.006458899101215134,0.006617596683065969,0.00013087896603095303,0.008541874822351891,0.01399946783192987,0.006017775115299674,0.005401821955064587,0.013300113559957485,0.00041213450186606507,0.0011800920897012894,0.015609168123895524,0.021341539942954884,0.03251419976997781,0.025150318905287405,0.01322776431158979,0.01817146462028958,0.020481997320075482,0.01657806997934863,0.014955546086029935,0.009701669235605125,0.018696205640132663,0.040528653987088194]],\"type\":\"surface\"}],                        {\"template\":{\"data\":{\"histogram2dcontour\":[{\"type\":\"histogram2dcontour\",\"colorbar\":{\"outlinewidth\":0,\"ticks\":\"\"},\"colorscale\":[[0.0,\"#0d0887\"],[0.1111111111111111,\"#46039f\"],[0.2222222222222222,\"#7201a8\"],[0.3333333333333333,\"#9c179e\"],[0.4444444444444444,\"#bd3786\"],[0.5555555555555556,\"#d8576b\"],[0.6666666666666666,\"#ed7953\"],[0.7777777777777778,\"#fb9f3a\"],[0.8888888888888888,\"#fdca26\"],[1.0,\"#f0f921\"]]}],\"choropleth\":[{\"type\":\"choropleth\",\"colorbar\":{\"outlinewidth\":0,\"ticks\":\"\"}}],\"histogram2d\":[{\"type\":\"histogram2d\",\"colorbar\":{\"outlinewidth\":0,\"ticks\":\"\"},\"colorscale\":[[0.0,\"#0d0887\"],[0.1111111111111111,\"#46039f\"],[0.2222222222222222,\"#7201a8\"],[0.3333333333333333,\"#9c179e\"],[0.4444444444444444,\"#bd3786\"],[0.5555555555555556,\"#d8576b\"],[0.6666666666666666,\"#ed7953\"],[0.7777777777777778,\"#fb9f3a\"],[0.8888888888888888,\"#fdca26\"],[1.0,\"#f0f921\"]]}],\"heatmap\":[{\"type\":\"heatmap\",\"colorbar\":{\"outlinewidth\":0,\"ticks\":\"\"},\"colorscale\":[[0.0,\"#0d0887\"],[0.1111111111111111,\"#46039f\"],[0.2222222222222222,\"#7201a8\"],[0.3333333333333333,\"#9c179e\"],[0.4444444444444444,\"#bd3786\"],[0.5555555555555556,\"#d8576b\"],[0.6666666666666666,\"#ed7953\"],[0.7777777777777778,\"#fb9f3a\"],[0.8888888888888888,\"#fdca26\"],[1.0,\"#f0f921\"]]}],\"heatmapgl\":[{\"type\":\"heatmapgl\",\"colorbar\":{\"outlinewidth\":0,\"ticks\":\"\"},\"colorscale\":[[0.0,\"#0d0887\"],[0.1111111111111111,\"#46039f\"],[0.2222222222222222,\"#7201a8\"],[0.3333333333333333,\"#9c179e\"],[0.4444444444444444,\"#bd3786\"],[0.5555555555555556,\"#d8576b\"],[0.6666666666666666,\"#ed7953\"],[0.7777777777777778,\"#fb9f3a\"],[0.8888888888888888,\"#fdca26\"],[1.0,\"#f0f921\"]]}],\"contourcarpet\":[{\"type\":\"contourcarpet\",\"colorbar\":{\"outlinewidth\":0,\"ticks\":\"\"}}],\"contour\":[{\"type\":\"contour\",\"colorbar\":{\"outlinewidth\":0,\"ticks\":\"\"},\"colorscale\":[[0.0,\"#0d0887\"],[0.1111111111111111,\"#46039f\"],[0.2222222222222222,\"#7201a8\"],[0.3333333333333333,\"#9c179e\"],[0.4444444444444444,\"#bd3786\"],[0.5555555555555556,\"#d8576b\"],[0.6666666666666666,\"#ed7953\"],[0.7777777777777778,\"#fb9f3a\"],[0.8888888888888888,\"#fdca26\"],[1.0,\"#f0f921\"]]}],\"surface\":[{\"type\":\"surface\",\"colorbar\":{\"outlinewidth\":0,\"ticks\":\"\"},\"colorscale\":[[0.0,\"#0d0887\"],[0.1111111111111111,\"#46039f\"],[0.2222222222222222,\"#7201a8\"],[0.3333333333333333,\"#9c179e\"],[0.4444444444444444,\"#bd3786\"],[0.5555555555555556,\"#d8576b\"],[0.6666666666666666,\"#ed7953\"],[0.7777777777777778,\"#fb9f3a\"],[0.8888888888888888,\"#fdca26\"],[1.0,\"#f0f921\"]]}],\"mesh3d\":[{\"type\":\"mesh3d\",\"colorbar\":{\"outlinewidth\":0,\"ticks\":\"\"}}],\"scatter\":[{\"fillpattern\":{\"fillmode\":\"overlay\",\"size\":10,\"solidity\":0.2},\"type\":\"scatter\"}],\"parcoords\":[{\"type\":\"parcoords\",\"line\":{\"colorbar\":{\"outlinewidth\":0,\"ticks\":\"\"}}}],\"scatterpolargl\":[{\"type\":\"scatterpolargl\",\"marker\":{\"colorbar\":{\"outlinewidth\":0,\"ticks\":\"\"}}}],\"bar\":[{\"error_x\":{\"color\":\"#2a3f5f\"},\"error_y\":{\"color\":\"#2a3f5f\"},\"marker\":{\"line\":{\"color\":\"#E5ECF6\",\"width\":0.5},\"pattern\":{\"fillmode\":\"overlay\",\"size\":10,\"solidity\":0.2}},\"type\":\"bar\"}],\"scattergeo\":[{\"type\":\"scattergeo\",\"marker\":{\"colorbar\":{\"outlinewidth\":0,\"ticks\":\"\"}}}],\"scatterpolar\":[{\"type\":\"scatterpolar\",\"marker\":{\"colorbar\":{\"outlinewidth\":0,\"ticks\":\"\"}}}],\"histogram\":[{\"marker\":{\"pattern\":{\"fillmode\":\"overlay\",\"size\":10,\"solidity\":0.2}},\"type\":\"histogram\"}],\"scattergl\":[{\"type\":\"scattergl\",\"marker\":{\"colorbar\":{\"outlinewidth\":0,\"ticks\":\"\"}}}],\"scatter3d\":[{\"type\":\"scatter3d\",\"line\":{\"colorbar\":{\"outlinewidth\":0,\"ticks\":\"\"}},\"marker\":{\"colorbar\":{\"outlinewidth\":0,\"ticks\":\"\"}}}],\"scattermapbox\":[{\"type\":\"scattermapbox\",\"marker\":{\"colorbar\":{\"outlinewidth\":0,\"ticks\":\"\"}}}],\"scatterternary\":[{\"type\":\"scatterternary\",\"marker\":{\"colorbar\":{\"outlinewidth\":0,\"ticks\":\"\"}}}],\"scattercarpet\":[{\"type\":\"scattercarpet\",\"marker\":{\"colorbar\":{\"outlinewidth\":0,\"ticks\":\"\"}}}],\"carpet\":[{\"aaxis\":{\"endlinecolor\":\"#2a3f5f\",\"gridcolor\":\"white\",\"linecolor\":\"white\",\"minorgridcolor\":\"white\",\"startlinecolor\":\"#2a3f5f\"},\"baxis\":{\"endlinecolor\":\"#2a3f5f\",\"gridcolor\":\"white\",\"linecolor\":\"white\",\"minorgridcolor\":\"white\",\"startlinecolor\":\"#2a3f5f\"},\"type\":\"carpet\"}],\"table\":[{\"cells\":{\"fill\":{\"color\":\"#EBF0F8\"},\"line\":{\"color\":\"white\"}},\"header\":{\"fill\":{\"color\":\"#C8D4E3\"},\"line\":{\"color\":\"white\"}},\"type\":\"table\"}],\"barpolar\":[{\"marker\":{\"line\":{\"color\":\"#E5ECF6\",\"width\":0.5},\"pattern\":{\"fillmode\":\"overlay\",\"size\":10,\"solidity\":0.2}},\"type\":\"barpolar\"}],\"pie\":[{\"automargin\":true,\"type\":\"pie\"}]},\"layout\":{\"autotypenumbers\":\"strict\",\"colorway\":[\"#636efa\",\"#EF553B\",\"#00cc96\",\"#ab63fa\",\"#FFA15A\",\"#19d3f3\",\"#FF6692\",\"#B6E880\",\"#FF97FF\",\"#FECB52\"],\"font\":{\"color\":\"#2a3f5f\"},\"hovermode\":\"closest\",\"hoverlabel\":{\"align\":\"left\"},\"paper_bgcolor\":\"white\",\"plot_bgcolor\":\"#E5ECF6\",\"polar\":{\"bgcolor\":\"#E5ECF6\",\"angularaxis\":{\"gridcolor\":\"white\",\"linecolor\":\"white\",\"ticks\":\"\"},\"radialaxis\":{\"gridcolor\":\"white\",\"linecolor\":\"white\",\"ticks\":\"\"}},\"ternary\":{\"bgcolor\":\"#E5ECF6\",\"aaxis\":{\"gridcolor\":\"white\",\"linecolor\":\"white\",\"ticks\":\"\"},\"baxis\":{\"gridcolor\":\"white\",\"linecolor\":\"white\",\"ticks\":\"\"},\"caxis\":{\"gridcolor\":\"white\",\"linecolor\":\"white\",\"ticks\":\"\"}},\"coloraxis\":{\"colorbar\":{\"outlinewidth\":0,\"ticks\":\"\"}},\"colorscale\":{\"sequential\":[[0.0,\"#0d0887\"],[0.1111111111111111,\"#46039f\"],[0.2222222222222222,\"#7201a8\"],[0.3333333333333333,\"#9c179e\"],[0.4444444444444444,\"#bd3786\"],[0.5555555555555556,\"#d8576b\"],[0.6666666666666666,\"#ed7953\"],[0.7777777777777778,\"#fb9f3a\"],[0.8888888888888888,\"#fdca26\"],[1.0,\"#f0f921\"]],\"sequentialminus\":[[0.0,\"#0d0887\"],[0.1111111111111111,\"#46039f\"],[0.2222222222222222,\"#7201a8\"],[0.3333333333333333,\"#9c179e\"],[0.4444444444444444,\"#bd3786\"],[0.5555555555555556,\"#d8576b\"],[0.6666666666666666,\"#ed7953\"],[0.7777777777777778,\"#fb9f3a\"],[0.8888888888888888,\"#fdca26\"],[1.0,\"#f0f921\"]],\"diverging\":[[0,\"#8e0152\"],[0.1,\"#c51b7d\"],[0.2,\"#de77ae\"],[0.3,\"#f1b6da\"],[0.4,\"#fde0ef\"],[0.5,\"#f7f7f7\"],[0.6,\"#e6f5d0\"],[0.7,\"#b8e186\"],[0.8,\"#7fbc41\"],[0.9,\"#4d9221\"],[1,\"#276419\"]]},\"xaxis\":{\"gridcolor\":\"white\",\"linecolor\":\"white\",\"ticks\":\"\",\"title\":{\"standoff\":15},\"zerolinecolor\":\"white\",\"automargin\":true,\"zerolinewidth\":2},\"yaxis\":{\"gridcolor\":\"white\",\"linecolor\":\"white\",\"ticks\":\"\",\"title\":{\"standoff\":15},\"zerolinecolor\":\"white\",\"automargin\":true,\"zerolinewidth\":2},\"scene\":{\"xaxis\":{\"backgroundcolor\":\"#E5ECF6\",\"gridcolor\":\"white\",\"linecolor\":\"white\",\"showbackground\":true,\"ticks\":\"\",\"zerolinecolor\":\"white\",\"gridwidth\":2},\"yaxis\":{\"backgroundcolor\":\"#E5ECF6\",\"gridcolor\":\"white\",\"linecolor\":\"white\",\"showbackground\":true,\"ticks\":\"\",\"zerolinecolor\":\"white\",\"gridwidth\":2},\"zaxis\":{\"backgroundcolor\":\"#E5ECF6\",\"gridcolor\":\"white\",\"linecolor\":\"white\",\"showbackground\":true,\"ticks\":\"\",\"zerolinecolor\":\"white\",\"gridwidth\":2}},\"shapedefaults\":{\"line\":{\"color\":\"#2a3f5f\"}},\"annotationdefaults\":{\"arrowcolor\":\"#2a3f5f\",\"arrowhead\":0,\"arrowwidth\":1},\"geo\":{\"bgcolor\":\"white\",\"landcolor\":\"#E5ECF6\",\"subunitcolor\":\"white\",\"showland\":true,\"showlakes\":true,\"lakecolor\":\"white\"},\"title\":{\"x\":0.05},\"mapbox\":{\"style\":\"light\"}}},\"scene\":{\"xaxis\":{\"title\":{\"text\":\"x\"}},\"yaxis\":{\"title\":{\"text\":\"y\"}},\"zaxis\":{\"title\":{\"text\":\"z\"}}}},                        {\"responsive\": true}                    ).then(function(){\n",
       "                            \n",
       "var gd = document.getElementById('c6680254-251d-42bc-bd51-c52a5a44ad59');\n",
       "var x = new MutationObserver(function (mutations, observer) {{\n",
       "        var display = window.getComputedStyle(gd).display;\n",
       "        if (!display || display === 'none') {{\n",
       "            console.log([gd, 'removed!']);\n",
       "            Plotly.purge(gd);\n",
       "            observer.disconnect();\n",
       "        }}\n",
       "}});\n",
       "\n",
       "// Listen for the removal of the full notebook cells\n",
       "var notebookContainer = gd.closest('#notebook-container');\n",
       "if (notebookContainer) {{\n",
       "    x.observe(notebookContainer, {childList: true});\n",
       "}}\n",
       "\n",
       "// Listen for the clearing of the current output cell\n",
       "var outputEl = gd.closest('.output');\n",
       "if (outputEl) {{\n",
       "    x.observe(outputEl, {childList: true});\n",
       "}}\n",
       "\n",
       "                        })                };                });            </script>        </div>"
      ]
     },
     "metadata": {},
     "output_type": "display_data"
    }
   ],
   "source": [
    "# Saving ith segment as a textfile.\n",
    "iSegment = 0\n",
    "zfilename = Segmentname+'_z_values.csv'; print(zfilename)\n",
    "xfilename = Segmentname+'_x_values.csv'; print(xfilename)\n",
    "yfilename = Segmentname+'_y_values.csv'; print(yfilename)\n",
    "Z2filename = Segmentname+'_Z2_values.csv'; print(Z2filename)\n",
    "print(np.shape(zgridtot))\n",
    "print(np.shape(Z2flat_list[iSegment]))\n",
    "\n",
    "myxgridtot = xgridtot[iSegment,0,:]\n",
    "myygridtot = ygridtot[iSegment,:,0]\n",
    "myzgridtot = zgridtot[iSegment,:,:]\n",
    "myZ2flat = Z2flat_list[iSegment]\n",
    "\n",
    "nxy = np.shape(myzgridtot)\n",
    "ny = nxy[0]\n",
    "nx = nxy[1]\n",
    "print(nxy)\n",
    "\n",
    "\n",
    "myZ2 = np.reshape(myZ2flat, (ny-1,nx-1)) # Z2 is 1 shorter in either dimension\n",
    "\n",
    "\n",
    "print(np.shape(myZ2))\n",
    "np.savetxt(zfilename, myzgridtot, delimiter = ',')\n",
    "np.savetxt(xfilename, myxgridtot, delimiter = ',')\n",
    "np.savetxt(yfilename, myygridtot, delimiter = ',')\n",
    "np.savetxt(Z2filename, Z2flat_list[iSegment], delimiter = ',')\n",
    "\n",
    "fig = go.Figure(data = go.Surface(x = myxgridtot[1:], y = myygridtot[1:], z = myZ2))\n",
    "fig.update_layout(scene = dict(xaxis_title = 'x',yaxis_title = 'y',zaxis_title = 'z'))"
   ]
  }
 ],
 "metadata": {
  "kernelspec": {
   "display_name": "Python 3 (ipykernel)",
   "language": "python",
   "name": "python3"
  },
  "language_info": {
   "codemirror_mode": {
    "name": "ipython",
    "version": 3
   },
   "file_extension": ".py",
   "mimetype": "text/x-python",
   "name": "python",
   "nbconvert_exporter": "python",
   "pygments_lexer": "ipython3",
   "version": "3.10.9"
  }
 },
 "nbformat": 4,
 "nbformat_minor": 2
}
