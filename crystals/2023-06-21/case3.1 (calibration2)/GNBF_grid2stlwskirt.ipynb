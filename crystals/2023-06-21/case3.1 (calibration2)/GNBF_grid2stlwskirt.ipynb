{
 "cells": [
  {
   "cell_type": "code",
   "execution_count": 5,
   "metadata": {},
   "outputs": [],
   "source": [
    "# Generic imports\n",
    "from mpl_toolkits.mplot3d import Axes3D\n",
    "import numpy as np\n",
    "import matplotlib.pyplot as plt\n",
    "import copy\n",
    "import os\n",
    "\n",
    "# Local imports\n",
    "import sys\n",
    "sys.path.append('../../../')\n",
    "import stlstuff as sls\n",
    "import imagestuff as ims"
   ]
  },
  {
   "cell_type": "code",
   "execution_count": 6,
   "metadata": {
    "scrolled": true
   },
   "outputs": [],
   "source": [
    "# Graphics\n",
    "%matplotlib tk"
   ]
  },
  {
   "cell_type": "code",
   "execution_count": 7,
   "metadata": {},
   "outputs": [
    {
     "name": "stdout",
     "output_type": "stream",
     "text": [
      "/Users/nesh/Documents/Repositories/ice2021/crystals/2023-06-21/case3.1 (calibration2)\n",
      "2023-06-21/case3.1 (calibration2)\n",
      "SEMimages/case3.1-A.bmp\n",
      "SEMimages/case3.1-B.bmp\n",
      "SEMimages/case3.1-C.bmp\n",
      "SEMimages/case3.1-D.bmp\n",
      "0.09803921568627416\n",
      "0.09999999999999964\n",
      "1.2402339999999998 1.2402339999999998\n"
     ]
    }
   ],
   "source": [
    "# Get the retrieved surface\n",
    "pwd = os.getcwd()\n",
    "print(pwd)\n",
    "startpos = pwd.find('crystals/')\n",
    "case = pwd[startpos+9:]; print(case)\n",
    "Segmentnamelistroot = 'Segments3'\n",
    "\n",
    "surfaceroot = ''\n",
    "npzfile = np.load(Segmentnamelistroot+'_retrieved.npz')\n",
    "stlfile = Segmentnamelistroot+'_retrievedwskirt.stl'\n",
    "\n",
    "imageroot = np.array_str(npzfile['imageroot'])\n",
    "\n",
    "dx,dy,cA,cB,cC,cD,Filename = ims.getc2(surfaceroot, 'SEMimages/', imageroot)\n",
    "nx1list = npzfile['nx1list']\n",
    "nx2list = npzfile['nx2list']\n",
    "ny1list = npzfile['ny1list']\n",
    "ny2list = npzfile['ny2list']\n",
    "\n",
    "nxi = npzfile['nxi']; #print(nxi)\n",
    "nyi = npzfile['nyi']; #print(nyi)\n",
    "dnx = npzfile['dnx']; print(dnx)\n",
    "dny = npzfile['dny']; print(dny)\n",
    "solution = npzfile['solution']; #print(np.shape(solution))\n",
    "print (dx,dy)"
   ]
  },
  {
   "cell_type": "code",
   "execution_count": 8,
   "metadata": {},
   "outputs": [
    {
     "name": "stdout",
     "output_type": "stream",
     "text": [
      "(60, 60)\n"
     ]
    }
   ],
   "source": [
    "# Extract the surface\n",
    "nx1tot = min(nx1list)\n",
    "nx2tot = max(nx2list)\n",
    "ny1tot = min(ny1list)\n",
    "ny2tot = max(ny2list)\n",
    "nxtot = nx2tot-nx1tot\n",
    "nytot = ny2tot-ny1tot\n",
    "settemp = solution[ny1tot:ny2tot,nx1tot:nx2tot]; print (np.shape(settemp))"
   ]
  },
  {
   "cell_type": "markdown",
   "metadata": {},
   "source": [
    "The next cell adds a skirt around the data"
   ]
  },
  {
   "cell_type": "code",
   "execution_count": 9,
   "metadata": {},
   "outputs": [
    {
     "name": "stdout",
     "output_type": "stream",
     "text": [
      "62 62\n"
     ]
    }
   ],
   "source": [
    "# get the dimensions \n",
    "nx,ny = np.shape(settemp)\n",
    "\n",
    "# define the bottom of the skirt\n",
    "bottom = np.min(settemp)- 20\n",
    "\n",
    "\n",
    "# add a row to beginning \n",
    "startrow = np.ones(ny)*bottom; #print(np.shape(startrow))\n",
    "\n",
    "# add a row to the end\n",
    "settemp1 = np.vstack ((startrow,settemp,startrow)); #print(np.shape(settemp1))\n",
    "settemp2 = np.transpose(settemp1); #print(np.shape(settemp2))\n",
    "\n",
    "# add a column to beginning\n",
    "newcol = np.ones(nx+2)*bottom; #print(np.shape(newcol))\n",
    "\n",
    "# add a column to the end\n",
    "settemp3 = np.vstack ((newcol,settemp2,newcol))\n",
    "settemp4 = np.transpose (settemp3)\n",
    "\n",
    "# Update the dimensions\n",
    "nytot, nxtot = np.shape(settemp4)\n",
    "print (nxtot,nytot)"
   ]
  },
  {
   "cell_type": "code",
   "execution_count": 10,
   "metadata": {},
   "outputs": [
    {
     "name": "stdout",
     "output_type": "stream",
     "text": [
      "75.65427399999999\n",
      "75.65427399999999\n"
     ]
    },
    {
     "data": {
      "text/plain": [
       "Text(0.5, 0, 'z')"
      ]
     },
     "execution_count": 10,
     "metadata": {},
     "output_type": "execute_result"
    }
   ],
   "source": [
    "# Display the surface here\n",
    "\n",
    "\n",
    "# Set display parameters\n",
    "fontsize = 25\n",
    "linewidth = 2\n",
    "xmaxtot = (nxtot-1)*dx; print (xmaxtot)\n",
    "ymaxtot = (nytot-1)*dy; print (ymaxtot)\n",
    "surf_ytot = np.linspace(0,ymaxtot,nytot); #print surf_ytot[1]-surf_ytot[0]; \n",
    "surf_xtot = np.linspace(0,xmaxtot,nxtot); #print surf_xtot[1]-surf_xtot[0]; \n",
    "surf_xgridtot, surf_ygridtot = np.meshgrid(surf_xtot,surf_ytot)\n",
    "surf_ygridtot_flipped = np.flipud(surf_ygridtot)\n",
    "\n",
    "# Display it\n",
    "fig = plt.figure()\n",
    "ax = fig.add_subplot(111, projection='3d')\n",
    "ax.plot_surface(surf_xgridtot, surf_ygridtot_flipped, settemp4, rstride=4,cstride=4, color='g')\n",
    "ax.view_init(azim=-100,elev=22)\n",
    "ax.set_xlabel('x',fontsize=fontsize)\n",
    "ax.set_ylabel('y',fontsize=fontsize)\n",
    "ax.set_zlabel('z',fontsize=fontsize)"
   ]
  },
  {
   "cell_type": "code",
   "execution_count": 11,
   "metadata": {},
   "outputs": [
    {
     "name": "stdout",
     "output_type": "stream",
     "text": [
      "Creating top mesh...\n",
      "Complete\n"
     ]
    }
   ],
   "source": [
    "# Save as stl (with possible vertical amplification)\n",
    "sls.numpy2stl(settemp4, stlfile, scale=1/dx, solid=False)\n",
    "print('Complete')"
   ]
  },
  {
   "cell_type": "code",
   "execution_count": null,
   "metadata": {},
   "outputs": [],
   "source": []
  }
 ],
 "metadata": {
  "kernelspec": {
   "display_name": "Python 3 (ipykernel)",
   "language": "python",
   "name": "python3"
  },
  "language_info": {
   "codemirror_mode": {
    "name": "ipython",
    "version": 3
   },
   "file_extension": ".py",
   "mimetype": "text/x-python",
   "name": "python",
   "nbconvert_exporter": "python",
   "pygments_lexer": "ipython3",
   "version": "3.10.9"
  }
 },
 "nbformat": 4,
 "nbformat_minor": 1
}
